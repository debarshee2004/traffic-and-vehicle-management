{
  "nbformat": 4,
  "nbformat_minor": 0,
  "metadata": {
    "colab": {
      "provenance": [],
      "gpuType": "T4",
      "authorship_tag": "ABX9TyNExW8B6oX7xEJ+8bM2YeD7",
      "include_colab_link": true
    },
    "kernelspec": {
      "name": "python3",
      "display_name": "Python 3"
    },
    "language_info": {
      "name": "python"
    },
    "accelerator": "GPU"
  },
  "cells": [
    {
      "cell_type": "markdown",
      "metadata": {
        "id": "view-in-github",
        "colab_type": "text"
      },
      "source": [
        "<a href=\"https://colab.research.google.com/github/debarshee2004/traffic-and-vehicle-management/blob/master/YOLOv11_Traffic_Recognition_Model.ipynb\" target=\"_parent\"><img src=\"https://colab.research.google.com/assets/colab-badge.svg\" alt=\"Open In Colab\"/></a>"
      ]
    },
    {
      "cell_type": "markdown",
      "source": [
        "# Traffic Image Recognition Finetuning"
      ],
      "metadata": {
        "id": "MFuJl6z4TYGv"
      }
    },
    {
      "cell_type": "code",
      "source": [
        "!nvidia-smi"
      ],
      "metadata": {
        "colab": {
          "base_uri": "https://localhost:8080/"
        },
        "id": "XoLgt91A5Ijn",
        "outputId": "6c256c48-7b72-4031-c275-1ffad47cedfa"
      },
      "execution_count": 10,
      "outputs": [
        {
          "output_type": "stream",
          "name": "stdout",
          "text": [
            "Mon Feb 10 12:45:42 2025       \n",
            "+-----------------------------------------------------------------------------------------+\n",
            "| NVIDIA-SMI 550.54.15              Driver Version: 550.54.15      CUDA Version: 12.4     |\n",
            "|-----------------------------------------+------------------------+----------------------+\n",
            "| GPU  Name                 Persistence-M | Bus-Id          Disp.A | Volatile Uncorr. ECC |\n",
            "| Fan  Temp   Perf          Pwr:Usage/Cap |           Memory-Usage | GPU-Util  Compute M. |\n",
            "|                                         |                        |               MIG M. |\n",
            "|=========================================+========================+======================|\n",
            "|   0  Tesla T4                       Off |   00000000:00:04.0 Off |                    0 |\n",
            "| N/A   35C    P8              9W /   70W |       0MiB /  15360MiB |      0%      Default |\n",
            "|                                         |                        |                  N/A |\n",
            "+-----------------------------------------+------------------------+----------------------+\n",
            "                                                                                         \n",
            "+-----------------------------------------------------------------------------------------+\n",
            "| Processes:                                                                              |\n",
            "|  GPU   GI   CI        PID   Type   Process name                              GPU Memory |\n",
            "|        ID   ID                                                               Usage      |\n",
            "|=========================================================================================|\n",
            "|  No running processes found                                                             |\n",
            "+-----------------------------------------------------------------------------------------+\n"
          ]
        }
      ]
    },
    {
      "cell_type": "code",
      "source": [
        "!pip install ultralytics # The library which helps us to use YOLO object detection model for free."
      ],
      "metadata": {
        "colab": {
          "base_uri": "https://localhost:8080/"
        },
        "collapsed": true,
        "id": "cU-uUDeXJyyi",
        "outputId": "587372fa-aeb2-4f49-c725-37c4102a923f"
      },
      "execution_count": 1,
      "outputs": [
        {
          "output_type": "stream",
          "name": "stdout",
          "text": [
            "Collecting ultralytics\n",
            "  Downloading ultralytics-8.3.74-py3-none-any.whl.metadata (35 kB)\n",
            "Requirement already satisfied: numpy<=2.1.1,>=1.23.0 in /usr/local/lib/python3.11/dist-packages (from ultralytics) (1.26.4)\n",
            "Requirement already satisfied: matplotlib>=3.3.0 in /usr/local/lib/python3.11/dist-packages (from ultralytics) (3.10.0)\n",
            "Requirement already satisfied: opencv-python>=4.6.0 in /usr/local/lib/python3.11/dist-packages (from ultralytics) (4.11.0.86)\n",
            "Requirement already satisfied: pillow>=7.1.2 in /usr/local/lib/python3.11/dist-packages (from ultralytics) (11.1.0)\n",
            "Requirement already satisfied: pyyaml>=5.3.1 in /usr/local/lib/python3.11/dist-packages (from ultralytics) (6.0.2)\n",
            "Requirement already satisfied: requests>=2.23.0 in /usr/local/lib/python3.11/dist-packages (from ultralytics) (2.32.3)\n",
            "Requirement already satisfied: scipy>=1.4.1 in /usr/local/lib/python3.11/dist-packages (from ultralytics) (1.13.1)\n",
            "Requirement already satisfied: torch>=1.8.0 in /usr/local/lib/python3.11/dist-packages (from ultralytics) (2.5.1+cu124)\n",
            "Requirement already satisfied: torchvision>=0.9.0 in /usr/local/lib/python3.11/dist-packages (from ultralytics) (0.20.1+cu124)\n",
            "Requirement already satisfied: tqdm>=4.64.0 in /usr/local/lib/python3.11/dist-packages (from ultralytics) (4.67.1)\n",
            "Requirement already satisfied: psutil in /usr/local/lib/python3.11/dist-packages (from ultralytics) (5.9.5)\n",
            "Requirement already satisfied: py-cpuinfo in /usr/local/lib/python3.11/dist-packages (from ultralytics) (9.0.0)\n",
            "Requirement already satisfied: pandas>=1.1.4 in /usr/local/lib/python3.11/dist-packages (from ultralytics) (2.2.2)\n",
            "Requirement already satisfied: seaborn>=0.11.0 in /usr/local/lib/python3.11/dist-packages (from ultralytics) (0.13.2)\n",
            "Collecting ultralytics-thop>=2.0.0 (from ultralytics)\n",
            "  Downloading ultralytics_thop-2.0.14-py3-none-any.whl.metadata (9.4 kB)\n",
            "Requirement already satisfied: contourpy>=1.0.1 in /usr/local/lib/python3.11/dist-packages (from matplotlib>=3.3.0->ultralytics) (1.3.1)\n",
            "Requirement already satisfied: cycler>=0.10 in /usr/local/lib/python3.11/dist-packages (from matplotlib>=3.3.0->ultralytics) (0.12.1)\n",
            "Requirement already satisfied: fonttools>=4.22.0 in /usr/local/lib/python3.11/dist-packages (from matplotlib>=3.3.0->ultralytics) (4.55.8)\n",
            "Requirement already satisfied: kiwisolver>=1.3.1 in /usr/local/lib/python3.11/dist-packages (from matplotlib>=3.3.0->ultralytics) (1.4.8)\n",
            "Requirement already satisfied: packaging>=20.0 in /usr/local/lib/python3.11/dist-packages (from matplotlib>=3.3.0->ultralytics) (24.2)\n",
            "Requirement already satisfied: pyparsing>=2.3.1 in /usr/local/lib/python3.11/dist-packages (from matplotlib>=3.3.0->ultralytics) (3.2.1)\n",
            "Requirement already satisfied: python-dateutil>=2.7 in /usr/local/lib/python3.11/dist-packages (from matplotlib>=3.3.0->ultralytics) (2.8.2)\n",
            "Requirement already satisfied: pytz>=2020.1 in /usr/local/lib/python3.11/dist-packages (from pandas>=1.1.4->ultralytics) (2025.1)\n",
            "Requirement already satisfied: tzdata>=2022.7 in /usr/local/lib/python3.11/dist-packages (from pandas>=1.1.4->ultralytics) (2025.1)\n",
            "Requirement already satisfied: charset-normalizer<4,>=2 in /usr/local/lib/python3.11/dist-packages (from requests>=2.23.0->ultralytics) (3.4.1)\n",
            "Requirement already satisfied: idna<4,>=2.5 in /usr/local/lib/python3.11/dist-packages (from requests>=2.23.0->ultralytics) (3.10)\n",
            "Requirement already satisfied: urllib3<3,>=1.21.1 in /usr/local/lib/python3.11/dist-packages (from requests>=2.23.0->ultralytics) (2.3.0)\n",
            "Requirement already satisfied: certifi>=2017.4.17 in /usr/local/lib/python3.11/dist-packages (from requests>=2.23.0->ultralytics) (2025.1.31)\n",
            "Requirement already satisfied: filelock in /usr/local/lib/python3.11/dist-packages (from torch>=1.8.0->ultralytics) (3.17.0)\n",
            "Requirement already satisfied: typing-extensions>=4.8.0 in /usr/local/lib/python3.11/dist-packages (from torch>=1.8.0->ultralytics) (4.12.2)\n",
            "Requirement already satisfied: networkx in /usr/local/lib/python3.11/dist-packages (from torch>=1.8.0->ultralytics) (3.4.2)\n",
            "Requirement already satisfied: jinja2 in /usr/local/lib/python3.11/dist-packages (from torch>=1.8.0->ultralytics) (3.1.5)\n",
            "Requirement already satisfied: fsspec in /usr/local/lib/python3.11/dist-packages (from torch>=1.8.0->ultralytics) (2024.10.0)\n",
            "Collecting nvidia-cuda-nvrtc-cu12==12.4.127 (from torch>=1.8.0->ultralytics)\n",
            "  Downloading nvidia_cuda_nvrtc_cu12-12.4.127-py3-none-manylinux2014_x86_64.whl.metadata (1.5 kB)\n",
            "Collecting nvidia-cuda-runtime-cu12==12.4.127 (from torch>=1.8.0->ultralytics)\n",
            "  Downloading nvidia_cuda_runtime_cu12-12.4.127-py3-none-manylinux2014_x86_64.whl.metadata (1.5 kB)\n",
            "Collecting nvidia-cuda-cupti-cu12==12.4.127 (from torch>=1.8.0->ultralytics)\n",
            "  Downloading nvidia_cuda_cupti_cu12-12.4.127-py3-none-manylinux2014_x86_64.whl.metadata (1.6 kB)\n",
            "Collecting nvidia-cudnn-cu12==9.1.0.70 (from torch>=1.8.0->ultralytics)\n",
            "  Downloading nvidia_cudnn_cu12-9.1.0.70-py3-none-manylinux2014_x86_64.whl.metadata (1.6 kB)\n",
            "Collecting nvidia-cublas-cu12==12.4.5.8 (from torch>=1.8.0->ultralytics)\n",
            "  Downloading nvidia_cublas_cu12-12.4.5.8-py3-none-manylinux2014_x86_64.whl.metadata (1.5 kB)\n",
            "Collecting nvidia-cufft-cu12==11.2.1.3 (from torch>=1.8.0->ultralytics)\n",
            "  Downloading nvidia_cufft_cu12-11.2.1.3-py3-none-manylinux2014_x86_64.whl.metadata (1.5 kB)\n",
            "Collecting nvidia-curand-cu12==10.3.5.147 (from torch>=1.8.0->ultralytics)\n",
            "  Downloading nvidia_curand_cu12-10.3.5.147-py3-none-manylinux2014_x86_64.whl.metadata (1.5 kB)\n",
            "Collecting nvidia-cusolver-cu12==11.6.1.9 (from torch>=1.8.0->ultralytics)\n",
            "  Downloading nvidia_cusolver_cu12-11.6.1.9-py3-none-manylinux2014_x86_64.whl.metadata (1.6 kB)\n",
            "Collecting nvidia-cusparse-cu12==12.3.1.170 (from torch>=1.8.0->ultralytics)\n",
            "  Downloading nvidia_cusparse_cu12-12.3.1.170-py3-none-manylinux2014_x86_64.whl.metadata (1.6 kB)\n",
            "Requirement already satisfied: nvidia-nccl-cu12==2.21.5 in /usr/local/lib/python3.11/dist-packages (from torch>=1.8.0->ultralytics) (2.21.5)\n",
            "Requirement already satisfied: nvidia-nvtx-cu12==12.4.127 in /usr/local/lib/python3.11/dist-packages (from torch>=1.8.0->ultralytics) (12.4.127)\n",
            "Collecting nvidia-nvjitlink-cu12==12.4.127 (from torch>=1.8.0->ultralytics)\n",
            "  Downloading nvidia_nvjitlink_cu12-12.4.127-py3-none-manylinux2014_x86_64.whl.metadata (1.5 kB)\n",
            "Requirement already satisfied: triton==3.1.0 in /usr/local/lib/python3.11/dist-packages (from torch>=1.8.0->ultralytics) (3.1.0)\n",
            "Requirement already satisfied: sympy==1.13.1 in /usr/local/lib/python3.11/dist-packages (from torch>=1.8.0->ultralytics) (1.13.1)\n",
            "Requirement already satisfied: mpmath<1.4,>=1.1.0 in /usr/local/lib/python3.11/dist-packages (from sympy==1.13.1->torch>=1.8.0->ultralytics) (1.3.0)\n",
            "Requirement already satisfied: six>=1.5 in /usr/local/lib/python3.11/dist-packages (from python-dateutil>=2.7->matplotlib>=3.3.0->ultralytics) (1.17.0)\n",
            "Requirement already satisfied: MarkupSafe>=2.0 in /usr/local/lib/python3.11/dist-packages (from jinja2->torch>=1.8.0->ultralytics) (3.0.2)\n",
            "Downloading ultralytics-8.3.74-py3-none-any.whl (914 kB)\n",
            "\u001b[2K   \u001b[90m━━━━━━━━━━━━━━━━━━━━━━━━━━━━━━━━━━━━━━━━\u001b[0m \u001b[32m914.7/914.7 kB\u001b[0m \u001b[31m23.1 MB/s\u001b[0m eta \u001b[36m0:00:00\u001b[0m\n",
            "\u001b[?25hDownloading nvidia_cublas_cu12-12.4.5.8-py3-none-manylinux2014_x86_64.whl (363.4 MB)\n",
            "\u001b[2K   \u001b[90m━━━━━━━━━━━━━━━━━━━━━━━━━━━━━━━━━━━━━━━━\u001b[0m \u001b[32m363.4/363.4 MB\u001b[0m \u001b[31m3.7 MB/s\u001b[0m eta \u001b[36m0:00:00\u001b[0m\n",
            "\u001b[?25hDownloading nvidia_cuda_cupti_cu12-12.4.127-py3-none-manylinux2014_x86_64.whl (13.8 MB)\n",
            "\u001b[2K   \u001b[90m━━━━━━━━━━━━━━━━━━━━━━━━━━━━━━━━━━━━━━━━\u001b[0m \u001b[32m13.8/13.8 MB\u001b[0m \u001b[31m85.3 MB/s\u001b[0m eta \u001b[36m0:00:00\u001b[0m\n",
            "\u001b[?25hDownloading nvidia_cuda_nvrtc_cu12-12.4.127-py3-none-manylinux2014_x86_64.whl (24.6 MB)\n",
            "\u001b[2K   \u001b[90m━━━━━━━━━━━━━━━━━━━━━━━━━━━━━━━━━━━━━━━━\u001b[0m \u001b[32m24.6/24.6 MB\u001b[0m \u001b[31m88.0 MB/s\u001b[0m eta \u001b[36m0:00:00\u001b[0m\n",
            "\u001b[?25hDownloading nvidia_cuda_runtime_cu12-12.4.127-py3-none-manylinux2014_x86_64.whl (883 kB)\n",
            "\u001b[2K   \u001b[90m━━━━━━━━━━━━━━━━━━━━━━━━━━━━━━━━━━━━━━━━\u001b[0m \u001b[32m883.7/883.7 kB\u001b[0m \u001b[31m54.3 MB/s\u001b[0m eta \u001b[36m0:00:00\u001b[0m\n",
            "\u001b[?25hDownloading nvidia_cudnn_cu12-9.1.0.70-py3-none-manylinux2014_x86_64.whl (664.8 MB)\n",
            "\u001b[2K   \u001b[90m━━━━━━━━━━━━━━━━━━━━━━━━━━━━━━━━━━━━━━━━\u001b[0m \u001b[32m664.8/664.8 MB\u001b[0m \u001b[31m3.0 MB/s\u001b[0m eta \u001b[36m0:00:00\u001b[0m\n",
            "\u001b[?25hDownloading nvidia_cufft_cu12-11.2.1.3-py3-none-manylinux2014_x86_64.whl (211.5 MB)\n",
            "\u001b[2K   \u001b[90m━━━━━━━━━━━━━━━━━━━━━━━━━━━━━━━━━━━━━━━━\u001b[0m \u001b[32m211.5/211.5 MB\u001b[0m \u001b[31m5.8 MB/s\u001b[0m eta \u001b[36m0:00:00\u001b[0m\n",
            "\u001b[?25hDownloading nvidia_curand_cu12-10.3.5.147-py3-none-manylinux2014_x86_64.whl (56.3 MB)\n",
            "\u001b[2K   \u001b[90m━━━━━━━━━━━━━━━━━━━━━━━━━━━━━━━━━━━━━━━━\u001b[0m \u001b[32m56.3/56.3 MB\u001b[0m \u001b[31m14.6 MB/s\u001b[0m eta \u001b[36m0:00:00\u001b[0m\n",
            "\u001b[?25hDownloading nvidia_cusolver_cu12-11.6.1.9-py3-none-manylinux2014_x86_64.whl (127.9 MB)\n",
            "\u001b[2K   \u001b[90m━━━━━━━━━━━━━━━━━━━━━━━━━━━━━━━━━━━━━━━━\u001b[0m \u001b[32m127.9/127.9 MB\u001b[0m \u001b[31m7.3 MB/s\u001b[0m eta \u001b[36m0:00:00\u001b[0m\n",
            "\u001b[?25hDownloading nvidia_cusparse_cu12-12.3.1.170-py3-none-manylinux2014_x86_64.whl (207.5 MB)\n",
            "\u001b[2K   \u001b[90m━━━━━━━━━━━━━━━━━━━━━━━━━━━━━━━━━━━━━━━━\u001b[0m \u001b[32m207.5/207.5 MB\u001b[0m \u001b[31m5.0 MB/s\u001b[0m eta \u001b[36m0:00:00\u001b[0m\n",
            "\u001b[?25hDownloading nvidia_nvjitlink_cu12-12.4.127-py3-none-manylinux2014_x86_64.whl (21.1 MB)\n",
            "\u001b[2K   \u001b[90m━━━━━━━━━━━━━━━━━━━━━━━━━━━━━━━━━━━━━━━━\u001b[0m \u001b[32m21.1/21.1 MB\u001b[0m \u001b[31m82.9 MB/s\u001b[0m eta \u001b[36m0:00:00\u001b[0m\n",
            "\u001b[?25hDownloading ultralytics_thop-2.0.14-py3-none-any.whl (26 kB)\n",
            "Installing collected packages: nvidia-nvjitlink-cu12, nvidia-curand-cu12, nvidia-cufft-cu12, nvidia-cuda-runtime-cu12, nvidia-cuda-nvrtc-cu12, nvidia-cuda-cupti-cu12, nvidia-cublas-cu12, nvidia-cusparse-cu12, nvidia-cudnn-cu12, nvidia-cusolver-cu12, ultralytics-thop, ultralytics\n",
            "  Attempting uninstall: nvidia-nvjitlink-cu12\n",
            "    Found existing installation: nvidia-nvjitlink-cu12 12.5.82\n",
            "    Uninstalling nvidia-nvjitlink-cu12-12.5.82:\n",
            "      Successfully uninstalled nvidia-nvjitlink-cu12-12.5.82\n",
            "  Attempting uninstall: nvidia-curand-cu12\n",
            "    Found existing installation: nvidia-curand-cu12 10.3.6.82\n",
            "    Uninstalling nvidia-curand-cu12-10.3.6.82:\n",
            "      Successfully uninstalled nvidia-curand-cu12-10.3.6.82\n",
            "  Attempting uninstall: nvidia-cufft-cu12\n",
            "    Found existing installation: nvidia-cufft-cu12 11.2.3.61\n",
            "    Uninstalling nvidia-cufft-cu12-11.2.3.61:\n",
            "      Successfully uninstalled nvidia-cufft-cu12-11.2.3.61\n",
            "  Attempting uninstall: nvidia-cuda-runtime-cu12\n",
            "    Found existing installation: nvidia-cuda-runtime-cu12 12.5.82\n",
            "    Uninstalling nvidia-cuda-runtime-cu12-12.5.82:\n",
            "      Successfully uninstalled nvidia-cuda-runtime-cu12-12.5.82\n",
            "  Attempting uninstall: nvidia-cuda-nvrtc-cu12\n",
            "    Found existing installation: nvidia-cuda-nvrtc-cu12 12.5.82\n",
            "    Uninstalling nvidia-cuda-nvrtc-cu12-12.5.82:\n",
            "      Successfully uninstalled nvidia-cuda-nvrtc-cu12-12.5.82\n",
            "  Attempting uninstall: nvidia-cuda-cupti-cu12\n",
            "    Found existing installation: nvidia-cuda-cupti-cu12 12.5.82\n",
            "    Uninstalling nvidia-cuda-cupti-cu12-12.5.82:\n",
            "      Successfully uninstalled nvidia-cuda-cupti-cu12-12.5.82\n",
            "  Attempting uninstall: nvidia-cublas-cu12\n",
            "    Found existing installation: nvidia-cublas-cu12 12.5.3.2\n",
            "    Uninstalling nvidia-cublas-cu12-12.5.3.2:\n",
            "      Successfully uninstalled nvidia-cublas-cu12-12.5.3.2\n",
            "  Attempting uninstall: nvidia-cusparse-cu12\n",
            "    Found existing installation: nvidia-cusparse-cu12 12.5.1.3\n",
            "    Uninstalling nvidia-cusparse-cu12-12.5.1.3:\n",
            "      Successfully uninstalled nvidia-cusparse-cu12-12.5.1.3\n",
            "  Attempting uninstall: nvidia-cudnn-cu12\n",
            "    Found existing installation: nvidia-cudnn-cu12 9.3.0.75\n",
            "    Uninstalling nvidia-cudnn-cu12-9.3.0.75:\n",
            "      Successfully uninstalled nvidia-cudnn-cu12-9.3.0.75\n",
            "  Attempting uninstall: nvidia-cusolver-cu12\n",
            "    Found existing installation: nvidia-cusolver-cu12 11.6.3.83\n",
            "    Uninstalling nvidia-cusolver-cu12-11.6.3.83:\n",
            "      Successfully uninstalled nvidia-cusolver-cu12-11.6.3.83\n",
            "Successfully installed nvidia-cublas-cu12-12.4.5.8 nvidia-cuda-cupti-cu12-12.4.127 nvidia-cuda-nvrtc-cu12-12.4.127 nvidia-cuda-runtime-cu12-12.4.127 nvidia-cudnn-cu12-9.1.0.70 nvidia-cufft-cu12-11.2.1.3 nvidia-curand-cu12-10.3.5.147 nvidia-cusolver-cu12-11.6.1.9 nvidia-cusparse-cu12-12.3.1.170 nvidia-nvjitlink-cu12-12.4.127 ultralytics-8.3.74 ultralytics-thop-2.0.14\n"
          ]
        }
      ]
    },
    {
      "cell_type": "code",
      "source": [
        "!pip install roboflow # The software we use to annotate/label the data for training the model."
      ],
      "metadata": {
        "colab": {
          "base_uri": "https://localhost:8080/"
        },
        "collapsed": true,
        "id": "SjZd8qR1KngX",
        "outputId": "175e8796-46c5-4b64-bb1f-e3bac65b9f42"
      },
      "execution_count": null,
      "outputs": [
        {
          "output_type": "stream",
          "name": "stdout",
          "text": [
            "Requirement already satisfied: roboflow in /usr/local/lib/python3.11/dist-packages (1.1.53)\n",
            "Requirement already satisfied: certifi in /usr/local/lib/python3.11/dist-packages (from roboflow) (2025.1.31)\n",
            "Requirement already satisfied: idna==3.7 in /usr/local/lib/python3.11/dist-packages (from roboflow) (3.7)\n",
            "Requirement already satisfied: cycler in /usr/local/lib/python3.11/dist-packages (from roboflow) (0.12.1)\n",
            "Requirement already satisfied: kiwisolver>=1.3.1 in /usr/local/lib/python3.11/dist-packages (from roboflow) (1.4.8)\n",
            "Requirement already satisfied: matplotlib in /usr/local/lib/python3.11/dist-packages (from roboflow) (3.10.0)\n",
            "Requirement already satisfied: numpy>=1.18.5 in /usr/local/lib/python3.11/dist-packages (from roboflow) (1.26.4)\n",
            "Requirement already satisfied: opencv-python-headless==4.10.0.84 in /usr/local/lib/python3.11/dist-packages (from roboflow) (4.10.0.84)\n",
            "Requirement already satisfied: Pillow>=7.1.2 in /usr/local/lib/python3.11/dist-packages (from roboflow) (11.1.0)\n",
            "Requirement already satisfied: python-dateutil in /usr/local/lib/python3.11/dist-packages (from roboflow) (2.8.2)\n",
            "Requirement already satisfied: python-dotenv in /usr/local/lib/python3.11/dist-packages (from roboflow) (1.0.1)\n",
            "Requirement already satisfied: requests in /usr/local/lib/python3.11/dist-packages (from roboflow) (2.32.3)\n",
            "Requirement already satisfied: six in /usr/local/lib/python3.11/dist-packages (from roboflow) (1.17.0)\n",
            "Requirement already satisfied: urllib3>=1.26.6 in /usr/local/lib/python3.11/dist-packages (from roboflow) (2.3.0)\n",
            "Requirement already satisfied: tqdm>=4.41.0 in /usr/local/lib/python3.11/dist-packages (from roboflow) (4.67.1)\n",
            "Requirement already satisfied: PyYAML>=5.3.1 in /usr/local/lib/python3.11/dist-packages (from roboflow) (6.0.2)\n",
            "Requirement already satisfied: requests-toolbelt in /usr/local/lib/python3.11/dist-packages (from roboflow) (1.0.0)\n",
            "Requirement already satisfied: filetype in /usr/local/lib/python3.11/dist-packages (from roboflow) (1.2.0)\n",
            "Requirement already satisfied: contourpy>=1.0.1 in /usr/local/lib/python3.11/dist-packages (from matplotlib->roboflow) (1.3.1)\n",
            "Requirement already satisfied: fonttools>=4.22.0 in /usr/local/lib/python3.11/dist-packages (from matplotlib->roboflow) (4.55.8)\n",
            "Requirement already satisfied: packaging>=20.0 in /usr/local/lib/python3.11/dist-packages (from matplotlib->roboflow) (24.2)\n",
            "Requirement already satisfied: pyparsing>=2.3.1 in /usr/local/lib/python3.11/dist-packages (from matplotlib->roboflow) (3.2.1)\n",
            "Requirement already satisfied: charset-normalizer<4,>=2 in /usr/local/lib/python3.11/dist-packages (from requests->roboflow) (3.4.1)\n"
          ]
        }
      ]
    },
    {
      "cell_type": "code",
      "source": [
        "from roboflow import Roboflow\n",
        "rf = Roboflow(api_key=\"api-key\") # you can get the api key from roboflow.\n",
        "project = rf.workspace(\"debarshee\").project(\"smart-traffic-management-4dllo\")\n",
        "version = project.version(1)\n",
        "dataset = version.download(\"yolov11\")"
      ],
      "metadata": {
        "colab": {
          "base_uri": "https://localhost:8080/"
        },
        "id": "VB-wf4r7Kjsy",
        "outputId": "3fd45af0-615e-40a8-817c-47f9dc536f93"
      },
      "execution_count": null,
      "outputs": [
        {
          "output_type": "stream",
          "name": "stdout",
          "text": [
            "loading Roboflow workspace...\n",
            "loading Roboflow project...\n"
          ]
        },
        {
          "output_type": "stream",
          "name": "stderr",
          "text": [
            "Downloading Dataset Version Zip in Smart-Traffic-Management-1 to yolov11:: 100%|██████████| 144801/144801 [00:05<00:00, 28562.45it/s]"
          ]
        },
        {
          "output_type": "stream",
          "name": "stdout",
          "text": [
            "\n"
          ]
        },
        {
          "output_type": "stream",
          "name": "stderr",
          "text": [
            "\n",
            "Extracting Dataset Version Zip to Smart-Traffic-Management-1 in yolov11:: 100%|██████████| 5212/5212 [00:01<00:00, 4003.99it/s]\n"
          ]
        }
      ]
    },
    {
      "cell_type": "code",
      "execution_count": null,
      "metadata": {
        "colab": {
          "base_uri": "https://localhost:8080/"
        },
        "id": "SyvkWCYQCWL7",
        "outputId": "94467412-2285-4724-8619-72cbbe97b6eb"
      },
      "outputs": [
        {
          "output_type": "stream",
          "name": "stdout",
          "text": [
            "Creating new Ultralytics Settings v0.0.6 file ✅ \n",
            "View Ultralytics Settings with 'yolo settings' or at '/root/.config/Ultralytics/settings.json'\n",
            "Update Settings with 'yolo settings key=value', i.e. 'yolo settings runs_dir=path/to/dir'. For help see https://docs.ultralytics.com/quickstart/#ultralytics-settings.\n",
            "Downloading https://github.com/ultralytics/assets/releases/download/v8.3.0/yolo11n.pt to 'yolo11n.pt'...\n"
          ]
        },
        {
          "output_type": "stream",
          "name": "stderr",
          "text": [
            "100%|██████████| 5.35M/5.35M [00:00<00:00, 175MB/s]\n"
          ]
        }
      ],
      "source": [
        "from ultralytics import YOLO\n",
        "\n",
        "# Load a model\n",
        "# model = YOLO(\"yolo11n.yaml\")  # build a new model from YAML\n",
        "model = YOLO(\"yolo11n.pt\")  # load a pretrained model (recommended for training)\n",
        "# model = YOLO(\"yolo11n.yaml\").load(\"yolo11n.pt\")  # build from YAML and transfer weights"
      ]
    },
    {
      "cell_type": "markdown",
      "source": [
        "# TT Set:01"
      ],
      "metadata": {
        "id": "kAUXcCyXTlrn"
      }
    },
    {
      "cell_type": "code",
      "source": [
        "# Train_01 the model\n",
        "results_01 = model.train(data=\"/content/Smart-Traffic-Management-1/data.yaml\", epochs=100, imgsz=640, batch=8)"
      ],
      "metadata": {
        "colab": {
          "base_uri": "https://localhost:8080/"
        },
        "id": "InVN1Q72Mgro",
        "outputId": "3bd2c4ab-4b6b-4063-b5d2-a7002597aba5"
      },
      "execution_count": null,
      "outputs": [
        {
          "output_type": "stream",
          "name": "stdout",
          "text": [
            "Ultralytics 8.3.73 🚀 Python-3.11.11 torch-2.5.1+cu124 CUDA:0 (Tesla T4, 15095MiB)\n",
            "\u001b[34m\u001b[1mengine/trainer: \u001b[0mtask=detect, mode=train, model=yolo11n.pt, data=/content/Smart-Traffic-Management-1/data.yaml, epochs=100, time=None, patience=100, batch=8, imgsz=640, save=True, save_period=-1, cache=False, device=None, workers=8, project=None, name=train, exist_ok=False, pretrained=True, optimizer=auto, verbose=True, seed=0, deterministic=True, single_cls=False, rect=False, cos_lr=False, close_mosaic=10, resume=False, amp=True, fraction=1.0, profile=False, freeze=None, multi_scale=False, overlap_mask=True, mask_ratio=4, dropout=0.0, val=True, split=val, save_json=False, save_hybrid=False, conf=None, iou=0.7, max_det=300, half=False, dnn=False, plots=True, source=None, vid_stride=1, stream_buffer=False, visualize=False, augment=False, agnostic_nms=False, classes=None, retina_masks=False, embed=None, show=False, save_frames=False, save_txt=False, save_conf=False, save_crop=False, show_labels=True, show_conf=True, show_boxes=True, line_width=None, format=torchscript, keras=False, optimize=False, int8=False, dynamic=False, simplify=True, opset=None, workspace=None, nms=False, lr0=0.01, lrf=0.01, momentum=0.937, weight_decay=0.0005, warmup_epochs=3.0, warmup_momentum=0.8, warmup_bias_lr=0.1, box=7.5, cls=0.5, dfl=1.5, pose=12.0, kobj=1.0, nbs=64, hsv_h=0.015, hsv_s=0.7, hsv_v=0.4, degrees=0.0, translate=0.1, scale=0.5, shear=0.0, perspective=0.0, flipud=0.0, fliplr=0.5, bgr=0.0, mosaic=1.0, mixup=0.0, copy_paste=0.0, copy_paste_mode=flip, auto_augment=randaugment, erasing=0.4, crop_fraction=1.0, cfg=None, tracker=botsort.yaml, save_dir=runs/detect/train\n",
            "Downloading https://ultralytics.com/assets/Arial.ttf to '/root/.config/Ultralytics/Arial.ttf'...\n"
          ]
        },
        {
          "output_type": "stream",
          "name": "stderr",
          "text": [
            "100%|██████████| 755k/755k [00:00<00:00, 31.2MB/s]\n"
          ]
        },
        {
          "output_type": "stream",
          "name": "stdout",
          "text": [
            "Overriding model.yaml nc=80 with nc=3\n",
            "\n",
            "                   from  n    params  module                                       arguments                     \n",
            "  0                  -1  1       464  ultralytics.nn.modules.conv.Conv             [3, 16, 3, 2]                 \n",
            "  1                  -1  1      4672  ultralytics.nn.modules.conv.Conv             [16, 32, 3, 2]                \n",
            "  2                  -1  1      6640  ultralytics.nn.modules.block.C3k2            [32, 64, 1, False, 0.25]      \n",
            "  3                  -1  1     36992  ultralytics.nn.modules.conv.Conv             [64, 64, 3, 2]                \n",
            "  4                  -1  1     26080  ultralytics.nn.modules.block.C3k2            [64, 128, 1, False, 0.25]     \n",
            "  5                  -1  1    147712  ultralytics.nn.modules.conv.Conv             [128, 128, 3, 2]              \n",
            "  6                  -1  1     87040  ultralytics.nn.modules.block.C3k2            [128, 128, 1, True]           \n",
            "  7                  -1  1    295424  ultralytics.nn.modules.conv.Conv             [128, 256, 3, 2]              \n",
            "  8                  -1  1    346112  ultralytics.nn.modules.block.C3k2            [256, 256, 1, True]           \n",
            "  9                  -1  1    164608  ultralytics.nn.modules.block.SPPF            [256, 256, 5]                 \n",
            " 10                  -1  1    249728  ultralytics.nn.modules.block.C2PSA           [256, 256, 1]                 \n",
            " 11                  -1  1         0  torch.nn.modules.upsampling.Upsample         [None, 2, 'nearest']          \n",
            " 12             [-1, 6]  1         0  ultralytics.nn.modules.conv.Concat           [1]                           \n",
            " 13                  -1  1    111296  ultralytics.nn.modules.block.C3k2            [384, 128, 1, False]          \n",
            " 14                  -1  1         0  torch.nn.modules.upsampling.Upsample         [None, 2, 'nearest']          \n",
            " 15             [-1, 4]  1         0  ultralytics.nn.modules.conv.Concat           [1]                           \n",
            " 16                  -1  1     32096  ultralytics.nn.modules.block.C3k2            [256, 64, 1, False]           \n",
            " 17                  -1  1     36992  ultralytics.nn.modules.conv.Conv             [64, 64, 3, 2]                \n",
            " 18            [-1, 13]  1         0  ultralytics.nn.modules.conv.Concat           [1]                           \n",
            " 19                  -1  1     86720  ultralytics.nn.modules.block.C3k2            [192, 128, 1, False]          \n",
            " 20                  -1  1    147712  ultralytics.nn.modules.conv.Conv             [128, 128, 3, 2]              \n",
            " 21            [-1, 10]  1         0  ultralytics.nn.modules.conv.Concat           [1]                           \n",
            " 22                  -1  1    378880  ultralytics.nn.modules.block.C3k2            [384, 256, 1, True]           \n",
            " 23        [16, 19, 22]  1    431257  ultralytics.nn.modules.head.Detect           [3, [64, 128, 256]]           \n",
            "YOLO11n summary: 319 layers, 2,590,425 parameters, 2,590,409 gradients, 6.4 GFLOPs\n",
            "\n",
            "Transferred 448/499 items from pretrained weights\n",
            "\u001b[34m\u001b[1mTensorBoard: \u001b[0mStart with 'tensorboard --logdir runs/detect/train', view at http://localhost:6006/\n",
            "Freezing layer 'model.23.dfl.conv.weight'\n",
            "\u001b[34m\u001b[1mAMP: \u001b[0mrunning Automatic Mixed Precision (AMP) checks...\n",
            "\u001b[34m\u001b[1mAMP: \u001b[0mchecks passed ✅\n"
          ]
        },
        {
          "output_type": "stream",
          "name": "stderr",
          "text": [
            "\u001b[34m\u001b[1mtrain: \u001b[0mScanning /content/Smart-Traffic-Management-1/train/labels... 2400 images, 0 backgrounds, 0 corrupt: 100%|██████████| 2400/2400 [00:01<00:00, 1920.75it/s]"
          ]
        },
        {
          "output_type": "stream",
          "name": "stdout",
          "text": [
            "\u001b[34m\u001b[1mtrain: \u001b[0mNew cache created: /content/Smart-Traffic-Management-1/train/labels.cache\n"
          ]
        },
        {
          "output_type": "stream",
          "name": "stderr",
          "text": [
            "\n"
          ]
        },
        {
          "output_type": "stream",
          "name": "stdout",
          "text": [
            "\u001b[34m\u001b[1malbumentations: \u001b[0mBlur(p=0.01, blur_limit=(3, 7)), MedianBlur(p=0.01, blur_limit=(3, 7)), ToGray(p=0.01, num_output_channels=3, method='weighted_average'), CLAHE(p=0.01, clip_limit=(1.0, 4.0), tile_grid_size=(8, 8))\n"
          ]
        },
        {
          "output_type": "stream",
          "name": "stderr",
          "text": [
            "\u001b[34m\u001b[1mval: \u001b[0mScanning /content/Smart-Traffic-Management-1/valid/labels... 150 images, 0 backgrounds, 0 corrupt: 100%|██████████| 150/150 [00:00<00:00, 771.63it/s]\n"
          ]
        },
        {
          "output_type": "stream",
          "name": "stdout",
          "text": [
            "\u001b[34m\u001b[1mval: \u001b[0mNew cache created: /content/Smart-Traffic-Management-1/valid/labels.cache\n",
            "Plotting labels to runs/detect/train/labels.jpg... \n",
            "\u001b[34m\u001b[1moptimizer:\u001b[0m 'optimizer=auto' found, ignoring 'lr0=0.01' and 'momentum=0.937' and determining best 'optimizer', 'lr0' and 'momentum' automatically... \n",
            "\u001b[34m\u001b[1moptimizer:\u001b[0m AdamW(lr=0.001429, momentum=0.9) with parameter groups 81 weight(decay=0.0), 88 weight(decay=0.0005), 87 bias(decay=0.0)\n",
            "\u001b[34m\u001b[1mTensorBoard: \u001b[0mmodel graph visualization added ✅\n",
            "Image sizes 640 train, 640 val\n",
            "Using 2 dataloader workers\n",
            "Logging results to \u001b[1mruns/detect/train\u001b[0m\n",
            "Starting training for 100 epochs...\n",
            "\n",
            "      Epoch    GPU_mem   box_loss   cls_loss   dfl_loss  Instances       Size\n"
          ]
        },
        {
          "output_type": "stream",
          "name": "stderr",
          "text": [
            "      1/100      1.61G     0.7999      1.219     0.8471        100        640: 100%|██████████| 300/300 [01:15<00:00,  4.00it/s]\n",
            "                 Class     Images  Instances      Box(P          R      mAP50  mAP50-95): 100%|██████████| 10/10 [00:02<00:00,  3.36it/s]"
          ]
        },
        {
          "output_type": "stream",
          "name": "stdout",
          "text": [
            "                   all        150       1500      0.889      0.582      0.602      0.493\n"
          ]
        },
        {
          "output_type": "stream",
          "name": "stderr",
          "text": [
            "\n"
          ]
        },
        {
          "output_type": "stream",
          "name": "stdout",
          "text": [
            "\n",
            "      Epoch    GPU_mem   box_loss   cls_loss   dfl_loss  Instances       Size\n"
          ]
        },
        {
          "output_type": "stream",
          "name": "stderr",
          "text": [
            "      2/100      1.43G     0.6728     0.6264     0.8274         93        640: 100%|██████████| 300/300 [01:10<00:00,  4.27it/s]\n",
            "                 Class     Images  Instances      Box(P          R      mAP50  mAP50-95): 100%|██████████| 10/10 [00:01<00:00,  6.54it/s]"
          ]
        },
        {
          "output_type": "stream",
          "name": "stdout",
          "text": [
            "                   all        150       1500       0.93       0.58      0.636      0.527\n"
          ]
        },
        {
          "output_type": "stream",
          "name": "stderr",
          "text": [
            "\n"
          ]
        },
        {
          "output_type": "stream",
          "name": "stdout",
          "text": [
            "\n",
            "      Epoch    GPU_mem   box_loss   cls_loss   dfl_loss  Instances       Size\n"
          ]
        },
        {
          "output_type": "stream",
          "name": "stderr",
          "text": [
            "      3/100      1.48G     0.6445     0.5522     0.8227         64        640: 100%|██████████| 300/300 [01:07<00:00,  4.46it/s]\n",
            "                 Class     Images  Instances      Box(P          R      mAP50  mAP50-95): 100%|██████████| 10/10 [00:01<00:00,  6.80it/s]"
          ]
        },
        {
          "output_type": "stream",
          "name": "stdout",
          "text": [
            "                   all        150       1500      0.948      0.608      0.643      0.548\n"
          ]
        },
        {
          "output_type": "stream",
          "name": "stderr",
          "text": [
            "\n"
          ]
        },
        {
          "output_type": "stream",
          "name": "stdout",
          "text": [
            "\n",
            "      Epoch    GPU_mem   box_loss   cls_loss   dfl_loss  Instances       Size\n"
          ]
        },
        {
          "output_type": "stream",
          "name": "stderr",
          "text": [
            "      4/100      1.41G     0.6185     0.4872     0.8183        110        640: 100%|██████████| 300/300 [01:10<00:00,  4.24it/s]\n",
            "                 Class     Images  Instances      Box(P          R      mAP50  mAP50-95): 100%|██████████| 10/10 [00:01<00:00,  6.95it/s]"
          ]
        },
        {
          "output_type": "stream",
          "name": "stdout",
          "text": [
            "                   all        150       1500      0.968      0.618      0.644      0.543\n"
          ]
        },
        {
          "output_type": "stream",
          "name": "stderr",
          "text": [
            "\n"
          ]
        },
        {
          "output_type": "stream",
          "name": "stdout",
          "text": [
            "\n",
            "      Epoch    GPU_mem   box_loss   cls_loss   dfl_loss  Instances       Size\n"
          ]
        },
        {
          "output_type": "stream",
          "name": "stderr",
          "text": [
            "      5/100      1.37G     0.6135     0.4582     0.8183        131        640: 100%|██████████| 300/300 [01:07<00:00,  4.44it/s]\n",
            "                 Class     Images  Instances      Box(P          R      mAP50  mAP50-95): 100%|██████████| 10/10 [00:02<00:00,  3.86it/s]"
          ]
        },
        {
          "output_type": "stream",
          "name": "stdout",
          "text": [
            "                   all        150       1500      0.952      0.622      0.669       0.56\n"
          ]
        },
        {
          "output_type": "stream",
          "name": "stderr",
          "text": [
            "\n"
          ]
        },
        {
          "output_type": "stream",
          "name": "stdout",
          "text": [
            "\n",
            "      Epoch    GPU_mem   box_loss   cls_loss   dfl_loss  Instances       Size\n"
          ]
        },
        {
          "output_type": "stream",
          "name": "stderr",
          "text": [
            "      6/100      1.41G     0.5919     0.4348     0.8146         83        640: 100%|██████████| 300/300 [01:06<00:00,  4.55it/s]\n",
            "                 Class     Images  Instances      Box(P          R      mAP50  mAP50-95): 100%|██████████| 10/10 [00:02<00:00,  3.81it/s]"
          ]
        },
        {
          "output_type": "stream",
          "name": "stdout",
          "text": [
            "                   all        150       1500      0.941      0.617      0.645      0.549\n"
          ]
        },
        {
          "output_type": "stream",
          "name": "stderr",
          "text": [
            "\n"
          ]
        },
        {
          "output_type": "stream",
          "name": "stdout",
          "text": [
            "\n",
            "      Epoch    GPU_mem   box_loss   cls_loss   dfl_loss  Instances       Size\n"
          ]
        },
        {
          "output_type": "stream",
          "name": "stderr",
          "text": [
            "      7/100      1.39G     0.5785      0.422      0.814        118        640: 100%|██████████| 300/300 [01:07<00:00,  4.42it/s]\n",
            "                 Class     Images  Instances      Box(P          R      mAP50  mAP50-95): 100%|██████████| 10/10 [00:02<00:00,  3.88it/s]"
          ]
        },
        {
          "output_type": "stream",
          "name": "stdout",
          "text": [
            "                   all        150       1500       0.97        0.6      0.652      0.571\n"
          ]
        },
        {
          "output_type": "stream",
          "name": "stderr",
          "text": [
            "\n"
          ]
        },
        {
          "output_type": "stream",
          "name": "stdout",
          "text": [
            "\n",
            "      Epoch    GPU_mem   box_loss   cls_loss   dfl_loss  Instances       Size\n"
          ]
        },
        {
          "output_type": "stream",
          "name": "stderr",
          "text": [
            "      8/100      1.38G     0.5732     0.4058     0.8121         86        640: 100%|██████████| 300/300 [01:07<00:00,  4.43it/s]\n",
            "                 Class     Images  Instances      Box(P          R      mAP50  mAP50-95): 100%|██████████| 10/10 [00:02<00:00,  4.26it/s]"
          ]
        },
        {
          "output_type": "stream",
          "name": "stdout",
          "text": [
            "                   all        150       1500      0.942      0.614      0.657      0.573\n"
          ]
        },
        {
          "output_type": "stream",
          "name": "stderr",
          "text": [
            "\n"
          ]
        },
        {
          "output_type": "stream",
          "name": "stdout",
          "text": [
            "\n",
            "      Epoch    GPU_mem   box_loss   cls_loss   dfl_loss  Instances       Size\n"
          ]
        },
        {
          "output_type": "stream",
          "name": "stderr",
          "text": [
            "      9/100      1.37G     0.5701     0.3981     0.8134        155        640: 100%|██████████| 300/300 [01:10<00:00,  4.28it/s]\n",
            "                 Class     Images  Instances      Box(P          R      mAP50  mAP50-95): 100%|██████████| 10/10 [00:01<00:00,  6.96it/s]"
          ]
        },
        {
          "output_type": "stream",
          "name": "stdout",
          "text": [
            "                   all        150       1500      0.951      0.583      0.634       0.56\n"
          ]
        },
        {
          "output_type": "stream",
          "name": "stderr",
          "text": [
            "\n"
          ]
        },
        {
          "output_type": "stream",
          "name": "stdout",
          "text": [
            "\n",
            "      Epoch    GPU_mem   box_loss   cls_loss   dfl_loss  Instances       Size\n"
          ]
        },
        {
          "output_type": "stream",
          "name": "stderr",
          "text": [
            "     10/100      1.42G     0.5579     0.3924      0.809        144        640: 100%|██████████| 300/300 [01:10<00:00,  4.24it/s]\n",
            "                 Class     Images  Instances      Box(P          R      mAP50  mAP50-95): 100%|██████████| 10/10 [00:01<00:00,  7.15it/s]"
          ]
        },
        {
          "output_type": "stream",
          "name": "stdout",
          "text": [
            "                   all        150       1500       0.94      0.604       0.64      0.556\n"
          ]
        },
        {
          "output_type": "stream",
          "name": "stderr",
          "text": [
            "\n"
          ]
        },
        {
          "output_type": "stream",
          "name": "stdout",
          "text": [
            "\n",
            "      Epoch    GPU_mem   box_loss   cls_loss   dfl_loss  Instances       Size\n"
          ]
        },
        {
          "output_type": "stream",
          "name": "stderr",
          "text": [
            "     11/100      1.36G     0.5489     0.3812     0.8095        134        640: 100%|██████████| 300/300 [01:08<00:00,  4.37it/s]\n",
            "                 Class     Images  Instances      Box(P          R      mAP50  mAP50-95): 100%|██████████| 10/10 [00:01<00:00,  6.83it/s]"
          ]
        },
        {
          "output_type": "stream",
          "name": "stdout",
          "text": [
            "                   all        150       1500      0.973      0.602      0.656      0.564\n"
          ]
        },
        {
          "output_type": "stream",
          "name": "stderr",
          "text": [
            "\n"
          ]
        },
        {
          "output_type": "stream",
          "name": "stdout",
          "text": [
            "\n",
            "      Epoch    GPU_mem   box_loss   cls_loss   dfl_loss  Instances       Size\n"
          ]
        },
        {
          "output_type": "stream",
          "name": "stderr",
          "text": [
            "     12/100       1.4G     0.5517     0.3789     0.8095        126        640: 100%|██████████| 300/300 [01:10<00:00,  4.26it/s]\n",
            "                 Class     Images  Instances      Box(P          R      mAP50  mAP50-95): 100%|██████████| 10/10 [00:01<00:00,  6.63it/s]"
          ]
        },
        {
          "output_type": "stream",
          "name": "stdout",
          "text": [
            "                   all        150       1500      0.946      0.618      0.645      0.569\n"
          ]
        },
        {
          "output_type": "stream",
          "name": "stderr",
          "text": [
            "\n"
          ]
        },
        {
          "output_type": "stream",
          "name": "stdout",
          "text": [
            "\n",
            "      Epoch    GPU_mem   box_loss   cls_loss   dfl_loss  Instances       Size\n"
          ]
        },
        {
          "output_type": "stream",
          "name": "stderr",
          "text": [
            "     13/100      1.42G     0.5411     0.3703     0.8072         68        640: 100%|██████████| 300/300 [01:09<00:00,  4.35it/s]\n",
            "                 Class     Images  Instances      Box(P          R      mAP50  mAP50-95): 100%|██████████| 10/10 [00:01<00:00,  7.06it/s]"
          ]
        },
        {
          "output_type": "stream",
          "name": "stdout",
          "text": [
            "                   all        150       1500      0.971      0.593      0.649      0.577\n"
          ]
        },
        {
          "output_type": "stream",
          "name": "stderr",
          "text": [
            "\n"
          ]
        },
        {
          "output_type": "stream",
          "name": "stdout",
          "text": [
            "\n",
            "      Epoch    GPU_mem   box_loss   cls_loss   dfl_loss  Instances       Size\n"
          ]
        },
        {
          "output_type": "stream",
          "name": "stderr",
          "text": [
            "     14/100      1.42G     0.5363     0.3666     0.8069        110        640: 100%|██████████| 300/300 [01:09<00:00,  4.31it/s]\n",
            "                 Class     Images  Instances      Box(P          R      mAP50  mAP50-95): 100%|██████████| 10/10 [00:01<00:00,  7.28it/s]"
          ]
        },
        {
          "output_type": "stream",
          "name": "stdout",
          "text": [
            "                   all        150       1500      0.923       0.63      0.653      0.587\n"
          ]
        },
        {
          "output_type": "stream",
          "name": "stderr",
          "text": [
            "\n"
          ]
        },
        {
          "output_type": "stream",
          "name": "stdout",
          "text": [
            "\n",
            "      Epoch    GPU_mem   box_loss   cls_loss   dfl_loss  Instances       Size\n"
          ]
        },
        {
          "output_type": "stream",
          "name": "stderr",
          "text": [
            "     15/100       1.4G     0.5325     0.3639     0.8073        104        640: 100%|██████████| 300/300 [01:09<00:00,  4.33it/s]\n",
            "                 Class     Images  Instances      Box(P          R      mAP50  mAP50-95): 100%|██████████| 10/10 [00:02<00:00,  3.93it/s]"
          ]
        },
        {
          "output_type": "stream",
          "name": "stdout",
          "text": [
            "                   all        150       1500      0.947      0.595      0.647      0.576\n"
          ]
        },
        {
          "output_type": "stream",
          "name": "stderr",
          "text": [
            "\n"
          ]
        },
        {
          "output_type": "stream",
          "name": "stdout",
          "text": [
            "\n",
            "      Epoch    GPU_mem   box_loss   cls_loss   dfl_loss  Instances       Size\n"
          ]
        },
        {
          "output_type": "stream",
          "name": "stderr",
          "text": [
            "     16/100      1.42G     0.5269     0.3589     0.8077         95        640: 100%|██████████| 300/300 [01:06<00:00,  4.53it/s]\n",
            "                 Class     Images  Instances      Box(P          R      mAP50  mAP50-95): 100%|██████████| 10/10 [00:02<00:00,  4.03it/s]"
          ]
        },
        {
          "output_type": "stream",
          "name": "stdout",
          "text": [
            "                   all        150       1500      0.916      0.626       0.65      0.574\n"
          ]
        },
        {
          "output_type": "stream",
          "name": "stderr",
          "text": [
            "\n"
          ]
        },
        {
          "output_type": "stream",
          "name": "stdout",
          "text": [
            "\n",
            "      Epoch    GPU_mem   box_loss   cls_loss   dfl_loss  Instances       Size\n"
          ]
        },
        {
          "output_type": "stream",
          "name": "stderr",
          "text": [
            "     17/100      1.31G     0.5164     0.3531     0.8044         80        640: 100%|██████████| 300/300 [01:06<00:00,  4.51it/s]\n",
            "                 Class     Images  Instances      Box(P          R      mAP50  mAP50-95): 100%|██████████| 10/10 [00:01<00:00,  5.76it/s]"
          ]
        },
        {
          "output_type": "stream",
          "name": "stdout",
          "text": [
            "                   all        150       1500      0.973      0.623       0.66       0.58\n"
          ]
        },
        {
          "output_type": "stream",
          "name": "stderr",
          "text": [
            "\n"
          ]
        },
        {
          "output_type": "stream",
          "name": "stdout",
          "text": [
            "\n",
            "      Epoch    GPU_mem   box_loss   cls_loss   dfl_loss  Instances       Size\n"
          ]
        },
        {
          "output_type": "stream",
          "name": "stderr",
          "text": [
            "     18/100      1.37G     0.5239      0.353     0.8062        149        640: 100%|██████████| 300/300 [01:08<00:00,  4.41it/s]\n",
            "                 Class     Images  Instances      Box(P          R      mAP50  mAP50-95): 100%|██████████| 10/10 [00:01<00:00,  7.07it/s]"
          ]
        },
        {
          "output_type": "stream",
          "name": "stdout",
          "text": [
            "                   all        150       1500      0.922      0.628       0.65      0.582\n"
          ]
        },
        {
          "output_type": "stream",
          "name": "stderr",
          "text": [
            "\n"
          ]
        },
        {
          "output_type": "stream",
          "name": "stdout",
          "text": [
            "\n",
            "      Epoch    GPU_mem   box_loss   cls_loss   dfl_loss  Instances       Size\n"
          ]
        },
        {
          "output_type": "stream",
          "name": "stderr",
          "text": [
            "     19/100      1.38G     0.5139     0.3432     0.8053        168        640: 100%|██████████| 300/300 [01:08<00:00,  4.40it/s]\n",
            "                 Class     Images  Instances      Box(P          R      mAP50  mAP50-95): 100%|██████████| 10/10 [00:01<00:00,  7.11it/s]"
          ]
        },
        {
          "output_type": "stream",
          "name": "stdout",
          "text": [
            "                   all        150       1500      0.935      0.609      0.637       0.57\n"
          ]
        },
        {
          "output_type": "stream",
          "name": "stderr",
          "text": [
            "\n"
          ]
        },
        {
          "output_type": "stream",
          "name": "stdout",
          "text": [
            "\n",
            "      Epoch    GPU_mem   box_loss   cls_loss   dfl_loss  Instances       Size\n"
          ]
        },
        {
          "output_type": "stream",
          "name": "stderr",
          "text": [
            "     20/100      1.42G     0.5135     0.3466      0.806        145        640: 100%|██████████| 300/300 [01:09<00:00,  4.33it/s]\n",
            "                 Class     Images  Instances      Box(P          R      mAP50  mAP50-95): 100%|██████████| 10/10 [00:01<00:00,  6.98it/s]"
          ]
        },
        {
          "output_type": "stream",
          "name": "stdout",
          "text": [
            "                   all        150       1500      0.918      0.605      0.655      0.584\n"
          ]
        },
        {
          "output_type": "stream",
          "name": "stderr",
          "text": [
            "\n"
          ]
        },
        {
          "output_type": "stream",
          "name": "stdout",
          "text": [
            "\n",
            "      Epoch    GPU_mem   box_loss   cls_loss   dfl_loss  Instances       Size\n"
          ]
        },
        {
          "output_type": "stream",
          "name": "stderr",
          "text": [
            "     21/100      1.48G     0.5059     0.3427     0.8042        122        640: 100%|██████████| 300/300 [01:09<00:00,  4.32it/s]\n",
            "                 Class     Images  Instances      Box(P          R      mAP50  mAP50-95): 100%|██████████| 10/10 [00:01<00:00,  7.16it/s]"
          ]
        },
        {
          "output_type": "stream",
          "name": "stdout",
          "text": [
            "                   all        150       1500      0.945      0.632      0.667        0.6\n"
          ]
        },
        {
          "output_type": "stream",
          "name": "stderr",
          "text": [
            "\n"
          ]
        },
        {
          "output_type": "stream",
          "name": "stdout",
          "text": [
            "\n",
            "      Epoch    GPU_mem   box_loss   cls_loss   dfl_loss  Instances       Size\n"
          ]
        },
        {
          "output_type": "stream",
          "name": "stderr",
          "text": [
            "     22/100      1.37G     0.5021     0.3401     0.8034        105        640: 100%|██████████| 300/300 [01:09<00:00,  4.35it/s]\n",
            "                 Class     Images  Instances      Box(P          R      mAP50  mAP50-95): 100%|██████████| 10/10 [00:01<00:00,  5.18it/s]"
          ]
        },
        {
          "output_type": "stream",
          "name": "stdout",
          "text": [
            "                   all        150       1500      0.924      0.615      0.653      0.584\n"
          ]
        },
        {
          "output_type": "stream",
          "name": "stderr",
          "text": [
            "\n"
          ]
        },
        {
          "output_type": "stream",
          "name": "stdout",
          "text": [
            "\n",
            "      Epoch    GPU_mem   box_loss   cls_loss   dfl_loss  Instances       Size\n"
          ]
        },
        {
          "output_type": "stream",
          "name": "stderr",
          "text": [
            "     23/100      1.42G     0.5028     0.3381     0.8041         88        640: 100%|██████████| 300/300 [01:06<00:00,  4.48it/s]\n",
            "                 Class     Images  Instances      Box(P          R      mAP50  mAP50-95): 100%|██████████| 10/10 [00:02<00:00,  4.04it/s]"
          ]
        },
        {
          "output_type": "stream",
          "name": "stdout",
          "text": [
            "                   all        150       1500       0.97      0.597      0.668      0.606\n"
          ]
        },
        {
          "output_type": "stream",
          "name": "stderr",
          "text": [
            "\n"
          ]
        },
        {
          "output_type": "stream",
          "name": "stdout",
          "text": [
            "\n",
            "      Epoch    GPU_mem   box_loss   cls_loss   dfl_loss  Instances       Size\n"
          ]
        },
        {
          "output_type": "stream",
          "name": "stderr",
          "text": [
            "     24/100      1.38G     0.5001     0.3341     0.8032        115        640: 100%|██████████| 300/300 [01:09<00:00,  4.31it/s]\n",
            "                 Class     Images  Instances      Box(P          R      mAP50  mAP50-95): 100%|██████████| 10/10 [00:02<00:00,  3.72it/s]"
          ]
        },
        {
          "output_type": "stream",
          "name": "stdout",
          "text": [
            "                   all        150       1500      0.946      0.603      0.655      0.592\n"
          ]
        },
        {
          "output_type": "stream",
          "name": "stderr",
          "text": [
            "\n"
          ]
        },
        {
          "output_type": "stream",
          "name": "stdout",
          "text": [
            "\n",
            "      Epoch    GPU_mem   box_loss   cls_loss   dfl_loss  Instances       Size\n"
          ]
        },
        {
          "output_type": "stream",
          "name": "stderr",
          "text": [
            "     25/100       1.4G     0.4995     0.3341     0.8021        114        640: 100%|██████████| 300/300 [01:15<00:00,  3.99it/s]\n",
            "                 Class     Images  Instances      Box(P          R      mAP50  mAP50-95): 100%|██████████| 10/10 [00:01<00:00,  6.92it/s]"
          ]
        },
        {
          "output_type": "stream",
          "name": "stdout",
          "text": [
            "                   all        150       1500      0.952      0.614      0.659      0.588\n"
          ]
        },
        {
          "output_type": "stream",
          "name": "stderr",
          "text": [
            "\n"
          ]
        },
        {
          "output_type": "stream",
          "name": "stdout",
          "text": [
            "\n",
            "      Epoch    GPU_mem   box_loss   cls_loss   dfl_loss  Instances       Size\n"
          ]
        },
        {
          "output_type": "stream",
          "name": "stderr",
          "text": [
            "     26/100      1.43G     0.4917     0.3276      0.801         49        640: 100%|██████████| 300/300 [01:08<00:00,  4.39it/s]\n",
            "                 Class     Images  Instances      Box(P          R      mAP50  mAP50-95): 100%|██████████| 10/10 [00:02<00:00,  3.79it/s]"
          ]
        },
        {
          "output_type": "stream",
          "name": "stdout",
          "text": [
            "                   all        150       1500      0.951      0.621      0.657      0.588\n"
          ]
        },
        {
          "output_type": "stream",
          "name": "stderr",
          "text": [
            "\n"
          ]
        },
        {
          "output_type": "stream",
          "name": "stdout",
          "text": [
            "\n",
            "      Epoch    GPU_mem   box_loss   cls_loss   dfl_loss  Instances       Size\n"
          ]
        },
        {
          "output_type": "stream",
          "name": "stderr",
          "text": [
            "     27/100      1.41G     0.4988     0.3321     0.8028         73        640: 100%|██████████| 300/300 [01:06<00:00,  4.48it/s]\n",
            "                 Class     Images  Instances      Box(P          R      mAP50  mAP50-95): 100%|██████████| 10/10 [00:02<00:00,  4.03it/s]\n"
          ]
        },
        {
          "output_type": "stream",
          "name": "stdout",
          "text": [
            "                   all        150       1500      0.976      0.574      0.657      0.598\n",
            "\n",
            "      Epoch    GPU_mem   box_loss   cls_loss   dfl_loss  Instances       Size\n"
          ]
        },
        {
          "output_type": "stream",
          "name": "stderr",
          "text": [
            "     28/100      1.48G     0.4935      0.329     0.8022         85        640: 100%|██████████| 300/300 [01:08<00:00,  4.41it/s]\n",
            "                 Class     Images  Instances      Box(P          R      mAP50  mAP50-95): 100%|██████████| 10/10 [00:02<00:00,  4.99it/s]"
          ]
        },
        {
          "output_type": "stream",
          "name": "stdout",
          "text": [
            "                   all        150       1500      0.948      0.623      0.662      0.596\n"
          ]
        },
        {
          "output_type": "stream",
          "name": "stderr",
          "text": [
            "\n"
          ]
        },
        {
          "output_type": "stream",
          "name": "stdout",
          "text": [
            "\n",
            "      Epoch    GPU_mem   box_loss   cls_loss   dfl_loss  Instances       Size\n"
          ]
        },
        {
          "output_type": "stream",
          "name": "stderr",
          "text": [
            "     29/100      1.43G     0.4924     0.3253      0.802         94        640: 100%|██████████| 300/300 [01:08<00:00,  4.39it/s]\n",
            "                 Class     Images  Instances      Box(P          R      mAP50  mAP50-95): 100%|██████████| 10/10 [00:01<00:00,  7.04it/s]"
          ]
        },
        {
          "output_type": "stream",
          "name": "stdout",
          "text": [
            "                   all        150       1500      0.956      0.631      0.665      0.604\n"
          ]
        },
        {
          "output_type": "stream",
          "name": "stderr",
          "text": [
            "\n"
          ]
        },
        {
          "output_type": "stream",
          "name": "stdout",
          "text": [
            "\n",
            "      Epoch    GPU_mem   box_loss   cls_loss   dfl_loss  Instances       Size\n"
          ]
        },
        {
          "output_type": "stream",
          "name": "stderr",
          "text": [
            "     30/100       1.4G     0.4817     0.3216     0.7997        121        640: 100%|██████████| 300/300 [01:12<00:00,  4.17it/s]\n",
            "                 Class     Images  Instances      Box(P          R      mAP50  mAP50-95): 100%|██████████| 10/10 [00:01<00:00,  5.38it/s]"
          ]
        },
        {
          "output_type": "stream",
          "name": "stdout",
          "text": [
            "                   all        150       1500      0.956       0.63      0.664      0.597\n"
          ]
        },
        {
          "output_type": "stream",
          "name": "stderr",
          "text": [
            "\n"
          ]
        },
        {
          "output_type": "stream",
          "name": "stdout",
          "text": [
            "\n",
            "      Epoch    GPU_mem   box_loss   cls_loss   dfl_loss  Instances       Size\n"
          ]
        },
        {
          "output_type": "stream",
          "name": "stderr",
          "text": [
            "     31/100      1.39G     0.4859     0.3207     0.7995         98        640: 100%|██████████| 300/300 [01:12<00:00,  4.15it/s]\n",
            "                 Class     Images  Instances      Box(P          R      mAP50  mAP50-95): 100%|██████████| 10/10 [00:02<00:00,  3.65it/s]"
          ]
        },
        {
          "output_type": "stream",
          "name": "stdout",
          "text": [
            "                   all        150       1500      0.965       0.61      0.757       0.68\n"
          ]
        },
        {
          "output_type": "stream",
          "name": "stderr",
          "text": [
            "\n"
          ]
        },
        {
          "output_type": "stream",
          "name": "stdout",
          "text": [
            "\n",
            "      Epoch    GPU_mem   box_loss   cls_loss   dfl_loss  Instances       Size\n"
          ]
        },
        {
          "output_type": "stream",
          "name": "stderr",
          "text": [
            "     32/100      1.37G     0.4859     0.3205     0.8007        145        640: 100%|██████████| 300/300 [01:07<00:00,  4.42it/s]\n",
            "                 Class     Images  Instances      Box(P          R      mAP50  mAP50-95): 100%|██████████| 10/10 [00:02<00:00,  4.57it/s]"
          ]
        },
        {
          "output_type": "stream",
          "name": "stdout",
          "text": [
            "                   all        150       1500       0.97      0.623      0.677       0.61\n"
          ]
        },
        {
          "output_type": "stream",
          "name": "stderr",
          "text": [
            "\n"
          ]
        },
        {
          "output_type": "stream",
          "name": "stdout",
          "text": [
            "\n",
            "      Epoch    GPU_mem   box_loss   cls_loss   dfl_loss  Instances       Size\n"
          ]
        },
        {
          "output_type": "stream",
          "name": "stderr",
          "text": [
            "     33/100      1.43G     0.4812     0.3178        0.8         66        640: 100%|██████████| 300/300 [01:09<00:00,  4.31it/s]\n",
            "                 Class     Images  Instances      Box(P          R      mAP50  mAP50-95): 100%|██████████| 10/10 [00:01<00:00,  6.97it/s]"
          ]
        },
        {
          "output_type": "stream",
          "name": "stdout",
          "text": [
            "                   all        150       1500      0.953       0.62      0.671      0.601\n"
          ]
        },
        {
          "output_type": "stream",
          "name": "stderr",
          "text": [
            "\n"
          ]
        },
        {
          "output_type": "stream",
          "name": "stdout",
          "text": [
            "\n",
            "      Epoch    GPU_mem   box_loss   cls_loss   dfl_loss  Instances       Size\n"
          ]
        },
        {
          "output_type": "stream",
          "name": "stderr",
          "text": [
            "     34/100      1.33G     0.4811     0.3173     0.8014        139        640: 100%|██████████| 300/300 [01:11<00:00,  4.20it/s]\n",
            "                 Class     Images  Instances      Box(P          R      mAP50  mAP50-95): 100%|██████████| 10/10 [00:01<00:00,  6.90it/s]"
          ]
        },
        {
          "output_type": "stream",
          "name": "stdout",
          "text": [
            "                   all        150       1500      0.938      0.591      0.651      0.588\n"
          ]
        },
        {
          "output_type": "stream",
          "name": "stderr",
          "text": [
            "\n"
          ]
        },
        {
          "output_type": "stream",
          "name": "stdout",
          "text": [
            "\n",
            "      Epoch    GPU_mem   box_loss   cls_loss   dfl_loss  Instances       Size\n"
          ]
        },
        {
          "output_type": "stream",
          "name": "stderr",
          "text": [
            "     35/100      1.43G      0.472     0.3112      0.801         83        640: 100%|██████████| 300/300 [01:11<00:00,  4.21it/s]\n",
            "                 Class     Images  Instances      Box(P          R      mAP50  mAP50-95): 100%|██████████| 10/10 [00:01<00:00,  6.85it/s]"
          ]
        },
        {
          "output_type": "stream",
          "name": "stdout",
          "text": [
            "                   all        150       1500      0.965      0.607      0.713      0.638\n"
          ]
        },
        {
          "output_type": "stream",
          "name": "stderr",
          "text": [
            "\n"
          ]
        },
        {
          "output_type": "stream",
          "name": "stdout",
          "text": [
            "\n",
            "      Epoch    GPU_mem   box_loss   cls_loss   dfl_loss  Instances       Size\n"
          ]
        },
        {
          "output_type": "stream",
          "name": "stderr",
          "text": [
            "     36/100      1.37G     0.4671     0.3059     0.7998         74        640: 100%|██████████| 300/300 [01:10<00:00,  4.25it/s]\n",
            "                 Class     Images  Instances      Box(P          R      mAP50  mAP50-95): 100%|██████████| 10/10 [00:01<00:00,  7.22it/s]"
          ]
        },
        {
          "output_type": "stream",
          "name": "stdout",
          "text": [
            "                   all        150       1500      0.969      0.628      0.666      0.607\n"
          ]
        },
        {
          "output_type": "stream",
          "name": "stderr",
          "text": [
            "\n"
          ]
        },
        {
          "output_type": "stream",
          "name": "stdout",
          "text": [
            "\n",
            "      Epoch    GPU_mem   box_loss   cls_loss   dfl_loss  Instances       Size\n"
          ]
        },
        {
          "output_type": "stream",
          "name": "stderr",
          "text": [
            "     37/100      1.41G     0.4678     0.3104      0.798         67        640: 100%|██████████| 300/300 [01:08<00:00,  4.35it/s]\n",
            "                 Class     Images  Instances      Box(P          R      mAP50  mAP50-95): 100%|██████████| 10/10 [00:02<00:00,  4.14it/s]"
          ]
        },
        {
          "output_type": "stream",
          "name": "stdout",
          "text": [
            "                   all        150       1500      0.948      0.629      0.663      0.608\n"
          ]
        },
        {
          "output_type": "stream",
          "name": "stderr",
          "text": [
            "\n"
          ]
        },
        {
          "output_type": "stream",
          "name": "stdout",
          "text": [
            "\n",
            "      Epoch    GPU_mem   box_loss   cls_loss   dfl_loss  Instances       Size\n"
          ]
        },
        {
          "output_type": "stream",
          "name": "stderr",
          "text": [
            "     38/100      1.39G     0.4606     0.3037     0.7969         81        640: 100%|██████████| 300/300 [01:06<00:00,  4.49it/s]\n",
            "                 Class     Images  Instances      Box(P          R      mAP50  mAP50-95): 100%|██████████| 10/10 [00:02<00:00,  3.88it/s]"
          ]
        },
        {
          "output_type": "stream",
          "name": "stdout",
          "text": [
            "                   all        150       1500      0.943      0.633      0.662      0.606\n"
          ]
        },
        {
          "output_type": "stream",
          "name": "stderr",
          "text": [
            "\n"
          ]
        },
        {
          "output_type": "stream",
          "name": "stdout",
          "text": [
            "\n",
            "      Epoch    GPU_mem   box_loss   cls_loss   dfl_loss  Instances       Size\n"
          ]
        },
        {
          "output_type": "stream",
          "name": "stderr",
          "text": [
            "     39/100      1.38G      0.462     0.3043     0.7974         82        640: 100%|██████████| 300/300 [01:06<00:00,  4.53it/s]\n",
            "                 Class     Images  Instances      Box(P          R      mAP50  mAP50-95): 100%|██████████| 10/10 [00:01<00:00,  5.51it/s]\n"
          ]
        },
        {
          "output_type": "stream",
          "name": "stdout",
          "text": [
            "                   all        150       1500      0.928      0.641      0.662      0.609\n",
            "\n",
            "      Epoch    GPU_mem   box_loss   cls_loss   dfl_loss  Instances       Size\n"
          ]
        },
        {
          "output_type": "stream",
          "name": "stderr",
          "text": [
            "     40/100      1.37G     0.4664     0.3041     0.7981         78        640: 100%|██████████| 300/300 [01:08<00:00,  4.36it/s]\n",
            "                 Class     Images  Instances      Box(P          R      mAP50  mAP50-95): 100%|██████████| 10/10 [00:01<00:00,  7.02it/s]"
          ]
        },
        {
          "output_type": "stream",
          "name": "stdout",
          "text": [
            "                   all        150       1500      0.954      0.626      0.701      0.641\n"
          ]
        },
        {
          "output_type": "stream",
          "name": "stderr",
          "text": [
            "\n"
          ]
        },
        {
          "output_type": "stream",
          "name": "stdout",
          "text": [
            "\n",
            "      Epoch    GPU_mem   box_loss   cls_loss   dfl_loss  Instances       Size\n"
          ]
        },
        {
          "output_type": "stream",
          "name": "stderr",
          "text": [
            "     41/100       1.4G     0.4637      0.301     0.7977         96        640: 100%|██████████| 300/300 [01:08<00:00,  4.36it/s]\n",
            "                 Class     Images  Instances      Box(P          R      mAP50  mAP50-95): 100%|██████████| 10/10 [00:01<00:00,  7.23it/s]"
          ]
        },
        {
          "output_type": "stream",
          "name": "stdout",
          "text": [
            "                   all        150       1500      0.973      0.603      0.702      0.634\n"
          ]
        },
        {
          "output_type": "stream",
          "name": "stderr",
          "text": [
            "\n"
          ]
        },
        {
          "output_type": "stream",
          "name": "stdout",
          "text": [
            "\n",
            "      Epoch    GPU_mem   box_loss   cls_loss   dfl_loss  Instances       Size\n"
          ]
        },
        {
          "output_type": "stream",
          "name": "stderr",
          "text": [
            "     42/100      1.37G     0.4612     0.3008     0.7998        122        640: 100%|██████████| 300/300 [01:10<00:00,  4.25it/s]\n",
            "                 Class     Images  Instances      Box(P          R      mAP50  mAP50-95): 100%|██████████| 10/10 [00:01<00:00,  7.25it/s]"
          ]
        },
        {
          "output_type": "stream",
          "name": "stdout",
          "text": [
            "                   all        150       1500      0.966      0.602      0.668      0.605\n"
          ]
        },
        {
          "output_type": "stream",
          "name": "stderr",
          "text": [
            "\n"
          ]
        },
        {
          "output_type": "stream",
          "name": "stdout",
          "text": [
            "\n",
            "      Epoch    GPU_mem   box_loss   cls_loss   dfl_loss  Instances       Size\n"
          ]
        },
        {
          "output_type": "stream",
          "name": "stderr",
          "text": [
            "     43/100       1.4G     0.4615      0.304     0.7964         84        640: 100%|██████████| 300/300 [01:09<00:00,  4.32it/s]\n",
            "                 Class     Images  Instances      Box(P          R      mAP50  mAP50-95): 100%|██████████| 10/10 [00:01<00:00,  6.91it/s]"
          ]
        },
        {
          "output_type": "stream",
          "name": "stdout",
          "text": [
            "                   all        150       1500      0.973      0.598      0.688      0.623\n"
          ]
        },
        {
          "output_type": "stream",
          "name": "stderr",
          "text": [
            "\n"
          ]
        },
        {
          "output_type": "stream",
          "name": "stdout",
          "text": [
            "\n",
            "      Epoch    GPU_mem   box_loss   cls_loss   dfl_loss  Instances       Size\n"
          ]
        },
        {
          "output_type": "stream",
          "name": "stderr",
          "text": [
            "     44/100      1.39G     0.4658     0.3027     0.7996         72        640: 100%|██████████| 300/300 [01:07<00:00,  4.46it/s]\n",
            "                 Class     Images  Instances      Box(P          R      mAP50  mAP50-95): 100%|██████████| 10/10 [00:02<00:00,  3.87it/s]\n"
          ]
        },
        {
          "output_type": "stream",
          "name": "stdout",
          "text": [
            "                   all        150       1500      0.956      0.597      0.699      0.635\n",
            "\n",
            "      Epoch    GPU_mem   box_loss   cls_loss   dfl_loss  Instances       Size\n"
          ]
        },
        {
          "output_type": "stream",
          "name": "stderr",
          "text": [
            "     45/100       1.4G     0.4581     0.3006     0.7977         96        640: 100%|██████████| 300/300 [01:06<00:00,  4.54it/s]\n",
            "                 Class     Images  Instances      Box(P          R      mAP50  mAP50-95): 100%|██████████| 10/10 [00:02<00:00,  4.09it/s]"
          ]
        },
        {
          "output_type": "stream",
          "name": "stdout",
          "text": [
            "                   all        150       1500       0.97      0.607      0.979       0.86\n"
          ]
        },
        {
          "output_type": "stream",
          "name": "stderr",
          "text": [
            "\n"
          ]
        },
        {
          "output_type": "stream",
          "name": "stdout",
          "text": [
            "\n",
            "      Epoch    GPU_mem   box_loss   cls_loss   dfl_loss  Instances       Size\n"
          ]
        },
        {
          "output_type": "stream",
          "name": "stderr",
          "text": [
            "     46/100      1.41G     0.4571     0.2982     0.7988         79        640: 100%|██████████| 300/300 [01:07<00:00,  4.41it/s]\n",
            "                 Class     Images  Instances      Box(P          R      mAP50  mAP50-95): 100%|██████████| 10/10 [00:01<00:00,  7.24it/s]"
          ]
        },
        {
          "output_type": "stream",
          "name": "stdout",
          "text": [
            "                   all        150       1500      0.948      0.626      0.659      0.605\n"
          ]
        },
        {
          "output_type": "stream",
          "name": "stderr",
          "text": [
            "\n"
          ]
        },
        {
          "output_type": "stream",
          "name": "stdout",
          "text": [
            "\n",
            "      Epoch    GPU_mem   box_loss   cls_loss   dfl_loss  Instances       Size\n"
          ]
        },
        {
          "output_type": "stream",
          "name": "stderr",
          "text": [
            "     47/100       1.4G     0.4487     0.2914      0.794         86        640: 100%|██████████| 300/300 [01:07<00:00,  4.42it/s]\n",
            "                 Class     Images  Instances      Box(P          R      mAP50  mAP50-95): 100%|██████████| 10/10 [00:01<00:00,  7.00it/s]"
          ]
        },
        {
          "output_type": "stream",
          "name": "stdout",
          "text": [
            "                   all        150       1500      0.937      0.614      0.657      0.602\n"
          ]
        },
        {
          "output_type": "stream",
          "name": "stderr",
          "text": [
            "\n"
          ]
        },
        {
          "output_type": "stream",
          "name": "stdout",
          "text": [
            "\n",
            "      Epoch    GPU_mem   box_loss   cls_loss   dfl_loss  Instances       Size\n"
          ]
        },
        {
          "output_type": "stream",
          "name": "stderr",
          "text": [
            "     48/100      1.36G     0.4482     0.2932      0.795        139        640: 100%|██████████| 300/300 [01:10<00:00,  4.23it/s]\n",
            "                 Class     Images  Instances      Box(P          R      mAP50  mAP50-95): 100%|██████████| 10/10 [00:01<00:00,  6.85it/s]"
          ]
        },
        {
          "output_type": "stream",
          "name": "stdout",
          "text": [
            "                   all        150       1500      0.938      0.638      0.657      0.605\n"
          ]
        },
        {
          "output_type": "stream",
          "name": "stderr",
          "text": [
            "\n"
          ]
        },
        {
          "output_type": "stream",
          "name": "stdout",
          "text": [
            "\n",
            "      Epoch    GPU_mem   box_loss   cls_loss   dfl_loss  Instances       Size\n"
          ]
        },
        {
          "output_type": "stream",
          "name": "stderr",
          "text": [
            "     49/100      1.41G     0.4514     0.2924     0.7961        166        640: 100%|██████████| 300/300 [01:11<00:00,  4.20it/s]\n",
            "                 Class     Images  Instances      Box(P          R      mAP50  mAP50-95): 100%|██████████| 10/10 [00:01<00:00,  6.17it/s]"
          ]
        },
        {
          "output_type": "stream",
          "name": "stdout",
          "text": [
            "                   all        150       1500      0.976      0.618      0.816      0.713\n"
          ]
        },
        {
          "output_type": "stream",
          "name": "stderr",
          "text": [
            "\n"
          ]
        },
        {
          "output_type": "stream",
          "name": "stdout",
          "text": [
            "\n",
            "      Epoch    GPU_mem   box_loss   cls_loss   dfl_loss  Instances       Size\n"
          ]
        },
        {
          "output_type": "stream",
          "name": "stderr",
          "text": [
            "     50/100      1.43G     0.4485     0.2905     0.7954         86        640: 100%|██████████| 300/300 [01:08<00:00,  4.38it/s]\n",
            "                 Class     Images  Instances      Box(P          R      mAP50  mAP50-95): 100%|██████████| 10/10 [00:02<00:00,  3.82it/s]"
          ]
        },
        {
          "output_type": "stream",
          "name": "stdout",
          "text": [
            "                   all        150       1500      0.985      0.604      0.675      0.616\n"
          ]
        },
        {
          "output_type": "stream",
          "name": "stderr",
          "text": [
            "\n"
          ]
        },
        {
          "output_type": "stream",
          "name": "stdout",
          "text": [
            "\n",
            "      Epoch    GPU_mem   box_loss   cls_loss   dfl_loss  Instances       Size\n"
          ]
        },
        {
          "output_type": "stream",
          "name": "stderr",
          "text": [
            "     51/100      1.37G     0.4484      0.292      0.795         93        640: 100%|██████████| 300/300 [01:05<00:00,  4.58it/s]\n",
            "                 Class     Images  Instances      Box(P          R      mAP50  mAP50-95): 100%|██████████| 10/10 [00:02<00:00,  4.23it/s]"
          ]
        },
        {
          "output_type": "stream",
          "name": "stdout",
          "text": [
            "                   all        150       1500      0.971       0.63      0.697      0.631\n"
          ]
        },
        {
          "output_type": "stream",
          "name": "stderr",
          "text": [
            "\n"
          ]
        },
        {
          "output_type": "stream",
          "name": "stdout",
          "text": [
            "\n",
            "      Epoch    GPU_mem   box_loss   cls_loss   dfl_loss  Instances       Size\n"
          ]
        },
        {
          "output_type": "stream",
          "name": "stderr",
          "text": [
            "     52/100      1.41G      0.451     0.2947      0.796         95        640: 100%|██████████| 300/300 [01:08<00:00,  4.41it/s]\n",
            "                 Class     Images  Instances      Box(P          R      mAP50  mAP50-95): 100%|██████████| 10/10 [00:01<00:00,  6.90it/s]"
          ]
        },
        {
          "output_type": "stream",
          "name": "stdout",
          "text": [
            "                   all        150       1500      0.715      0.981      0.978      0.794\n"
          ]
        },
        {
          "output_type": "stream",
          "name": "stderr",
          "text": [
            "\n"
          ]
        },
        {
          "output_type": "stream",
          "name": "stdout",
          "text": [
            "\n",
            "      Epoch    GPU_mem   box_loss   cls_loss   dfl_loss  Instances       Size\n"
          ]
        },
        {
          "output_type": "stream",
          "name": "stderr",
          "text": [
            "     53/100      1.44G     0.4433     0.2917      0.793         75        640: 100%|██████████| 300/300 [01:09<00:00,  4.30it/s]\n",
            "                 Class     Images  Instances      Box(P          R      mAP50  mAP50-95): 100%|██████████| 10/10 [00:01<00:00,  7.29it/s]"
          ]
        },
        {
          "output_type": "stream",
          "name": "stdout",
          "text": [
            "                   all        150       1500      0.948      0.602      0.674      0.618\n"
          ]
        },
        {
          "output_type": "stream",
          "name": "stderr",
          "text": [
            "\n"
          ]
        },
        {
          "output_type": "stream",
          "name": "stdout",
          "text": [
            "\n",
            "      Epoch    GPU_mem   box_loss   cls_loss   dfl_loss  Instances       Size\n"
          ]
        },
        {
          "output_type": "stream",
          "name": "stderr",
          "text": [
            "     54/100      1.36G     0.4431     0.2879      0.795        125        640: 100%|██████████| 300/300 [01:09<00:00,  4.29it/s]\n",
            "                 Class     Images  Instances      Box(P          R      mAP50  mAP50-95): 100%|██████████| 10/10 [00:01<00:00,  7.03it/s]"
          ]
        },
        {
          "output_type": "stream",
          "name": "stdout",
          "text": [
            "                   all        150       1500      0.968      0.598      0.692      0.629\n"
          ]
        },
        {
          "output_type": "stream",
          "name": "stderr",
          "text": [
            "\n"
          ]
        },
        {
          "output_type": "stream",
          "name": "stdout",
          "text": [
            "\n",
            "      Epoch    GPU_mem   box_loss   cls_loss   dfl_loss  Instances       Size\n"
          ]
        },
        {
          "output_type": "stream",
          "name": "stderr",
          "text": [
            "     55/100      1.37G     0.4437     0.2882     0.7962        117        640: 100%|██████████| 300/300 [01:08<00:00,  4.39it/s]\n",
            "                 Class     Images  Instances      Box(P          R      mAP50  mAP50-95): 100%|██████████| 10/10 [00:02<00:00,  4.13it/s]"
          ]
        },
        {
          "output_type": "stream",
          "name": "stdout",
          "text": [
            "                   all        150       1500      0.951      0.627       0.66      0.604\n"
          ]
        },
        {
          "output_type": "stream",
          "name": "stderr",
          "text": [
            "\n"
          ]
        },
        {
          "output_type": "stream",
          "name": "stdout",
          "text": [
            "\n",
            "      Epoch    GPU_mem   box_loss   cls_loss   dfl_loss  Instances       Size\n"
          ]
        },
        {
          "output_type": "stream",
          "name": "stderr",
          "text": [
            "     56/100      1.45G     0.4416     0.2848     0.7962        118        640: 100%|██████████| 300/300 [01:06<00:00,  4.48it/s]\n",
            "                 Class     Images  Instances      Box(P          R      mAP50  mAP50-95): 100%|██████████| 10/10 [00:02<00:00,  4.26it/s]"
          ]
        },
        {
          "output_type": "stream",
          "name": "stdout",
          "text": [
            "                   all        150       1500      0.936      0.631      0.808      0.742\n"
          ]
        },
        {
          "output_type": "stream",
          "name": "stderr",
          "text": [
            "\n"
          ]
        },
        {
          "output_type": "stream",
          "name": "stdout",
          "text": [
            "\n",
            "      Epoch    GPU_mem   box_loss   cls_loss   dfl_loss  Instances       Size\n"
          ]
        },
        {
          "output_type": "stream",
          "name": "stderr",
          "text": [
            "     57/100      1.37G     0.4426     0.2853     0.7947        122        640: 100%|██████████| 300/300 [01:06<00:00,  4.54it/s]\n",
            "                 Class     Images  Instances      Box(P          R      mAP50  mAP50-95): 100%|██████████| 10/10 [00:01<00:00,  5.37it/s]"
          ]
        },
        {
          "output_type": "stream",
          "name": "stdout",
          "text": [
            "                   all        150       1500      0.971      0.626      0.982      0.861\n"
          ]
        },
        {
          "output_type": "stream",
          "name": "stderr",
          "text": [
            "\n"
          ]
        },
        {
          "output_type": "stream",
          "name": "stdout",
          "text": [
            "\n",
            "      Epoch    GPU_mem   box_loss   cls_loss   dfl_loss  Instances       Size\n"
          ]
        },
        {
          "output_type": "stream",
          "name": "stderr",
          "text": [
            "     58/100      1.37G     0.4389      0.283     0.7937        124        640: 100%|██████████| 300/300 [01:07<00:00,  4.43it/s]\n",
            "                 Class     Images  Instances      Box(P          R      mAP50  mAP50-95): 100%|██████████| 10/10 [00:01<00:00,  7.15it/s]"
          ]
        },
        {
          "output_type": "stream",
          "name": "stdout",
          "text": [
            "                   all        150       1500      0.837      0.649      0.979      0.854\n"
          ]
        },
        {
          "output_type": "stream",
          "name": "stderr",
          "text": [
            "\n"
          ]
        },
        {
          "output_type": "stream",
          "name": "stdout",
          "text": [
            "\n",
            "      Epoch    GPU_mem   box_loss   cls_loss   dfl_loss  Instances       Size\n"
          ]
        },
        {
          "output_type": "stream",
          "name": "stderr",
          "text": [
            "     59/100      1.48G     0.4385     0.2823     0.7947        114        640: 100%|██████████| 300/300 [01:09<00:00,  4.32it/s]\n",
            "                 Class     Images  Instances      Box(P          R      mAP50  mAP50-95): 100%|██████████| 10/10 [00:01<00:00,  6.80it/s]"
          ]
        },
        {
          "output_type": "stream",
          "name": "stdout",
          "text": [
            "                   all        150       1500       0.83      0.649      0.981      0.859\n"
          ]
        },
        {
          "output_type": "stream",
          "name": "stderr",
          "text": [
            "\n"
          ]
        },
        {
          "output_type": "stream",
          "name": "stdout",
          "text": [
            "\n",
            "      Epoch    GPU_mem   box_loss   cls_loss   dfl_loss  Instances       Size\n"
          ]
        },
        {
          "output_type": "stream",
          "name": "stderr",
          "text": [
            "     60/100      1.43G     0.4386     0.2793     0.7946        126        640: 100%|██████████| 300/300 [01:08<00:00,  4.38it/s]\n",
            "                 Class     Images  Instances      Box(P          R      mAP50  mAP50-95): 100%|██████████| 10/10 [00:01<00:00,  7.09it/s]"
          ]
        },
        {
          "output_type": "stream",
          "name": "stdout",
          "text": [
            "                   all        150       1500      0.844      0.649      0.977      0.858\n"
          ]
        },
        {
          "output_type": "stream",
          "name": "stderr",
          "text": [
            "\n"
          ]
        },
        {
          "output_type": "stream",
          "name": "stdout",
          "text": [
            "\n",
            "      Epoch    GPU_mem   box_loss   cls_loss   dfl_loss  Instances       Size\n"
          ]
        },
        {
          "output_type": "stream",
          "name": "stderr",
          "text": [
            "     61/100      1.42G     0.4353     0.2797     0.7966        106        640: 100%|██████████| 300/300 [01:08<00:00,  4.38it/s]\n",
            "                 Class     Images  Instances      Box(P          R      mAP50  mAP50-95): 100%|██████████| 10/10 [00:02<00:00,  3.95it/s]"
          ]
        },
        {
          "output_type": "stream",
          "name": "stdout",
          "text": [
            "                   all        150       1500      0.811      0.983      0.978      0.859\n"
          ]
        },
        {
          "output_type": "stream",
          "name": "stderr",
          "text": [
            "\n"
          ]
        },
        {
          "output_type": "stream",
          "name": "stdout",
          "text": [
            "\n",
            "      Epoch    GPU_mem   box_loss   cls_loss   dfl_loss  Instances       Size\n"
          ]
        },
        {
          "output_type": "stream",
          "name": "stderr",
          "text": [
            "     62/100      1.42G     0.4351     0.2771     0.7927         64        640: 100%|██████████| 300/300 [01:05<00:00,  4.57it/s]\n",
            "                 Class     Images  Instances      Box(P          R      mAP50  mAP50-95): 100%|██████████| 10/10 [00:02<00:00,  4.46it/s]"
          ]
        },
        {
          "output_type": "stream",
          "name": "stdout",
          "text": [
            "                   all        150       1500      0.708      0.982      0.976      0.895\n"
          ]
        },
        {
          "output_type": "stream",
          "name": "stderr",
          "text": [
            "\n"
          ]
        },
        {
          "output_type": "stream",
          "name": "stdout",
          "text": [
            "\n",
            "      Epoch    GPU_mem   box_loss   cls_loss   dfl_loss  Instances       Size\n"
          ]
        },
        {
          "output_type": "stream",
          "name": "stderr",
          "text": [
            "     63/100      1.48G     0.4292     0.2791     0.7918        111        640: 100%|██████████| 300/300 [01:10<00:00,  4.27it/s]\n",
            "                 Class     Images  Instances      Box(P          R      mAP50  mAP50-95): 100%|██████████| 10/10 [00:01<00:00,  7.27it/s]"
          ]
        },
        {
          "output_type": "stream",
          "name": "stdout",
          "text": [
            "                   all        150       1500      0.643      0.948      0.819      0.753\n"
          ]
        },
        {
          "output_type": "stream",
          "name": "stderr",
          "text": [
            "\n"
          ]
        },
        {
          "output_type": "stream",
          "name": "stdout",
          "text": [
            "\n",
            "      Epoch    GPU_mem   box_loss   cls_loss   dfl_loss  Instances       Size\n"
          ]
        },
        {
          "output_type": "stream",
          "name": "stderr",
          "text": [
            "     64/100      1.54G     0.4305     0.2768     0.7925        105        640: 100%|██████████| 300/300 [01:08<00:00,  4.39it/s]\n",
            "                 Class     Images  Instances      Box(P          R      mAP50  mAP50-95): 100%|██████████| 10/10 [00:01<00:00,  7.47it/s]"
          ]
        },
        {
          "output_type": "stream",
          "name": "stdout",
          "text": [
            "                   all        150       1500      0.683      0.982      0.978      0.894\n"
          ]
        },
        {
          "output_type": "stream",
          "name": "stderr",
          "text": [
            "\n"
          ]
        },
        {
          "output_type": "stream",
          "name": "stdout",
          "text": [
            "\n",
            "      Epoch    GPU_mem   box_loss   cls_loss   dfl_loss  Instances       Size\n"
          ]
        },
        {
          "output_type": "stream",
          "name": "stderr",
          "text": [
            "     65/100      1.37G     0.4297     0.2765     0.7926         77        640: 100%|██████████| 300/300 [01:08<00:00,  4.36it/s]\n",
            "                 Class     Images  Instances      Box(P          R      mAP50  mAP50-95): 100%|██████████| 10/10 [00:02<00:00,  4.51it/s]"
          ]
        },
        {
          "output_type": "stream",
          "name": "stdout",
          "text": [
            "                   all        150       1500      0.939      0.623      0.724      0.671\n"
          ]
        },
        {
          "output_type": "stream",
          "name": "stderr",
          "text": [
            "\n"
          ]
        },
        {
          "output_type": "stream",
          "name": "stdout",
          "text": [
            "\n",
            "      Epoch    GPU_mem   box_loss   cls_loss   dfl_loss  Instances       Size\n"
          ]
        },
        {
          "output_type": "stream",
          "name": "stderr",
          "text": [
            "     66/100      1.39G     0.4243     0.2747     0.7942        105        640: 100%|██████████| 300/300 [01:12<00:00,  4.15it/s]\n",
            "                 Class     Images  Instances      Box(P          R      mAP50  mAP50-95): 100%|██████████| 10/10 [00:01<00:00,  7.17it/s]"
          ]
        },
        {
          "output_type": "stream",
          "name": "stdout",
          "text": [
            "                   all        150       1500      0.824       0.98      0.976      0.892\n"
          ]
        },
        {
          "output_type": "stream",
          "name": "stderr",
          "text": [
            "\n"
          ]
        },
        {
          "output_type": "stream",
          "name": "stdout",
          "text": [
            "\n",
            "      Epoch    GPU_mem   box_loss   cls_loss   dfl_loss  Instances       Size\n"
          ]
        },
        {
          "output_type": "stream",
          "name": "stderr",
          "text": [
            "     67/100      1.31G     0.4305     0.2733     0.7923        142        640: 100%|██████████| 300/300 [01:09<00:00,  4.32it/s]\n",
            "                 Class     Images  Instances      Box(P          R      mAP50  mAP50-95): 100%|██████████| 10/10 [00:01<00:00,  7.06it/s]"
          ]
        },
        {
          "output_type": "stream",
          "name": "stdout",
          "text": [
            "                   all        150       1500      0.741      0.984      0.975      0.893\n"
          ]
        },
        {
          "output_type": "stream",
          "name": "stderr",
          "text": [
            "\n"
          ]
        },
        {
          "output_type": "stream",
          "name": "stdout",
          "text": [
            "\n",
            "      Epoch    GPU_mem   box_loss   cls_loss   dfl_loss  Instances       Size\n"
          ]
        },
        {
          "output_type": "stream",
          "name": "stderr",
          "text": [
            "     68/100       1.4G     0.4244     0.2717     0.7927        128        640: 100%|██████████| 300/300 [01:10<00:00,  4.27it/s]\n",
            "                 Class     Images  Instances      Box(P          R      mAP50  mAP50-95): 100%|██████████| 10/10 [00:02<00:00,  3.67it/s]"
          ]
        },
        {
          "output_type": "stream",
          "name": "stdout",
          "text": [
            "                   all        150       1500      0.703      0.981      0.978      0.894\n"
          ]
        },
        {
          "output_type": "stream",
          "name": "stderr",
          "text": [
            "\n"
          ]
        },
        {
          "output_type": "stream",
          "name": "stdout",
          "text": [
            "\n",
            "      Epoch    GPU_mem   box_loss   cls_loss   dfl_loss  Instances       Size\n"
          ]
        },
        {
          "output_type": "stream",
          "name": "stderr",
          "text": [
            "     69/100      1.45G     0.4274     0.2736     0.7925        130        640: 100%|██████████| 300/300 [01:07<00:00,  4.46it/s]\n",
            "                 Class     Images  Instances      Box(P          R      mAP50  mAP50-95): 100%|██████████| 10/10 [00:02<00:00,  4.92it/s]"
          ]
        },
        {
          "output_type": "stream",
          "name": "stdout",
          "text": [
            "                   all        150       1500      0.959      0.614      0.758      0.692\n"
          ]
        },
        {
          "output_type": "stream",
          "name": "stderr",
          "text": [
            "\n"
          ]
        },
        {
          "output_type": "stream",
          "name": "stdout",
          "text": [
            "\n",
            "      Epoch    GPU_mem   box_loss   cls_loss   dfl_loss  Instances       Size\n"
          ]
        },
        {
          "output_type": "stream",
          "name": "stderr",
          "text": [
            "     70/100      1.31G      0.425     0.2707     0.7943        130        640: 100%|██████████| 300/300 [01:12<00:00,  4.13it/s]\n",
            "                 Class     Images  Instances      Box(P          R      mAP50  mAP50-95): 100%|██████████| 10/10 [00:02<00:00,  4.06it/s]"
          ]
        },
        {
          "output_type": "stream",
          "name": "stdout",
          "text": [
            "                   all        150       1500      0.527      0.636      0.754      0.694\n"
          ]
        },
        {
          "output_type": "stream",
          "name": "stderr",
          "text": [
            "\n"
          ]
        },
        {
          "output_type": "stream",
          "name": "stdout",
          "text": [
            "\n",
            "      Epoch    GPU_mem   box_loss   cls_loss   dfl_loss  Instances       Size\n"
          ]
        },
        {
          "output_type": "stream",
          "name": "stderr",
          "text": [
            "     71/100      1.51G     0.4263     0.2707     0.7925         85        640: 100%|██████████| 300/300 [01:06<00:00,  4.54it/s]\n",
            "                 Class     Images  Instances      Box(P          R      mAP50  mAP50-95): 100%|██████████| 10/10 [00:01<00:00,  5.66it/s]\n"
          ]
        },
        {
          "output_type": "stream",
          "name": "stdout",
          "text": [
            "                   all        150       1500      0.722      0.983      0.975      0.857\n",
            "\n",
            "      Epoch    GPU_mem   box_loss   cls_loss   dfl_loss  Instances       Size\n"
          ]
        },
        {
          "output_type": "stream",
          "name": "stderr",
          "text": [
            "     72/100      1.41G     0.4212     0.2679     0.7914        151        640: 100%|██████████| 300/300 [01:11<00:00,  4.18it/s]\n",
            "                 Class     Images  Instances      Box(P          R      mAP50  mAP50-95): 100%|██████████| 10/10 [00:01<00:00,  7.13it/s]"
          ]
        },
        {
          "output_type": "stream",
          "name": "stdout",
          "text": [
            "                   all        150       1500      0.818      0.968      0.976      0.897\n"
          ]
        },
        {
          "output_type": "stream",
          "name": "stderr",
          "text": [
            "\n"
          ]
        },
        {
          "output_type": "stream",
          "name": "stdout",
          "text": [
            "\n",
            "      Epoch    GPU_mem   box_loss   cls_loss   dfl_loss  Instances       Size\n"
          ]
        },
        {
          "output_type": "stream",
          "name": "stderr",
          "text": [
            "     73/100      1.46G     0.4198      0.268     0.7898        110        640: 100%|██████████| 300/300 [01:10<00:00,  4.29it/s]\n",
            "                 Class     Images  Instances      Box(P          R      mAP50  mAP50-95): 100%|██████████| 10/10 [00:01<00:00,  6.82it/s]"
          ]
        },
        {
          "output_type": "stream",
          "name": "stdout",
          "text": [
            "                   all        150       1500      0.785      0.981      0.977        0.9\n"
          ]
        },
        {
          "output_type": "stream",
          "name": "stderr",
          "text": [
            "\n"
          ]
        },
        {
          "output_type": "stream",
          "name": "stdout",
          "text": [
            "\n",
            "      Epoch    GPU_mem   box_loss   cls_loss   dfl_loss  Instances       Size\n"
          ]
        },
        {
          "output_type": "stream",
          "name": "stderr",
          "text": [
            "     74/100      1.37G     0.4173     0.2644     0.7914         97        640: 100%|██████████| 300/300 [01:13<00:00,  4.08it/s]\n",
            "                 Class     Images  Instances      Box(P          R      mAP50  mAP50-95): 100%|██████████| 10/10 [00:01<00:00,  6.97it/s]"
          ]
        },
        {
          "output_type": "stream",
          "name": "stdout",
          "text": [
            "                   all        150       1500      0.796      0.982      0.979        0.9\n"
          ]
        },
        {
          "output_type": "stream",
          "name": "stderr",
          "text": [
            "\n"
          ]
        },
        {
          "output_type": "stream",
          "name": "stdout",
          "text": [
            "\n",
            "      Epoch    GPU_mem   box_loss   cls_loss   dfl_loss  Instances       Size\n"
          ]
        },
        {
          "output_type": "stream",
          "name": "stderr",
          "text": [
            "     75/100       1.5G     0.4146     0.2654     0.7889        126        640: 100%|██████████| 300/300 [01:10<00:00,  4.27it/s]\n",
            "                 Class     Images  Instances      Box(P          R      mAP50  mAP50-95): 100%|██████████| 10/10 [00:01<00:00,  6.97it/s]"
          ]
        },
        {
          "output_type": "stream",
          "name": "stdout",
          "text": [
            "                   all        150       1500      0.829      0.974      0.979      0.892\n"
          ]
        },
        {
          "output_type": "stream",
          "name": "stderr",
          "text": [
            "\n"
          ]
        },
        {
          "output_type": "stream",
          "name": "stdout",
          "text": [
            "\n",
            "      Epoch    GPU_mem   box_loss   cls_loss   dfl_loss  Instances       Size\n"
          ]
        },
        {
          "output_type": "stream",
          "name": "stderr",
          "text": [
            "     76/100      1.41G     0.4181     0.2661     0.7896         71        640: 100%|██████████| 300/300 [01:10<00:00,  4.28it/s]\n",
            "                 Class     Images  Instances      Box(P          R      mAP50  mAP50-95): 100%|██████████| 10/10 [00:02<00:00,  3.38it/s]"
          ]
        },
        {
          "output_type": "stream",
          "name": "stdout",
          "text": [
            "                   all        150       1500      0.819      0.979      0.979      0.898\n"
          ]
        },
        {
          "output_type": "stream",
          "name": "stderr",
          "text": [
            "\n"
          ]
        },
        {
          "output_type": "stream",
          "name": "stdout",
          "text": [
            "\n",
            "      Epoch    GPU_mem   box_loss   cls_loss   dfl_loss  Instances       Size\n"
          ]
        },
        {
          "output_type": "stream",
          "name": "stderr",
          "text": [
            "     77/100      1.45G     0.4154      0.264     0.7905         90        640: 100%|██████████| 300/300 [01:08<00:00,  4.35it/s]\n",
            "                 Class     Images  Instances      Box(P          R      mAP50  mAP50-95): 100%|██████████| 10/10 [00:02<00:00,  3.90it/s]"
          ]
        },
        {
          "output_type": "stream",
          "name": "stdout",
          "text": [
            "                   all        150       1500      0.771      0.981       0.98      0.897\n"
          ]
        },
        {
          "output_type": "stream",
          "name": "stderr",
          "text": [
            "\n"
          ]
        },
        {
          "output_type": "stream",
          "name": "stdout",
          "text": [
            "\n",
            "      Epoch    GPU_mem   box_loss   cls_loss   dfl_loss  Instances       Size\n"
          ]
        },
        {
          "output_type": "stream",
          "name": "stderr",
          "text": [
            "     78/100      1.42G     0.4101      0.259     0.7918        146        640: 100%|██████████| 300/300 [01:06<00:00,  4.52it/s]\n",
            "                 Class     Images  Instances      Box(P          R      mAP50  mAP50-95): 100%|██████████| 10/10 [00:01<00:00,  6.27it/s]"
          ]
        },
        {
          "output_type": "stream",
          "name": "stdout",
          "text": [
            "                   all        150       1500      0.845      0.964      0.977      0.895\n"
          ]
        },
        {
          "output_type": "stream",
          "name": "stderr",
          "text": [
            "\n"
          ]
        },
        {
          "output_type": "stream",
          "name": "stdout",
          "text": [
            "\n",
            "      Epoch    GPU_mem   box_loss   cls_loss   dfl_loss  Instances       Size\n"
          ]
        },
        {
          "output_type": "stream",
          "name": "stderr",
          "text": [
            "     79/100      1.43G     0.4087     0.2579     0.7891        100        640: 100%|██████████| 300/300 [01:14<00:00,  4.01it/s]\n",
            "                 Class     Images  Instances      Box(P          R      mAP50  mAP50-95): 100%|██████████| 10/10 [00:01<00:00,  6.02it/s]"
          ]
        },
        {
          "output_type": "stream",
          "name": "stdout",
          "text": [
            "                   all        150       1500       0.87      0.977       0.98      0.893\n"
          ]
        },
        {
          "output_type": "stream",
          "name": "stderr",
          "text": [
            "\n"
          ]
        },
        {
          "output_type": "stream",
          "name": "stdout",
          "text": [
            "\n",
            "      Epoch    GPU_mem   box_loss   cls_loss   dfl_loss  Instances       Size\n"
          ]
        },
        {
          "output_type": "stream",
          "name": "stderr",
          "text": [
            "     80/100      1.37G     0.4128     0.2609     0.7892         97        640: 100%|██████████| 300/300 [01:09<00:00,  4.29it/s]\n",
            "                 Class     Images  Instances      Box(P          R      mAP50  mAP50-95): 100%|██████████| 10/10 [00:01<00:00,  6.92it/s]"
          ]
        },
        {
          "output_type": "stream",
          "name": "stdout",
          "text": [
            "                   all        150       1500      0.816      0.979      0.977      0.893\n"
          ]
        },
        {
          "output_type": "stream",
          "name": "stderr",
          "text": [
            "\n"
          ]
        },
        {
          "output_type": "stream",
          "name": "stdout",
          "text": [
            "\n",
            "      Epoch    GPU_mem   box_loss   cls_loss   dfl_loss  Instances       Size\n"
          ]
        },
        {
          "output_type": "stream",
          "name": "stderr",
          "text": [
            "     81/100       1.4G     0.4073     0.2568     0.7872         73        640: 100%|██████████| 300/300 [01:13<00:00,  4.08it/s]\n",
            "                 Class     Images  Instances      Box(P          R      mAP50  mAP50-95): 100%|██████████| 10/10 [00:01<00:00,  7.02it/s]"
          ]
        },
        {
          "output_type": "stream",
          "name": "stdout",
          "text": [
            "                   all        150       1500      0.822      0.977      0.976       0.89\n"
          ]
        },
        {
          "output_type": "stream",
          "name": "stderr",
          "text": [
            "\n"
          ]
        },
        {
          "output_type": "stream",
          "name": "stdout",
          "text": [
            "\n",
            "      Epoch    GPU_mem   box_loss   cls_loss   dfl_loss  Instances       Size\n"
          ]
        },
        {
          "output_type": "stream",
          "name": "stderr",
          "text": [
            "     82/100      1.41G     0.4092     0.2587     0.7897        113        640: 100%|██████████| 300/300 [01:09<00:00,  4.33it/s]\n",
            "                 Class     Images  Instances      Box(P          R      mAP50  mAP50-95): 100%|██████████| 10/10 [00:01<00:00,  6.82it/s]"
          ]
        },
        {
          "output_type": "stream",
          "name": "stdout",
          "text": [
            "                   all        150       1500      0.871      0.977      0.977      0.894\n"
          ]
        },
        {
          "output_type": "stream",
          "name": "stderr",
          "text": [
            "\n"
          ]
        },
        {
          "output_type": "stream",
          "name": "stdout",
          "text": [
            "\n",
            "      Epoch    GPU_mem   box_loss   cls_loss   dfl_loss  Instances       Size\n"
          ]
        },
        {
          "output_type": "stream",
          "name": "stderr",
          "text": [
            "     83/100      1.31G     0.4053     0.2556     0.7901         85        640: 100%|██████████| 300/300 [01:12<00:00,  4.12it/s]\n",
            "                 Class     Images  Instances      Box(P          R      mAP50  mAP50-95): 100%|██████████| 10/10 [00:01<00:00,  6.84it/s]"
          ]
        },
        {
          "output_type": "stream",
          "name": "stdout",
          "text": [
            "                   all        150       1500      0.865      0.966      0.973      0.895\n"
          ]
        },
        {
          "output_type": "stream",
          "name": "stderr",
          "text": [
            "\n"
          ]
        },
        {
          "output_type": "stream",
          "name": "stdout",
          "text": [
            "\n",
            "      Epoch    GPU_mem   box_loss   cls_loss   dfl_loss  Instances       Size\n"
          ]
        },
        {
          "output_type": "stream",
          "name": "stderr",
          "text": [
            "     84/100      1.32G     0.4053     0.2557     0.7896         81        640: 100%|██████████| 300/300 [01:09<00:00,  4.30it/s]\n",
            "                 Class     Images  Instances      Box(P          R      mAP50  mAP50-95): 100%|██████████| 10/10 [00:01<00:00,  6.90it/s]"
          ]
        },
        {
          "output_type": "stream",
          "name": "stdout",
          "text": [
            "                   all        150       1500      0.879      0.976      0.976      0.898\n"
          ]
        },
        {
          "output_type": "stream",
          "name": "stderr",
          "text": [
            "\n"
          ]
        },
        {
          "output_type": "stream",
          "name": "stdout",
          "text": [
            "\n",
            "      Epoch    GPU_mem   box_loss   cls_loss   dfl_loss  Instances       Size\n"
          ]
        },
        {
          "output_type": "stream",
          "name": "stderr",
          "text": [
            "     85/100      1.45G     0.4045     0.2557     0.7899         83        640: 100%|██████████| 300/300 [01:13<00:00,  4.09it/s]\n",
            "                 Class     Images  Instances      Box(P          R      mAP50  mAP50-95): 100%|██████████| 10/10 [00:01<00:00,  7.05it/s]"
          ]
        },
        {
          "output_type": "stream",
          "name": "stdout",
          "text": [
            "                   all        150       1500      0.852      0.964      0.975      0.891\n"
          ]
        },
        {
          "output_type": "stream",
          "name": "stderr",
          "text": [
            "\n"
          ]
        },
        {
          "output_type": "stream",
          "name": "stdout",
          "text": [
            "\n",
            "      Epoch    GPU_mem   box_loss   cls_loss   dfl_loss  Instances       Size\n"
          ]
        },
        {
          "output_type": "stream",
          "name": "stderr",
          "text": [
            "     86/100      1.41G     0.3994     0.2508     0.7891         88        640: 100%|██████████| 300/300 [01:07<00:00,  4.45it/s]\n",
            "                 Class     Images  Instances      Box(P          R      mAP50  mAP50-95): 100%|██████████| 10/10 [00:02<00:00,  3.75it/s]\n"
          ]
        },
        {
          "output_type": "stream",
          "name": "stdout",
          "text": [
            "                   all        150       1500       0.86      0.964      0.973      0.893\n",
            "\n",
            "      Epoch    GPU_mem   box_loss   cls_loss   dfl_loss  Instances       Size\n"
          ]
        },
        {
          "output_type": "stream",
          "name": "stderr",
          "text": [
            "     87/100      1.42G     0.4018     0.2532     0.7882         55        640: 100%|██████████| 300/300 [01:05<00:00,  4.56it/s]\n",
            "                 Class     Images  Instances      Box(P          R      mAP50  mAP50-95): 100%|██████████| 10/10 [00:02<00:00,  3.87it/s]"
          ]
        },
        {
          "output_type": "stream",
          "name": "stdout",
          "text": [
            "                   all        150       1500      0.855      0.977      0.974      0.895\n"
          ]
        },
        {
          "output_type": "stream",
          "name": "stderr",
          "text": [
            "\n"
          ]
        },
        {
          "output_type": "stream",
          "name": "stdout",
          "text": [
            "\n",
            "      Epoch    GPU_mem   box_loss   cls_loss   dfl_loss  Instances       Size\n"
          ]
        },
        {
          "output_type": "stream",
          "name": "stderr",
          "text": [
            "     88/100      1.36G     0.4008     0.2534     0.7873        149        640: 100%|██████████| 300/300 [01:10<00:00,  4.26it/s]\n",
            "                 Class     Images  Instances      Box(P          R      mAP50  mAP50-95): 100%|██████████| 10/10 [00:01<00:00,  7.37it/s]"
          ]
        },
        {
          "output_type": "stream",
          "name": "stdout",
          "text": [
            "                   all        150       1500      0.852      0.979      0.976        0.9\n"
          ]
        },
        {
          "output_type": "stream",
          "name": "stderr",
          "text": [
            "\n"
          ]
        },
        {
          "output_type": "stream",
          "name": "stdout",
          "text": [
            "\n",
            "      Epoch    GPU_mem   box_loss   cls_loss   dfl_loss  Instances       Size\n"
          ]
        },
        {
          "output_type": "stream",
          "name": "stderr",
          "text": [
            "     89/100      1.43G     0.3992     0.2497     0.7884        102        640: 100%|██████████| 300/300 [01:09<00:00,  4.33it/s]\n",
            "                 Class     Images  Instances      Box(P          R      mAP50  mAP50-95): 100%|██████████| 10/10 [00:01<00:00,  6.89it/s]"
          ]
        },
        {
          "output_type": "stream",
          "name": "stdout",
          "text": [
            "                   all        150       1500      0.846      0.966       0.97      0.896\n"
          ]
        },
        {
          "output_type": "stream",
          "name": "stderr",
          "text": [
            "\n"
          ]
        },
        {
          "output_type": "stream",
          "name": "stdout",
          "text": [
            "\n",
            "      Epoch    GPU_mem   box_loss   cls_loss   dfl_loss  Instances       Size\n"
          ]
        },
        {
          "output_type": "stream",
          "name": "stderr",
          "text": [
            "     90/100      1.39G     0.3965     0.2491     0.7877         77        640: 100%|██████████| 300/300 [01:11<00:00,  4.20it/s]\n",
            "                 Class     Images  Instances      Box(P          R      mAP50  mAP50-95): 100%|██████████| 10/10 [00:01<00:00,  7.29it/s]"
          ]
        },
        {
          "output_type": "stream",
          "name": "stdout",
          "text": [
            "                   all        150       1500      0.831      0.967      0.974      0.897\n"
          ]
        },
        {
          "output_type": "stream",
          "name": "stderr",
          "text": [
            "\n"
          ]
        },
        {
          "output_type": "stream",
          "name": "stdout",
          "text": [
            "Closing dataloader mosaic\n",
            "\u001b[34m\u001b[1malbumentations: \u001b[0mBlur(p=0.01, blur_limit=(3, 7)), MedianBlur(p=0.01, blur_limit=(3, 7)), ToGray(p=0.01, num_output_channels=3, method='weighted_average'), CLAHE(p=0.01, clip_limit=(1.0, 4.0), tile_grid_size=(8, 8))\n",
            "\n",
            "      Epoch    GPU_mem   box_loss   cls_loss   dfl_loss  Instances       Size\n"
          ]
        },
        {
          "output_type": "stream",
          "name": "stderr",
          "text": [
            "     91/100       1.3G     0.3827     0.2366     0.7794         78        640: 100%|██████████| 300/300 [01:06<00:00,  4.48it/s]\n",
            "                 Class     Images  Instances      Box(P          R      mAP50  mAP50-95): 100%|██████████| 10/10 [00:01<00:00,  5.27it/s]"
          ]
        },
        {
          "output_type": "stream",
          "name": "stdout",
          "text": [
            "                   all        150       1500      0.867      0.962      0.974      0.891\n"
          ]
        },
        {
          "output_type": "stream",
          "name": "stderr",
          "text": [
            "\n"
          ]
        },
        {
          "output_type": "stream",
          "name": "stdout",
          "text": [
            "\n",
            "      Epoch    GPU_mem   box_loss   cls_loss   dfl_loss  Instances       Size\n"
          ]
        },
        {
          "output_type": "stream",
          "name": "stderr",
          "text": [
            "     92/100      1.26G     0.3774     0.2334       0.78         86        640: 100%|██████████| 300/300 [01:08<00:00,  4.37it/s]\n",
            "                 Class     Images  Instances      Box(P          R      mAP50  mAP50-95): 100%|██████████| 10/10 [00:01<00:00,  6.17it/s]"
          ]
        },
        {
          "output_type": "stream",
          "name": "stdout",
          "text": [
            "                   all        150       1500      0.852      0.965      0.971      0.888\n"
          ]
        },
        {
          "output_type": "stream",
          "name": "stderr",
          "text": [
            "\n"
          ]
        },
        {
          "output_type": "stream",
          "name": "stdout",
          "text": [
            "\n",
            "      Epoch    GPU_mem   box_loss   cls_loss   dfl_loss  Instances       Size\n"
          ]
        },
        {
          "output_type": "stream",
          "name": "stderr",
          "text": [
            "     93/100      1.26G     0.3724     0.2306     0.7804         64        640: 100%|██████████| 300/300 [01:04<00:00,  4.66it/s]\n",
            "                 Class     Images  Instances      Box(P          R      mAP50  mAP50-95): 100%|██████████| 10/10 [00:01<00:00,  5.19it/s]"
          ]
        },
        {
          "output_type": "stream",
          "name": "stdout",
          "text": [
            "                   all        150       1500      0.826      0.981      0.977      0.898\n"
          ]
        },
        {
          "output_type": "stream",
          "name": "stderr",
          "text": [
            "\n"
          ]
        },
        {
          "output_type": "stream",
          "name": "stdout",
          "text": [
            "\n",
            "      Epoch    GPU_mem   box_loss   cls_loss   dfl_loss  Instances       Size\n"
          ]
        },
        {
          "output_type": "stream",
          "name": "stderr",
          "text": [
            "     94/100      1.26G     0.3718     0.2292     0.7799         79        640: 100%|██████████| 300/300 [01:09<00:00,  4.30it/s]\n",
            "                 Class     Images  Instances      Box(P          R      mAP50  mAP50-95): 100%|██████████| 10/10 [00:01<00:00,  7.21it/s]"
          ]
        },
        {
          "output_type": "stream",
          "name": "stdout",
          "text": [
            "                   all        150       1500      0.878      0.973      0.976      0.896\n"
          ]
        },
        {
          "output_type": "stream",
          "name": "stderr",
          "text": [
            "\n"
          ]
        },
        {
          "output_type": "stream",
          "name": "stdout",
          "text": [
            "\n",
            "      Epoch    GPU_mem   box_loss   cls_loss   dfl_loss  Instances       Size\n"
          ]
        },
        {
          "output_type": "stream",
          "name": "stderr",
          "text": [
            "     95/100      1.26G     0.3693     0.2273     0.7784         75        640: 100%|██████████| 300/300 [01:07<00:00,  4.48it/s]\n",
            "                 Class     Images  Instances      Box(P          R      mAP50  mAP50-95): 100%|██████████| 10/10 [00:01<00:00,  7.11it/s]"
          ]
        },
        {
          "output_type": "stream",
          "name": "stdout",
          "text": [
            "                   all        150       1500      0.866      0.978       0.98      0.902\n"
          ]
        },
        {
          "output_type": "stream",
          "name": "stderr",
          "text": [
            "\n"
          ]
        },
        {
          "output_type": "stream",
          "name": "stdout",
          "text": [
            "\n",
            "      Epoch    GPU_mem   box_loss   cls_loss   dfl_loss  Instances       Size\n"
          ]
        },
        {
          "output_type": "stream",
          "name": "stderr",
          "text": [
            "     96/100      1.26G     0.3711     0.2265     0.7804         74        640: 100%|██████████| 300/300 [01:04<00:00,  4.64it/s]\n",
            "                 Class     Images  Instances      Box(P          R      mAP50  mAP50-95): 100%|██████████| 10/10 [00:02<00:00,  4.26it/s]"
          ]
        },
        {
          "output_type": "stream",
          "name": "stdout",
          "text": [
            "                   all        150       1500      0.862      0.979      0.979      0.901\n"
          ]
        },
        {
          "output_type": "stream",
          "name": "stderr",
          "text": [
            "\n"
          ]
        },
        {
          "output_type": "stream",
          "name": "stdout",
          "text": [
            "\n",
            "      Epoch    GPU_mem   box_loss   cls_loss   dfl_loss  Instances       Size\n"
          ]
        },
        {
          "output_type": "stream",
          "name": "stderr",
          "text": [
            "     97/100      1.26G     0.3664     0.2252     0.7768         69        640: 100%|██████████| 300/300 [01:07<00:00,  4.41it/s]\n",
            "                 Class     Images  Instances      Box(P          R      mAP50  mAP50-95): 100%|██████████| 10/10 [00:01<00:00,  7.10it/s]"
          ]
        },
        {
          "output_type": "stream",
          "name": "stdout",
          "text": [
            "                   all        150       1500      0.892      0.963      0.978      0.901\n"
          ]
        },
        {
          "output_type": "stream",
          "name": "stderr",
          "text": [
            "\n"
          ]
        },
        {
          "output_type": "stream",
          "name": "stdout",
          "text": [
            "\n",
            "      Epoch    GPU_mem   box_loss   cls_loss   dfl_loss  Instances       Size\n"
          ]
        },
        {
          "output_type": "stream",
          "name": "stderr",
          "text": [
            "     98/100      1.26G     0.3664     0.2243     0.7789         90        640: 100%|██████████| 300/300 [01:05<00:00,  4.55it/s]\n",
            "                 Class     Images  Instances      Box(P          R      mAP50  mAP50-95): 100%|██████████| 10/10 [00:01<00:00,  5.21it/s]"
          ]
        },
        {
          "output_type": "stream",
          "name": "stdout",
          "text": [
            "                   all        150       1500      0.882      0.963      0.976      0.893\n"
          ]
        },
        {
          "output_type": "stream",
          "name": "stderr",
          "text": [
            "\n"
          ]
        },
        {
          "output_type": "stream",
          "name": "stdout",
          "text": [
            "\n",
            "      Epoch    GPU_mem   box_loss   cls_loss   dfl_loss  Instances       Size\n"
          ]
        },
        {
          "output_type": "stream",
          "name": "stderr",
          "text": [
            "     99/100      1.26G     0.3638     0.2215     0.7798         67        640: 100%|██████████| 300/300 [01:08<00:00,  4.39it/s]\n",
            "                 Class     Images  Instances      Box(P          R      mAP50  mAP50-95): 100%|██████████| 10/10 [00:02<00:00,  4.06it/s]"
          ]
        },
        {
          "output_type": "stream",
          "name": "stdout",
          "text": [
            "                   all        150       1500      0.866      0.965      0.977      0.896\n"
          ]
        },
        {
          "output_type": "stream",
          "name": "stderr",
          "text": [
            "\n"
          ]
        },
        {
          "output_type": "stream",
          "name": "stdout",
          "text": [
            "\n",
            "      Epoch    GPU_mem   box_loss   cls_loss   dfl_loss  Instances       Size\n"
          ]
        },
        {
          "output_type": "stream",
          "name": "stderr",
          "text": [
            "    100/100      1.26G     0.3655     0.2218     0.7777        100        640: 100%|██████████| 300/300 [01:04<00:00,  4.63it/s]\n",
            "                 Class     Images  Instances      Box(P          R      mAP50  mAP50-95): 100%|██████████| 10/10 [00:01<00:00,  7.05it/s]"
          ]
        },
        {
          "output_type": "stream",
          "name": "stdout",
          "text": [
            "                   all        150       1500      0.867      0.964      0.977      0.894\n"
          ]
        },
        {
          "output_type": "stream",
          "name": "stderr",
          "text": [
            "\n"
          ]
        },
        {
          "output_type": "stream",
          "name": "stdout",
          "text": [
            "\n",
            "100 epochs completed in 1.998 hours.\n",
            "Optimizer stripped from runs/detect/train/weights/last.pt, 5.5MB\n",
            "Optimizer stripped from runs/detect/train/weights/best.pt, 5.5MB\n",
            "\n",
            "Validating runs/detect/train/weights/best.pt...\n",
            "Ultralytics 8.3.73 🚀 Python-3.11.11 torch-2.5.1+cu124 CUDA:0 (Tesla T4, 15095MiB)\n",
            "YOLO11n summary (fused): 238 layers, 2,582,737 parameters, 0 gradients, 6.3 GFLOPs\n"
          ]
        },
        {
          "output_type": "stream",
          "name": "stderr",
          "text": [
            "                 Class     Images  Instances      Box(P          R      mAP50  mAP50-95): 100%|██████████| 10/10 [00:04<00:00,  2.01it/s]\n"
          ]
        },
        {
          "output_type": "stream",
          "name": "stdout",
          "text": [
            "                   all        150       1500      0.866      0.978       0.98      0.902\n",
            "                   bus          1          1      0.852          1      0.995      0.895\n",
            "                   car        150       1473      0.905      0.973      0.987      0.906\n",
            "                 truck         26         26      0.841      0.962      0.957      0.904\n",
            "Speed: 0.4ms preprocess, 5.2ms inference, 0.0ms loss, 4.2ms postprocess per image\n",
            "Results saved to \u001b[1mruns/detect/train\u001b[0m\n"
          ]
        }
      ]
    },
    {
      "cell_type": "markdown",
      "source": [
        "## Test 01\n",
        "\n",
        "<p align=\"center\" justify=\"center\">\n",
        "  <img src=\"https://961tpsn6r9.ufs.sh/f/0lVBFERweStfCr6LaPvCMSGIi8EBRxz5cZfJoATrWkNDlpLj\" alt=\"Image 1\" width=\"45%\">\n",
        "  <img src=\"https://961tpsn6r9.ufs.sh/f/0lVBFERweStf7Zi29j0uhsGWziHfL4qc5FvI0waJpdQ67ODE\" alt=\"Image 2\" width=\"45%\">\n",
        "</p>\n"
      ],
      "metadata": {
        "id": "oH2SnsUSub5y"
      }
    },
    {
      "cell_type": "markdown",
      "source": [
        "## Test 02\n",
        "\n",
        "<p align=\"center\" justify=\"center\">\n",
        "  <img src=\"https://961tpsn6r9.ufs.sh/f/0lVBFERweStfwtKZE6UXozxP8IUJRFBb5AZ4ji9q1CukYDW6\" alt=\"Image 1\" width=\"45%\">\n",
        "  <img src=\"https://961tpsn6r9.ufs.sh/f/0lVBFERweStf3cS4FTM20Y1WwhapGXOJ6KNryIqxibQkFPlt\" alt=\"Image 2\" width=\"45%\">\n",
        "</p>\n"
      ],
      "metadata": {
        "id": "QMs5y84S6ptT"
      }
    },
    {
      "cell_type": "markdown",
      "source": [
        "## Test 03\n",
        "\n",
        "<p align=\"center\" justify=\"center\">\n",
        "  <img src=\"https://961tpsn6r9.ufs.sh/f/0lVBFERweStf2LKHt0PpeV4HBuIJSC6wcvgf3GbOjKtTRq5X\" alt=\"Image 1\" width=\"45%\">\n",
        "  <img src=\"https://961tpsn6r9.ufs.sh/f/0lVBFERweStf4lQn7CWtazpShAe7CYjI215sM8nmGqBlwEg6\" alt=\"Image 2\" width=\"45%\">\n",
        "</p>\n"
      ],
      "metadata": {
        "id": "U3zJtnrO7MLd"
      }
    },
    {
      "cell_type": "markdown",
      "source": [
        "# Running the Model in a video."
      ],
      "metadata": {
        "id": "bhbRtsnxtjM2"
      }
    },
    {
      "cell_type": "code",
      "source": [
        "!pip install ffmpeg-python"
      ],
      "metadata": {
        "colab": {
          "base_uri": "https://localhost:8080/"
        },
        "id": "7est_kh3zquV",
        "outputId": "7d48ac57-6f3a-43ec-f1c7-b5c09accf38c"
      },
      "execution_count": 5,
      "outputs": [
        {
          "output_type": "stream",
          "name": "stdout",
          "text": [
            "Collecting ffmpeg-python\n",
            "  Downloading ffmpeg_python-0.2.0-py3-none-any.whl.metadata (1.7 kB)\n",
            "Requirement already satisfied: future in /usr/local/lib/python3.11/dist-packages (from ffmpeg-python) (1.0.0)\n",
            "Downloading ffmpeg_python-0.2.0-py3-none-any.whl (25 kB)\n",
            "Installing collected packages: ffmpeg-python\n",
            "Successfully installed ffmpeg-python-0.2.0\n"
          ]
        }
      ]
    },
    {
      "cell_type": "code",
      "source": [
        "import ffmpeg\n",
        "\n",
        "def convert_webm_to_mp4(input_file, output_file):\n",
        "    try:\n",
        "        (\n",
        "            ffmpeg\n",
        "            .input(input_file)\n",
        "            .output(output_file, vcodec='libx264', acodec='aac')\n",
        "            .run()\n",
        "        )\n",
        "        print(f\"Conversion successful: {output_file}\")\n",
        "    except ffmpeg.Error as e:\n",
        "        print(\"Error:\", e)\n",
        "\n",
        "convert_webm_to_mp4(\"/content/cars.webm\", \"/content/cars.mp4\")"
      ],
      "metadata": {
        "id": "FQZwU6-i129g"
      },
      "execution_count": null,
      "outputs": []
    },
    {
      "cell_type": "code",
      "source": [
        "!yolo detect predict model=yolo11m.pt source=\"/content/cars.mp4\""
      ],
      "metadata": {
        "id": "hkk0Y3D4VJR_",
        "colab": {
          "base_uri": "https://localhost:8080/"
        },
        "outputId": "78b627b9-7dcd-4a7a-ce83-4c8dcf12d5ad"
      },
      "execution_count": 7,
      "outputs": [
        {
          "output_type": "stream",
          "name": "stdout",
          "text": [
            "Ultralytics 8.3.74 🚀 Python-3.11.11 torch-2.5.1+cu124 CUDA:0 (Tesla T4, 15095MiB)\n",
            "YOLO11m summary (fused): 303 layers, 20,091,712 parameters, 0 gradients, 68.0 GFLOPs\n",
            "\n",
            "video 1/1 (frame 1/4509) /content/cars.mp4: 384x640 11 cars, 102.0ms\n",
            "video 1/1 (frame 2/4509) /content/cars.mp4: 384x640 9 cars, 24.3ms\n",
            "video 1/1 (frame 3/4509) /content/cars.mp4: 384x640 9 cars, 24.3ms\n",
            "video 1/1 (frame 4/4509) /content/cars.mp4: 384x640 6 cars, 26.6ms\n",
            "video 1/1 (frame 5/4509) /content/cars.mp4: 384x640 6 cars, 28.3ms\n",
            "video 1/1 (frame 6/4509) /content/cars.mp4: 384x640 9 cars, 24.3ms\n",
            "video 1/1 (frame 7/4509) /content/cars.mp4: 384x640 9 cars, 31.9ms\n",
            "video 1/1 (frame 8/4509) /content/cars.mp4: 384x640 9 cars, 24.3ms\n",
            "video 1/1 (frame 9/4509) /content/cars.mp4: 384x640 9 cars, 32.5ms\n",
            "video 1/1 (frame 10/4509) /content/cars.mp4: 384x640 10 cars, 24.4ms\n",
            "video 1/1 (frame 11/4509) /content/cars.mp4: 384x640 10 cars, 28.8ms\n",
            "video 1/1 (frame 12/4509) /content/cars.mp4: 384x640 11 cars, 24.4ms\n",
            "video 1/1 (frame 13/4509) /content/cars.mp4: 384x640 12 cars, 24.3ms\n",
            "video 1/1 (frame 14/4509) /content/cars.mp4: 384x640 11 cars, 27.4ms\n",
            "video 1/1 (frame 15/4509) /content/cars.mp4: 384x640 10 cars, 27.2ms\n",
            "video 1/1 (frame 16/4509) /content/cars.mp4: 384x640 9 cars, 1 truck, 24.3ms\n",
            "video 1/1 (frame 17/4509) /content/cars.mp4: 384x640 11 cars, 24.3ms\n",
            "video 1/1 (frame 18/4509) /content/cars.mp4: 384x640 10 cars, 1 truck, 25.0ms\n",
            "video 1/1 (frame 19/4509) /content/cars.mp4: 384x640 11 cars, 30.1ms\n",
            "video 1/1 (frame 20/4509) /content/cars.mp4: 384x640 9 cars, 24.3ms\n",
            "video 1/1 (frame 21/4509) /content/cars.mp4: 384x640 10 cars, 24.3ms\n",
            "video 1/1 (frame 22/4509) /content/cars.mp4: 384x640 11 cars, 25.2ms\n",
            "video 1/1 (frame 23/4509) /content/cars.mp4: 384x640 10 cars, 24.3ms\n",
            "video 1/1 (frame 24/4509) /content/cars.mp4: 384x640 10 cars, 28.5ms\n",
            "video 1/1 (frame 25/4509) /content/cars.mp4: 384x640 8 cars, 27.4ms\n",
            "video 1/1 (frame 26/4509) /content/cars.mp4: 384x640 11 cars, 28.2ms\n",
            "video 1/1 (frame 27/4509) /content/cars.mp4: 384x640 12 cars, 24.7ms\n",
            "video 1/1 (frame 28/4509) /content/cars.mp4: 384x640 13 cars, 24.3ms\n",
            "video 1/1 (frame 29/4509) /content/cars.mp4: 384x640 11 cars, 24.3ms\n",
            "video 1/1 (frame 30/4509) /content/cars.mp4: 384x640 11 cars, 24.3ms\n",
            "video 1/1 (frame 31/4509) /content/cars.mp4: 384x640 11 cars, 24.3ms\n",
            "video 1/1 (frame 32/4509) /content/cars.mp4: 384x640 11 cars, 24.3ms\n",
            "video 1/1 (frame 33/4509) /content/cars.mp4: 384x640 10 cars, 1 truck, 24.3ms\n",
            "video 1/1 (frame 34/4509) /content/cars.mp4: 384x640 10 cars, 24.3ms\n",
            "video 1/1 (frame 35/4509) /content/cars.mp4: 384x640 11 cars, 24.3ms\n",
            "video 1/1 (frame 36/4509) /content/cars.mp4: 384x640 10 cars, 24.3ms\n",
            "video 1/1 (frame 37/4509) /content/cars.mp4: 384x640 11 cars, 24.3ms\n",
            "video 1/1 (frame 38/4509) /content/cars.mp4: 384x640 12 cars, 24.3ms\n",
            "video 1/1 (frame 39/4509) /content/cars.mp4: 384x640 12 cars, 24.3ms\n",
            "video 1/1 (frame 40/4509) /content/cars.mp4: 384x640 12 cars, 24.3ms\n",
            "video 1/1 (frame 41/4509) /content/cars.mp4: 384x640 10 cars, 26.5ms\n",
            "video 1/1 (frame 42/4509) /content/cars.mp4: 384x640 9 cars, 24.3ms\n",
            "video 1/1 (frame 43/4509) /content/cars.mp4: 384x640 10 cars, 24.3ms\n",
            "video 1/1 (frame 44/4509) /content/cars.mp4: 384x640 10 cars, 24.3ms\n",
            "video 1/1 (frame 45/4509) /content/cars.mp4: 384x640 9 cars, 24.3ms\n",
            "video 1/1 (frame 46/4509) /content/cars.mp4: 384x640 9 cars, 25.9ms\n",
            "video 1/1 (frame 47/4509) /content/cars.mp4: 384x640 9 cars, 24.3ms\n",
            "video 1/1 (frame 48/4509) /content/cars.mp4: 384x640 10 cars, 24.3ms\n",
            "video 1/1 (frame 49/4509) /content/cars.mp4: 384x640 10 cars, 24.3ms\n",
            "video 1/1 (frame 50/4509) /content/cars.mp4: 384x640 10 cars, 24.3ms\n",
            "video 1/1 (frame 51/4509) /content/cars.mp4: 384x640 10 cars, 24.3ms\n",
            "video 1/1 (frame 52/4509) /content/cars.mp4: 384x640 10 cars, 1 truck, 24.3ms\n",
            "video 1/1 (frame 53/4509) /content/cars.mp4: 384x640 9 cars, 1 truck, 24.3ms\n",
            "video 1/1 (frame 54/4509) /content/cars.mp4: 384x640 9 cars, 1 truck, 24.3ms\n",
            "video 1/1 (frame 55/4509) /content/cars.mp4: 384x640 8 cars, 1 truck, 24.3ms\n",
            "video 1/1 (frame 56/4509) /content/cars.mp4: 384x640 8 cars, 1 truck, 24.3ms\n",
            "video 1/1 (frame 57/4509) /content/cars.mp4: 384x640 8 cars, 1 truck, 24.3ms\n",
            "video 1/1 (frame 58/4509) /content/cars.mp4: 384x640 9 cars, 1 truck, 24.3ms\n",
            "video 1/1 (frame 59/4509) /content/cars.mp4: 384x640 8 cars, 1 truck, 24.3ms\n",
            "video 1/1 (frame 60/4509) /content/cars.mp4: 384x640 9 cars, 1 truck, 24.3ms\n",
            "video 1/1 (frame 61/4509) /content/cars.mp4: 384x640 7 cars, 2 trucks, 30.1ms\n",
            "video 1/1 (frame 62/4509) /content/cars.mp4: 384x640 10 cars, 2 trucks, 24.3ms\n",
            "video 1/1 (frame 63/4509) /content/cars.mp4: 384x640 10 cars, 24.3ms\n",
            "video 1/1 (frame 64/4509) /content/cars.mp4: 384x640 8 cars, 2 trucks, 25.3ms\n",
            "video 1/1 (frame 65/4509) /content/cars.mp4: 384x640 10 cars, 1 truck, 25.2ms\n",
            "video 1/1 (frame 66/4509) /content/cars.mp4: 384x640 9 cars, 1 truck, 24.9ms\n",
            "video 1/1 (frame 67/4509) /content/cars.mp4: 384x640 9 cars, 1 truck, 24.9ms\n",
            "video 1/1 (frame 68/4509) /content/cars.mp4: 384x640 8 cars, 2 trucks, 24.3ms\n",
            "video 1/1 (frame 69/4509) /content/cars.mp4: 384x640 7 cars, 3 trucks, 24.3ms\n",
            "video 1/1 (frame 70/4509) /content/cars.mp4: 384x640 9 cars, 3 trucks, 24.6ms\n",
            "video 1/1 (frame 71/4509) /content/cars.mp4: 384x640 8 cars, 2 trucks, 24.3ms\n",
            "video 1/1 (frame 72/4509) /content/cars.mp4: 384x640 10 cars, 2 trucks, 24.3ms\n",
            "video 1/1 (frame 73/4509) /content/cars.mp4: 384x640 9 cars, 4 trucks, 24.3ms\n",
            "video 1/1 (frame 74/4509) /content/cars.mp4: 384x640 11 cars, 1 truck, 25.5ms\n",
            "video 1/1 (frame 75/4509) /content/cars.mp4: 384x640 11 cars, 1 truck, 24.3ms\n",
            "video 1/1 (frame 76/4509) /content/cars.mp4: 384x640 11 cars, 2 trucks, 24.3ms\n",
            "video 1/1 (frame 77/4509) /content/cars.mp4: 384x640 11 cars, 2 trucks, 24.3ms\n",
            "video 1/1 (frame 78/4509) /content/cars.mp4: 384x640 11 cars, 3 trucks, 24.3ms\n",
            "video 1/1 (frame 79/4509) /content/cars.mp4: 384x640 11 cars, 24.3ms\n",
            "video 1/1 (frame 80/4509) /content/cars.mp4: 384x640 10 cars, 24.3ms\n",
            "video 1/1 (frame 81/4509) /content/cars.mp4: 384x640 10 cars, 1 truck, 24.3ms\n",
            "video 1/1 (frame 82/4509) /content/cars.mp4: 384x640 12 cars, 1 truck, 24.3ms\n",
            "video 1/1 (frame 83/4509) /content/cars.mp4: 384x640 13 cars, 1 truck, 31.0ms\n",
            "video 1/1 (frame 84/4509) /content/cars.mp4: 384x640 13 cars, 25.6ms\n",
            "video 1/1 (frame 85/4509) /content/cars.mp4: 384x640 13 cars, 1 truck, 24.3ms\n",
            "video 1/1 (frame 86/4509) /content/cars.mp4: 384x640 12 cars, 1 truck, 24.9ms\n",
            "video 1/1 (frame 87/4509) /content/cars.mp4: 384x640 12 cars, 1 truck, 24.3ms\n",
            "video 1/1 (frame 88/4509) /content/cars.mp4: 384x640 11 cars, 1 truck, 24.3ms\n",
            "video 1/1 (frame 89/4509) /content/cars.mp4: 384x640 11 cars, 1 truck, 24.4ms\n",
            "video 1/1 (frame 90/4509) /content/cars.mp4: 384x640 10 cars, 1 truck, 24.3ms\n",
            "video 1/1 (frame 91/4509) /content/cars.mp4: 384x640 11 cars, 2 trucks, 26.3ms\n",
            "video 1/1 (frame 92/4509) /content/cars.mp4: 384x640 12 cars, 1 truck, 24.3ms\n",
            "video 1/1 (frame 93/4509) /content/cars.mp4: 384x640 13 cars, 24.4ms\n",
            "video 1/1 (frame 94/4509) /content/cars.mp4: 384x640 12 cars, 24.3ms\n",
            "video 1/1 (frame 95/4509) /content/cars.mp4: 384x640 12 cars, 24.3ms\n",
            "video 1/1 (frame 96/4509) /content/cars.mp4: 384x640 12 cars, 24.3ms\n",
            "video 1/1 (frame 97/4509) /content/cars.mp4: 384x640 12 cars, 24.3ms\n",
            "video 1/1 (frame 98/4509) /content/cars.mp4: 384x640 13 cars, 1 truck, 24.3ms\n",
            "video 1/1 (frame 99/4509) /content/cars.mp4: 384x640 13 cars, 24.3ms\n",
            "video 1/1 (frame 100/4509) /content/cars.mp4: 384x640 13 cars, 1 truck, 24.3ms\n",
            "video 1/1 (frame 101/4509) /content/cars.mp4: 384x640 13 cars, 1 truck, 24.3ms\n",
            "video 1/1 (frame 102/4509) /content/cars.mp4: 384x640 13 cars, 1 truck, 24.3ms\n",
            "video 1/1 (frame 103/4509) /content/cars.mp4: 384x640 13 cars, 1 truck, 24.3ms\n",
            "video 1/1 (frame 104/4509) /content/cars.mp4: 384x640 13 cars, 1 truck, 24.3ms\n",
            "video 1/1 (frame 105/4509) /content/cars.mp4: 384x640 14 cars, 1 truck, 24.3ms\n",
            "video 1/1 (frame 106/4509) /content/cars.mp4: 384x640 14 cars, 1 truck, 24.3ms\n",
            "video 1/1 (frame 107/4509) /content/cars.mp4: 384x640 14 cars, 27.2ms\n",
            "video 1/1 (frame 108/4509) /content/cars.mp4: 384x640 14 cars, 24.5ms\n",
            "video 1/1 (frame 109/4509) /content/cars.mp4: 384x640 14 cars, 1 truck, 24.3ms\n",
            "video 1/1 (frame 110/4509) /content/cars.mp4: 384x640 12 cars, 2 trucks, 24.3ms\n",
            "video 1/1 (frame 111/4509) /content/cars.mp4: 384x640 12 cars, 2 trucks, 24.5ms\n",
            "video 1/1 (frame 112/4509) /content/cars.mp4: 384x640 14 cars, 1 truck, 25.4ms\n",
            "video 1/1 (frame 113/4509) /content/cars.mp4: 384x640 15 cars, 24.3ms\n",
            "video 1/1 (frame 114/4509) /content/cars.mp4: 384x640 14 cars, 24.3ms\n",
            "video 1/1 (frame 115/4509) /content/cars.mp4: 384x640 15 cars, 24.3ms\n",
            "video 1/1 (frame 116/4509) /content/cars.mp4: 384x640 12 cars, 24.3ms\n",
            "video 1/1 (frame 117/4509) /content/cars.mp4: 384x640 12 cars, 1 truck, 24.3ms\n",
            "video 1/1 (frame 118/4509) /content/cars.mp4: 384x640 12 cars, 24.3ms\n",
            "video 1/1 (frame 119/4509) /content/cars.mp4: 384x640 13 cars, 24.3ms\n",
            "video 1/1 (frame 120/4509) /content/cars.mp4: 384x640 13 cars, 24.3ms\n",
            "video 1/1 (frame 121/4509) /content/cars.mp4: 384x640 13 cars, 24.3ms\n",
            "video 1/1 (frame 122/4509) /content/cars.mp4: 384x640 13 cars, 24.3ms\n",
            "video 1/1 (frame 123/4509) /content/cars.mp4: 384x640 12 cars, 24.3ms\n",
            "video 1/1 (frame 124/4509) /content/cars.mp4: 384x640 14 cars, 24.3ms\n",
            "video 1/1 (frame 125/4509) /content/cars.mp4: 384x640 14 cars, 24.3ms\n",
            "video 1/1 (frame 126/4509) /content/cars.mp4: 384x640 14 cars, 24.3ms\n",
            "video 1/1 (frame 127/4509) /content/cars.mp4: 384x640 13 cars, 24.4ms\n",
            "video 1/1 (frame 128/4509) /content/cars.mp4: 384x640 11 cars, 3 trucks, 24.3ms\n",
            "video 1/1 (frame 129/4509) /content/cars.mp4: 384x640 13 cars, 1 truck, 24.3ms\n",
            "video 1/1 (frame 130/4509) /content/cars.mp4: 384x640 12 cars, 1 truck, 24.3ms\n",
            "video 1/1 (frame 131/4509) /content/cars.mp4: 384x640 11 cars, 2 trucks, 24.3ms\n",
            "video 1/1 (frame 132/4509) /content/cars.mp4: 384x640 13 cars, 24.3ms\n",
            "video 1/1 (frame 133/4509) /content/cars.mp4: 384x640 13 cars, 24.3ms\n",
            "video 1/1 (frame 134/4509) /content/cars.mp4: 384x640 11 cars, 24.3ms\n",
            "video 1/1 (frame 135/4509) /content/cars.mp4: 384x640 12 cars, 24.3ms\n",
            "video 1/1 (frame 136/4509) /content/cars.mp4: 384x640 12 cars, 24.3ms\n",
            "video 1/1 (frame 137/4509) /content/cars.mp4: 384x640 10 cars, 24.3ms\n",
            "video 1/1 (frame 138/4509) /content/cars.mp4: 384x640 11 cars, 24.3ms\n",
            "video 1/1 (frame 139/4509) /content/cars.mp4: 384x640 12 cars, 24.3ms\n",
            "video 1/1 (frame 140/4509) /content/cars.mp4: 384x640 11 cars, 24.3ms\n",
            "video 1/1 (frame 141/4509) /content/cars.mp4: 384x640 10 cars, 27.8ms\n",
            "video 1/1 (frame 142/4509) /content/cars.mp4: 384x640 11 cars, 1 truck, 24.3ms\n",
            "video 1/1 (frame 143/4509) /content/cars.mp4: 384x640 12 cars, 34.9ms\n",
            "video 1/1 (frame 144/4509) /content/cars.mp4: 384x640 12 cars, 24.3ms\n",
            "video 1/1 (frame 145/4509) /content/cars.mp4: 384x640 14 cars, 24.3ms\n",
            "video 1/1 (frame 146/4509) /content/cars.mp4: 384x640 13 cars, 24.3ms\n",
            "video 1/1 (frame 147/4509) /content/cars.mp4: 384x640 12 cars, 28.4ms\n",
            "video 1/1 (frame 148/4509) /content/cars.mp4: 384x640 12 cars, 24.4ms\n",
            "video 1/1 (frame 149/4509) /content/cars.mp4: 384x640 13 cars, 26.5ms\n",
            "video 1/1 (frame 150/4509) /content/cars.mp4: 384x640 13 cars, 30.7ms\n",
            "video 1/1 (frame 151/4509) /content/cars.mp4: 384x640 12 cars, 24.8ms\n",
            "video 1/1 (frame 152/4509) /content/cars.mp4: 384x640 12 cars, 1 truck, 36.2ms\n",
            "video 1/1 (frame 153/4509) /content/cars.mp4: 384x640 12 cars, 24.3ms\n",
            "video 1/1 (frame 154/4509) /content/cars.mp4: 384x640 13 cars, 26.0ms\n",
            "video 1/1 (frame 155/4509) /content/cars.mp4: 384x640 12 cars, 33.7ms\n",
            "video 1/1 (frame 156/4509) /content/cars.mp4: 384x640 12 cars, 26.6ms\n",
            "video 1/1 (frame 157/4509) /content/cars.mp4: 384x640 12 cars, 38.2ms\n",
            "video 1/1 (frame 158/4509) /content/cars.mp4: 384x640 13 cars, 1 truck, 39.1ms\n",
            "video 1/1 (frame 159/4509) /content/cars.mp4: 384x640 13 cars, 25.9ms\n",
            "video 1/1 (frame 160/4509) /content/cars.mp4: 384x640 13 cars, 1 truck, 24.3ms\n",
            "video 1/1 (frame 161/4509) /content/cars.mp4: 384x640 13 cars, 26.4ms\n",
            "video 1/1 (frame 162/4509) /content/cars.mp4: 384x640 13 cars, 24.3ms\n",
            "video 1/1 (frame 163/4509) /content/cars.mp4: 384x640 12 cars, 1 truck, 24.6ms\n",
            "video 1/1 (frame 164/4509) /content/cars.mp4: 384x640 13 cars, 1 truck, 37.5ms\n",
            "video 1/1 (frame 165/4509) /content/cars.mp4: 384x640 12 cars, 1 truck, 24.3ms\n",
            "video 1/1 (frame 166/4509) /content/cars.mp4: 384x640 13 cars, 1 truck, 34.7ms\n",
            "video 1/1 (frame 167/4509) /content/cars.mp4: 384x640 11 cars, 1 truck, 26.9ms\n",
            "video 1/1 (frame 168/4509) /content/cars.mp4: 384x640 11 cars, 1 truck, 25.0ms\n",
            "video 1/1 (frame 169/4509) /content/cars.mp4: 384x640 11 cars, 1 truck, 24.3ms\n",
            "video 1/1 (frame 170/4509) /content/cars.mp4: 384x640 13 cars, 1 truck, 24.3ms\n",
            "video 1/1 (frame 171/4509) /content/cars.mp4: 384x640 13 cars, 1 truck, 24.3ms\n",
            "video 1/1 (frame 172/4509) /content/cars.mp4: 384x640 12 cars, 1 truck, 24.3ms\n",
            "video 1/1 (frame 173/4509) /content/cars.mp4: 384x640 13 cars, 1 truck, 24.6ms\n",
            "video 1/1 (frame 174/4509) /content/cars.mp4: 384x640 13 cars, 24.3ms\n",
            "video 1/1 (frame 175/4509) /content/cars.mp4: 384x640 11 cars, 24.3ms\n",
            "video 1/1 (frame 176/4509) /content/cars.mp4: 384x640 9 cars, 1 truck, 24.3ms\n",
            "video 1/1 (frame 177/4509) /content/cars.mp4: 384x640 10 cars, 24.4ms\n",
            "video 1/1 (frame 178/4509) /content/cars.mp4: 384x640 11 cars, 24.3ms\n",
            "video 1/1 (frame 179/4509) /content/cars.mp4: 384x640 10 cars, 1 truck, 24.3ms\n",
            "video 1/1 (frame 180/4509) /content/cars.mp4: 384x640 10 cars, 1 truck, 24.3ms\n",
            "video 1/1 (frame 181/4509) /content/cars.mp4: 384x640 13 cars, 24.3ms\n",
            "video 1/1 (frame 182/4509) /content/cars.mp4: 384x640 13 cars, 24.3ms\n",
            "video 1/1 (frame 183/4509) /content/cars.mp4: 384x640 12 cars, 24.3ms\n",
            "video 1/1 (frame 184/4509) /content/cars.mp4: 384x640 12 cars, 24.3ms\n",
            "video 1/1 (frame 185/4509) /content/cars.mp4: 384x640 12 cars, 24.3ms\n",
            "video 1/1 (frame 186/4509) /content/cars.mp4: 384x640 11 cars, 24.3ms\n",
            "video 1/1 (frame 187/4509) /content/cars.mp4: 384x640 11 cars, 25.2ms\n",
            "video 1/1 (frame 188/4509) /content/cars.mp4: 384x640 12 cars, 24.3ms\n",
            "video 1/1 (frame 189/4509) /content/cars.mp4: 384x640 9 cars, 24.3ms\n",
            "video 1/1 (frame 190/4509) /content/cars.mp4: 384x640 12 cars, 24.3ms\n",
            "video 1/1 (frame 191/4509) /content/cars.mp4: 384x640 12 cars, 24.3ms\n",
            "video 1/1 (frame 192/4509) /content/cars.mp4: 384x640 12 cars, 24.3ms\n",
            "video 1/1 (frame 193/4509) /content/cars.mp4: 384x640 11 cars, 24.3ms\n",
            "video 1/1 (frame 194/4509) /content/cars.mp4: 384x640 12 cars, 24.3ms\n",
            "video 1/1 (frame 195/4509) /content/cars.mp4: 384x640 12 cars, 24.3ms\n",
            "video 1/1 (frame 196/4509) /content/cars.mp4: 384x640 12 cars, 24.3ms\n",
            "video 1/1 (frame 197/4509) /content/cars.mp4: 384x640 14 cars, 24.3ms\n",
            "video 1/1 (frame 198/4509) /content/cars.mp4: 384x640 12 cars, 24.3ms\n",
            "video 1/1 (frame 199/4509) /content/cars.mp4: 384x640 12 cars, 24.3ms\n",
            "video 1/1 (frame 200/4509) /content/cars.mp4: 384x640 11 cars, 24.7ms\n",
            "video 1/1 (frame 201/4509) /content/cars.mp4: 384x640 13 cars, 24.3ms\n",
            "video 1/1 (frame 202/4509) /content/cars.mp4: 384x640 12 cars, 24.3ms\n",
            "video 1/1 (frame 203/4509) /content/cars.mp4: 384x640 12 cars, 24.3ms\n",
            "video 1/1 (frame 204/4509) /content/cars.mp4: 384x640 10 cars, 24.3ms\n",
            "video 1/1 (frame 205/4509) /content/cars.mp4: 384x640 8 cars, 24.3ms\n",
            "video 1/1 (frame 206/4509) /content/cars.mp4: 384x640 9 cars, 24.3ms\n",
            "video 1/1 (frame 207/4509) /content/cars.mp4: 384x640 9 cars, 24.3ms\n",
            "video 1/1 (frame 208/4509) /content/cars.mp4: 384x640 9 cars, 24.3ms\n",
            "video 1/1 (frame 209/4509) /content/cars.mp4: 384x640 12 cars, 24.3ms\n",
            "video 1/1 (frame 210/4509) /content/cars.mp4: 384x640 10 cars, 24.3ms\n",
            "video 1/1 (frame 211/4509) /content/cars.mp4: 384x640 9 cars, 24.3ms\n",
            "video 1/1 (frame 212/4509) /content/cars.mp4: 384x640 10 cars, 24.3ms\n",
            "video 1/1 (frame 213/4509) /content/cars.mp4: 384x640 7 cars, 24.3ms\n",
            "video 1/1 (frame 214/4509) /content/cars.mp4: 384x640 10 cars, 24.3ms\n",
            "video 1/1 (frame 215/4509) /content/cars.mp4: 384x640 8 cars, 24.6ms\n",
            "video 1/1 (frame 216/4509) /content/cars.mp4: 384x640 10 cars, 24.3ms\n",
            "video 1/1 (frame 217/4509) /content/cars.mp4: 384x640 9 cars, 24.3ms\n",
            "video 1/1 (frame 218/4509) /content/cars.mp4: 384x640 9 cars, 1 traffic light, 24.3ms\n",
            "video 1/1 (frame 219/4509) /content/cars.mp4: 384x640 8 cars, 24.3ms\n",
            "video 1/1 (frame 220/4509) /content/cars.mp4: 384x640 8 cars, 24.3ms\n",
            "video 1/1 (frame 221/4509) /content/cars.mp4: 384x640 7 cars, 24.3ms\n",
            "video 1/1 (frame 222/4509) /content/cars.mp4: 384x640 9 cars, 29.9ms\n",
            "video 1/1 (frame 223/4509) /content/cars.mp4: 384x640 10 cars, 24.3ms\n",
            "video 1/1 (frame 224/4509) /content/cars.mp4: 384x640 10 cars, 24.3ms\n",
            "video 1/1 (frame 225/4509) /content/cars.mp4: 384x640 10 cars, 24.3ms\n",
            "video 1/1 (frame 226/4509) /content/cars.mp4: 384x640 10 cars, 24.3ms\n",
            "video 1/1 (frame 227/4509) /content/cars.mp4: 384x640 11 cars, 24.3ms\n",
            "video 1/1 (frame 228/4509) /content/cars.mp4: 384x640 12 cars, 24.3ms\n",
            "video 1/1 (frame 229/4509) /content/cars.mp4: 384x640 11 cars, 1 truck, 24.3ms\n",
            "video 1/1 (frame 230/4509) /content/cars.mp4: 384x640 14 cars, 24.3ms\n",
            "video 1/1 (frame 231/4509) /content/cars.mp4: 384x640 12 cars, 24.3ms\n",
            "video 1/1 (frame 232/4509) /content/cars.mp4: 384x640 11 cars, 24.3ms\n",
            "video 1/1 (frame 233/4509) /content/cars.mp4: 384x640 11 cars, 24.3ms\n",
            "video 1/1 (frame 234/4509) /content/cars.mp4: 384x640 10 cars, 28.2ms\n",
            "video 1/1 (frame 235/4509) /content/cars.mp4: 384x640 10 cars, 24.3ms\n",
            "video 1/1 (frame 236/4509) /content/cars.mp4: 384x640 10 cars, 24.3ms\n",
            "video 1/1 (frame 237/4509) /content/cars.mp4: 384x640 10 cars, 24.3ms\n",
            "video 1/1 (frame 238/4509) /content/cars.mp4: 384x640 10 cars, 24.5ms\n",
            "video 1/1 (frame 239/4509) /content/cars.mp4: 384x640 10 cars, 24.3ms\n",
            "video 1/1 (frame 240/4509) /content/cars.mp4: 384x640 8 cars, 24.3ms\n",
            "video 1/1 (frame 241/4509) /content/cars.mp4: 384x640 6 cars, 24.3ms\n",
            "video 1/1 (frame 242/4509) /content/cars.mp4: 384x640 11 cars, 24.3ms\n",
            "video 1/1 (frame 243/4509) /content/cars.mp4: 384x640 11 cars, 1 traffic light, 24.3ms\n",
            "video 1/1 (frame 244/4509) /content/cars.mp4: 384x640 10 cars, 24.3ms\n",
            "video 1/1 (frame 245/4509) /content/cars.mp4: 384x640 10 cars, 1 truck, 24.4ms\n",
            "video 1/1 (frame 246/4509) /content/cars.mp4: 384x640 7 cars, 1 truck, 38.3ms\n",
            "video 1/1 (frame 247/4509) /content/cars.mp4: 384x640 5 cars, 1 truck, 24.3ms\n",
            "video 1/1 (frame 248/4509) /content/cars.mp4: 384x640 6 cars, 1 truck, 24.3ms\n",
            "video 1/1 (frame 249/4509) /content/cars.mp4: 384x640 8 cars, 1 truck, 24.3ms\n",
            "video 1/1 (frame 250/4509) /content/cars.mp4: 384x640 7 cars, 1 truck, 24.3ms\n",
            "video 1/1 (frame 251/4509) /content/cars.mp4: 384x640 7 cars, 1 truck, 24.3ms\n",
            "video 1/1 (frame 252/4509) /content/cars.mp4: 384x640 8 cars, 1 truck, 24.3ms\n",
            "video 1/1 (frame 253/4509) /content/cars.mp4: 384x640 6 cars, 2 trucks, 24.3ms\n",
            "video 1/1 (frame 254/4509) /content/cars.mp4: 384x640 8 cars, 1 truck, 24.3ms\n",
            "video 1/1 (frame 255/4509) /content/cars.mp4: 384x640 7 cars, 2 trucks, 24.3ms\n",
            "video 1/1 (frame 256/4509) /content/cars.mp4: 384x640 8 cars, 3 trucks, 24.3ms\n",
            "video 1/1 (frame 257/4509) /content/cars.mp4: 384x640 7 cars, 3 trucks, 24.3ms\n",
            "video 1/1 (frame 258/4509) /content/cars.mp4: 384x640 5 cars, 1 truck, 26.6ms\n",
            "video 1/1 (frame 259/4509) /content/cars.mp4: 384x640 2 cars, 3 trucks, 24.3ms\n",
            "video 1/1 (frame 260/4509) /content/cars.mp4: 384x640 4 cars, 3 trucks, 24.3ms\n",
            "video 1/1 (frame 261/4509) /content/cars.mp4: 384x640 8 cars, 2 trucks, 24.3ms\n",
            "video 1/1 (frame 262/4509) /content/cars.mp4: 384x640 7 cars, 2 trucks, 24.3ms\n",
            "video 1/1 (frame 263/4509) /content/cars.mp4: 384x640 9 cars, 1 truck, 24.3ms\n",
            "video 1/1 (frame 264/4509) /content/cars.mp4: 384x640 10 cars, 1 truck, 24.3ms\n",
            "video 1/1 (frame 265/4509) /content/cars.mp4: 384x640 6 cars, 1 truck, 26.1ms\n",
            "video 1/1 (frame 266/4509) /content/cars.mp4: 384x640 6 cars, 2 trucks, 24.3ms\n",
            "video 1/1 (frame 267/4509) /content/cars.mp4: 384x640 6 cars, 1 truck, 24.3ms\n",
            "video 1/1 (frame 268/4509) /content/cars.mp4: 384x640 7 cars, 1 truck, 35.3ms\n",
            "video 1/1 (frame 269/4509) /content/cars.mp4: 384x640 7 cars, 1 truck, 24.3ms\n",
            "video 1/1 (frame 270/4509) /content/cars.mp4: 384x640 8 cars, 1 truck, 24.3ms\n",
            "video 1/1 (frame 271/4509) /content/cars.mp4: 384x640 8 cars, 1 truck, 24.3ms\n",
            "video 1/1 (frame 272/4509) /content/cars.mp4: 384x640 8 cars, 2 trucks, 24.3ms\n",
            "video 1/1 (frame 273/4509) /content/cars.mp4: 384x640 8 cars, 2 trucks, 24.3ms\n",
            "video 1/1 (frame 274/4509) /content/cars.mp4: 384x640 8 cars, 2 trucks, 24.3ms\n",
            "video 1/1 (frame 275/4509) /content/cars.mp4: 384x640 9 cars, 1 truck, 24.4ms\n",
            "video 1/1 (frame 276/4509) /content/cars.mp4: 384x640 11 cars, 1 truck, 24.3ms\n",
            "video 1/1 (frame 277/4509) /content/cars.mp4: 384x640 11 cars, 1 truck, 24.3ms\n",
            "video 1/1 (frame 278/4509) /content/cars.mp4: 384x640 11 cars, 1 truck, 24.3ms\n",
            "video 1/1 (frame 279/4509) /content/cars.mp4: 384x640 11 cars, 1 truck, 24.3ms\n",
            "video 1/1 (frame 280/4509) /content/cars.mp4: 384x640 8 cars, 1 truck, 24.3ms\n",
            "video 1/1 (frame 281/4509) /content/cars.mp4: 384x640 9 cars, 1 truck, 29.5ms\n",
            "video 1/1 (frame 282/4509) /content/cars.mp4: 384x640 10 cars, 1 truck, 28.8ms\n",
            "video 1/1 (frame 283/4509) /content/cars.mp4: 384x640 10 cars, 1 truck, 24.4ms\n",
            "video 1/1 (frame 284/4509) /content/cars.mp4: 384x640 8 cars, 1 truck, 24.3ms\n",
            "video 1/1 (frame 285/4509) /content/cars.mp4: 384x640 11 cars, 1 truck, 24.3ms\n",
            "video 1/1 (frame 286/4509) /content/cars.mp4: 384x640 9 cars, 1 truck, 26.4ms\n",
            "video 1/1 (frame 287/4509) /content/cars.mp4: 384x640 8 cars, 1 truck, 24.3ms\n",
            "video 1/1 (frame 288/4509) /content/cars.mp4: 384x640 10 cars, 1 truck, 24.3ms\n",
            "video 1/1 (frame 289/4509) /content/cars.mp4: 384x640 10 cars, 1 truck, 32.7ms\n",
            "video 1/1 (frame 290/4509) /content/cars.mp4: 384x640 7 cars, 1 truck, 24.5ms\n",
            "video 1/1 (frame 291/4509) /content/cars.mp4: 384x640 8 cars, 1 truck, 27.1ms\n",
            "video 1/1 (frame 292/4509) /content/cars.mp4: 384x640 9 cars, 1 truck, 24.7ms\n",
            "video 1/1 (frame 293/4509) /content/cars.mp4: 384x640 8 cars, 1 truck, 25.5ms\n",
            "video 1/1 (frame 294/4509) /content/cars.mp4: 384x640 8 cars, 1 truck, 24.3ms\n",
            "video 1/1 (frame 295/4509) /content/cars.mp4: 384x640 7 cars, 1 truck, 24.3ms\n",
            "video 1/1 (frame 296/4509) /content/cars.mp4: 384x640 6 cars, 1 truck, 28.6ms\n",
            "video 1/1 (frame 297/4509) /content/cars.mp4: 384x640 10 cars, 1 truck, 26.6ms\n",
            "video 1/1 (frame 298/4509) /content/cars.mp4: 384x640 10 cars, 1 truck, 24.3ms\n",
            "video 1/1 (frame 299/4509) /content/cars.mp4: 384x640 10 cars, 1 truck, 24.3ms\n",
            "video 1/1 (frame 300/4509) /content/cars.mp4: 384x640 10 cars, 1 truck, 24.3ms\n",
            "video 1/1 (frame 301/4509) /content/cars.mp4: 384x640 12 cars, 1 truck, 24.3ms\n",
            "video 1/1 (frame 302/4509) /content/cars.mp4: 384x640 11 cars, 1 truck, 24.5ms\n",
            "video 1/1 (frame 303/4509) /content/cars.mp4: 384x640 8 cars, 1 truck, 24.3ms\n",
            "video 1/1 (frame 304/4509) /content/cars.mp4: 384x640 8 cars, 1 truck, 28.5ms\n",
            "video 1/1 (frame 305/4509) /content/cars.mp4: 384x640 9 cars, 1 truck, 35.9ms\n",
            "video 1/1 (frame 306/4509) /content/cars.mp4: 384x640 8 cars, 1 truck, 28.5ms\n",
            "video 1/1 (frame 307/4509) /content/cars.mp4: 384x640 9 cars, 1 truck, 24.3ms\n",
            "video 1/1 (frame 308/4509) /content/cars.mp4: 384x640 12 cars, 1 truck, 27.3ms\n",
            "video 1/1 (frame 309/4509) /content/cars.mp4: 384x640 10 cars, 1 truck, 24.3ms\n",
            "video 1/1 (frame 310/4509) /content/cars.mp4: 384x640 11 cars, 1 truck, 24.8ms\n",
            "video 1/1 (frame 311/4509) /content/cars.mp4: 384x640 12 cars, 1 truck, 24.3ms\n",
            "video 1/1 (frame 312/4509) /content/cars.mp4: 384x640 11 cars, 1 truck, 24.3ms\n",
            "video 1/1 (frame 313/4509) /content/cars.mp4: 384x640 10 cars, 1 truck, 24.3ms\n",
            "video 1/1 (frame 314/4509) /content/cars.mp4: 384x640 10 cars, 1 truck, 24.3ms\n",
            "video 1/1 (frame 315/4509) /content/cars.mp4: 384x640 10 cars, 1 truck, 24.3ms\n",
            "video 1/1 (frame 316/4509) /content/cars.mp4: 384x640 9 cars, 1 truck, 25.3ms\n",
            "video 1/1 (frame 317/4509) /content/cars.mp4: 384x640 9 cars, 1 truck, 24.3ms\n",
            "video 1/1 (frame 318/4509) /content/cars.mp4: 384x640 10 cars, 1 truck, 24.3ms\n",
            "video 1/1 (frame 319/4509) /content/cars.mp4: 384x640 10 cars, 1 truck, 24.3ms\n",
            "video 1/1 (frame 320/4509) /content/cars.mp4: 384x640 10 cars, 1 truck, 24.3ms\n",
            "video 1/1 (frame 321/4509) /content/cars.mp4: 384x640 9 cars, 1 truck, 24.3ms\n",
            "video 1/1 (frame 322/4509) /content/cars.mp4: 384x640 7 cars, 1 truck, 24.4ms\n",
            "video 1/1 (frame 323/4509) /content/cars.mp4: 384x640 8 cars, 1 truck, 24.3ms\n",
            "video 1/1 (frame 324/4509) /content/cars.mp4: 384x640 8 cars, 1 truck, 24.3ms\n",
            "video 1/1 (frame 325/4509) /content/cars.mp4: 384x640 9 cars, 1 truck, 24.3ms\n",
            "video 1/1 (frame 326/4509) /content/cars.mp4: 384x640 8 cars, 1 truck, 24.3ms\n",
            "video 1/1 (frame 327/4509) /content/cars.mp4: 384x640 8 cars, 1 truck, 24.3ms\n",
            "video 1/1 (frame 328/4509) /content/cars.mp4: 384x640 8 cars, 2 trucks, 24.3ms\n",
            "video 1/1 (frame 329/4509) /content/cars.mp4: 384x640 8 cars, 1 truck, 24.3ms\n",
            "video 1/1 (frame 330/4509) /content/cars.mp4: 384x640 9 cars, 1 truck, 24.3ms\n",
            "video 1/1 (frame 331/4509) /content/cars.mp4: 384x640 9 cars, 1 truck, 24.4ms\n",
            "video 1/1 (frame 332/4509) /content/cars.mp4: 384x640 9 cars, 1 truck, 24.3ms\n",
            "video 1/1 (frame 333/4509) /content/cars.mp4: 384x640 10 cars, 1 truck, 24.3ms\n",
            "video 1/1 (frame 334/4509) /content/cars.mp4: 384x640 9 cars, 1 truck, 24.3ms\n",
            "video 1/1 (frame 335/4509) /content/cars.mp4: 384x640 10 cars, 1 truck, 24.3ms\n",
            "video 1/1 (frame 336/4509) /content/cars.mp4: 384x640 10 cars, 1 truck, 24.3ms\n",
            "video 1/1 (frame 337/4509) /content/cars.mp4: 384x640 9 cars, 1 truck, 24.3ms\n",
            "video 1/1 (frame 338/4509) /content/cars.mp4: 384x640 10 cars, 2 trucks, 24.3ms\n",
            "video 1/1 (frame 339/4509) /content/cars.mp4: 384x640 9 cars, 2 trucks, 24.3ms\n",
            "video 1/1 (frame 340/4509) /content/cars.mp4: 384x640 10 cars, 2 trucks, 24.3ms\n",
            "video 1/1 (frame 341/4509) /content/cars.mp4: 384x640 11 cars, 1 truck, 24.3ms\n",
            "video 1/1 (frame 342/4509) /content/cars.mp4: 384x640 9 cars, 1 truck, 24.3ms\n",
            "video 1/1 (frame 343/4509) /content/cars.mp4: 384x640 9 cars, 1 truck, 25.3ms\n",
            "video 1/1 (frame 344/4509) /content/cars.mp4: 384x640 11 cars, 2 trucks, 24.3ms\n",
            "video 1/1 (frame 345/4509) /content/cars.mp4: 384x640 11 cars, 2 trucks, 25.9ms\n",
            "video 1/1 (frame 346/4509) /content/cars.mp4: 384x640 8 cars, 2 trucks, 24.3ms\n",
            "video 1/1 (frame 347/4509) /content/cars.mp4: 384x640 8 cars, 2 trucks, 24.3ms\n",
            "video 1/1 (frame 348/4509) /content/cars.mp4: 384x640 9 cars, 3 trucks, 24.3ms\n",
            "video 1/1 (frame 349/4509) /content/cars.mp4: 384x640 9 cars, 2 trucks, 24.3ms\n",
            "video 1/1 (frame 350/4509) /content/cars.mp4: 384x640 9 cars, 2 trucks, 24.3ms\n",
            "video 1/1 (frame 351/4509) /content/cars.mp4: 384x640 8 cars, 2 trucks, 24.3ms\n",
            "video 1/1 (frame 352/4509) /content/cars.mp4: 384x640 10 cars, 2 trucks, 24.3ms\n",
            "video 1/1 (frame 353/4509) /content/cars.mp4: 384x640 9 cars, 2 trucks, 25.2ms\n",
            "video 1/1 (frame 354/4509) /content/cars.mp4: 384x640 9 cars, 2 trucks, 24.3ms\n",
            "video 1/1 (frame 355/4509) /content/cars.mp4: 384x640 9 cars, 2 trucks, 24.3ms\n",
            "video 1/1 (frame 356/4509) /content/cars.mp4: 384x640 9 cars, 1 truck, 24.3ms\n",
            "video 1/1 (frame 357/4509) /content/cars.mp4: 384x640 9 cars, 3 trucks, 24.3ms\n",
            "video 1/1 (frame 358/4509) /content/cars.mp4: 384x640 10 cars, 2 trucks, 24.3ms\n",
            "video 1/1 (frame 359/4509) /content/cars.mp4: 384x640 7 cars, 2 trucks, 24.3ms\n",
            "video 1/1 (frame 360/4509) /content/cars.mp4: 384x640 6 cars, 2 trucks, 24.3ms\n",
            "video 1/1 (frame 361/4509) /content/cars.mp4: 384x640 7 cars, 3 trucks, 24.3ms\n",
            "video 1/1 (frame 362/4509) /content/cars.mp4: 384x640 6 cars, 2 trucks, 24.3ms\n",
            "video 1/1 (frame 363/4509) /content/cars.mp4: 384x640 8 cars, 3 trucks, 24.3ms\n",
            "video 1/1 (frame 364/4509) /content/cars.mp4: 384x640 6 cars, 4 trucks, 24.3ms\n",
            "video 1/1 (frame 365/4509) /content/cars.mp4: 384x640 7 cars, 2 trucks, 24.3ms\n",
            "video 1/1 (frame 366/4509) /content/cars.mp4: 384x640 9 cars, 1 truck, 24.3ms\n",
            "video 1/1 (frame 367/4509) /content/cars.mp4: 384x640 8 cars, 1 truck, 24.3ms\n",
            "video 1/1 (frame 368/4509) /content/cars.mp4: 384x640 8 cars, 2 trucks, 24.3ms\n",
            "video 1/1 (frame 369/4509) /content/cars.mp4: 384x640 8 cars, 2 trucks, 24.3ms\n",
            "video 1/1 (frame 370/4509) /content/cars.mp4: 384x640 8 cars, 2 trucks, 24.3ms\n",
            "video 1/1 (frame 371/4509) /content/cars.mp4: 384x640 7 cars, 2 trucks, 24.3ms\n",
            "video 1/1 (frame 372/4509) /content/cars.mp4: 384x640 9 cars, 2 trucks, 24.3ms\n",
            "video 1/1 (frame 373/4509) /content/cars.mp4: 384x640 8 cars, 1 truck, 25.9ms\n",
            "video 1/1 (frame 374/4509) /content/cars.mp4: 384x640 8 cars, 2 trucks, 24.3ms\n",
            "video 1/1 (frame 375/4509) /content/cars.mp4: 384x640 8 cars, 2 trucks, 24.3ms\n",
            "video 1/1 (frame 376/4509) /content/cars.mp4: 384x640 7 cars, 2 trucks, 26.0ms\n",
            "video 1/1 (frame 377/4509) /content/cars.mp4: 384x640 9 cars, 1 truck, 24.3ms\n",
            "video 1/1 (frame 378/4509) /content/cars.mp4: 384x640 9 cars, 2 trucks, 24.3ms\n",
            "video 1/1 (frame 379/4509) /content/cars.mp4: 384x640 11 cars, 24.4ms\n",
            "video 1/1 (frame 380/4509) /content/cars.mp4: 384x640 11 cars, 1 truck, 24.3ms\n",
            "video 1/1 (frame 381/4509) /content/cars.mp4: 384x640 10 cars, 1 truck, 24.3ms\n",
            "video 1/1 (frame 382/4509) /content/cars.mp4: 384x640 10 cars, 24.3ms\n",
            "video 1/1 (frame 383/4509) /content/cars.mp4: 384x640 10 cars, 24.3ms\n",
            "video 1/1 (frame 384/4509) /content/cars.mp4: 384x640 10 cars, 1 truck, 24.3ms\n",
            "video 1/1 (frame 385/4509) /content/cars.mp4: 384x640 10 cars, 24.3ms\n",
            "video 1/1 (frame 386/4509) /content/cars.mp4: 384x640 10 cars, 1 truck, 32.2ms\n",
            "video 1/1 (frame 387/4509) /content/cars.mp4: 384x640 10 cars, 24.3ms\n",
            "video 1/1 (frame 388/4509) /content/cars.mp4: 384x640 10 cars, 24.3ms\n",
            "video 1/1 (frame 389/4509) /content/cars.mp4: 384x640 9 cars, 24.3ms\n",
            "video 1/1 (frame 390/4509) /content/cars.mp4: 384x640 9 cars, 24.3ms\n",
            "video 1/1 (frame 391/4509) /content/cars.mp4: 384x640 9 cars, 1 truck, 25.9ms\n",
            "video 1/1 (frame 392/4509) /content/cars.mp4: 384x640 9 cars, 24.3ms\n",
            "video 1/1 (frame 393/4509) /content/cars.mp4: 384x640 8 cars, 24.3ms\n",
            "video 1/1 (frame 394/4509) /content/cars.mp4: 384x640 8 cars, 1 truck, 24.3ms\n",
            "video 1/1 (frame 395/4509) /content/cars.mp4: 384x640 9 cars, 1 truck, 25.0ms\n",
            "video 1/1 (frame 396/4509) /content/cars.mp4: 384x640 9 cars, 1 truck, 24.9ms\n",
            "video 1/1 (frame 397/4509) /content/cars.mp4: 384x640 9 cars, 2 trucks, 24.3ms\n",
            "video 1/1 (frame 398/4509) /content/cars.mp4: 384x640 9 cars, 2 trucks, 24.3ms\n",
            "video 1/1 (frame 399/4509) /content/cars.mp4: 384x640 10 cars, 1 truck, 24.3ms\n",
            "video 1/1 (frame 400/4509) /content/cars.mp4: 384x640 11 cars, 2 trucks, 24.3ms\n",
            "video 1/1 (frame 401/4509) /content/cars.mp4: 384x640 10 cars, 2 trucks, 24.3ms\n",
            "video 1/1 (frame 402/4509) /content/cars.mp4: 384x640 10 cars, 1 truck, 24.3ms\n",
            "video 1/1 (frame 403/4509) /content/cars.mp4: 384x640 10 cars, 1 truck, 25.3ms\n",
            "video 1/1 (frame 404/4509) /content/cars.mp4: 384x640 11 cars, 24.3ms\n",
            "video 1/1 (frame 405/4509) /content/cars.mp4: 384x640 11 cars, 1 truck, 24.3ms\n",
            "video 1/1 (frame 406/4509) /content/cars.mp4: 384x640 12 cars, 28.9ms\n",
            "video 1/1 (frame 407/4509) /content/cars.mp4: 384x640 12 cars, 24.3ms\n",
            "video 1/1 (frame 408/4509) /content/cars.mp4: 384x640 11 cars, 24.3ms\n",
            "video 1/1 (frame 409/4509) /content/cars.mp4: 384x640 11 cars, 1 truck, 24.3ms\n",
            "video 1/1 (frame 410/4509) /content/cars.mp4: 384x640 11 cars, 24.3ms\n",
            "video 1/1 (frame 411/4509) /content/cars.mp4: 384x640 12 cars, 1 truck, 24.3ms\n",
            "video 1/1 (frame 412/4509) /content/cars.mp4: 384x640 13 cars, 1 truck, 24.3ms\n",
            "video 1/1 (frame 413/4509) /content/cars.mp4: 384x640 11 cars, 1 truck, 24.3ms\n",
            "video 1/1 (frame 414/4509) /content/cars.mp4: 384x640 10 cars, 1 truck, 24.3ms\n",
            "video 1/1 (frame 415/4509) /content/cars.mp4: 384x640 11 cars, 24.3ms\n",
            "video 1/1 (frame 416/4509) /content/cars.mp4: 384x640 12 cars, 24.3ms\n",
            "video 1/1 (frame 417/4509) /content/cars.mp4: 384x640 10 cars, 24.3ms\n",
            "video 1/1 (frame 418/4509) /content/cars.mp4: 384x640 10 cars, 1 truck, 27.8ms\n",
            "video 1/1 (frame 419/4509) /content/cars.mp4: 384x640 10 cars, 24.3ms\n",
            "video 1/1 (frame 420/4509) /content/cars.mp4: 384x640 10 cars, 1 truck, 24.3ms\n",
            "video 1/1 (frame 421/4509) /content/cars.mp4: 384x640 10 cars, 2 trucks, 35.9ms\n",
            "video 1/1 (frame 422/4509) /content/cars.mp4: 384x640 10 cars, 2 trucks, 24.3ms\n",
            "video 1/1 (frame 423/4509) /content/cars.mp4: 384x640 11 cars, 24.8ms\n",
            "video 1/1 (frame 424/4509) /content/cars.mp4: 384x640 12 cars, 1 truck, 25.4ms\n",
            "video 1/1 (frame 425/4509) /content/cars.mp4: 384x640 12 cars, 24.3ms\n",
            "video 1/1 (frame 426/4509) /content/cars.mp4: 384x640 13 cars, 24.3ms\n",
            "video 1/1 (frame 427/4509) /content/cars.mp4: 384x640 11 cars, 24.8ms\n",
            "video 1/1 (frame 428/4509) /content/cars.mp4: 384x640 12 cars, 29.7ms\n",
            "video 1/1 (frame 429/4509) /content/cars.mp4: 384x640 10 cars, 28.0ms\n",
            "video 1/1 (frame 430/4509) /content/cars.mp4: 384x640 10 cars, 43.8ms\n",
            "video 1/1 (frame 431/4509) /content/cars.mp4: 384x640 11 cars, 26.4ms\n",
            "video 1/1 (frame 432/4509) /content/cars.mp4: 384x640 12 cars, 2 trucks, 27.5ms\n",
            "video 1/1 (frame 433/4509) /content/cars.mp4: 384x640 11 cars, 31.4ms\n",
            "video 1/1 (frame 434/4509) /content/cars.mp4: 384x640 10 cars, 1 truck, 27.8ms\n",
            "video 1/1 (frame 435/4509) /content/cars.mp4: 384x640 10 cars, 28.8ms\n",
            "video 1/1 (frame 436/4509) /content/cars.mp4: 384x640 11 cars, 30.5ms\n",
            "video 1/1 (frame 437/4509) /content/cars.mp4: 384x640 11 cars, 1 truck, 24.3ms\n",
            "video 1/1 (frame 438/4509) /content/cars.mp4: 384x640 10 cars, 32.6ms\n",
            "video 1/1 (frame 439/4509) /content/cars.mp4: 384x640 11 cars, 28.3ms\n",
            "video 1/1 (frame 440/4509) /content/cars.mp4: 384x640 12 cars, 24.3ms\n",
            "video 1/1 (frame 441/4509) /content/cars.mp4: 384x640 12 cars, 24.4ms\n",
            "video 1/1 (frame 442/4509) /content/cars.mp4: 384x640 10 cars, 33.7ms\n",
            "video 1/1 (frame 443/4509) /content/cars.mp4: 384x640 11 cars, 1 bus, 1 truck, 34.5ms\n",
            "video 1/1 (frame 444/4509) /content/cars.mp4: 384x640 11 cars, 29.9ms\n",
            "video 1/1 (frame 445/4509) /content/cars.mp4: 384x640 11 cars, 24.3ms\n",
            "video 1/1 (frame 446/4509) /content/cars.mp4: 384x640 10 cars, 1 truck, 24.4ms\n",
            "video 1/1 (frame 447/4509) /content/cars.mp4: 384x640 12 cars, 1 bus, 1 truck, 24.3ms\n",
            "video 1/1 (frame 448/4509) /content/cars.mp4: 384x640 12 cars, 24.3ms\n",
            "video 1/1 (frame 449/4509) /content/cars.mp4: 384x640 10 cars, 1 truck, 24.3ms\n",
            "video 1/1 (frame 450/4509) /content/cars.mp4: 384x640 10 cars, 1 truck, 24.3ms\n",
            "video 1/1 (frame 451/4509) /content/cars.mp4: 384x640 10 cars, 1 truck, 24.3ms\n",
            "video 1/1 (frame 452/4509) /content/cars.mp4: 384x640 9 cars, 3 trucks, 24.3ms\n",
            "video 1/1 (frame 453/4509) /content/cars.mp4: 384x640 9 cars, 3 trucks, 26.1ms\n",
            "video 1/1 (frame 454/4509) /content/cars.mp4: 384x640 11 cars, 1 truck, 24.3ms\n",
            "video 1/1 (frame 455/4509) /content/cars.mp4: 384x640 9 cars, 2 trucks, 24.3ms\n",
            "video 1/1 (frame 456/4509) /content/cars.mp4: 384x640 9 cars, 1 truck, 24.3ms\n",
            "video 1/1 (frame 457/4509) /content/cars.mp4: 384x640 8 cars, 1 truck, 24.9ms\n",
            "video 1/1 (frame 458/4509) /content/cars.mp4: 384x640 9 cars, 1 truck, 25.5ms\n",
            "video 1/1 (frame 459/4509) /content/cars.mp4: 384x640 9 cars, 1 truck, 24.3ms\n",
            "video 1/1 (frame 460/4509) /content/cars.mp4: 384x640 10 cars, 2 trucks, 24.3ms\n",
            "video 1/1 (frame 461/4509) /content/cars.mp4: 384x640 9 cars, 2 trucks, 24.3ms\n",
            "video 1/1 (frame 462/4509) /content/cars.mp4: 384x640 10 cars, 1 truck, 24.3ms\n",
            "video 1/1 (frame 463/4509) /content/cars.mp4: 384x640 9 cars, 2 trucks, 24.3ms\n",
            "video 1/1 (frame 464/4509) /content/cars.mp4: 384x640 8 cars, 1 truck, 24.3ms\n",
            "video 1/1 (frame 465/4509) /content/cars.mp4: 384x640 8 cars, 1 truck, 24.3ms\n",
            "video 1/1 (frame 466/4509) /content/cars.mp4: 384x640 8 cars, 1 truck, 24.6ms\n",
            "video 1/1 (frame 467/4509) /content/cars.mp4: 384x640 7 cars, 1 truck, 24.3ms\n",
            "video 1/1 (frame 468/4509) /content/cars.mp4: 384x640 7 cars, 1 truck, 31.8ms\n",
            "video 1/1 (frame 469/4509) /content/cars.mp4: 384x640 8 cars, 1 truck, 24.3ms\n",
            "video 1/1 (frame 470/4509) /content/cars.mp4: 384x640 8 cars, 1 truck, 24.3ms\n",
            "video 1/1 (frame 471/4509) /content/cars.mp4: 384x640 7 cars, 1 truck, 24.3ms\n",
            "video 1/1 (frame 472/4509) /content/cars.mp4: 384x640 7 cars, 1 truck, 24.3ms\n",
            "video 1/1 (frame 473/4509) /content/cars.mp4: 384x640 9 cars, 1 truck, 24.3ms\n",
            "video 1/1 (frame 474/4509) /content/cars.mp4: 384x640 11 cars, 1 truck, 24.3ms\n",
            "video 1/1 (frame 475/4509) /content/cars.mp4: 384x640 11 cars, 1 truck, 24.3ms\n",
            "video 1/1 (frame 476/4509) /content/cars.mp4: 384x640 11 cars, 1 truck, 24.3ms\n",
            "video 1/1 (frame 477/4509) /content/cars.mp4: 384x640 10 cars, 1 truck, 24.3ms\n",
            "video 1/1 (frame 478/4509) /content/cars.mp4: 384x640 11 cars, 1 truck, 24.3ms\n",
            "video 1/1 (frame 479/4509) /content/cars.mp4: 384x640 10 cars, 1 truck, 24.3ms\n",
            "video 1/1 (frame 480/4509) /content/cars.mp4: 384x640 8 cars, 1 truck, 24.3ms\n",
            "video 1/1 (frame 481/4509) /content/cars.mp4: 384x640 9 cars, 24.3ms\n",
            "video 1/1 (frame 482/4509) /content/cars.mp4: 384x640 9 cars, 1 truck, 24.3ms\n",
            "video 1/1 (frame 483/4509) /content/cars.mp4: 384x640 9 cars, 2 trucks, 24.3ms\n",
            "video 1/1 (frame 484/4509) /content/cars.mp4: 384x640 9 cars, 2 trucks, 24.3ms\n",
            "video 1/1 (frame 485/4509) /content/cars.mp4: 384x640 9 cars, 24.3ms\n",
            "video 1/1 (frame 486/4509) /content/cars.mp4: 384x640 10 cars, 24.3ms\n",
            "video 1/1 (frame 487/4509) /content/cars.mp4: 384x640 9 cars, 24.3ms\n",
            "video 1/1 (frame 488/4509) /content/cars.mp4: 384x640 9 cars, 24.3ms\n",
            "video 1/1 (frame 489/4509) /content/cars.mp4: 384x640 8 cars, 2 trucks, 24.3ms\n",
            "video 1/1 (frame 490/4509) /content/cars.mp4: 384x640 8 cars, 24.3ms\n",
            "video 1/1 (frame 491/4509) /content/cars.mp4: 384x640 6 cars, 1 truck, 24.4ms\n",
            "video 1/1 (frame 492/4509) /content/cars.mp4: 384x640 6 cars, 24.3ms\n",
            "video 1/1 (frame 493/4509) /content/cars.mp4: 384x640 7 cars, 1 truck, 24.3ms\n",
            "video 1/1 (frame 494/4509) /content/cars.mp4: 384x640 7 cars, 1 truck, 24.3ms\n",
            "video 1/1 (frame 495/4509) /content/cars.mp4: 384x640 7 cars, 30.3ms\n",
            "video 1/1 (frame 496/4509) /content/cars.mp4: 384x640 6 cars, 24.3ms\n",
            "video 1/1 (frame 497/4509) /content/cars.mp4: 384x640 7 cars, 24.3ms\n",
            "video 1/1 (frame 498/4509) /content/cars.mp4: 384x640 6 cars, 1 truck, 24.3ms\n",
            "video 1/1 (frame 499/4509) /content/cars.mp4: 384x640 7 cars, 1 truck, 24.3ms\n",
            "video 1/1 (frame 500/4509) /content/cars.mp4: 384x640 7 cars, 24.3ms\n",
            "video 1/1 (frame 501/4509) /content/cars.mp4: 384x640 7 cars, 24.3ms\n",
            "video 1/1 (frame 502/4509) /content/cars.mp4: 384x640 8 cars, 24.3ms\n",
            "video 1/1 (frame 503/4509) /content/cars.mp4: 384x640 8 cars, 24.3ms\n",
            "video 1/1 (frame 504/4509) /content/cars.mp4: 384x640 8 cars, 25.0ms\n",
            "video 1/1 (frame 505/4509) /content/cars.mp4: 384x640 8 cars, 1 truck, 24.3ms\n",
            "video 1/1 (frame 506/4509) /content/cars.mp4: 384x640 8 cars, 24.3ms\n",
            "video 1/1 (frame 507/4509) /content/cars.mp4: 384x640 7 cars, 24.3ms\n",
            "video 1/1 (frame 508/4509) /content/cars.mp4: 384x640 8 cars, 24.3ms\n",
            "video 1/1 (frame 509/4509) /content/cars.mp4: 384x640 8 cars, 24.3ms\n",
            "video 1/1 (frame 510/4509) /content/cars.mp4: 384x640 7 cars, 24.3ms\n",
            "video 1/1 (frame 511/4509) /content/cars.mp4: 384x640 11 cars, 24.3ms\n",
            "video 1/1 (frame 512/4509) /content/cars.mp4: 384x640 7 cars, 24.3ms\n",
            "video 1/1 (frame 513/4509) /content/cars.mp4: 384x640 7 cars, 24.3ms\n",
            "video 1/1 (frame 514/4509) /content/cars.mp4: 384x640 7 cars, 24.3ms\n",
            "video 1/1 (frame 515/4509) /content/cars.mp4: 384x640 5 cars, 1 truck, 25.6ms\n",
            "video 1/1 (frame 516/4509) /content/cars.mp4: 384x640 6 cars, 24.3ms\n",
            "video 1/1 (frame 517/4509) /content/cars.mp4: 384x640 6 cars, 25.2ms\n",
            "video 1/1 (frame 518/4509) /content/cars.mp4: 384x640 7 cars, 24.3ms\n",
            "video 1/1 (frame 519/4509) /content/cars.mp4: 384x640 7 cars, 24.3ms\n",
            "video 1/1 (frame 520/4509) /content/cars.mp4: 384x640 6 cars, 24.3ms\n",
            "video 1/1 (frame 521/4509) /content/cars.mp4: 384x640 7 cars, 1 truck, 24.3ms\n",
            "video 1/1 (frame 522/4509) /content/cars.mp4: 384x640 6 cars, 24.3ms\n",
            "video 1/1 (frame 523/4509) /content/cars.mp4: 384x640 5 cars, 1 truck, 24.3ms\n",
            "video 1/1 (frame 524/4509) /content/cars.mp4: 384x640 6 cars, 24.3ms\n",
            "video 1/1 (frame 525/4509) /content/cars.mp4: 384x640 7 cars, 24.3ms\n",
            "video 1/1 (frame 526/4509) /content/cars.mp4: 384x640 7 cars, 24.3ms\n",
            "video 1/1 (frame 527/4509) /content/cars.mp4: 384x640 9 cars, 24.3ms\n",
            "video 1/1 (frame 528/4509) /content/cars.mp4: 384x640 7 cars, 27.7ms\n",
            "video 1/1 (frame 529/4509) /content/cars.mp4: 384x640 7 cars, 1 truck, 24.3ms\n",
            "video 1/1 (frame 530/4509) /content/cars.mp4: 384x640 7 cars, 1 truck, 30.5ms\n",
            "video 1/1 (frame 531/4509) /content/cars.mp4: 384x640 7 cars, 1 truck, 24.3ms\n",
            "video 1/1 (frame 532/4509) /content/cars.mp4: 384x640 8 cars, 24.3ms\n",
            "video 1/1 (frame 533/4509) /content/cars.mp4: 384x640 7 cars, 1 truck, 26.0ms\n",
            "video 1/1 (frame 534/4509) /content/cars.mp4: 384x640 10 cars, 24.3ms\n",
            "video 1/1 (frame 535/4509) /content/cars.mp4: 384x640 10 cars, 24.3ms\n",
            "video 1/1 (frame 536/4509) /content/cars.mp4: 384x640 8 cars, 24.3ms\n",
            "video 1/1 (frame 537/4509) /content/cars.mp4: 384x640 8 cars, 24.3ms\n",
            "video 1/1 (frame 538/4509) /content/cars.mp4: 384x640 7 cars, 24.3ms\n",
            "video 1/1 (frame 539/4509) /content/cars.mp4: 384x640 7 cars, 24.3ms\n",
            "video 1/1 (frame 540/4509) /content/cars.mp4: 384x640 7 cars, 24.3ms\n",
            "video 1/1 (frame 541/4509) /content/cars.mp4: 384x640 6 cars, 1 truck, 24.3ms\n",
            "video 1/1 (frame 542/4509) /content/cars.mp4: 384x640 6 cars, 2 trucks, 24.3ms\n",
            "video 1/1 (frame 543/4509) /content/cars.mp4: 384x640 7 cars, 1 truck, 24.3ms\n",
            "video 1/1 (frame 544/4509) /content/cars.mp4: 384x640 8 cars, 24.3ms\n",
            "video 1/1 (frame 545/4509) /content/cars.mp4: 384x640 7 cars, 24.3ms\n",
            "video 1/1 (frame 546/4509) /content/cars.mp4: 384x640 6 cars, 25.0ms\n",
            "video 1/1 (frame 547/4509) /content/cars.mp4: 384x640 8 cars, 24.3ms\n",
            "video 1/1 (frame 548/4509) /content/cars.mp4: 384x640 9 cars, 24.3ms\n",
            "video 1/1 (frame 549/4509) /content/cars.mp4: 384x640 8 cars, 25.1ms\n",
            "video 1/1 (frame 550/4509) /content/cars.mp4: 384x640 9 cars, 24.3ms\n",
            "video 1/1 (frame 551/4509) /content/cars.mp4: 384x640 8 cars, 24.3ms\n",
            "video 1/1 (frame 552/4509) /content/cars.mp4: 384x640 10 cars, 1 truck, 25.1ms\n",
            "video 1/1 (frame 553/4509) /content/cars.mp4: 384x640 10 cars, 1 truck, 24.3ms\n",
            "video 1/1 (frame 554/4509) /content/cars.mp4: 384x640 9 cars, 31.9ms\n",
            "video 1/1 (frame 555/4509) /content/cars.mp4: 384x640 8 cars, 25.0ms\n",
            "video 1/1 (frame 556/4509) /content/cars.mp4: 384x640 8 cars, 24.3ms\n",
            "video 1/1 (frame 557/4509) /content/cars.mp4: 384x640 7 cars, 1 truck, 33.8ms\n",
            "video 1/1 (frame 558/4509) /content/cars.mp4: 384x640 8 cars, 24.3ms\n",
            "video 1/1 (frame 559/4509) /content/cars.mp4: 384x640 8 cars, 27.9ms\n",
            "video 1/1 (frame 560/4509) /content/cars.mp4: 384x640 9 cars, 29.9ms\n",
            "video 1/1 (frame 561/4509) /content/cars.mp4: 384x640 10 cars, 27.1ms\n",
            "video 1/1 (frame 562/4509) /content/cars.mp4: 384x640 8 cars, 24.3ms\n",
            "video 1/1 (frame 563/4509) /content/cars.mp4: 384x640 9 cars, 1 truck, 30.4ms\n",
            "video 1/1 (frame 564/4509) /content/cars.mp4: 384x640 9 cars, 24.3ms\n",
            "video 1/1 (frame 565/4509) /content/cars.mp4: 384x640 10 cars, 28.7ms\n",
            "video 1/1 (frame 566/4509) /content/cars.mp4: 384x640 11 cars, 25.8ms\n",
            "video 1/1 (frame 567/4509) /content/cars.mp4: 384x640 9 cars, 30.4ms\n",
            "video 1/1 (frame 568/4509) /content/cars.mp4: 384x640 8 cars, 1 truck, 24.3ms\n",
            "video 1/1 (frame 569/4509) /content/cars.mp4: 384x640 9 cars, 2 trucks, 24.3ms\n",
            "video 1/1 (frame 570/4509) /content/cars.mp4: 384x640 8 cars, 1 truck, 31.4ms\n",
            "video 1/1 (frame 571/4509) /content/cars.mp4: 384x640 9 cars, 1 truck, 25.2ms\n",
            "video 1/1 (frame 572/4509) /content/cars.mp4: 384x640 9 cars, 1 truck, 24.3ms\n",
            "video 1/1 (frame 573/4509) /content/cars.mp4: 384x640 9 cars, 24.3ms\n",
            "video 1/1 (frame 574/4509) /content/cars.mp4: 384x640 10 cars, 1 truck, 24.3ms\n",
            "video 1/1 (frame 575/4509) /content/cars.mp4: 384x640 10 cars, 1 truck, 24.3ms\n",
            "video 1/1 (frame 576/4509) /content/cars.mp4: 384x640 12 cars, 27.3ms\n",
            "video 1/1 (frame 577/4509) /content/cars.mp4: 384x640 10 cars, 26.7ms\n",
            "video 1/1 (frame 578/4509) /content/cars.mp4: 384x640 7 cars, 24.3ms\n",
            "video 1/1 (frame 579/4509) /content/cars.mp4: 384x640 7 cars, 1 truck, 40.8ms\n",
            "video 1/1 (frame 580/4509) /content/cars.mp4: 384x640 6 cars, 24.3ms\n",
            "video 1/1 (frame 581/4509) /content/cars.mp4: 384x640 5 cars, 1 truck, 24.3ms\n",
            "video 1/1 (frame 582/4509) /content/cars.mp4: 384x640 6 cars, 2 trucks, 24.3ms\n",
            "video 1/1 (frame 583/4509) /content/cars.mp4: 384x640 5 cars, 2 trucks, 24.3ms\n",
            "video 1/1 (frame 584/4509) /content/cars.mp4: 384x640 8 cars, 1 truck, 24.3ms\n",
            "video 1/1 (frame 585/4509) /content/cars.mp4: 384x640 7 cars, 1 truck, 24.3ms\n",
            "video 1/1 (frame 586/4509) /content/cars.mp4: 384x640 7 cars, 1 truck, 24.3ms\n",
            "video 1/1 (frame 587/4509) /content/cars.mp4: 384x640 8 cars, 1 truck, 24.3ms\n",
            "video 1/1 (frame 588/4509) /content/cars.mp4: 384x640 9 cars, 2 trucks, 24.3ms\n",
            "video 1/1 (frame 589/4509) /content/cars.mp4: 384x640 9 cars, 2 trucks, 24.3ms\n",
            "video 1/1 (frame 590/4509) /content/cars.mp4: 384x640 9 cars, 24.3ms\n",
            "video 1/1 (frame 591/4509) /content/cars.mp4: 384x640 10 cars, 24.3ms\n",
            "video 1/1 (frame 592/4509) /content/cars.mp4: 384x640 8 cars, 24.3ms\n",
            "video 1/1 (frame 593/4509) /content/cars.mp4: 384x640 8 cars, 1 truck, 24.3ms\n",
            "video 1/1 (frame 594/4509) /content/cars.mp4: 384x640 7 cars, 2 trucks, 24.3ms\n",
            "video 1/1 (frame 595/4509) /content/cars.mp4: 384x640 6 cars, 2 trucks, 24.3ms\n",
            "video 1/1 (frame 596/4509) /content/cars.mp4: 384x640 8 cars, 1 truck, 24.3ms\n",
            "video 1/1 (frame 597/4509) /content/cars.mp4: 384x640 9 cars, 1 truck, 24.4ms\n",
            "video 1/1 (frame 598/4509) /content/cars.mp4: 384x640 9 cars, 24.3ms\n",
            "video 1/1 (frame 599/4509) /content/cars.mp4: 384x640 10 cars, 1 truck, 24.3ms\n",
            "video 1/1 (frame 600/4509) /content/cars.mp4: 384x640 9 cars, 24.3ms\n",
            "video 1/1 (frame 601/4509) /content/cars.mp4: 384x640 10 cars, 1 truck, 24.3ms\n",
            "video 1/1 (frame 602/4509) /content/cars.mp4: 384x640 11 cars, 24.3ms\n",
            "video 1/1 (frame 603/4509) /content/cars.mp4: 384x640 9 cars, 1 truck, 24.3ms\n",
            "video 1/1 (frame 604/4509) /content/cars.mp4: 384x640 9 cars, 1 truck, 24.3ms\n",
            "video 1/1 (frame 605/4509) /content/cars.mp4: 384x640 9 cars, 1 truck, 24.3ms\n",
            "video 1/1 (frame 606/4509) /content/cars.mp4: 384x640 10 cars, 1 truck, 24.3ms\n",
            "video 1/1 (frame 607/4509) /content/cars.mp4: 384x640 11 cars, 1 truck, 24.3ms\n",
            "video 1/1 (frame 608/4509) /content/cars.mp4: 384x640 11 cars, 24.3ms\n",
            "video 1/1 (frame 609/4509) /content/cars.mp4: 384x640 10 cars, 1 truck, 24.3ms\n",
            "video 1/1 (frame 610/4509) /content/cars.mp4: 384x640 10 cars, 1 truck, 24.6ms\n",
            "video 1/1 (frame 611/4509) /content/cars.mp4: 384x640 9 cars, 1 truck, 24.3ms\n",
            "video 1/1 (frame 612/4509) /content/cars.mp4: 384x640 10 cars, 1 truck, 24.3ms\n",
            "video 1/1 (frame 613/4509) /content/cars.mp4: 384x640 10 cars, 1 truck, 24.3ms\n",
            "video 1/1 (frame 614/4509) /content/cars.mp4: 384x640 10 cars, 24.3ms\n",
            "video 1/1 (frame 615/4509) /content/cars.mp4: 384x640 8 cars, 1 truck, 24.3ms\n",
            "video 1/1 (frame 616/4509) /content/cars.mp4: 384x640 8 cars, 1 truck, 24.3ms\n",
            "video 1/1 (frame 617/4509) /content/cars.mp4: 384x640 8 cars, 1 truck, 24.3ms\n",
            "video 1/1 (frame 618/4509) /content/cars.mp4: 384x640 7 cars, 1 truck, 29.1ms\n",
            "video 1/1 (frame 619/4509) /content/cars.mp4: 384x640 9 cars, 1 truck, 24.3ms\n",
            "video 1/1 (frame 620/4509) /content/cars.mp4: 384x640 9 cars, 1 truck, 25.4ms\n",
            "video 1/1 (frame 621/4509) /content/cars.mp4: 384x640 10 cars, 1 truck, 24.3ms\n",
            "video 1/1 (frame 622/4509) /content/cars.mp4: 384x640 10 cars, 1 truck, 24.3ms\n",
            "video 1/1 (frame 623/4509) /content/cars.mp4: 384x640 10 cars, 24.3ms\n",
            "video 1/1 (frame 624/4509) /content/cars.mp4: 384x640 9 cars, 24.3ms\n",
            "video 1/1 (frame 625/4509) /content/cars.mp4: 384x640 9 cars, 1 truck, 24.3ms\n",
            "video 1/1 (frame 626/4509) /content/cars.mp4: 384x640 9 cars, 1 truck, 24.3ms\n",
            "video 1/1 (frame 627/4509) /content/cars.mp4: 384x640 8 cars, 24.3ms\n",
            "video 1/1 (frame 628/4509) /content/cars.mp4: 384x640 11 cars, 24.3ms\n",
            "video 1/1 (frame 629/4509) /content/cars.mp4: 384x640 8 cars, 24.3ms\n",
            "video 1/1 (frame 630/4509) /content/cars.mp4: 384x640 8 cars, 24.3ms\n",
            "video 1/1 (frame 631/4509) /content/cars.mp4: 384x640 7 cars, 24.3ms\n",
            "video 1/1 (frame 632/4509) /content/cars.mp4: 384x640 8 cars, 24.3ms\n",
            "video 1/1 (frame 633/4509) /content/cars.mp4: 384x640 8 cars, 24.3ms\n",
            "video 1/1 (frame 634/4509) /content/cars.mp4: 384x640 8 cars, 24.3ms\n",
            "video 1/1 (frame 635/4509) /content/cars.mp4: 384x640 7 cars, 24.3ms\n",
            "video 1/1 (frame 636/4509) /content/cars.mp4: 384x640 9 cars, 24.3ms\n",
            "video 1/1 (frame 637/4509) /content/cars.mp4: 384x640 8 cars, 24.3ms\n",
            "video 1/1 (frame 638/4509) /content/cars.mp4: 384x640 8 cars, 24.3ms\n",
            "video 1/1 (frame 639/4509) /content/cars.mp4: 384x640 8 cars, 24.3ms\n",
            "video 1/1 (frame 640/4509) /content/cars.mp4: 384x640 7 cars, 24.3ms\n",
            "video 1/1 (frame 641/4509) /content/cars.mp4: 384x640 8 cars, 24.3ms\n",
            "video 1/1 (frame 642/4509) /content/cars.mp4: 384x640 8 cars, 24.3ms\n",
            "video 1/1 (frame 643/4509) /content/cars.mp4: 384x640 7 cars, 24.3ms\n",
            "video 1/1 (frame 644/4509) /content/cars.mp4: 384x640 7 cars, 1 truck, 25.6ms\n",
            "video 1/1 (frame 645/4509) /content/cars.mp4: 384x640 9 cars, 24.3ms\n",
            "video 1/1 (frame 646/4509) /content/cars.mp4: 384x640 8 cars, 24.3ms\n",
            "video 1/1 (frame 647/4509) /content/cars.mp4: 384x640 7 cars, 24.3ms\n",
            "video 1/1 (frame 648/4509) /content/cars.mp4: 384x640 8 cars, 24.3ms\n",
            "video 1/1 (frame 649/4509) /content/cars.mp4: 384x640 9 cars, 24.3ms\n",
            "video 1/1 (frame 650/4509) /content/cars.mp4: 384x640 8 cars, 24.3ms\n",
            "video 1/1 (frame 651/4509) /content/cars.mp4: 384x640 9 cars, 24.3ms\n",
            "video 1/1 (frame 652/4509) /content/cars.mp4: 384x640 9 cars, 24.3ms\n",
            "video 1/1 (frame 653/4509) /content/cars.mp4: 384x640 8 cars, 24.3ms\n",
            "video 1/1 (frame 654/4509) /content/cars.mp4: 384x640 9 cars, 24.3ms\n",
            "video 1/1 (frame 655/4509) /content/cars.mp4: 384x640 10 cars, 24.3ms\n",
            "video 1/1 (frame 656/4509) /content/cars.mp4: 384x640 9 cars, 24.3ms\n",
            "video 1/1 (frame 657/4509) /content/cars.mp4: 384x640 9 cars, 24.3ms\n",
            "video 1/1 (frame 658/4509) /content/cars.mp4: 384x640 9 cars, 24.3ms\n",
            "video 1/1 (frame 659/4509) /content/cars.mp4: 384x640 11 cars, 24.3ms\n",
            "video 1/1 (frame 660/4509) /content/cars.mp4: 384x640 11 cars, 24.3ms\n",
            "video 1/1 (frame 661/4509) /content/cars.mp4: 384x640 11 cars, 24.3ms\n",
            "video 1/1 (frame 662/4509) /content/cars.mp4: 384x640 11 cars, 1 truck, 24.3ms\n",
            "video 1/1 (frame 663/4509) /content/cars.mp4: 384x640 10 cars, 1 truck, 24.3ms\n",
            "video 1/1 (frame 664/4509) /content/cars.mp4: 384x640 10 cars, 1 truck, 24.3ms\n",
            "video 1/1 (frame 665/4509) /content/cars.mp4: 384x640 8 cars, 1 truck, 24.3ms\n",
            "video 1/1 (frame 666/4509) /content/cars.mp4: 384x640 8 cars, 1 truck, 24.3ms\n",
            "video 1/1 (frame 667/4509) /content/cars.mp4: 384x640 11 cars, 1 truck, 24.3ms\n",
            "video 1/1 (frame 668/4509) /content/cars.mp4: 384x640 10 cars, 1 truck, 24.3ms\n",
            "video 1/1 (frame 669/4509) /content/cars.mp4: 384x640 11 cars, 1 truck, 24.3ms\n",
            "video 1/1 (frame 670/4509) /content/cars.mp4: 384x640 9 cars, 1 truck, 24.3ms\n",
            "video 1/1 (frame 671/4509) /content/cars.mp4: 384x640 8 cars, 1 truck, 24.3ms\n",
            "video 1/1 (frame 672/4509) /content/cars.mp4: 384x640 9 cars, 1 truck, 24.3ms\n",
            "video 1/1 (frame 673/4509) /content/cars.mp4: 384x640 9 cars, 24.3ms\n",
            "video 1/1 (frame 674/4509) /content/cars.mp4: 384x640 9 cars, 1 truck, 24.3ms\n",
            "video 1/1 (frame 675/4509) /content/cars.mp4: 384x640 8 cars, 1 truck, 24.3ms\n",
            "video 1/1 (frame 676/4509) /content/cars.mp4: 384x640 11 cars, 1 truck, 24.3ms\n",
            "video 1/1 (frame 677/4509) /content/cars.mp4: 384x640 10 cars, 1 truck, 24.3ms\n",
            "video 1/1 (frame 678/4509) /content/cars.mp4: 384x640 10 cars, 1 truck, 24.3ms\n",
            "video 1/1 (frame 679/4509) /content/cars.mp4: 384x640 11 cars, 1 truck, 24.3ms\n",
            "video 1/1 (frame 680/4509) /content/cars.mp4: 384x640 10 cars, 1 truck, 24.3ms\n",
            "video 1/1 (frame 681/4509) /content/cars.mp4: 384x640 10 cars, 26.8ms\n",
            "video 1/1 (frame 682/4509) /content/cars.mp4: 384x640 10 cars, 24.3ms\n",
            "video 1/1 (frame 683/4509) /content/cars.mp4: 384x640 9 cars, 1 truck, 24.3ms\n",
            "video 1/1 (frame 684/4509) /content/cars.mp4: 384x640 8 cars, 1 truck, 24.3ms\n",
            "video 1/1 (frame 685/4509) /content/cars.mp4: 384x640 8 cars, 1 truck, 24.3ms\n",
            "video 1/1 (frame 686/4509) /content/cars.mp4: 384x640 8 cars, 1 truck, 24.3ms\n",
            "video 1/1 (frame 687/4509) /content/cars.mp4: 384x640 8 cars, 1 truck, 24.3ms\n",
            "video 1/1 (frame 688/4509) /content/cars.mp4: 384x640 8 cars, 24.3ms\n",
            "video 1/1 (frame 689/4509) /content/cars.mp4: 384x640 9 cars, 24.3ms\n",
            "video 1/1 (frame 690/4509) /content/cars.mp4: 384x640 9 cars, 1 truck, 24.3ms\n",
            "video 1/1 (frame 691/4509) /content/cars.mp4: 384x640 10 cars, 24.3ms\n",
            "video 1/1 (frame 692/4509) /content/cars.mp4: 384x640 11 cars, 24.4ms\n",
            "video 1/1 (frame 693/4509) /content/cars.mp4: 384x640 11 cars, 24.3ms\n",
            "video 1/1 (frame 694/4509) /content/cars.mp4: 384x640 11 cars, 24.3ms\n",
            "video 1/1 (frame 695/4509) /content/cars.mp4: 384x640 10 cars, 1 truck, 24.3ms\n",
            "video 1/1 (frame 696/4509) /content/cars.mp4: 384x640 8 cars, 1 truck, 24.3ms\n",
            "video 1/1 (frame 697/4509) /content/cars.mp4: 384x640 7 cars, 1 truck, 30.4ms\n",
            "video 1/1 (frame 698/4509) /content/cars.mp4: 384x640 7 cars, 24.3ms\n",
            "video 1/1 (frame 699/4509) /content/cars.mp4: 384x640 6 cars, 1 truck, 30.3ms\n",
            "video 1/1 (frame 700/4509) /content/cars.mp4: 384x640 9 cars, 1 truck, 31.1ms\n",
            "video 1/1 (frame 701/4509) /content/cars.mp4: 384x640 11 cars, 1 truck, 24.3ms\n",
            "video 1/1 (frame 702/4509) /content/cars.mp4: 384x640 11 cars, 24.3ms\n",
            "video 1/1 (frame 703/4509) /content/cars.mp4: 384x640 10 cars, 1 truck, 24.3ms\n",
            "video 1/1 (frame 704/4509) /content/cars.mp4: 384x640 11 cars, 1 truck, 28.7ms\n",
            "video 1/1 (frame 705/4509) /content/cars.mp4: 384x640 12 cars, 1 truck, 24.3ms\n",
            "video 1/1 (frame 706/4509) /content/cars.mp4: 384x640 11 cars, 24.3ms\n",
            "video 1/1 (frame 707/4509) /content/cars.mp4: 384x640 8 cars, 24.3ms\n",
            "video 1/1 (frame 708/4509) /content/cars.mp4: 384x640 8 cars, 1 truck, 29.3ms\n",
            "video 1/1 (frame 709/4509) /content/cars.mp4: 384x640 8 cars, 1 truck, 24.3ms\n",
            "video 1/1 (frame 710/4509) /content/cars.mp4: 384x640 8 cars, 24.6ms\n",
            "video 1/1 (frame 711/4509) /content/cars.mp4: 384x640 9 cars, 28.9ms\n",
            "video 1/1 (frame 712/4509) /content/cars.mp4: 384x640 10 cars, 24.3ms\n",
            "video 1/1 (frame 713/4509) /content/cars.mp4: 384x640 7 cars, 30.6ms\n",
            "video 1/1 (frame 714/4509) /content/cars.mp4: 384x640 7 cars, 24.3ms\n",
            "video 1/1 (frame 715/4509) /content/cars.mp4: 384x640 8 cars, 24.3ms\n",
            "video 1/1 (frame 716/4509) /content/cars.mp4: 384x640 10 cars, 1 truck, 31.8ms\n",
            "video 1/1 (frame 717/4509) /content/cars.mp4: 384x640 6 cars, 24.3ms\n",
            "video 1/1 (frame 718/4509) /content/cars.mp4: 384x640 7 cars, 24.3ms\n",
            "video 1/1 (frame 719/4509) /content/cars.mp4: 384x640 9 cars, 32.7ms\n",
            "video 1/1 (frame 720/4509) /content/cars.mp4: 384x640 9 cars, 24.3ms\n",
            "video 1/1 (frame 721/4509) /content/cars.mp4: 384x640 10 cars, 1 truck, 24.3ms\n",
            "video 1/1 (frame 722/4509) /content/cars.mp4: 384x640 10 cars, 24.3ms\n",
            "video 1/1 (frame 723/4509) /content/cars.mp4: 384x640 10 cars, 24.3ms\n",
            "video 1/1 (frame 724/4509) /content/cars.mp4: 384x640 9 cars, 24.3ms\n",
            "video 1/1 (frame 725/4509) /content/cars.mp4: 384x640 9 cars, 24.3ms\n",
            "video 1/1 (frame 726/4509) /content/cars.mp4: 384x640 9 cars, 24.3ms\n",
            "video 1/1 (frame 727/4509) /content/cars.mp4: 384x640 10 cars, 24.3ms\n",
            "video 1/1 (frame 728/4509) /content/cars.mp4: 384x640 9 cars, 24.3ms\n",
            "video 1/1 (frame 729/4509) /content/cars.mp4: 384x640 10 cars, 1 truck, 24.3ms\n",
            "video 1/1 (frame 730/4509) /content/cars.mp4: 384x640 10 cars, 24.3ms\n",
            "video 1/1 (frame 731/4509) /content/cars.mp4: 384x640 10 cars, 24.3ms\n",
            "video 1/1 (frame 732/4509) /content/cars.mp4: 384x640 7 cars, 2 trucks, 24.3ms\n",
            "video 1/1 (frame 733/4509) /content/cars.mp4: 384x640 9 cars, 24.3ms\n",
            "video 1/1 (frame 734/4509) /content/cars.mp4: 384x640 9 cars, 24.3ms\n",
            "video 1/1 (frame 735/4509) /content/cars.mp4: 384x640 9 cars, 24.3ms\n",
            "video 1/1 (frame 736/4509) /content/cars.mp4: 384x640 9 cars, 24.4ms\n",
            "video 1/1 (frame 737/4509) /content/cars.mp4: 384x640 8 cars, 24.3ms\n",
            "video 1/1 (frame 738/4509) /content/cars.mp4: 384x640 9 cars, 24.3ms\n",
            "video 1/1 (frame 739/4509) /content/cars.mp4: 384x640 9 cars, 24.3ms\n",
            "video 1/1 (frame 740/4509) /content/cars.mp4: 384x640 9 cars, 24.3ms\n",
            "video 1/1 (frame 741/4509) /content/cars.mp4: 384x640 9 cars, 24.3ms\n",
            "video 1/1 (frame 742/4509) /content/cars.mp4: 384x640 9 cars, 24.3ms\n",
            "video 1/1 (frame 743/4509) /content/cars.mp4: 384x640 10 cars, 24.3ms\n",
            "video 1/1 (frame 744/4509) /content/cars.mp4: 384x640 10 cars, 24.3ms\n",
            "video 1/1 (frame 745/4509) /content/cars.mp4: 384x640 10 cars, 24.3ms\n",
            "video 1/1 (frame 746/4509) /content/cars.mp4: 384x640 10 cars, 24.3ms\n",
            "video 1/1 (frame 747/4509) /content/cars.mp4: 384x640 10 cars, 24.3ms\n",
            "video 1/1 (frame 748/4509) /content/cars.mp4: 384x640 10 cars, 24.3ms\n",
            "video 1/1 (frame 749/4509) /content/cars.mp4: 384x640 10 cars, 24.3ms\n",
            "video 1/1 (frame 750/4509) /content/cars.mp4: 384x640 10 cars, 24.3ms\n",
            "video 1/1 (frame 751/4509) /content/cars.mp4: 384x640 10 cars, 24.3ms\n",
            "video 1/1 (frame 752/4509) /content/cars.mp4: 384x640 10 cars, 24.3ms\n",
            "video 1/1 (frame 753/4509) /content/cars.mp4: 384x640 10 cars, 24.5ms\n",
            "video 1/1 (frame 754/4509) /content/cars.mp4: 384x640 10 cars, 24.3ms\n",
            "video 1/1 (frame 755/4509) /content/cars.mp4: 384x640 10 cars, 1 truck, 24.3ms\n",
            "video 1/1 (frame 756/4509) /content/cars.mp4: 384x640 9 cars, 24.3ms\n",
            "video 1/1 (frame 757/4509) /content/cars.mp4: 384x640 9 cars, 1 truck, 24.3ms\n",
            "video 1/1 (frame 758/4509) /content/cars.mp4: 384x640 9 cars, 24.3ms\n",
            "video 1/1 (frame 759/4509) /content/cars.mp4: 384x640 9 cars, 24.3ms\n",
            "video 1/1 (frame 760/4509) /content/cars.mp4: 384x640 8 cars, 1 truck, 24.3ms\n",
            "video 1/1 (frame 761/4509) /content/cars.mp4: 384x640 9 cars, 24.3ms\n",
            "video 1/1 (frame 762/4509) /content/cars.mp4: 384x640 9 cars, 24.3ms\n",
            "video 1/1 (frame 763/4509) /content/cars.mp4: 384x640 8 cars, 1 truck, 24.3ms\n",
            "video 1/1 (frame 764/4509) /content/cars.mp4: 384x640 8 cars, 24.3ms\n",
            "video 1/1 (frame 765/4509) /content/cars.mp4: 384x640 8 cars, 24.3ms\n",
            "video 1/1 (frame 766/4509) /content/cars.mp4: 384x640 5 cars, 1 truck, 24.3ms\n",
            "video 1/1 (frame 767/4509) /content/cars.mp4: 384x640 8 cars, 24.3ms\n",
            "video 1/1 (frame 768/4509) /content/cars.mp4: 384x640 8 cars, 1 truck, 24.3ms\n",
            "video 1/1 (frame 769/4509) /content/cars.mp4: 384x640 8 cars, 1 truck, 24.3ms\n",
            "video 1/1 (frame 770/4509) /content/cars.mp4: 384x640 8 cars, 24.3ms\n",
            "video 1/1 (frame 771/4509) /content/cars.mp4: 384x640 8 cars, 24.3ms\n",
            "video 1/1 (frame 772/4509) /content/cars.mp4: 384x640 9 cars, 24.3ms\n",
            "video 1/1 (frame 773/4509) /content/cars.mp4: 384x640 7 cars, 1 truck, 24.3ms\n",
            "video 1/1 (frame 774/4509) /content/cars.mp4: 384x640 9 cars, 1 truck, 25.8ms\n",
            "video 1/1 (frame 775/4509) /content/cars.mp4: 384x640 8 cars, 1 truck, 24.3ms\n",
            "video 1/1 (frame 776/4509) /content/cars.mp4: 384x640 9 cars, 24.3ms\n",
            "video 1/1 (frame 777/4509) /content/cars.mp4: 384x640 9 cars, 24.3ms\n",
            "video 1/1 (frame 778/4509) /content/cars.mp4: 384x640 8 cars, 2 trucks, 24.3ms\n",
            "video 1/1 (frame 779/4509) /content/cars.mp4: 384x640 9 cars, 24.3ms\n",
            "video 1/1 (frame 780/4509) /content/cars.mp4: 384x640 8 cars, 24.3ms\n",
            "video 1/1 (frame 781/4509) /content/cars.mp4: 384x640 9 cars, 24.3ms\n",
            "video 1/1 (frame 782/4509) /content/cars.mp4: 384x640 8 cars, 1 truck, 24.3ms\n",
            "video 1/1 (frame 783/4509) /content/cars.mp4: 384x640 9 cars, 24.3ms\n",
            "video 1/1 (frame 784/4509) /content/cars.mp4: 384x640 9 cars, 24.3ms\n",
            "video 1/1 (frame 785/4509) /content/cars.mp4: 384x640 9 cars, 24.3ms\n",
            "video 1/1 (frame 786/4509) /content/cars.mp4: 384x640 8 cars, 24.3ms\n",
            "video 1/1 (frame 787/4509) /content/cars.mp4: 384x640 9 cars, 1 truck, 24.3ms\n",
            "video 1/1 (frame 788/4509) /content/cars.mp4: 384x640 9 cars, 24.3ms\n",
            "video 1/1 (frame 789/4509) /content/cars.mp4: 384x640 9 cars, 24.3ms\n",
            "video 1/1 (frame 790/4509) /content/cars.mp4: 384x640 9 cars, 24.3ms\n",
            "video 1/1 (frame 791/4509) /content/cars.mp4: 384x640 10 cars, 24.3ms\n",
            "video 1/1 (frame 792/4509) /content/cars.mp4: 384x640 11 cars, 24.3ms\n",
            "video 1/1 (frame 793/4509) /content/cars.mp4: 384x640 11 cars, 24.3ms\n",
            "video 1/1 (frame 794/4509) /content/cars.mp4: 384x640 12 cars, 24.3ms\n",
            "video 1/1 (frame 795/4509) /content/cars.mp4: 384x640 11 cars, 24.3ms\n",
            "video 1/1 (frame 796/4509) /content/cars.mp4: 384x640 11 cars, 24.3ms\n",
            "video 1/1 (frame 797/4509) /content/cars.mp4: 384x640 11 cars, 1 truck, 27.7ms\n",
            "video 1/1 (frame 798/4509) /content/cars.mp4: 384x640 10 cars, 1 truck, 24.3ms\n",
            "video 1/1 (frame 799/4509) /content/cars.mp4: 384x640 8 cars, 1 truck, 24.3ms\n",
            "video 1/1 (frame 800/4509) /content/cars.mp4: 384x640 9 cars, 1 truck, 24.3ms\n",
            "video 1/1 (frame 801/4509) /content/cars.mp4: 384x640 9 cars, 1 truck, 24.3ms\n",
            "video 1/1 (frame 802/4509) /content/cars.mp4: 384x640 10 cars, 1 truck, 24.3ms\n",
            "video 1/1 (frame 803/4509) /content/cars.mp4: 384x640 9 cars, 1 truck, 24.3ms\n",
            "video 1/1 (frame 804/4509) /content/cars.mp4: 384x640 10 cars, 1 truck, 24.3ms\n",
            "video 1/1 (frame 805/4509) /content/cars.mp4: 384x640 12 cars, 1 truck, 24.3ms\n",
            "video 1/1 (frame 806/4509) /content/cars.mp4: 384x640 9 cars, 1 truck, 24.3ms\n",
            "video 1/1 (frame 807/4509) /content/cars.mp4: 384x640 10 cars, 1 truck, 24.3ms\n",
            "video 1/1 (frame 808/4509) /content/cars.mp4: 384x640 10 cars, 1 truck, 24.3ms\n",
            "video 1/1 (frame 809/4509) /content/cars.mp4: 384x640 11 cars, 1 truck, 24.3ms\n",
            "video 1/1 (frame 810/4509) /content/cars.mp4: 384x640 11 cars, 1 truck, 24.3ms\n",
            "video 1/1 (frame 811/4509) /content/cars.mp4: 384x640 10 cars, 1 truck, 24.3ms\n",
            "video 1/1 (frame 812/4509) /content/cars.mp4: 384x640 10 cars, 1 truck, 24.3ms\n",
            "video 1/1 (frame 813/4509) /content/cars.mp4: 384x640 8 cars, 2 trucks, 24.3ms\n",
            "video 1/1 (frame 814/4509) /content/cars.mp4: 384x640 10 cars, 1 truck, 24.3ms\n",
            "video 1/1 (frame 815/4509) /content/cars.mp4: 384x640 11 cars, 1 truck, 24.3ms\n",
            "video 1/1 (frame 816/4509) /content/cars.mp4: 384x640 10 cars, 1 truck, 26.7ms\n",
            "video 1/1 (frame 817/4509) /content/cars.mp4: 384x640 12 cars, 1 truck, 24.3ms\n",
            "video 1/1 (frame 818/4509) /content/cars.mp4: 384x640 12 cars, 1 truck, 24.3ms\n",
            "video 1/1 (frame 819/4509) /content/cars.mp4: 384x640 10 cars, 1 truck, 24.3ms\n",
            "video 1/1 (frame 820/4509) /content/cars.mp4: 384x640 10 cars, 1 truck, 24.3ms\n",
            "video 1/1 (frame 821/4509) /content/cars.mp4: 384x640 10 cars, 1 truck, 24.3ms\n",
            "video 1/1 (frame 822/4509) /content/cars.mp4: 384x640 11 cars, 1 truck, 24.3ms\n",
            "video 1/1 (frame 823/4509) /content/cars.mp4: 384x640 10 cars, 1 truck, 24.3ms\n",
            "video 1/1 (frame 824/4509) /content/cars.mp4: 384x640 12 cars, 1 truck, 24.3ms\n",
            "video 1/1 (frame 825/4509) /content/cars.mp4: 384x640 12 cars, 1 truck, 24.3ms\n",
            "video 1/1 (frame 826/4509) /content/cars.mp4: 384x640 11 cars, 1 truck, 24.3ms\n",
            "video 1/1 (frame 827/4509) /content/cars.mp4: 384x640 13 cars, 1 truck, 24.3ms\n",
            "video 1/1 (frame 828/4509) /content/cars.mp4: 384x640 12 cars, 1 truck, 24.3ms\n",
            "video 1/1 (frame 829/4509) /content/cars.mp4: 384x640 12 cars, 1 truck, 24.3ms\n",
            "video 1/1 (frame 830/4509) /content/cars.mp4: 384x640 12 cars, 1 truck, 24.3ms\n",
            "video 1/1 (frame 831/4509) /content/cars.mp4: 384x640 12 cars, 1 truck, 24.3ms\n",
            "video 1/1 (frame 832/4509) /content/cars.mp4: 384x640 10 cars, 1 truck, 27.1ms\n",
            "video 1/1 (frame 833/4509) /content/cars.mp4: 384x640 12 cars, 24.6ms\n",
            "video 1/1 (frame 834/4509) /content/cars.mp4: 384x640 11 cars, 1 truck, 24.3ms\n",
            "video 1/1 (frame 835/4509) /content/cars.mp4: 384x640 10 cars, 24.3ms\n",
            "video 1/1 (frame 836/4509) /content/cars.mp4: 384x640 10 cars, 24.3ms\n",
            "video 1/1 (frame 837/4509) /content/cars.mp4: 384x640 9 cars, 1 truck, 24.3ms\n",
            "video 1/1 (frame 838/4509) /content/cars.mp4: 384x640 9 cars, 1 truck, 31.3ms\n",
            "video 1/1 (frame 839/4509) /content/cars.mp4: 384x640 10 cars, 1 truck, 26.2ms\n",
            "video 1/1 (frame 840/4509) /content/cars.mp4: 384x640 11 cars, 1 truck, 24.4ms\n",
            "video 1/1 (frame 841/4509) /content/cars.mp4: 384x640 11 cars, 33.4ms\n",
            "video 1/1 (frame 842/4509) /content/cars.mp4: 384x640 11 cars, 24.3ms\n",
            "video 1/1 (frame 843/4509) /content/cars.mp4: 384x640 9 cars, 24.3ms\n",
            "video 1/1 (frame 844/4509) /content/cars.mp4: 384x640 9 cars, 24.4ms\n",
            "video 1/1 (frame 845/4509) /content/cars.mp4: 384x640 6 cars, 1 truck, 27.9ms\n",
            "video 1/1 (frame 846/4509) /content/cars.mp4: 384x640 7 cars, 24.7ms\n",
            "video 1/1 (frame 847/4509) /content/cars.mp4: 384x640 6 cars, 3 trucks, 25.8ms\n",
            "video 1/1 (frame 848/4509) /content/cars.mp4: 384x640 9 cars, 1 truck, 32.1ms\n",
            "video 1/1 (frame 849/4509) /content/cars.mp4: 384x640 9 cars, 1 truck, 41.1ms\n",
            "video 1/1 (frame 850/4509) /content/cars.mp4: 384x640 7 cars, 1 truck, 32.5ms\n",
            "video 1/1 (frame 851/4509) /content/cars.mp4: 384x640 8 cars, 24.3ms\n",
            "video 1/1 (frame 852/4509) /content/cars.mp4: 384x640 8 cars, 1 truck, 27.0ms\n",
            "video 1/1 (frame 853/4509) /content/cars.mp4: 384x640 8 cars, 1 truck, 33.2ms\n",
            "video 1/1 (frame 854/4509) /content/cars.mp4: 384x640 8 cars, 26.3ms\n",
            "video 1/1 (frame 855/4509) /content/cars.mp4: 384x640 7 cars, 1 truck, 24.3ms\n",
            "video 1/1 (frame 856/4509) /content/cars.mp4: 384x640 8 cars, 1 truck, 24.3ms\n",
            "video 1/1 (frame 857/4509) /content/cars.mp4: 384x640 10 cars, 1 truck, 24.3ms\n",
            "video 1/1 (frame 858/4509) /content/cars.mp4: 384x640 8 cars, 24.3ms\n",
            "video 1/1 (frame 859/4509) /content/cars.mp4: 384x640 4 cars, 1 truck, 24.3ms\n",
            "video 1/1 (frame 860/4509) /content/cars.mp4: 384x640 7 cars, 2 trucks, 24.3ms\n",
            "video 1/1 (frame 861/4509) /content/cars.mp4: 384x640 7 cars, 3 trucks, 24.3ms\n",
            "video 1/1 (frame 862/4509) /content/cars.mp4: 384x640 7 cars, 24.3ms\n",
            "video 1/1 (frame 863/4509) /content/cars.mp4: 384x640 7 cars, 1 truck, 24.3ms\n",
            "video 1/1 (frame 864/4509) /content/cars.mp4: 384x640 6 cars, 2 trucks, 24.3ms\n",
            "video 1/1 (frame 865/4509) /content/cars.mp4: 384x640 10 cars, 24.3ms\n",
            "video 1/1 (frame 866/4509) /content/cars.mp4: 384x640 9 cars, 24.3ms\n",
            "video 1/1 (frame 867/4509) /content/cars.mp4: 384x640 10 cars, 25.5ms\n",
            "video 1/1 (frame 868/4509) /content/cars.mp4: 384x640 10 cars, 24.3ms\n",
            "video 1/1 (frame 869/4509) /content/cars.mp4: 384x640 10 cars, 24.3ms\n",
            "video 1/1 (frame 870/4509) /content/cars.mp4: 384x640 10 cars, 1 truck, 24.3ms\n",
            "video 1/1 (frame 871/4509) /content/cars.mp4: 384x640 9 cars, 24.3ms\n",
            "video 1/1 (frame 872/4509) /content/cars.mp4: 384x640 9 cars, 24.3ms\n",
            "video 1/1 (frame 873/4509) /content/cars.mp4: 384x640 8 cars, 1 truck, 24.3ms\n",
            "video 1/1 (frame 874/4509) /content/cars.mp4: 384x640 10 cars, 1 truck, 24.3ms\n",
            "video 1/1 (frame 875/4509) /content/cars.mp4: 384x640 9 cars, 24.3ms\n",
            "video 1/1 (frame 876/4509) /content/cars.mp4: 384x640 10 cars, 24.3ms\n",
            "video 1/1 (frame 877/4509) /content/cars.mp4: 384x640 10 cars, 24.3ms\n",
            "video 1/1 (frame 878/4509) /content/cars.mp4: 384x640 11 cars, 24.3ms\n",
            "video 1/1 (frame 879/4509) /content/cars.mp4: 384x640 6 cars, 1 truck, 24.3ms\n",
            "video 1/1 (frame 880/4509) /content/cars.mp4: 384x640 9 cars, 1 truck, 24.4ms\n",
            "video 1/1 (frame 881/4509) /content/cars.mp4: 384x640 9 cars, 1 truck, 24.3ms\n",
            "video 1/1 (frame 882/4509) /content/cars.mp4: 384x640 9 cars, 1 truck, 24.3ms\n",
            "video 1/1 (frame 883/4509) /content/cars.mp4: 384x640 9 cars, 34.1ms\n",
            "video 1/1 (frame 884/4509) /content/cars.mp4: 384x640 9 cars, 24.3ms\n",
            "video 1/1 (frame 885/4509) /content/cars.mp4: 384x640 10 cars, 24.3ms\n",
            "video 1/1 (frame 886/4509) /content/cars.mp4: 384x640 8 cars, 24.3ms\n",
            "video 1/1 (frame 887/4509) /content/cars.mp4: 384x640 8 cars, 1 truck, 24.3ms\n",
            "video 1/1 (frame 888/4509) /content/cars.mp4: 384x640 8 cars, 24.3ms\n",
            "video 1/1 (frame 889/4509) /content/cars.mp4: 384x640 7 cars, 24.3ms\n",
            "video 1/1 (frame 890/4509) /content/cars.mp4: 384x640 9 cars, 24.3ms\n",
            "video 1/1 (frame 891/4509) /content/cars.mp4: 384x640 9 cars, 24.3ms\n",
            "video 1/1 (frame 892/4509) /content/cars.mp4: 384x640 9 cars, 24.3ms\n",
            "video 1/1 (frame 893/4509) /content/cars.mp4: 384x640 9 cars, 1 truck, 24.3ms\n",
            "video 1/1 (frame 894/4509) /content/cars.mp4: 384x640 9 cars, 24.3ms\n",
            "video 1/1 (frame 895/4509) /content/cars.mp4: 384x640 9 cars, 24.3ms\n",
            "video 1/1 (frame 896/4509) /content/cars.mp4: 384x640 9 cars, 24.3ms\n",
            "video 1/1 (frame 897/4509) /content/cars.mp4: 384x640 7 cars, 24.3ms\n",
            "video 1/1 (frame 898/4509) /content/cars.mp4: 384x640 7 cars, 24.3ms\n",
            "video 1/1 (frame 899/4509) /content/cars.mp4: 384x640 8 cars, 24.3ms\n",
            "video 1/1 (frame 900/4509) /content/cars.mp4: 384x640 8 cars, 24.3ms\n",
            "video 1/1 (frame 901/4509) /content/cars.mp4: 384x640 8 cars, 1 truck, 24.3ms\n",
            "video 1/1 (frame 902/4509) /content/cars.mp4: 384x640 6 cars, 2 trucks, 24.3ms\n",
            "video 1/1 (frame 903/4509) /content/cars.mp4: 384x640 7 cars, 2 trucks, 24.3ms\n",
            "video 1/1 (frame 904/4509) /content/cars.mp4: 384x640 8 cars, 2 trucks, 24.3ms\n",
            "video 1/1 (frame 905/4509) /content/cars.mp4: 384x640 5 cars, 2 trucks, 24.3ms\n",
            "video 1/1 (frame 906/4509) /content/cars.mp4: 384x640 5 cars, 3 trucks, 24.3ms\n",
            "video 1/1 (frame 907/4509) /content/cars.mp4: 384x640 6 cars, 3 trucks, 24.3ms\n",
            "video 1/1 (frame 908/4509) /content/cars.mp4: 384x640 8 cars, 2 trucks, 24.3ms\n",
            "video 1/1 (frame 909/4509) /content/cars.mp4: 384x640 7 cars, 2 trucks, 24.3ms\n",
            "video 1/1 (frame 910/4509) /content/cars.mp4: 384x640 7 cars, 1 truck, 24.3ms\n",
            "video 1/1 (frame 911/4509) /content/cars.mp4: 384x640 6 cars, 3 trucks, 24.3ms\n",
            "video 1/1 (frame 912/4509) /content/cars.mp4: 384x640 8 cars, 3 trucks, 24.3ms\n",
            "video 1/1 (frame 913/4509) /content/cars.mp4: 384x640 7 cars, 3 trucks, 24.3ms\n",
            "video 1/1 (frame 914/4509) /content/cars.mp4: 384x640 7 cars, 3 trucks, 24.3ms\n",
            "video 1/1 (frame 915/4509) /content/cars.mp4: 384x640 6 cars, 2 trucks, 24.3ms\n",
            "video 1/1 (frame 916/4509) /content/cars.mp4: 384x640 7 cars, 3 trucks, 24.3ms\n",
            "video 1/1 (frame 917/4509) /content/cars.mp4: 384x640 10 cars, 2 trucks, 24.3ms\n",
            "video 1/1 (frame 918/4509) /content/cars.mp4: 384x640 9 cars, 2 trucks, 24.3ms\n",
            "video 1/1 (frame 919/4509) /content/cars.mp4: 384x640 10 cars, 2 trucks, 24.3ms\n",
            "video 1/1 (frame 920/4509) /content/cars.mp4: 384x640 10 cars, 1 truck, 24.3ms\n",
            "video 1/1 (frame 921/4509) /content/cars.mp4: 384x640 8 cars, 3 trucks, 24.3ms\n",
            "video 1/1 (frame 922/4509) /content/cars.mp4: 384x640 9 cars, 1 truck, 24.3ms\n",
            "video 1/1 (frame 923/4509) /content/cars.mp4: 384x640 9 cars, 1 truck, 24.3ms\n",
            "video 1/1 (frame 924/4509) /content/cars.mp4: 384x640 9 cars, 2 trucks, 24.3ms\n",
            "video 1/1 (frame 925/4509) /content/cars.mp4: 384x640 8 cars, 1 truck, 24.3ms\n",
            "video 1/1 (frame 926/4509) /content/cars.mp4: 384x640 12 cars, 2 trucks, 24.3ms\n",
            "video 1/1 (frame 927/4509) /content/cars.mp4: 384x640 10 cars, 1 truck, 24.3ms\n",
            "video 1/1 (frame 928/4509) /content/cars.mp4: 384x640 10 cars, 1 truck, 24.3ms\n",
            "video 1/1 (frame 929/4509) /content/cars.mp4: 384x640 9 cars, 1 truck, 1 suitcase, 24.3ms\n",
            "video 1/1 (frame 930/4509) /content/cars.mp4: 384x640 8 cars, 1 truck, 24.3ms\n",
            "video 1/1 (frame 931/4509) /content/cars.mp4: 384x640 9 cars, 2 trucks, 24.3ms\n",
            "video 1/1 (frame 932/4509) /content/cars.mp4: 384x640 11 cars, 2 trucks, 24.3ms\n",
            "video 1/1 (frame 933/4509) /content/cars.mp4: 384x640 10 cars, 2 trucks, 24.3ms\n",
            "video 1/1 (frame 934/4509) /content/cars.mp4: 384x640 2 persons, 12 cars, 1 truck, 24.3ms\n",
            "video 1/1 (frame 935/4509) /content/cars.mp4: 384x640 10 cars, 1 truck, 24.3ms\n",
            "video 1/1 (frame 936/4509) /content/cars.mp4: 384x640 11 cars, 1 truck, 24.3ms\n",
            "video 1/1 (frame 937/4509) /content/cars.mp4: 384x640 9 cars, 2 trucks, 24.3ms\n",
            "video 1/1 (frame 938/4509) /content/cars.mp4: 384x640 9 cars, 1 truck, 24.3ms\n",
            "video 1/1 (frame 939/4509) /content/cars.mp4: 384x640 9 cars, 2 trucks, 24.3ms\n",
            "video 1/1 (frame 940/4509) /content/cars.mp4: 384x640 9 cars, 1 truck, 24.3ms\n",
            "video 1/1 (frame 941/4509) /content/cars.mp4: 384x640 11 cars, 2 trucks, 24.3ms\n",
            "video 1/1 (frame 942/4509) /content/cars.mp4: 384x640 12 cars, 2 trucks, 24.3ms\n",
            "video 1/1 (frame 943/4509) /content/cars.mp4: 384x640 11 cars, 1 truck, 24.3ms\n",
            "video 1/1 (frame 944/4509) /content/cars.mp4: 384x640 11 cars, 1 truck, 24.3ms\n",
            "video 1/1 (frame 945/4509) /content/cars.mp4: 384x640 12 cars, 1 truck, 24.4ms\n",
            "video 1/1 (frame 946/4509) /content/cars.mp4: 384x640 12 cars, 1 truck, 24.3ms\n",
            "video 1/1 (frame 947/4509) /content/cars.mp4: 384x640 11 cars, 1 truck, 24.3ms\n",
            "video 1/1 (frame 948/4509) /content/cars.mp4: 384x640 10 cars, 2 trucks, 24.3ms\n",
            "video 1/1 (frame 949/4509) /content/cars.mp4: 384x640 10 cars, 1 truck, 24.4ms\n",
            "video 1/1 (frame 950/4509) /content/cars.mp4: 384x640 10 cars, 2 trucks, 26.0ms\n",
            "video 1/1 (frame 951/4509) /content/cars.mp4: 384x640 10 cars, 2 trucks, 24.3ms\n",
            "video 1/1 (frame 952/4509) /content/cars.mp4: 384x640 11 cars, 1 truck, 27.0ms\n",
            "video 1/1 (frame 953/4509) /content/cars.mp4: 384x640 13 cars, 2 trucks, 24.3ms\n",
            "video 1/1 (frame 954/4509) /content/cars.mp4: 384x640 10 cars, 2 trucks, 24.3ms\n",
            "video 1/1 (frame 955/4509) /content/cars.mp4: 384x640 12 cars, 2 trucks, 24.3ms\n",
            "video 1/1 (frame 956/4509) /content/cars.mp4: 384x640 11 cars, 2 trucks, 24.3ms\n",
            "video 1/1 (frame 957/4509) /content/cars.mp4: 384x640 10 cars, 3 trucks, 24.3ms\n",
            "video 1/1 (frame 958/4509) /content/cars.mp4: 384x640 11 cars, 2 trucks, 24.3ms\n",
            "video 1/1 (frame 959/4509) /content/cars.mp4: 384x640 11 cars, 2 trucks, 24.3ms\n",
            "video 1/1 (frame 960/4509) /content/cars.mp4: 384x640 11 cars, 2 trucks, 24.3ms\n",
            "video 1/1 (frame 961/4509) /content/cars.mp4: 384x640 10 cars, 2 trucks, 24.3ms\n",
            "video 1/1 (frame 962/4509) /content/cars.mp4: 384x640 10 cars, 3 trucks, 24.3ms\n",
            "video 1/1 (frame 963/4509) /content/cars.mp4: 384x640 10 cars, 3 trucks, 24.4ms\n",
            "video 1/1 (frame 964/4509) /content/cars.mp4: 384x640 9 cars, 2 trucks, 24.3ms\n",
            "video 1/1 (frame 965/4509) /content/cars.mp4: 384x640 11 cars, 2 trucks, 24.3ms\n",
            "video 1/1 (frame 966/4509) /content/cars.mp4: 384x640 10 cars, 2 trucks, 24.3ms\n",
            "video 1/1 (frame 967/4509) /content/cars.mp4: 384x640 10 cars, 2 trucks, 24.3ms\n",
            "video 1/1 (frame 968/4509) /content/cars.mp4: 384x640 11 cars, 3 trucks, 24.3ms\n",
            "video 1/1 (frame 969/4509) /content/cars.mp4: 384x640 11 cars, 1 truck, 24.3ms\n",
            "video 1/1 (frame 970/4509) /content/cars.mp4: 384x640 10 cars, 2 trucks, 24.3ms\n",
            "video 1/1 (frame 971/4509) /content/cars.mp4: 384x640 7 cars, 1 truck, 24.3ms\n",
            "video 1/1 (frame 972/4509) /content/cars.mp4: 384x640 7 cars, 1 truck, 28.7ms\n",
            "video 1/1 (frame 973/4509) /content/cars.mp4: 384x640 8 cars, 1 truck, 24.3ms\n",
            "video 1/1 (frame 974/4509) /content/cars.mp4: 384x640 8 cars, 1 truck, 34.9ms\n",
            "video 1/1 (frame 975/4509) /content/cars.mp4: 384x640 8 cars, 2 trucks, 24.3ms\n",
            "video 1/1 (frame 976/4509) /content/cars.mp4: 384x640 6 cars, 2 trucks, 24.3ms\n",
            "video 1/1 (frame 977/4509) /content/cars.mp4: 384x640 6 cars, 2 trucks, 24.3ms\n",
            "video 1/1 (frame 978/4509) /content/cars.mp4: 384x640 6 cars, 2 trucks, 27.6ms\n",
            "video 1/1 (frame 979/4509) /content/cars.mp4: 384x640 7 cars, 1 truck, 24.3ms\n",
            "video 1/1 (frame 980/4509) /content/cars.mp4: 384x640 5 cars, 2 trucks, 24.3ms\n",
            "video 1/1 (frame 981/4509) /content/cars.mp4: 384x640 4 cars, 3 trucks, 24.3ms\n",
            "video 1/1 (frame 982/4509) /content/cars.mp4: 384x640 4 cars, 2 trucks, 30.6ms\n",
            "video 1/1 (frame 983/4509) /content/cars.mp4: 384x640 6 cars, 3 trucks, 24.3ms\n",
            "video 1/1 (frame 984/4509) /content/cars.mp4: 384x640 8 cars, 2 trucks, 24.3ms\n",
            "video 1/1 (frame 985/4509) /content/cars.mp4: 384x640 8 cars, 1 truck, 30.4ms\n",
            "video 1/1 (frame 986/4509) /content/cars.mp4: 384x640 10 cars, 2 trucks, 25.0ms\n",
            "video 1/1 (frame 987/4509) /content/cars.mp4: 384x640 9 cars, 4 trucks, 24.3ms\n",
            "video 1/1 (frame 988/4509) /content/cars.mp4: 384x640 9 cars, 2 trucks, 24.3ms\n",
            "video 1/1 (frame 989/4509) /content/cars.mp4: 384x640 7 cars, 4 trucks, 24.3ms\n",
            "video 1/1 (frame 990/4509) /content/cars.mp4: 384x640 10 cars, 3 trucks, 24.3ms\n",
            "video 1/1 (frame 991/4509) /content/cars.mp4: 384x640 9 cars, 4 trucks, 28.0ms\n",
            "video 1/1 (frame 992/4509) /content/cars.mp4: 384x640 10 cars, 2 trucks, 24.3ms\n",
            "video 1/1 (frame 993/4509) /content/cars.mp4: 384x640 10 cars, 2 trucks, 24.3ms\n",
            "video 1/1 (frame 994/4509) /content/cars.mp4: 384x640 9 cars, 3 trucks, 25.6ms\n",
            "video 1/1 (frame 995/4509) /content/cars.mp4: 384x640 10 cars, 4 trucks, 24.3ms\n",
            "video 1/1 (frame 996/4509) /content/cars.mp4: 384x640 11 cars, 3 trucks, 24.3ms\n",
            "video 1/1 (frame 997/4509) /content/cars.mp4: 384x640 10 cars, 4 trucks, 24.3ms\n",
            "video 1/1 (frame 998/4509) /content/cars.mp4: 384x640 10 cars, 3 trucks, 24.3ms\n",
            "video 1/1 (frame 999/4509) /content/cars.mp4: 384x640 10 cars, 4 trucks, 24.3ms\n",
            "video 1/1 (frame 1000/4509) /content/cars.mp4: 384x640 10 cars, 2 trucks, 24.3ms\n",
            "video 1/1 (frame 1001/4509) /content/cars.mp4: 384x640 11 cars, 3 trucks, 24.3ms\n",
            "video 1/1 (frame 1002/4509) /content/cars.mp4: 384x640 8 cars, 3 trucks, 24.3ms\n",
            "video 1/1 (frame 1003/4509) /content/cars.mp4: 384x640 9 cars, 3 trucks, 24.3ms\n",
            "video 1/1 (frame 1004/4509) /content/cars.mp4: 384x640 9 cars, 3 trucks, 24.3ms\n",
            "video 1/1 (frame 1005/4509) /content/cars.mp4: 384x640 10 cars, 1 truck, 24.3ms\n",
            "video 1/1 (frame 1006/4509) /content/cars.mp4: 384x640 9 cars, 2 trucks, 24.4ms\n",
            "video 1/1 (frame 1007/4509) /content/cars.mp4: 384x640 10 cars, 1 truck, 24.3ms\n",
            "video 1/1 (frame 1008/4509) /content/cars.mp4: 384x640 9 cars, 2 trucks, 24.3ms\n",
            "video 1/1 (frame 1009/4509) /content/cars.mp4: 384x640 9 cars, 1 truck, 24.3ms\n",
            "video 1/1 (frame 1010/4509) /content/cars.mp4: 384x640 9 cars, 1 truck, 24.3ms\n",
            "video 1/1 (frame 1011/4509) /content/cars.mp4: 384x640 8 cars, 1 truck, 24.3ms\n",
            "video 1/1 (frame 1012/4509) /content/cars.mp4: 384x640 9 cars, 1 truck, 24.3ms\n",
            "video 1/1 (frame 1013/4509) /content/cars.mp4: 384x640 9 cars, 1 truck, 24.3ms\n",
            "video 1/1 (frame 1014/4509) /content/cars.mp4: 384x640 9 cars, 24.3ms\n",
            "video 1/1 (frame 1015/4509) /content/cars.mp4: 384x640 9 cars, 2 trucks, 24.3ms\n",
            "video 1/1 (frame 1016/4509) /content/cars.mp4: 384x640 10 cars, 1 truck, 26.8ms\n",
            "video 1/1 (frame 1017/4509) /content/cars.mp4: 384x640 10 cars, 2 trucks, 24.3ms\n",
            "video 1/1 (frame 1018/4509) /content/cars.mp4: 384x640 10 cars, 1 truck, 24.3ms\n",
            "video 1/1 (frame 1019/4509) /content/cars.mp4: 384x640 10 cars, 24.3ms\n",
            "video 1/1 (frame 1020/4509) /content/cars.mp4: 384x640 10 cars, 1 truck, 24.3ms\n",
            "video 1/1 (frame 1021/4509) /content/cars.mp4: 384x640 11 cars, 1 truck, 24.3ms\n",
            "video 1/1 (frame 1022/4509) /content/cars.mp4: 384x640 10 cars, 24.3ms\n",
            "video 1/1 (frame 1023/4509) /content/cars.mp4: 384x640 10 cars, 1 truck, 24.3ms\n",
            "video 1/1 (frame 1024/4509) /content/cars.mp4: 384x640 10 cars, 1 truck, 24.3ms\n",
            "video 1/1 (frame 1025/4509) /content/cars.mp4: 384x640 10 cars, 24.3ms\n",
            "video 1/1 (frame 1026/4509) /content/cars.mp4: 384x640 10 cars, 24.3ms\n",
            "video 1/1 (frame 1027/4509) /content/cars.mp4: 384x640 10 cars, 24.3ms\n",
            "video 1/1 (frame 1028/4509) /content/cars.mp4: 384x640 9 cars, 24.3ms\n",
            "video 1/1 (frame 1029/4509) /content/cars.mp4: 384x640 9 cars, 24.3ms\n",
            "video 1/1 (frame 1030/4509) /content/cars.mp4: 384x640 9 cars, 24.3ms\n",
            "video 1/1 (frame 1031/4509) /content/cars.mp4: 384x640 9 cars, 24.3ms\n",
            "video 1/1 (frame 1032/4509) /content/cars.mp4: 384x640 9 cars, 24.3ms\n",
            "video 1/1 (frame 1033/4509) /content/cars.mp4: 384x640 10 cars, 24.3ms\n",
            "video 1/1 (frame 1034/4509) /content/cars.mp4: 384x640 10 cars, 24.3ms\n",
            "video 1/1 (frame 1035/4509) /content/cars.mp4: 384x640 9 cars, 24.3ms\n",
            "video 1/1 (frame 1036/4509) /content/cars.mp4: 384x640 10 cars, 24.3ms\n",
            "video 1/1 (frame 1037/4509) /content/cars.mp4: 384x640 10 cars, 24.3ms\n",
            "video 1/1 (frame 1038/4509) /content/cars.mp4: 384x640 10 cars, 24.3ms\n",
            "video 1/1 (frame 1039/4509) /content/cars.mp4: 384x640 10 cars, 24.3ms\n",
            "video 1/1 (frame 1040/4509) /content/cars.mp4: 384x640 10 cars, 24.3ms\n",
            "video 1/1 (frame 1041/4509) /content/cars.mp4: 384x640 9 cars, 24.3ms\n",
            "video 1/1 (frame 1042/4509) /content/cars.mp4: 384x640 10 cars, 24.3ms\n",
            "video 1/1 (frame 1043/4509) /content/cars.mp4: 384x640 10 cars, 24.3ms\n",
            "video 1/1 (frame 1044/4509) /content/cars.mp4: 384x640 10 cars, 24.3ms\n",
            "video 1/1 (frame 1045/4509) /content/cars.mp4: 384x640 10 cars, 24.3ms\n",
            "video 1/1 (frame 1046/4509) /content/cars.mp4: 384x640 10 cars, 24.4ms\n",
            "video 1/1 (frame 1047/4509) /content/cars.mp4: 384x640 10 cars, 24.3ms\n",
            "video 1/1 (frame 1048/4509) /content/cars.mp4: 384x640 9 cars, 24.3ms\n",
            "video 1/1 (frame 1049/4509) /content/cars.mp4: 384x640 10 cars, 24.3ms\n",
            "video 1/1 (frame 1050/4509) /content/cars.mp4: 384x640 10 cars, 24.3ms\n",
            "video 1/1 (frame 1051/4509) /content/cars.mp4: 384x640 9 cars, 24.3ms\n",
            "video 1/1 (frame 1052/4509) /content/cars.mp4: 384x640 11 cars, 24.3ms\n",
            "video 1/1 (frame 1053/4509) /content/cars.mp4: 384x640 10 cars, 24.3ms\n",
            "video 1/1 (frame 1054/4509) /content/cars.mp4: 384x640 11 cars, 1 truck, 24.3ms\n",
            "video 1/1 (frame 1055/4509) /content/cars.mp4: 384x640 11 cars, 1 truck, 24.8ms\n",
            "video 1/1 (frame 1056/4509) /content/cars.mp4: 384x640 10 cars, 24.4ms\n",
            "video 1/1 (frame 1057/4509) /content/cars.mp4: 384x640 9 cars, 1 truck, 24.3ms\n",
            "video 1/1 (frame 1058/4509) /content/cars.mp4: 384x640 9 cars, 1 truck, 24.3ms\n",
            "video 1/1 (frame 1059/4509) /content/cars.mp4: 384x640 10 cars, 24.3ms\n",
            "video 1/1 (frame 1060/4509) /content/cars.mp4: 384x640 9 cars, 1 truck, 24.3ms\n",
            "video 1/1 (frame 1061/4509) /content/cars.mp4: 384x640 8 cars, 24.3ms\n",
            "video 1/1 (frame 1062/4509) /content/cars.mp4: 384x640 8 cars, 1 truck, 24.3ms\n",
            "video 1/1 (frame 1063/4509) /content/cars.mp4: 384x640 10 cars, 1 truck, 24.3ms\n",
            "video 1/1 (frame 1064/4509) /content/cars.mp4: 384x640 10 cars, 1 truck, 24.3ms\n",
            "video 1/1 (frame 1065/4509) /content/cars.mp4: 384x640 9 cars, 1 truck, 24.3ms\n",
            "video 1/1 (frame 1066/4509) /content/cars.mp4: 384x640 10 cars, 24.3ms\n",
            "video 1/1 (frame 1067/4509) /content/cars.mp4: 384x640 12 cars, 24.3ms\n",
            "video 1/1 (frame 1068/4509) /content/cars.mp4: 384x640 11 cars, 1 truck, 24.3ms\n",
            "video 1/1 (frame 1069/4509) /content/cars.mp4: 384x640 7 cars, 1 truck, 24.4ms\n",
            "video 1/1 (frame 1070/4509) /content/cars.mp4: 384x640 8 cars, 1 truck, 24.3ms\n",
            "video 1/1 (frame 1071/4509) /content/cars.mp4: 384x640 7 cars, 24.3ms\n",
            "video 1/1 (frame 1072/4509) /content/cars.mp4: 384x640 8 cars, 24.3ms\n",
            "video 1/1 (frame 1073/4509) /content/cars.mp4: 384x640 7 cars, 24.3ms\n",
            "video 1/1 (frame 1074/4509) /content/cars.mp4: 384x640 7 cars, 24.3ms\n",
            "video 1/1 (frame 1075/4509) /content/cars.mp4: 384x640 7 cars, 24.3ms\n",
            "video 1/1 (frame 1076/4509) /content/cars.mp4: 384x640 9 cars, 24.3ms\n",
            "video 1/1 (frame 1077/4509) /content/cars.mp4: 384x640 8 cars, 24.3ms\n",
            "video 1/1 (frame 1078/4509) /content/cars.mp4: 384x640 7 cars, 24.3ms\n",
            "video 1/1 (frame 1079/4509) /content/cars.mp4: 384x640 9 cars, 24.3ms\n",
            "video 1/1 (frame 1080/4509) /content/cars.mp4: 384x640 10 cars, 29.9ms\n",
            "video 1/1 (frame 1081/4509) /content/cars.mp4: 384x640 9 cars, 24.3ms\n",
            "video 1/1 (frame 1082/4509) /content/cars.mp4: 384x640 8 cars, 24.3ms\n",
            "video 1/1 (frame 1083/4509) /content/cars.mp4: 384x640 9 cars, 24.3ms\n",
            "video 1/1 (frame 1084/4509) /content/cars.mp4: 384x640 9 cars, 24.3ms\n",
            "video 1/1 (frame 1085/4509) /content/cars.mp4: 384x640 10 cars, 24.3ms\n",
            "video 1/1 (frame 1086/4509) /content/cars.mp4: 384x640 9 cars, 24.3ms\n",
            "video 1/1 (frame 1087/4509) /content/cars.mp4: 384x640 10 cars, 1 truck, 24.5ms\n",
            "video 1/1 (frame 1088/4509) /content/cars.mp4: 384x640 6 cars, 24.3ms\n",
            "video 1/1 (frame 1089/4509) /content/cars.mp4: 384x640 8 cars, 24.3ms\n",
            "video 1/1 (frame 1090/4509) /content/cars.mp4: 384x640 8 cars, 1 truck, 24.3ms\n",
            "video 1/1 (frame 1091/4509) /content/cars.mp4: 384x640 9 cars, 1 truck, 24.3ms\n",
            "video 1/1 (frame 1092/4509) /content/cars.mp4: 384x640 7 cars, 1 truck, 27.4ms\n",
            "video 1/1 (frame 1093/4509) /content/cars.mp4: 384x640 8 cars, 1 truck, 24.6ms\n",
            "video 1/1 (frame 1094/4509) /content/cars.mp4: 384x640 8 cars, 2 trucks, 24.3ms\n",
            "video 1/1 (frame 1095/4509) /content/cars.mp4: 384x640 7 cars, 2 trucks, 24.3ms\n",
            "video 1/1 (frame 1096/4509) /content/cars.mp4: 384x640 6 cars, 1 truck, 24.3ms\n",
            "video 1/1 (frame 1097/4509) /content/cars.mp4: 384x640 7 cars, 2 trucks, 24.3ms\n",
            "video 1/1 (frame 1098/4509) /content/cars.mp4: 384x640 7 cars, 1 truck, 24.4ms\n",
            "video 1/1 (frame 1099/4509) /content/cars.mp4: 384x640 6 cars, 1 truck, 24.3ms\n",
            "video 1/1 (frame 1100/4509) /content/cars.mp4: 384x640 6 cars, 1 truck, 24.3ms\n",
            "video 1/1 (frame 1101/4509) /content/cars.mp4: 384x640 8 cars, 25.3ms\n",
            "video 1/1 (frame 1102/4509) /content/cars.mp4: 384x640 5 cars, 1 truck, 24.3ms\n",
            "video 1/1 (frame 1103/4509) /content/cars.mp4: 384x640 6 cars, 24.3ms\n",
            "video 1/1 (frame 1104/4509) /content/cars.mp4: 384x640 5 cars, 27.4ms\n",
            "video 1/1 (frame 1105/4509) /content/cars.mp4: 384x640 6 cars, 24.3ms\n",
            "video 1/1 (frame 1106/4509) /content/cars.mp4: 384x640 6 cars, 24.3ms\n",
            "video 1/1 (frame 1107/4509) /content/cars.mp4: 384x640 6 cars, 24.3ms\n",
            "video 1/1 (frame 1108/4509) /content/cars.mp4: 384x640 5 cars, 24.4ms\n",
            "video 1/1 (frame 1109/4509) /content/cars.mp4: 384x640 3 cars, 29.4ms\n",
            "video 1/1 (frame 1110/4509) /content/cars.mp4: 384x640 5 cars, 26.6ms\n",
            "video 1/1 (frame 1111/4509) /content/cars.mp4: 384x640 7 cars, 24.4ms\n",
            "video 1/1 (frame 1112/4509) /content/cars.mp4: 384x640 6 cars, 25.1ms\n",
            "video 1/1 (frame 1113/4509) /content/cars.mp4: 384x640 7 cars, 24.7ms\n",
            "video 1/1 (frame 1114/4509) /content/cars.mp4: 384x640 6 cars, 24.3ms\n",
            "video 1/1 (frame 1115/4509) /content/cars.mp4: 384x640 5 cars, 30.4ms\n",
            "video 1/1 (frame 1116/4509) /content/cars.mp4: 384x640 6 cars, 24.3ms\n",
            "video 1/1 (frame 1117/4509) /content/cars.mp4: 384x640 6 cars, 26.6ms\n",
            "video 1/1 (frame 1118/4509) /content/cars.mp4: 384x640 7 cars, 29.6ms\n",
            "video 1/1 (frame 1119/4509) /content/cars.mp4: 384x640 6 cars, 1 truck, 24.5ms\n",
            "video 1/1 (frame 1120/4509) /content/cars.mp4: 384x640 6 cars, 24.3ms\n",
            "video 1/1 (frame 1121/4509) /content/cars.mp4: 384x640 5 cars, 1 truck, 25.0ms\n",
            "video 1/1 (frame 1122/4509) /content/cars.mp4: 384x640 6 cars, 30.4ms\n",
            "video 1/1 (frame 1123/4509) /content/cars.mp4: 384x640 5 cars, 28.7ms\n",
            "video 1/1 (frame 1124/4509) /content/cars.mp4: 384x640 4 cars, 24.4ms\n",
            "video 1/1 (frame 1125/4509) /content/cars.mp4: 384x640 5 cars, 26.7ms\n",
            "video 1/1 (frame 1126/4509) /content/cars.mp4: 384x640 5 cars, 24.3ms\n",
            "video 1/1 (frame 1127/4509) /content/cars.mp4: 384x640 6 cars, 29.1ms\n",
            "video 1/1 (frame 1128/4509) /content/cars.mp4: 384x640 6 cars, 24.3ms\n",
            "video 1/1 (frame 1129/4509) /content/cars.mp4: 384x640 6 cars, 24.3ms\n",
            "video 1/1 (frame 1130/4509) /content/cars.mp4: 384x640 8 cars, 26.5ms\n",
            "video 1/1 (frame 1131/4509) /content/cars.mp4: 384x640 8 cars, 33.5ms\n",
            "video 1/1 (frame 1132/4509) /content/cars.mp4: 384x640 9 cars, 24.3ms\n",
            "video 1/1 (frame 1133/4509) /content/cars.mp4: 384x640 9 cars, 1 truck, 24.3ms\n",
            "video 1/1 (frame 1134/4509) /content/cars.mp4: 384x640 8 cars, 24.3ms\n",
            "video 1/1 (frame 1135/4509) /content/cars.mp4: 384x640 8 cars, 24.3ms\n",
            "video 1/1 (frame 1136/4509) /content/cars.mp4: 384x640 8 cars, 24.3ms\n",
            "video 1/1 (frame 1137/4509) /content/cars.mp4: 384x640 8 cars, 24.3ms\n",
            "video 1/1 (frame 1138/4509) /content/cars.mp4: 384x640 7 cars, 25.1ms\n",
            "video 1/1 (frame 1139/4509) /content/cars.mp4: 384x640 6 cars, 24.3ms\n",
            "video 1/1 (frame 1140/4509) /content/cars.mp4: 384x640 5 cars, 24.3ms\n",
            "video 1/1 (frame 1141/4509) /content/cars.mp4: 384x640 5 cars, 24.3ms\n",
            "video 1/1 (frame 1142/4509) /content/cars.mp4: 384x640 7 cars, 24.3ms\n",
            "video 1/1 (frame 1143/4509) /content/cars.mp4: 384x640 7 cars, 24.3ms\n",
            "video 1/1 (frame 1144/4509) /content/cars.mp4: 384x640 6 cars, 24.3ms\n",
            "video 1/1 (frame 1145/4509) /content/cars.mp4: 384x640 6 cars, 24.3ms\n",
            "video 1/1 (frame 1146/4509) /content/cars.mp4: 384x640 6 cars, 24.3ms\n",
            "video 1/1 (frame 1147/4509) /content/cars.mp4: 384x640 5 cars, 24.3ms\n",
            "video 1/1 (frame 1148/4509) /content/cars.mp4: 384x640 5 cars, 24.3ms\n",
            "video 1/1 (frame 1149/4509) /content/cars.mp4: 384x640 7 cars, 24.3ms\n",
            "video 1/1 (frame 1150/4509) /content/cars.mp4: 384x640 8 cars, 24.3ms\n",
            "video 1/1 (frame 1151/4509) /content/cars.mp4: 384x640 7 cars, 24.3ms\n",
            "video 1/1 (frame 1152/4509) /content/cars.mp4: 384x640 6 cars, 24.3ms\n",
            "video 1/1 (frame 1153/4509) /content/cars.mp4: 384x640 7 cars, 24.7ms\n",
            "video 1/1 (frame 1154/4509) /content/cars.mp4: 384x640 8 cars, 24.3ms\n",
            "video 1/1 (frame 1155/4509) /content/cars.mp4: 384x640 6 cars, 24.3ms\n",
            "video 1/1 (frame 1156/4509) /content/cars.mp4: 384x640 6 cars, 24.3ms\n",
            "video 1/1 (frame 1157/4509) /content/cars.mp4: 384x640 7 cars, 24.3ms\n",
            "video 1/1 (frame 1158/4509) /content/cars.mp4: 384x640 7 cars, 24.3ms\n",
            "video 1/1 (frame 1159/4509) /content/cars.mp4: 384x640 6 cars, 24.3ms\n",
            "video 1/1 (frame 1160/4509) /content/cars.mp4: 384x640 6 cars, 24.3ms\n",
            "video 1/1 (frame 1161/4509) /content/cars.mp4: 384x640 6 cars, 24.3ms\n",
            "video 1/1 (frame 1162/4509) /content/cars.mp4: 384x640 6 cars, 24.3ms\n",
            "video 1/1 (frame 1163/4509) /content/cars.mp4: 384x640 6 cars, 24.3ms\n",
            "video 1/1 (frame 1164/4509) /content/cars.mp4: 384x640 7 cars, 24.3ms\n",
            "video 1/1 (frame 1165/4509) /content/cars.mp4: 384x640 7 cars, 24.3ms\n",
            "video 1/1 (frame 1166/4509) /content/cars.mp4: 384x640 7 cars, 24.3ms\n",
            "video 1/1 (frame 1167/4509) /content/cars.mp4: 384x640 7 cars, 24.3ms\n",
            "video 1/1 (frame 1168/4509) /content/cars.mp4: 384x640 8 cars, 24.4ms\n",
            "video 1/1 (frame 1169/4509) /content/cars.mp4: 384x640 9 cars, 24.3ms\n",
            "video 1/1 (frame 1170/4509) /content/cars.mp4: 384x640 7 cars, 24.3ms\n",
            "video 1/1 (frame 1171/4509) /content/cars.mp4: 384x640 6 cars, 24.3ms\n",
            "video 1/1 (frame 1172/4509) /content/cars.mp4: 384x640 5 cars, 24.3ms\n",
            "video 1/1 (frame 1173/4509) /content/cars.mp4: 384x640 5 cars, 24.3ms\n",
            "video 1/1 (frame 1174/4509) /content/cars.mp4: 384x640 5 cars, 24.3ms\n",
            "video 1/1 (frame 1175/4509) /content/cars.mp4: 384x640 5 cars, 24.3ms\n",
            "video 1/1 (frame 1176/4509) /content/cars.mp4: 384x640 6 cars, 1 truck, 24.3ms\n",
            "video 1/1 (frame 1177/4509) /content/cars.mp4: 384x640 6 cars, 1 truck, 24.3ms\n",
            "video 1/1 (frame 1178/4509) /content/cars.mp4: 384x640 7 cars, 24.3ms\n",
            "video 1/1 (frame 1179/4509) /content/cars.mp4: 384x640 7 cars, 24.3ms\n",
            "video 1/1 (frame 1180/4509) /content/cars.mp4: 384x640 7 cars, 24.3ms\n",
            "video 1/1 (frame 1181/4509) /content/cars.mp4: 384x640 7 cars, 1 truck, 24.3ms\n",
            "video 1/1 (frame 1182/4509) /content/cars.mp4: 384x640 6 cars, 2 trucks, 24.3ms\n",
            "video 1/1 (frame 1183/4509) /content/cars.mp4: 384x640 8 cars, 24.3ms\n",
            "video 1/1 (frame 1184/4509) /content/cars.mp4: 384x640 8 cars, 24.3ms\n",
            "video 1/1 (frame 1185/4509) /content/cars.mp4: 384x640 8 cars, 24.3ms\n",
            "video 1/1 (frame 1186/4509) /content/cars.mp4: 384x640 8 cars, 24.3ms\n",
            "video 1/1 (frame 1187/4509) /content/cars.mp4: 384x640 6 cars, 1 truck, 24.3ms\n",
            "video 1/1 (frame 1188/4509) /content/cars.mp4: 384x640 8 cars, 24.3ms\n",
            "video 1/1 (frame 1189/4509) /content/cars.mp4: 384x640 8 cars, 24.8ms\n",
            "video 1/1 (frame 1190/4509) /content/cars.mp4: 384x640 8 cars, 24.4ms\n",
            "video 1/1 (frame 1191/4509) /content/cars.mp4: 384x640 7 cars, 1 truck, 24.3ms\n",
            "video 1/1 (frame 1192/4509) /content/cars.mp4: 384x640 8 cars, 24.3ms\n",
            "video 1/1 (frame 1193/4509) /content/cars.mp4: 384x640 7 cars, 24.3ms\n",
            "video 1/1 (frame 1194/4509) /content/cars.mp4: 384x640 7 cars, 24.3ms\n",
            "video 1/1 (frame 1195/4509) /content/cars.mp4: 384x640 7 cars, 24.3ms\n",
            "video 1/1 (frame 1196/4509) /content/cars.mp4: 384x640 7 cars, 24.3ms\n",
            "video 1/1 (frame 1197/4509) /content/cars.mp4: 384x640 7 cars, 24.3ms\n",
            "video 1/1 (frame 1198/4509) /content/cars.mp4: 384x640 7 cars, 24.3ms\n",
            "video 1/1 (frame 1199/4509) /content/cars.mp4: 384x640 8 cars, 24.3ms\n",
            "video 1/1 (frame 1200/4509) /content/cars.mp4: 384x640 8 cars, 24.3ms\n",
            "video 1/1 (frame 1201/4509) /content/cars.mp4: 384x640 8 cars, 24.4ms\n",
            "video 1/1 (frame 1202/4509) /content/cars.mp4: 384x640 8 cars, 24.3ms\n",
            "video 1/1 (frame 1203/4509) /content/cars.mp4: 384x640 9 cars, 24.3ms\n",
            "video 1/1 (frame 1204/4509) /content/cars.mp4: 384x640 8 cars, 24.3ms\n",
            "video 1/1 (frame 1205/4509) /content/cars.mp4: 384x640 9 cars, 24.3ms\n",
            "video 1/1 (frame 1206/4509) /content/cars.mp4: 384x640 10 cars, 24.3ms\n",
            "video 1/1 (frame 1207/4509) /content/cars.mp4: 384x640 9 cars, 24.3ms\n",
            "video 1/1 (frame 1208/4509) /content/cars.mp4: 384x640 7 cars, 24.3ms\n",
            "video 1/1 (frame 1209/4509) /content/cars.mp4: 384x640 9 cars, 24.3ms\n",
            "video 1/1 (frame 1210/4509) /content/cars.mp4: 384x640 9 cars, 24.3ms\n",
            "video 1/1 (frame 1211/4509) /content/cars.mp4: 384x640 9 cars, 24.3ms\n",
            "video 1/1 (frame 1212/4509) /content/cars.mp4: 384x640 8 cars, 24.3ms\n",
            "video 1/1 (frame 1213/4509) /content/cars.mp4: 384x640 9 cars, 24.3ms\n",
            "video 1/1 (frame 1214/4509) /content/cars.mp4: 384x640 7 cars, 24.4ms\n",
            "video 1/1 (frame 1215/4509) /content/cars.mp4: 384x640 7 cars, 24.3ms\n",
            "video 1/1 (frame 1216/4509) /content/cars.mp4: 384x640 7 cars, 24.3ms\n",
            "video 1/1 (frame 1217/4509) /content/cars.mp4: 384x640 8 cars, 1 truck, 24.3ms\n",
            "video 1/1 (frame 1218/4509) /content/cars.mp4: 384x640 7 cars, 1 truck, 24.3ms\n",
            "video 1/1 (frame 1219/4509) /content/cars.mp4: 384x640 7 cars, 1 truck, 24.3ms\n",
            "video 1/1 (frame 1220/4509) /content/cars.mp4: 384x640 8 cars, 1 truck, 24.3ms\n",
            "video 1/1 (frame 1221/4509) /content/cars.mp4: 384x640 7 cars, 1 truck, 24.4ms\n",
            "video 1/1 (frame 1222/4509) /content/cars.mp4: 384x640 6 cars, 1 truck, 25.3ms\n",
            "video 1/1 (frame 1223/4509) /content/cars.mp4: 384x640 6 cars, 1 truck, 24.3ms\n",
            "video 1/1 (frame 1224/4509) /content/cars.mp4: 384x640 6 cars, 1 truck, 24.8ms\n",
            "video 1/1 (frame 1225/4509) /content/cars.mp4: 384x640 6 cars, 1 truck, 28.2ms\n",
            "video 1/1 (frame 1226/4509) /content/cars.mp4: 384x640 6 cars, 1 truck, 24.3ms\n",
            "video 1/1 (frame 1227/4509) /content/cars.mp4: 384x640 6 cars, 1 truck, 24.3ms\n",
            "video 1/1 (frame 1228/4509) /content/cars.mp4: 384x640 6 cars, 1 truck, 24.3ms\n",
            "video 1/1 (frame 1229/4509) /content/cars.mp4: 384x640 7 cars, 1 truck, 24.3ms\n",
            "video 1/1 (frame 1230/4509) /content/cars.mp4: 384x640 6 cars, 1 truck, 24.4ms\n",
            "video 1/1 (frame 1231/4509) /content/cars.mp4: 384x640 4 cars, 1 truck, 24.3ms\n",
            "video 1/1 (frame 1232/4509) /content/cars.mp4: 384x640 4 cars, 1 truck, 24.3ms\n",
            "video 1/1 (frame 1233/4509) /content/cars.mp4: 384x640 4 cars, 1 truck, 24.3ms\n",
            "video 1/1 (frame 1234/4509) /content/cars.mp4: 384x640 6 cars, 1 truck, 24.3ms\n",
            "video 1/1 (frame 1235/4509) /content/cars.mp4: 384x640 4 cars, 1 truck, 24.3ms\n",
            "video 1/1 (frame 1236/4509) /content/cars.mp4: 384x640 4 cars, 1 truck, 24.3ms\n",
            "video 1/1 (frame 1237/4509) /content/cars.mp4: 384x640 4 cars, 1 truck, 32.1ms\n",
            "video 1/1 (frame 1238/4509) /content/cars.mp4: 384x640 4 cars, 1 truck, 24.3ms\n",
            "video 1/1 (frame 1239/4509) /content/cars.mp4: 384x640 3 cars, 1 truck, 24.3ms\n",
            "video 1/1 (frame 1240/4509) /content/cars.mp4: 384x640 3 cars, 1 truck, 24.3ms\n",
            "video 1/1 (frame 1241/4509) /content/cars.mp4: 384x640 4 cars, 1 truck, 24.3ms\n",
            "video 1/1 (frame 1242/4509) /content/cars.mp4: 384x640 3 cars, 1 truck, 24.3ms\n",
            "video 1/1 (frame 1243/4509) /content/cars.mp4: 384x640 3 cars, 1 truck, 24.3ms\n",
            "video 1/1 (frame 1244/4509) /content/cars.mp4: 384x640 3 cars, 1 truck, 24.3ms\n",
            "video 1/1 (frame 1245/4509) /content/cars.mp4: 384x640 5 cars, 1 truck, 24.3ms\n",
            "video 1/1 (frame 1246/4509) /content/cars.mp4: 384x640 6 cars, 1 truck, 24.3ms\n",
            "video 1/1 (frame 1247/4509) /content/cars.mp4: 384x640 6 cars, 1 truck, 24.3ms\n",
            "video 1/1 (frame 1248/4509) /content/cars.mp4: 384x640 6 cars, 1 truck, 24.4ms\n",
            "video 1/1 (frame 1249/4509) /content/cars.mp4: 384x640 5 cars, 2 trucks, 38.0ms\n",
            "video 1/1 (frame 1250/4509) /content/cars.mp4: 384x640 6 cars, 1 truck, 24.5ms\n",
            "video 1/1 (frame 1251/4509) /content/cars.mp4: 384x640 6 cars, 1 truck, 29.6ms\n",
            "video 1/1 (frame 1252/4509) /content/cars.mp4: 384x640 5 cars, 1 truck, 24.3ms\n",
            "video 1/1 (frame 1253/4509) /content/cars.mp4: 384x640 6 cars, 1 truck, 29.2ms\n",
            "video 1/1 (frame 1254/4509) /content/cars.mp4: 384x640 6 cars, 1 truck, 28.2ms\n",
            "video 1/1 (frame 1255/4509) /content/cars.mp4: 384x640 5 cars, 1 truck, 24.3ms\n",
            "video 1/1 (frame 1256/4509) /content/cars.mp4: 384x640 6 cars, 1 truck, 24.3ms\n",
            "video 1/1 (frame 1257/4509) /content/cars.mp4: 384x640 6 cars, 1 truck, 34.2ms\n",
            "video 1/1 (frame 1258/4509) /content/cars.mp4: 384x640 5 cars, 1 truck, 24.3ms\n",
            "video 1/1 (frame 1259/4509) /content/cars.mp4: 384x640 5 cars, 1 truck, 24.3ms\n",
            "video 1/1 (frame 1260/4509) /content/cars.mp4: 384x640 5 cars, 1 truck, 24.3ms\n",
            "video 1/1 (frame 1261/4509) /content/cars.mp4: 384x640 5 cars, 1 truck, 24.3ms\n",
            "video 1/1 (frame 1262/4509) /content/cars.mp4: 384x640 9 cars, 2 trucks, 25.8ms\n",
            "video 1/1 (frame 1263/4509) /content/cars.mp4: 384x640 10 cars, 1 truck, 24.3ms\n",
            "video 1/1 (frame 1264/4509) /content/cars.mp4: 384x640 7 cars, 1 truck, 25.3ms\n",
            "video 1/1 (frame 1265/4509) /content/cars.mp4: 384x640 7 cars, 1 truck, 24.3ms\n",
            "video 1/1 (frame 1266/4509) /content/cars.mp4: 384x640 7 cars, 1 truck, 30.8ms\n",
            "video 1/1 (frame 1267/4509) /content/cars.mp4: 384x640 9 cars, 1 truck, 29.6ms\n",
            "video 1/1 (frame 1268/4509) /content/cars.mp4: 384x640 8 cars, 1 truck, 26.1ms\n",
            "video 1/1 (frame 1269/4509) /content/cars.mp4: 384x640 8 cars, 1 truck, 38.5ms\n",
            "video 1/1 (frame 1270/4509) /content/cars.mp4: 384x640 8 cars, 1 truck, 24.7ms\n",
            "video 1/1 (frame 1271/4509) /content/cars.mp4: 384x640 8 cars, 1 truck, 24.3ms\n",
            "video 1/1 (frame 1272/4509) /content/cars.mp4: 384x640 8 cars, 1 truck, 24.3ms\n",
            "video 1/1 (frame 1273/4509) /content/cars.mp4: 384x640 7 cars, 1 truck, 24.3ms\n",
            "video 1/1 (frame 1274/4509) /content/cars.mp4: 384x640 9 cars, 1 truck, 24.3ms\n",
            "video 1/1 (frame 1275/4509) /content/cars.mp4: 384x640 9 cars, 1 truck, 24.3ms\n",
            "video 1/1 (frame 1276/4509) /content/cars.mp4: 384x640 8 cars, 1 truck, 24.3ms\n",
            "video 1/1 (frame 1277/4509) /content/cars.mp4: 384x640 9 cars, 1 truck, 24.3ms\n",
            "video 1/1 (frame 1278/4509) /content/cars.mp4: 384x640 8 cars, 1 truck, 24.3ms\n",
            "video 1/1 (frame 1279/4509) /content/cars.mp4: 384x640 9 cars, 1 truck, 24.3ms\n",
            "video 1/1 (frame 1280/4509) /content/cars.mp4: 384x640 9 cars, 1 truck, 24.3ms\n",
            "video 1/1 (frame 1281/4509) /content/cars.mp4: 384x640 9 cars, 1 truck, 24.4ms\n",
            "video 1/1 (frame 1282/4509) /content/cars.mp4: 384x640 10 cars, 1 truck, 24.3ms\n",
            "video 1/1 (frame 1283/4509) /content/cars.mp4: 384x640 10 cars, 1 truck, 24.3ms\n",
            "video 1/1 (frame 1284/4509) /content/cars.mp4: 384x640 8 cars, 1 truck, 24.3ms\n",
            "video 1/1 (frame 1285/4509) /content/cars.mp4: 384x640 7 cars, 1 truck, 24.3ms\n",
            "video 1/1 (frame 1286/4509) /content/cars.mp4: 384x640 9 cars, 1 truck, 24.3ms\n",
            "video 1/1 (frame 1287/4509) /content/cars.mp4: 384x640 10 cars, 1 truck, 24.3ms\n",
            "video 1/1 (frame 1288/4509) /content/cars.mp4: 384x640 10 cars, 1 truck, 24.3ms\n",
            "video 1/1 (frame 1289/4509) /content/cars.mp4: 384x640 8 cars, 2 trucks, 24.3ms\n",
            "video 1/1 (frame 1290/4509) /content/cars.mp4: 384x640 9 cars, 1 truck, 24.3ms\n",
            "video 1/1 (frame 1291/4509) /content/cars.mp4: 384x640 11 cars, 2 trucks, 24.5ms\n",
            "video 1/1 (frame 1292/4509) /content/cars.mp4: 384x640 13 cars, 1 truck, 24.3ms\n",
            "video 1/1 (frame 1293/4509) /content/cars.mp4: 384x640 11 cars, 1 truck, 24.3ms\n",
            "video 1/1 (frame 1294/4509) /content/cars.mp4: 384x640 13 cars, 1 truck, 24.3ms\n",
            "video 1/1 (frame 1295/4509) /content/cars.mp4: 384x640 11 cars, 1 truck, 24.3ms\n",
            "video 1/1 (frame 1296/4509) /content/cars.mp4: 384x640 12 cars, 1 truck, 24.3ms\n",
            "video 1/1 (frame 1297/4509) /content/cars.mp4: 384x640 10 cars, 1 truck, 24.3ms\n",
            "video 1/1 (frame 1298/4509) /content/cars.mp4: 384x640 11 cars, 1 truck, 24.3ms\n",
            "video 1/1 (frame 1299/4509) /content/cars.mp4: 384x640 12 cars, 1 truck, 24.3ms\n",
            "video 1/1 (frame 1300/4509) /content/cars.mp4: 384x640 11 cars, 1 truck, 24.3ms\n",
            "video 1/1 (frame 1301/4509) /content/cars.mp4: 384x640 11 cars, 1 truck, 24.3ms\n",
            "video 1/1 (frame 1302/4509) /content/cars.mp4: 384x640 9 cars, 1 truck, 24.3ms\n",
            "video 1/1 (frame 1303/4509) /content/cars.mp4: 384x640 10 cars, 2 trucks, 24.3ms\n",
            "video 1/1 (frame 1304/4509) /content/cars.mp4: 384x640 10 cars, 1 truck, 24.4ms\n",
            "video 1/1 (frame 1305/4509) /content/cars.mp4: 384x640 10 cars, 1 truck, 24.3ms\n",
            "video 1/1 (frame 1306/4509) /content/cars.mp4: 384x640 10 cars, 1 truck, 24.3ms\n",
            "video 1/1 (frame 1307/4509) /content/cars.mp4: 384x640 10 cars, 1 truck, 24.3ms\n",
            "video 1/1 (frame 1308/4509) /content/cars.mp4: 384x640 10 cars, 1 truck, 24.3ms\n",
            "video 1/1 (frame 1309/4509) /content/cars.mp4: 384x640 13 cars, 1 truck, 24.3ms\n",
            "video 1/1 (frame 1310/4509) /content/cars.mp4: 384x640 12 cars, 1 truck, 24.4ms\n",
            "video 1/1 (frame 1311/4509) /content/cars.mp4: 384x640 12 cars, 1 truck, 24.3ms\n",
            "video 1/1 (frame 1312/4509) /content/cars.mp4: 384x640 13 cars, 1 truck, 24.3ms\n",
            "video 1/1 (frame 1313/4509) /content/cars.mp4: 384x640 13 cars, 1 truck, 24.4ms\n",
            "video 1/1 (frame 1314/4509) /content/cars.mp4: 384x640 12 cars, 1 truck, 24.3ms\n",
            "video 1/1 (frame 1315/4509) /content/cars.mp4: 384x640 15 cars, 1 truck, 24.3ms\n",
            "video 1/1 (frame 1316/4509) /content/cars.mp4: 384x640 15 cars, 1 truck, 24.3ms\n",
            "video 1/1 (frame 1317/4509) /content/cars.mp4: 384x640 14 cars, 1 truck, 24.3ms\n",
            "video 1/1 (frame 1318/4509) /content/cars.mp4: 384x640 12 cars, 1 truck, 24.3ms\n",
            "video 1/1 (frame 1319/4509) /content/cars.mp4: 384x640 12 cars, 1 truck, 24.3ms\n",
            "video 1/1 (frame 1320/4509) /content/cars.mp4: 384x640 13 cars, 1 truck, 24.3ms\n",
            "video 1/1 (frame 1321/4509) /content/cars.mp4: 384x640 13 cars, 1 truck, 24.3ms\n",
            "video 1/1 (frame 1322/4509) /content/cars.mp4: 384x640 12 cars, 1 truck, 24.3ms\n",
            "video 1/1 (frame 1323/4509) /content/cars.mp4: 384x640 12 cars, 1 truck, 24.3ms\n",
            "video 1/1 (frame 1324/4509) /content/cars.mp4: 384x640 12 cars, 1 truck, 24.3ms\n",
            "video 1/1 (frame 1325/4509) /content/cars.mp4: 384x640 11 cars, 1 truck, 24.3ms\n",
            "video 1/1 (frame 1326/4509) /content/cars.mp4: 384x640 12 cars, 1 truck, 24.3ms\n",
            "video 1/1 (frame 1327/4509) /content/cars.mp4: 384x640 9 cars, 1 truck, 24.3ms\n",
            "video 1/1 (frame 1328/4509) /content/cars.mp4: 384x640 7 cars, 1 truck, 24.3ms\n",
            "video 1/1 (frame 1329/4509) /content/cars.mp4: 384x640 6 cars, 2 trucks, 24.3ms\n",
            "video 1/1 (frame 1330/4509) /content/cars.mp4: 384x640 7 cars, 1 truck, 24.3ms\n",
            "video 1/1 (frame 1331/4509) /content/cars.mp4: 384x640 10 cars, 1 truck, 24.3ms\n",
            "video 1/1 (frame 1332/4509) /content/cars.mp4: 384x640 12 cars, 1 truck, 24.3ms\n",
            "video 1/1 (frame 1333/4509) /content/cars.mp4: 384x640 11 cars, 1 truck, 24.4ms\n",
            "video 1/1 (frame 1334/4509) /content/cars.mp4: 384x640 9 cars, 2 trucks, 24.3ms\n",
            "video 1/1 (frame 1335/4509) /content/cars.mp4: 384x640 10 cars, 1 truck, 24.3ms\n",
            "video 1/1 (frame 1336/4509) /content/cars.mp4: 384x640 9 cars, 1 truck, 24.3ms\n",
            "video 1/1 (frame 1337/4509) /content/cars.mp4: 384x640 10 cars, 1 truck, 24.3ms\n",
            "video 1/1 (frame 1338/4509) /content/cars.mp4: 384x640 8 cars, 1 truck, 24.3ms\n",
            "video 1/1 (frame 1339/4509) /content/cars.mp4: 384x640 9 cars, 1 truck, 24.3ms\n",
            "video 1/1 (frame 1340/4509) /content/cars.mp4: 384x640 10 cars, 1 truck, 24.3ms\n",
            "video 1/1 (frame 1341/4509) /content/cars.mp4: 384x640 9 cars, 1 truck, 24.3ms\n",
            "video 1/1 (frame 1342/4509) /content/cars.mp4: 384x640 7 cars, 1 truck, 24.3ms\n",
            "video 1/1 (frame 1343/4509) /content/cars.mp4: 384x640 9 cars, 1 truck, 24.3ms\n",
            "video 1/1 (frame 1344/4509) /content/cars.mp4: 384x640 8 cars, 1 truck, 24.3ms\n",
            "video 1/1 (frame 1345/4509) /content/cars.mp4: 384x640 10 cars, 1 truck, 24.3ms\n",
            "video 1/1 (frame 1346/4509) /content/cars.mp4: 384x640 9 cars, 24.3ms\n",
            "video 1/1 (frame 1347/4509) /content/cars.mp4: 384x640 10 cars, 1 truck, 24.3ms\n",
            "video 1/1 (frame 1348/4509) /content/cars.mp4: 384x640 10 cars, 24.4ms\n",
            "video 1/1 (frame 1349/4509) /content/cars.mp4: 384x640 10 cars, 24.3ms\n",
            "video 1/1 (frame 1350/4509) /content/cars.mp4: 384x640 11 cars, 24.3ms\n",
            "video 1/1 (frame 1351/4509) /content/cars.mp4: 384x640 10 cars, 24.3ms\n",
            "video 1/1 (frame 1352/4509) /content/cars.mp4: 384x640 11 cars, 24.3ms\n",
            "video 1/1 (frame 1353/4509) /content/cars.mp4: 384x640 11 cars, 24.3ms\n",
            "video 1/1 (frame 1354/4509) /content/cars.mp4: 384x640 11 cars, 1 truck, 24.3ms\n",
            "video 1/1 (frame 1355/4509) /content/cars.mp4: 384x640 12 cars, 1 truck, 24.3ms\n",
            "video 1/1 (frame 1356/4509) /content/cars.mp4: 384x640 11 cars, 1 truck, 24.3ms\n",
            "video 1/1 (frame 1357/4509) /content/cars.mp4: 384x640 13 cars, 1 truck, 24.3ms\n",
            "video 1/1 (frame 1358/4509) /content/cars.mp4: 384x640 13 cars, 24.3ms\n",
            "video 1/1 (frame 1359/4509) /content/cars.mp4: 384x640 11 cars, 24.4ms\n",
            "video 1/1 (frame 1360/4509) /content/cars.mp4: 384x640 11 cars, 24.3ms\n",
            "video 1/1 (frame 1361/4509) /content/cars.mp4: 384x640 12 cars, 1 truck, 24.3ms\n",
            "video 1/1 (frame 1362/4509) /content/cars.mp4: 384x640 13 cars, 24.3ms\n",
            "video 1/1 (frame 1363/4509) /content/cars.mp4: 384x640 13 cars, 24.3ms\n",
            "video 1/1 (frame 1364/4509) /content/cars.mp4: 384x640 14 cars, 1 truck, 24.3ms\n",
            "video 1/1 (frame 1365/4509) /content/cars.mp4: 384x640 13 cars, 24.3ms\n",
            "video 1/1 (frame 1366/4509) /content/cars.mp4: 384x640 13 cars, 1 truck, 27.4ms\n",
            "video 1/1 (frame 1367/4509) /content/cars.mp4: 384x640 12 cars, 1 truck, 24.7ms\n",
            "video 1/1 (frame 1368/4509) /content/cars.mp4: 384x640 13 cars, 1 truck, 24.3ms\n",
            "video 1/1 (frame 1369/4509) /content/cars.mp4: 384x640 13 cars, 1 truck, 24.3ms\n",
            "video 1/1 (frame 1370/4509) /content/cars.mp4: 384x640 11 cars, 1 truck, 24.3ms\n",
            "video 1/1 (frame 1371/4509) /content/cars.mp4: 384x640 13 cars, 1 truck, 24.3ms\n",
            "video 1/1 (frame 1372/4509) /content/cars.mp4: 384x640 13 cars, 1 truck, 24.3ms\n",
            "video 1/1 (frame 1373/4509) /content/cars.mp4: 384x640 13 cars, 1 truck, 24.3ms\n",
            "video 1/1 (frame 1374/4509) /content/cars.mp4: 384x640 13 cars, 1 truck, 24.9ms\n",
            "video 1/1 (frame 1375/4509) /content/cars.mp4: 384x640 14 cars, 1 truck, 24.3ms\n",
            "video 1/1 (frame 1376/4509) /content/cars.mp4: 384x640 13 cars, 1 truck, 24.3ms\n",
            "video 1/1 (frame 1377/4509) /content/cars.mp4: 384x640 13 cars, 1 truck, 24.3ms\n",
            "video 1/1 (frame 1378/4509) /content/cars.mp4: 384x640 13 cars, 1 truck, 24.3ms\n",
            "video 1/1 (frame 1379/4509) /content/cars.mp4: 384x640 12 cars, 1 truck, 24.3ms\n",
            "video 1/1 (frame 1380/4509) /content/cars.mp4: 384x640 11 cars, 1 truck, 24.3ms\n",
            "video 1/1 (frame 1381/4509) /content/cars.mp4: 384x640 12 cars, 24.3ms\n",
            "video 1/1 (frame 1382/4509) /content/cars.mp4: 384x640 12 cars, 1 truck, 24.3ms\n",
            "video 1/1 (frame 1383/4509) /content/cars.mp4: 384x640 11 cars, 1 truck, 24.3ms\n",
            "video 1/1 (frame 1384/4509) /content/cars.mp4: 384x640 13 cars, 1 truck, 24.3ms\n",
            "video 1/1 (frame 1385/4509) /content/cars.mp4: 384x640 12 cars, 1 truck, 24.3ms\n",
            "video 1/1 (frame 1386/4509) /content/cars.mp4: 384x640 12 cars, 30.2ms\n",
            "video 1/1 (frame 1387/4509) /content/cars.mp4: 384x640 11 cars, 24.3ms\n",
            "video 1/1 (frame 1388/4509) /content/cars.mp4: 384x640 11 cars, 24.3ms\n",
            "video 1/1 (frame 1389/4509) /content/cars.mp4: 384x640 13 cars, 33.0ms\n",
            "video 1/1 (frame 1390/4509) /content/cars.mp4: 384x640 13 cars, 24.3ms\n",
            "video 1/1 (frame 1391/4509) /content/cars.mp4: 384x640 11 cars, 25.1ms\n",
            "video 1/1 (frame 1392/4509) /content/cars.mp4: 384x640 12 cars, 2 trucks, 28.6ms\n",
            "video 1/1 (frame 1393/4509) /content/cars.mp4: 384x640 12 cars, 24.3ms\n",
            "video 1/1 (frame 1394/4509) /content/cars.mp4: 384x640 12 cars, 30.7ms\n",
            "video 1/1 (frame 1395/4509) /content/cars.mp4: 384x640 13 cars, 24.3ms\n",
            "video 1/1 (frame 1396/4509) /content/cars.mp4: 384x640 12 cars, 24.3ms\n",
            "video 1/1 (frame 1397/4509) /content/cars.mp4: 384x640 12 cars, 24.3ms\n",
            "video 1/1 (frame 1398/4509) /content/cars.mp4: 384x640 13 cars, 26.3ms\n",
            "video 1/1 (frame 1399/4509) /content/cars.mp4: 384x640 14 cars, 24.3ms\n",
            "video 1/1 (frame 1400/4509) /content/cars.mp4: 384x640 14 cars, 40.7ms\n",
            "video 1/1 (frame 1401/4509) /content/cars.mp4: 384x640 14 cars, 29.5ms\n",
            "video 1/1 (frame 1402/4509) /content/cars.mp4: 384x640 15 cars, 24.3ms\n",
            "video 1/1 (frame 1403/4509) /content/cars.mp4: 384x640 14 cars, 26.2ms\n",
            "video 1/1 (frame 1404/4509) /content/cars.mp4: 384x640 14 cars, 24.4ms\n",
            "video 1/1 (frame 1405/4509) /content/cars.mp4: 384x640 14 cars, 24.3ms\n",
            "video 1/1 (frame 1406/4509) /content/cars.mp4: 384x640 14 cars, 24.3ms\n",
            "video 1/1 (frame 1407/4509) /content/cars.mp4: 384x640 13 cars, 24.3ms\n",
            "video 1/1 (frame 1408/4509) /content/cars.mp4: 384x640 15 cars, 27.8ms\n",
            "video 1/1 (frame 1409/4509) /content/cars.mp4: 384x640 14 cars, 24.3ms\n",
            "video 1/1 (frame 1410/4509) /content/cars.mp4: 384x640 14 cars, 24.3ms\n",
            "video 1/1 (frame 1411/4509) /content/cars.mp4: 384x640 14 cars, 1 truck, 24.3ms\n",
            "video 1/1 (frame 1412/4509) /content/cars.mp4: 384x640 14 cars, 1 truck, 24.3ms\n",
            "video 1/1 (frame 1413/4509) /content/cars.mp4: 384x640 15 cars, 24.3ms\n",
            "video 1/1 (frame 1414/4509) /content/cars.mp4: 384x640 14 cars, 24.3ms\n",
            "video 1/1 (frame 1415/4509) /content/cars.mp4: 384x640 13 cars, 1 truck, 24.3ms\n",
            "video 1/1 (frame 1416/4509) /content/cars.mp4: 384x640 16 cars, 1 truck, 24.3ms\n",
            "video 1/1 (frame 1417/4509) /content/cars.mp4: 384x640 14 cars, 1 truck, 24.3ms\n",
            "video 1/1 (frame 1418/4509) /content/cars.mp4: 384x640 12 cars, 24.3ms\n",
            "video 1/1 (frame 1419/4509) /content/cars.mp4: 384x640 12 cars, 24.3ms\n",
            "video 1/1 (frame 1420/4509) /content/cars.mp4: 384x640 13 cars, 1 truck, 24.3ms\n",
            "video 1/1 (frame 1421/4509) /content/cars.mp4: 384x640 13 cars, 1 truck, 24.3ms\n",
            "video 1/1 (frame 1422/4509) /content/cars.mp4: 384x640 12 cars, 24.3ms\n",
            "video 1/1 (frame 1423/4509) /content/cars.mp4: 384x640 12 cars, 24.3ms\n",
            "video 1/1 (frame 1424/4509) /content/cars.mp4: 384x640 13 cars, 24.3ms\n",
            "video 1/1 (frame 1425/4509) /content/cars.mp4: 384x640 13 cars, 24.3ms\n",
            "video 1/1 (frame 1426/4509) /content/cars.mp4: 384x640 12 cars, 1 truck, 24.3ms\n",
            "video 1/1 (frame 1427/4509) /content/cars.mp4: 384x640 12 cars, 1 truck, 24.3ms\n",
            "video 1/1 (frame 1428/4509) /content/cars.mp4: 384x640 10 cars, 2 trucks, 24.3ms\n",
            "video 1/1 (frame 1429/4509) /content/cars.mp4: 384x640 11 cars, 1 truck, 24.3ms\n",
            "video 1/1 (frame 1430/4509) /content/cars.mp4: 384x640 11 cars, 3 trucks, 24.3ms\n",
            "video 1/1 (frame 1431/4509) /content/cars.mp4: 384x640 11 cars, 4 trucks, 24.3ms\n",
            "video 1/1 (frame 1432/4509) /content/cars.mp4: 384x640 11 cars, 1 truck, 24.3ms\n",
            "video 1/1 (frame 1433/4509) /content/cars.mp4: 384x640 12 cars, 1 truck, 24.3ms\n",
            "video 1/1 (frame 1434/4509) /content/cars.mp4: 384x640 12 cars, 1 truck, 24.3ms\n",
            "video 1/1 (frame 1435/4509) /content/cars.mp4: 384x640 11 cars, 1 truck, 24.3ms\n",
            "video 1/1 (frame 1436/4509) /content/cars.mp4: 384x640 11 cars, 1 truck, 24.3ms\n",
            "video 1/1 (frame 1437/4509) /content/cars.mp4: 384x640 11 cars, 1 truck, 24.3ms\n",
            "video 1/1 (frame 1438/4509) /content/cars.mp4: 384x640 11 cars, 2 trucks, 24.3ms\n",
            "video 1/1 (frame 1439/4509) /content/cars.mp4: 384x640 11 cars, 1 truck, 24.3ms\n",
            "video 1/1 (frame 1440/4509) /content/cars.mp4: 384x640 12 cars, 1 truck, 24.3ms\n",
            "video 1/1 (frame 1441/4509) /content/cars.mp4: 384x640 13 cars, 24.3ms\n",
            "video 1/1 (frame 1442/4509) /content/cars.mp4: 384x640 11 cars, 24.3ms\n",
            "video 1/1 (frame 1443/4509) /content/cars.mp4: 384x640 11 cars, 1 truck, 24.3ms\n",
            "video 1/1 (frame 1444/4509) /content/cars.mp4: 384x640 12 cars, 1 truck, 24.3ms\n",
            "video 1/1 (frame 1445/4509) /content/cars.mp4: 384x640 12 cars, 1 truck, 24.3ms\n",
            "video 1/1 (frame 1446/4509) /content/cars.mp4: 384x640 11 cars, 2 trucks, 24.3ms\n",
            "video 1/1 (frame 1447/4509) /content/cars.mp4: 384x640 11 cars, 2 trucks, 24.3ms\n",
            "video 1/1 (frame 1448/4509) /content/cars.mp4: 384x640 13 cars, 2 trucks, 24.3ms\n",
            "video 1/1 (frame 1449/4509) /content/cars.mp4: 384x640 13 cars, 2 trucks, 26.9ms\n",
            "video 1/1 (frame 1450/4509) /content/cars.mp4: 384x640 12 cars, 2 trucks, 24.3ms\n",
            "video 1/1 (frame 1451/4509) /content/cars.mp4: 384x640 13 cars, 24.3ms\n",
            "video 1/1 (frame 1452/4509) /content/cars.mp4: 384x640 11 cars, 2 trucks, 24.3ms\n",
            "video 1/1 (frame 1453/4509) /content/cars.mp4: 384x640 12 cars, 1 truck, 24.3ms\n",
            "video 1/1 (frame 1454/4509) /content/cars.mp4: 384x640 13 cars, 1 truck, 24.3ms\n",
            "video 1/1 (frame 1455/4509) /content/cars.mp4: 384x640 12 cars, 24.3ms\n",
            "video 1/1 (frame 1456/4509) /content/cars.mp4: 384x640 12 cars, 1 truck, 24.3ms\n",
            "video 1/1 (frame 1457/4509) /content/cars.mp4: 384x640 10 cars, 1 truck, 24.3ms\n",
            "video 1/1 (frame 1458/4509) /content/cars.mp4: 384x640 9 cars, 24.3ms\n",
            "video 1/1 (frame 1459/4509) /content/cars.mp4: 384x640 9 cars, 2 trucks, 24.3ms\n",
            "video 1/1 (frame 1460/4509) /content/cars.mp4: 384x640 11 cars, 2 trucks, 24.3ms\n",
            "video 1/1 (frame 1461/4509) /content/cars.mp4: 384x640 11 cars, 1 truck, 24.3ms\n",
            "video 1/1 (frame 1462/4509) /content/cars.mp4: 384x640 11 cars, 2 trucks, 25.5ms\n",
            "video 1/1 (frame 1463/4509) /content/cars.mp4: 384x640 11 cars, 2 trucks, 24.3ms\n",
            "video 1/1 (frame 1464/4509) /content/cars.mp4: 384x640 12 cars, 1 truck, 24.3ms\n",
            "video 1/1 (frame 1465/4509) /content/cars.mp4: 384x640 12 cars, 1 truck, 24.3ms\n",
            "video 1/1 (frame 1466/4509) /content/cars.mp4: 384x640 10 cars, 1 truck, 24.3ms\n",
            "video 1/1 (frame 1467/4509) /content/cars.mp4: 384x640 12 cars, 1 truck, 24.3ms\n",
            "video 1/1 (frame 1468/4509) /content/cars.mp4: 384x640 13 cars, 1 truck, 24.3ms\n",
            "video 1/1 (frame 1469/4509) /content/cars.mp4: 384x640 11 cars, 1 truck, 24.4ms\n",
            "video 1/1 (frame 1470/4509) /content/cars.mp4: 384x640 14 cars, 24.3ms\n",
            "video 1/1 (frame 1471/4509) /content/cars.mp4: 384x640 13 cars, 1 truck, 24.3ms\n",
            "video 1/1 (frame 1472/4509) /content/cars.mp4: 384x640 13 cars, 1 truck, 24.3ms\n",
            "video 1/1 (frame 1473/4509) /content/cars.mp4: 384x640 14 cars, 1 truck, 24.3ms\n",
            "video 1/1 (frame 1474/4509) /content/cars.mp4: 384x640 14 cars, 1 truck, 24.3ms\n",
            "video 1/1 (frame 1475/4509) /content/cars.mp4: 384x640 13 cars, 1 truck, 24.3ms\n",
            "video 1/1 (frame 1476/4509) /content/cars.mp4: 384x640 13 cars, 1 truck, 24.3ms\n",
            "video 1/1 (frame 1477/4509) /content/cars.mp4: 384x640 10 cars, 1 truck, 24.3ms\n",
            "video 1/1 (frame 1478/4509) /content/cars.mp4: 384x640 12 cars, 1 truck, 24.3ms\n",
            "video 1/1 (frame 1479/4509) /content/cars.mp4: 384x640 11 cars, 1 truck, 24.3ms\n",
            "video 1/1 (frame 1480/4509) /content/cars.mp4: 384x640 12 cars, 1 truck, 24.3ms\n",
            "video 1/1 (frame 1481/4509) /content/cars.mp4: 384x640 10 cars, 1 truck, 24.3ms\n",
            "video 1/1 (frame 1482/4509) /content/cars.mp4: 384x640 11 cars, 1 truck, 24.3ms\n",
            "video 1/1 (frame 1483/4509) /content/cars.mp4: 384x640 11 cars, 1 truck, 24.3ms\n",
            "video 1/1 (frame 1484/4509) /content/cars.mp4: 384x640 10 cars, 1 truck, 26.9ms\n",
            "video 1/1 (frame 1485/4509) /content/cars.mp4: 384x640 10 cars, 1 truck, 24.3ms\n",
            "video 1/1 (frame 1486/4509) /content/cars.mp4: 384x640 10 cars, 1 truck, 24.3ms\n",
            "video 1/1 (frame 1487/4509) /content/cars.mp4: 384x640 9 cars, 1 truck, 24.3ms\n",
            "video 1/1 (frame 1488/4509) /content/cars.mp4: 384x640 12 cars, 1 truck, 24.3ms\n",
            "video 1/1 (frame 1489/4509) /content/cars.mp4: 384x640 11 cars, 1 truck, 24.3ms\n",
            "video 1/1 (frame 1490/4509) /content/cars.mp4: 384x640 11 cars, 1 truck, 24.3ms\n",
            "video 1/1 (frame 1491/4509) /content/cars.mp4: 384x640 11 cars, 1 truck, 24.3ms\n",
            "video 1/1 (frame 1492/4509) /content/cars.mp4: 384x640 10 cars, 1 truck, 24.3ms\n",
            "video 1/1 (frame 1493/4509) /content/cars.mp4: 384x640 9 cars, 1 truck, 24.3ms\n",
            "video 1/1 (frame 1494/4509) /content/cars.mp4: 384x640 10 cars, 1 truck, 24.3ms\n",
            "video 1/1 (frame 1495/4509) /content/cars.mp4: 384x640 10 cars, 1 truck, 24.3ms\n",
            "video 1/1 (frame 1496/4509) /content/cars.mp4: 384x640 10 cars, 1 truck, 24.3ms\n",
            "video 1/1 (frame 1497/4509) /content/cars.mp4: 384x640 10 cars, 1 truck, 24.3ms\n",
            "video 1/1 (frame 1498/4509) /content/cars.mp4: 384x640 10 cars, 1 truck, 24.3ms\n",
            "video 1/1 (frame 1499/4509) /content/cars.mp4: 384x640 9 cars, 1 truck, 24.3ms\n",
            "video 1/1 (frame 1500/4509) /content/cars.mp4: 384x640 8 cars, 1 truck, 24.3ms\n",
            "video 1/1 (frame 1501/4509) /content/cars.mp4: 384x640 8 cars, 2 trucks, 24.3ms\n",
            "video 1/1 (frame 1502/4509) /content/cars.mp4: 384x640 7 cars, 1 truck, 24.3ms\n",
            "video 1/1 (frame 1503/4509) /content/cars.mp4: 384x640 8 cars, 1 truck, 24.3ms\n",
            "video 1/1 (frame 1504/4509) /content/cars.mp4: 384x640 7 cars, 1 truck, 24.3ms\n",
            "video 1/1 (frame 1505/4509) /content/cars.mp4: 384x640 7 cars, 1 truck, 24.3ms\n",
            "video 1/1 (frame 1506/4509) /content/cars.mp4: 384x640 8 cars, 1 truck, 24.3ms\n",
            "video 1/1 (frame 1507/4509) /content/cars.mp4: 384x640 7 cars, 1 truck, 24.3ms\n",
            "video 1/1 (frame 1508/4509) /content/cars.mp4: 384x640 7 cars, 1 truck, 24.3ms\n",
            "video 1/1 (frame 1509/4509) /content/cars.mp4: 384x640 8 cars, 1 truck, 24.3ms\n",
            "video 1/1 (frame 1510/4509) /content/cars.mp4: 384x640 7 cars, 1 truck, 24.3ms\n",
            "video 1/1 (frame 1511/4509) /content/cars.mp4: 384x640 7 cars, 1 truck, 24.3ms\n",
            "video 1/1 (frame 1512/4509) /content/cars.mp4: 384x640 7 cars, 2 trucks, 24.3ms\n",
            "video 1/1 (frame 1513/4509) /content/cars.mp4: 384x640 7 cars, 1 truck, 24.3ms\n",
            "video 1/1 (frame 1514/4509) /content/cars.mp4: 384x640 7 cars, 1 truck, 24.3ms\n",
            "video 1/1 (frame 1515/4509) /content/cars.mp4: 384x640 7 cars, 24.3ms\n",
            "video 1/1 (frame 1516/4509) /content/cars.mp4: 384x640 7 cars, 24.3ms\n",
            "video 1/1 (frame 1517/4509) /content/cars.mp4: 384x640 7 cars, 24.3ms\n",
            "video 1/1 (frame 1518/4509) /content/cars.mp4: 384x640 7 cars, 29.8ms\n",
            "video 1/1 (frame 1519/4509) /content/cars.mp4: 384x640 8 cars, 24.4ms\n",
            "video 1/1 (frame 1520/4509) /content/cars.mp4: 384x640 9 cars, 24.3ms\n",
            "video 1/1 (frame 1521/4509) /content/cars.mp4: 384x640 9 cars, 24.3ms\n",
            "video 1/1 (frame 1522/4509) /content/cars.mp4: 384x640 6 cars, 24.3ms\n",
            "video 1/1 (frame 1523/4509) /content/cars.mp4: 384x640 6 cars, 33.0ms\n",
            "video 1/1 (frame 1524/4509) /content/cars.mp4: 384x640 7 cars, 24.3ms\n",
            "video 1/1 (frame 1525/4509) /content/cars.mp4: 384x640 8 cars, 1 truck, 24.3ms\n",
            "video 1/1 (frame 1526/4509) /content/cars.mp4: 384x640 9 cars, 24.3ms\n",
            "video 1/1 (frame 1527/4509) /content/cars.mp4: 384x640 8 cars, 30.7ms\n",
            "video 1/1 (frame 1528/4509) /content/cars.mp4: 384x640 6 cars, 24.3ms\n",
            "video 1/1 (frame 1529/4509) /content/cars.mp4: 384x640 7 cars, 25.7ms\n",
            "video 1/1 (frame 1530/4509) /content/cars.mp4: 384x640 10 cars, 25.5ms\n",
            "video 1/1 (frame 1531/4509) /content/cars.mp4: 384x640 11 cars, 24.3ms\n",
            "video 1/1 (frame 1532/4509) /content/cars.mp4: 384x640 9 cars, 25.3ms\n",
            "video 1/1 (frame 1533/4509) /content/cars.mp4: 384x640 7 cars, 24.3ms\n",
            "video 1/1 (frame 1534/4509) /content/cars.mp4: 384x640 7 cars, 24.3ms\n",
            "video 1/1 (frame 1535/4509) /content/cars.mp4: 384x640 8 cars, 41.7ms\n",
            "video 1/1 (frame 1536/4509) /content/cars.mp4: 384x640 9 cars, 24.3ms\n",
            "video 1/1 (frame 1537/4509) /content/cars.mp4: 384x640 9 cars, 24.5ms\n",
            "video 1/1 (frame 1538/4509) /content/cars.mp4: 384x640 8 cars, 29.4ms\n",
            "video 1/1 (frame 1539/4509) /content/cars.mp4: 384x640 10 cars, 24.3ms\n",
            "video 1/1 (frame 1540/4509) /content/cars.mp4: 384x640 10 cars, 24.3ms\n",
            "video 1/1 (frame 1541/4509) /content/cars.mp4: 384x640 9 cars, 24.3ms\n",
            "video 1/1 (frame 1542/4509) /content/cars.mp4: 384x640 9 cars, 24.3ms\n",
            "video 1/1 (frame 1543/4509) /content/cars.mp4: 384x640 8 cars, 1 truck, 24.3ms\n",
            "video 1/1 (frame 1544/4509) /content/cars.mp4: 384x640 9 cars, 24.3ms\n",
            "video 1/1 (frame 1545/4509) /content/cars.mp4: 384x640 9 cars, 24.3ms\n",
            "video 1/1 (frame 1546/4509) /content/cars.mp4: 384x640 9 cars, 24.4ms\n",
            "video 1/1 (frame 1547/4509) /content/cars.mp4: 384x640 9 cars, 24.3ms\n",
            "video 1/1 (frame 1548/4509) /content/cars.mp4: 384x640 9 cars, 24.3ms\n",
            "video 1/1 (frame 1549/4509) /content/cars.mp4: 384x640 10 cars, 24.3ms\n",
            "video 1/1 (frame 1550/4509) /content/cars.mp4: 384x640 10 cars, 24.3ms\n",
            "video 1/1 (frame 1551/4509) /content/cars.mp4: 384x640 9 cars, 1 truck, 24.3ms\n",
            "video 1/1 (frame 1552/4509) /content/cars.mp4: 384x640 10 cars, 24.3ms\n",
            "video 1/1 (frame 1553/4509) /content/cars.mp4: 384x640 11 cars, 24.3ms\n",
            "video 1/1 (frame 1554/4509) /content/cars.mp4: 384x640 10 cars, 24.3ms\n",
            "video 1/1 (frame 1555/4509) /content/cars.mp4: 384x640 11 cars, 24.3ms\n",
            "video 1/1 (frame 1556/4509) /content/cars.mp4: 384x640 10 cars, 24.3ms\n",
            "video 1/1 (frame 1557/4509) /content/cars.mp4: 384x640 9 cars, 25.5ms\n",
            "video 1/1 (frame 1558/4509) /content/cars.mp4: 384x640 9 cars, 24.3ms\n",
            "video 1/1 (frame 1559/4509) /content/cars.mp4: 384x640 9 cars, 24.3ms\n",
            "video 1/1 (frame 1560/4509) /content/cars.mp4: 384x640 10 cars, 24.3ms\n",
            "video 1/1 (frame 1561/4509) /content/cars.mp4: 384x640 9 cars, 24.3ms\n",
            "video 1/1 (frame 1562/4509) /content/cars.mp4: 384x640 9 cars, 24.3ms\n",
            "video 1/1 (frame 1563/4509) /content/cars.mp4: 384x640 10 cars, 24.3ms\n",
            "video 1/1 (frame 1564/4509) /content/cars.mp4: 384x640 9 cars, 24.3ms\n",
            "video 1/1 (frame 1565/4509) /content/cars.mp4: 384x640 8 cars, 24.3ms\n",
            "video 1/1 (frame 1566/4509) /content/cars.mp4: 384x640 8 cars, 24.3ms\n",
            "video 1/1 (frame 1567/4509) /content/cars.mp4: 384x640 10 cars, 24.3ms\n",
            "video 1/1 (frame 1568/4509) /content/cars.mp4: 384x640 10 cars, 24.3ms\n",
            "video 1/1 (frame 1569/4509) /content/cars.mp4: 384x640 9 cars, 26.3ms\n",
            "video 1/1 (frame 1570/4509) /content/cars.mp4: 384x640 9 cars, 24.3ms\n",
            "video 1/1 (frame 1571/4509) /content/cars.mp4: 384x640 10 cars, 24.3ms\n",
            "video 1/1 (frame 1572/4509) /content/cars.mp4: 384x640 10 cars, 24.3ms\n",
            "video 1/1 (frame 1573/4509) /content/cars.mp4: 384x640 10 cars, 24.3ms\n",
            "video 1/1 (frame 1574/4509) /content/cars.mp4: 384x640 10 cars, 24.3ms\n",
            "video 1/1 (frame 1575/4509) /content/cars.mp4: 384x640 10 cars, 24.3ms\n",
            "video 1/1 (frame 1576/4509) /content/cars.mp4: 384x640 8 cars, 24.3ms\n",
            "video 1/1 (frame 1577/4509) /content/cars.mp4: 384x640 7 cars, 24.3ms\n",
            "video 1/1 (frame 1578/4509) /content/cars.mp4: 384x640 8 cars, 24.3ms\n",
            "video 1/1 (frame 1579/4509) /content/cars.mp4: 384x640 8 cars, 24.3ms\n",
            "video 1/1 (frame 1580/4509) /content/cars.mp4: 384x640 8 cars, 1 truck, 24.3ms\n",
            "video 1/1 (frame 1581/4509) /content/cars.mp4: 384x640 8 cars, 24.3ms\n",
            "video 1/1 (frame 1582/4509) /content/cars.mp4: 384x640 7 cars, 24.3ms\n",
            "video 1/1 (frame 1583/4509) /content/cars.mp4: 384x640 8 cars, 24.3ms\n",
            "video 1/1 (frame 1584/4509) /content/cars.mp4: 384x640 8 cars, 24.3ms\n",
            "video 1/1 (frame 1585/4509) /content/cars.mp4: 384x640 7 cars, 1 motorcycle, 24.3ms\n",
            "video 1/1 (frame 1586/4509) /content/cars.mp4: 384x640 6 cars, 24.3ms\n",
            "video 1/1 (frame 1587/4509) /content/cars.mp4: 384x640 6 cars, 24.3ms\n",
            "video 1/1 (frame 1588/4509) /content/cars.mp4: 384x640 6 cars, 24.4ms\n",
            "video 1/1 (frame 1589/4509) /content/cars.mp4: 384x640 6 cars, 24.3ms\n",
            "video 1/1 (frame 1590/4509) /content/cars.mp4: 384x640 6 cars, 24.3ms\n",
            "video 1/1 (frame 1591/4509) /content/cars.mp4: 384x640 6 cars, 24.3ms\n",
            "video 1/1 (frame 1592/4509) /content/cars.mp4: 384x640 4 cars, 24.3ms\n",
            "video 1/1 (frame 1593/4509) /content/cars.mp4: 384x640 3 cars, 24.3ms\n",
            "video 1/1 (frame 1594/4509) /content/cars.mp4: 384x640 4 cars, 24.3ms\n",
            "video 1/1 (frame 1595/4509) /content/cars.mp4: 384x640 4 cars, 24.3ms\n",
            "video 1/1 (frame 1596/4509) /content/cars.mp4: 384x640 4 cars, 24.3ms\n",
            "video 1/1 (frame 1597/4509) /content/cars.mp4: 384x640 5 cars, 24.3ms\n",
            "video 1/1 (frame 1598/4509) /content/cars.mp4: 384x640 3 cars, 24.3ms\n",
            "video 1/1 (frame 1599/4509) /content/cars.mp4: 384x640 4 cars, 24.3ms\n",
            "video 1/1 (frame 1600/4509) /content/cars.mp4: 384x640 4 cars, 24.3ms\n",
            "video 1/1 (frame 1601/4509) /content/cars.mp4: 384x640 2 cars, 24.3ms\n",
            "video 1/1 (frame 1602/4509) /content/cars.mp4: 384x640 3 cars, 24.3ms\n",
            "video 1/1 (frame 1603/4509) /content/cars.mp4: 384x640 3 cars, 24.3ms\n",
            "video 1/1 (frame 1604/4509) /content/cars.mp4: 384x640 4 cars, 24.3ms\n",
            "video 1/1 (frame 1605/4509) /content/cars.mp4: 384x640 5 cars, 24.3ms\n",
            "video 1/1 (frame 1606/4509) /content/cars.mp4: 384x640 5 cars, 1 truck, 24.3ms\n",
            "video 1/1 (frame 1607/4509) /content/cars.mp4: 384x640 6 cars, 24.3ms\n",
            "video 1/1 (frame 1608/4509) /content/cars.mp4: 384x640 6 cars, 24.3ms\n",
            "video 1/1 (frame 1609/4509) /content/cars.mp4: 384x640 6 cars, 24.3ms\n",
            "video 1/1 (frame 1610/4509) /content/cars.mp4: 384x640 5 cars, 24.3ms\n",
            "video 1/1 (frame 1611/4509) /content/cars.mp4: 384x640 4 cars, 24.3ms\n",
            "video 1/1 (frame 1612/4509) /content/cars.mp4: 384x640 6 cars, 24.3ms\n",
            "video 1/1 (frame 1613/4509) /content/cars.mp4: 384x640 4 cars, 24.3ms\n",
            "video 1/1 (frame 1614/4509) /content/cars.mp4: 384x640 4 cars, 24.3ms\n",
            "video 1/1 (frame 1615/4509) /content/cars.mp4: 384x640 5 cars, 24.3ms\n",
            "video 1/1 (frame 1616/4509) /content/cars.mp4: 384x640 5 cars, 24.3ms\n",
            "video 1/1 (frame 1617/4509) /content/cars.mp4: 384x640 4 cars, 24.3ms\n",
            "video 1/1 (frame 1618/4509) /content/cars.mp4: 384x640 4 cars, 24.3ms\n",
            "video 1/1 (frame 1619/4509) /content/cars.mp4: 384x640 4 cars, 24.3ms\n",
            "video 1/1 (frame 1620/4509) /content/cars.mp4: 384x640 4 cars, 24.3ms\n",
            "video 1/1 (frame 1621/4509) /content/cars.mp4: 384x640 5 cars, 24.3ms\n",
            "video 1/1 (frame 1622/4509) /content/cars.mp4: 384x640 5 cars, 24.3ms\n",
            "video 1/1 (frame 1623/4509) /content/cars.mp4: 384x640 5 cars, 24.5ms\n",
            "video 1/1 (frame 1624/4509) /content/cars.mp4: 384x640 5 cars, 24.3ms\n",
            "video 1/1 (frame 1625/4509) /content/cars.mp4: 384x640 5 cars, 24.3ms\n",
            "video 1/1 (frame 1626/4509) /content/cars.mp4: 384x640 5 cars, 24.3ms\n",
            "video 1/1 (frame 1627/4509) /content/cars.mp4: 384x640 6 cars, 24.3ms\n",
            "video 1/1 (frame 1628/4509) /content/cars.mp4: 384x640 5 cars, 24.3ms\n",
            "video 1/1 (frame 1629/4509) /content/cars.mp4: 384x640 5 cars, 24.3ms\n",
            "video 1/1 (frame 1630/4509) /content/cars.mp4: 384x640 7 cars, 24.3ms\n",
            "video 1/1 (frame 1631/4509) /content/cars.mp4: 384x640 7 cars, 24.3ms\n",
            "video 1/1 (frame 1632/4509) /content/cars.mp4: 384x640 7 cars, 24.3ms\n",
            "video 1/1 (frame 1633/4509) /content/cars.mp4: 384x640 7 cars, 24.3ms\n",
            "video 1/1 (frame 1634/4509) /content/cars.mp4: 384x640 6 cars, 24.3ms\n",
            "video 1/1 (frame 1635/4509) /content/cars.mp4: 384x640 7 cars, 24.3ms\n",
            "video 1/1 (frame 1636/4509) /content/cars.mp4: 384x640 7 cars, 24.3ms\n",
            "video 1/1 (frame 1637/4509) /content/cars.mp4: 384x640 7 cars, 24.3ms\n",
            "video 1/1 (frame 1638/4509) /content/cars.mp4: 384x640 7 cars, 24.3ms\n",
            "video 1/1 (frame 1639/4509) /content/cars.mp4: 384x640 7 cars, 24.3ms\n",
            "video 1/1 (frame 1640/4509) /content/cars.mp4: 384x640 7 cars, 24.3ms\n",
            "video 1/1 (frame 1641/4509) /content/cars.mp4: 384x640 7 cars, 24.3ms\n",
            "video 1/1 (frame 1642/4509) /content/cars.mp4: 384x640 7 cars, 24.3ms\n",
            "video 1/1 (frame 1643/4509) /content/cars.mp4: 384x640 8 cars, 1 truck, 24.3ms\n",
            "video 1/1 (frame 1644/4509) /content/cars.mp4: 384x640 8 cars, 1 truck, 24.3ms\n",
            "video 1/1 (frame 1645/4509) /content/cars.mp4: 384x640 7 cars, 1 truck, 24.3ms\n",
            "video 1/1 (frame 1646/4509) /content/cars.mp4: 384x640 7 cars, 1 truck, 24.3ms\n",
            "video 1/1 (frame 1647/4509) /content/cars.mp4: 384x640 6 cars, 1 truck, 24.3ms\n",
            "video 1/1 (frame 1648/4509) /content/cars.mp4: 384x640 6 cars, 1 truck, 24.3ms\n",
            "video 1/1 (frame 1649/4509) /content/cars.mp4: 384x640 7 cars, 1 truck, 24.3ms\n",
            "video 1/1 (frame 1650/4509) /content/cars.mp4: 384x640 7 cars, 1 truck, 24.3ms\n",
            "video 1/1 (frame 1651/4509) /content/cars.mp4: 384x640 8 cars, 1 truck, 24.3ms\n",
            "video 1/1 (frame 1652/4509) /content/cars.mp4: 384x640 7 cars, 1 truck, 24.3ms\n",
            "video 1/1 (frame 1653/4509) /content/cars.mp4: 384x640 7 cars, 1 truck, 24.3ms\n",
            "video 1/1 (frame 1654/4509) /content/cars.mp4: 384x640 7 cars, 1 truck, 24.3ms\n",
            "video 1/1 (frame 1655/4509) /content/cars.mp4: 384x640 7 cars, 1 truck, 24.3ms\n",
            "video 1/1 (frame 1656/4509) /content/cars.mp4: 384x640 7 cars, 1 truck, 25.9ms\n",
            "video 1/1 (frame 1657/4509) /content/cars.mp4: 384x640 7 cars, 1 truck, 24.3ms\n",
            "video 1/1 (frame 1658/4509) /content/cars.mp4: 384x640 8 cars, 1 truck, 24.3ms\n",
            "video 1/1 (frame 1659/4509) /content/cars.mp4: 384x640 7 cars, 1 truck, 29.8ms\n",
            "video 1/1 (frame 1660/4509) /content/cars.mp4: 384x640 7 cars, 1 truck, 24.3ms\n",
            "video 1/1 (frame 1661/4509) /content/cars.mp4: 384x640 7 cars, 1 truck, 24.3ms\n",
            "video 1/1 (frame 1662/4509) /content/cars.mp4: 384x640 5 cars, 1 truck, 24.3ms\n",
            "video 1/1 (frame 1663/4509) /content/cars.mp4: 384x640 7 cars, 1 truck, 24.3ms\n",
            "video 1/1 (frame 1664/4509) /content/cars.mp4: 384x640 8 cars, 1 truck, 26.8ms\n",
            "video 1/1 (frame 1665/4509) /content/cars.mp4: 384x640 9 cars, 1 truck, 24.3ms\n",
            "video 1/1 (frame 1666/4509) /content/cars.mp4: 384x640 8 cars, 24.3ms\n",
            "video 1/1 (frame 1667/4509) /content/cars.mp4: 384x640 6 cars, 24.3ms\n",
            "video 1/1 (frame 1668/4509) /content/cars.mp4: 384x640 5 cars, 1 truck, 24.3ms\n",
            "video 1/1 (frame 1669/4509) /content/cars.mp4: 384x640 6 cars, 1 truck, 24.3ms\n",
            "video 1/1 (frame 1670/4509) /content/cars.mp4: 384x640 6 cars, 2 trucks, 25.4ms\n",
            "video 1/1 (frame 1671/4509) /content/cars.mp4: 384x640 8 cars, 2 trucks, 39.2ms\n",
            "video 1/1 (frame 1672/4509) /content/cars.mp4: 384x640 7 cars, 2 trucks, 32.5ms\n",
            "video 1/1 (frame 1673/4509) /content/cars.mp4: 384x640 7 cars, 2 trucks, 27.6ms\n",
            "video 1/1 (frame 1674/4509) /content/cars.mp4: 384x640 6 cars, 2 trucks, 24.4ms\n",
            "video 1/1 (frame 1675/4509) /content/cars.mp4: 384x640 7 cars, 2 trucks, 36.9ms\n",
            "video 1/1 (frame 1676/4509) /content/cars.mp4: 384x640 7 cars, 1 truck, 27.2ms\n",
            "video 1/1 (frame 1677/4509) /content/cars.mp4: 384x640 8 cars, 1 truck, 24.4ms\n",
            "video 1/1 (frame 1678/4509) /content/cars.mp4: 384x640 7 cars, 1 truck, 24.4ms\n",
            "video 1/1 (frame 1679/4509) /content/cars.mp4: 384x640 8 cars, 1 truck, 24.3ms\n",
            "video 1/1 (frame 1680/4509) /content/cars.mp4: 384x640 7 cars, 1 truck, 24.3ms\n",
            "video 1/1 (frame 1681/4509) /content/cars.mp4: 384x640 8 cars, 1 truck, 24.5ms\n",
            "video 1/1 (frame 1682/4509) /content/cars.mp4: 384x640 9 cars, 1 truck, 24.4ms\n",
            "video 1/1 (frame 1683/4509) /content/cars.mp4: 384x640 10 cars, 24.3ms\n",
            "video 1/1 (frame 1684/4509) /content/cars.mp4: 384x640 10 cars, 2 trucks, 24.3ms\n",
            "video 1/1 (frame 1685/4509) /content/cars.mp4: 384x640 10 cars, 2 trucks, 24.3ms\n",
            "video 1/1 (frame 1686/4509) /content/cars.mp4: 384x640 11 cars, 1 truck, 24.3ms\n",
            "video 1/1 (frame 1687/4509) /content/cars.mp4: 384x640 10 cars, 24.3ms\n",
            "video 1/1 (frame 1688/4509) /content/cars.mp4: 384x640 10 cars, 1 truck, 24.3ms\n",
            "video 1/1 (frame 1689/4509) /content/cars.mp4: 384x640 10 cars, 1 truck, 24.3ms\n",
            "video 1/1 (frame 1690/4509) /content/cars.mp4: 384x640 9 cars, 24.3ms\n",
            "video 1/1 (frame 1691/4509) /content/cars.mp4: 384x640 10 cars, 1 truck, 24.3ms\n",
            "video 1/1 (frame 1692/4509) /content/cars.mp4: 384x640 11 cars, 1 truck, 24.3ms\n",
            "video 1/1 (frame 1693/4509) /content/cars.mp4: 384x640 10 cars, 24.3ms\n",
            "video 1/1 (frame 1694/4509) /content/cars.mp4: 384x640 9 cars, 1 truck, 24.3ms\n",
            "video 1/1 (frame 1695/4509) /content/cars.mp4: 384x640 9 cars, 1 truck, 24.3ms\n",
            "video 1/1 (frame 1696/4509) /content/cars.mp4: 384x640 9 cars, 24.3ms\n",
            "video 1/1 (frame 1697/4509) /content/cars.mp4: 384x640 10 cars, 1 truck, 24.3ms\n",
            "video 1/1 (frame 1698/4509) /content/cars.mp4: 384x640 9 cars, 1 truck, 24.3ms\n",
            "video 1/1 (frame 1699/4509) /content/cars.mp4: 384x640 8 cars, 1 truck, 24.3ms\n",
            "video 1/1 (frame 1700/4509) /content/cars.mp4: 384x640 9 cars, 1 truck, 24.4ms\n",
            "video 1/1 (frame 1701/4509) /content/cars.mp4: 384x640 10 cars, 1 truck, 24.3ms\n",
            "video 1/1 (frame 1702/4509) /content/cars.mp4: 384x640 11 cars, 24.4ms\n",
            "video 1/1 (frame 1703/4509) /content/cars.mp4: 384x640 11 cars, 24.3ms\n",
            "video 1/1 (frame 1704/4509) /content/cars.mp4: 384x640 9 cars, 24.3ms\n",
            "video 1/1 (frame 1705/4509) /content/cars.mp4: 384x640 10 cars, 24.3ms\n",
            "video 1/1 (frame 1706/4509) /content/cars.mp4: 384x640 10 cars, 24.3ms\n",
            "video 1/1 (frame 1707/4509) /content/cars.mp4: 384x640 12 cars, 24.3ms\n",
            "video 1/1 (frame 1708/4509) /content/cars.mp4: 384x640 11 cars, 24.3ms\n",
            "video 1/1 (frame 1709/4509) /content/cars.mp4: 384x640 11 cars, 24.3ms\n",
            "video 1/1 (frame 1710/4509) /content/cars.mp4: 384x640 11 cars, 1 truck, 24.3ms\n",
            "video 1/1 (frame 1711/4509) /content/cars.mp4: 384x640 11 cars, 24.3ms\n",
            "video 1/1 (frame 1712/4509) /content/cars.mp4: 384x640 11 cars, 30.2ms\n",
            "video 1/1 (frame 1713/4509) /content/cars.mp4: 384x640 11 cars, 24.3ms\n",
            "video 1/1 (frame 1714/4509) /content/cars.mp4: 384x640 13 cars, 24.3ms\n",
            "video 1/1 (frame 1715/4509) /content/cars.mp4: 384x640 12 cars, 1 truck, 24.3ms\n",
            "video 1/1 (frame 1716/4509) /content/cars.mp4: 384x640 12 cars, 1 truck, 24.9ms\n",
            "video 1/1 (frame 1717/4509) /content/cars.mp4: 384x640 12 cars, 1 truck, 24.3ms\n",
            "video 1/1 (frame 1718/4509) /content/cars.mp4: 384x640 12 cars, 24.3ms\n",
            "video 1/1 (frame 1719/4509) /content/cars.mp4: 384x640 12 cars, 2 trucks, 24.3ms\n",
            "video 1/1 (frame 1720/4509) /content/cars.mp4: 384x640 11 cars, 3 trucks, 24.3ms\n",
            "video 1/1 (frame 1721/4509) /content/cars.mp4: 384x640 12 cars, 1 truck, 24.3ms\n",
            "video 1/1 (frame 1722/4509) /content/cars.mp4: 384x640 14 cars, 1 truck, 24.3ms\n",
            "video 1/1 (frame 1723/4509) /content/cars.mp4: 384x640 14 cars, 1 truck, 24.3ms\n",
            "video 1/1 (frame 1724/4509) /content/cars.mp4: 384x640 14 cars, 2 trucks, 24.3ms\n",
            "video 1/1 (frame 1725/4509) /content/cars.mp4: 384x640 12 cars, 2 trucks, 24.3ms\n",
            "video 1/1 (frame 1726/4509) /content/cars.mp4: 384x640 12 cars, 1 truck, 24.3ms\n",
            "video 1/1 (frame 1727/4509) /content/cars.mp4: 384x640 11 cars, 3 trucks, 24.3ms\n",
            "video 1/1 (frame 1728/4509) /content/cars.mp4: 384x640 12 cars, 2 trucks, 24.3ms\n",
            "video 1/1 (frame 1729/4509) /content/cars.mp4: 384x640 13 cars, 1 truck, 38.7ms\n",
            "video 1/1 (frame 1730/4509) /content/cars.mp4: 384x640 13 cars, 24.3ms\n",
            "video 1/1 (frame 1731/4509) /content/cars.mp4: 384x640 14 cars, 1 truck, 24.3ms\n",
            "video 1/1 (frame 1732/4509) /content/cars.mp4: 384x640 8 cars, 24.3ms\n",
            "video 1/1 (frame 1733/4509) /content/cars.mp4: 384x640 8 cars, 24.3ms\n",
            "video 1/1 (frame 1734/4509) /content/cars.mp4: 384x640 8 cars, 24.3ms\n",
            "video 1/1 (frame 1735/4509) /content/cars.mp4: 384x640 10 cars, 1 truck, 24.3ms\n",
            "video 1/1 (frame 1736/4509) /content/cars.mp4: 384x640 12 cars, 1 truck, 24.3ms\n",
            "video 1/1 (frame 1737/4509) /content/cars.mp4: 384x640 11 cars, 24.3ms\n",
            "video 1/1 (frame 1738/4509) /content/cars.mp4: 384x640 12 cars, 2 trucks, 24.3ms\n",
            "video 1/1 (frame 1739/4509) /content/cars.mp4: 384x640 12 cars, 2 trucks, 24.3ms\n",
            "video 1/1 (frame 1740/4509) /content/cars.mp4: 384x640 12 cars, 24.3ms\n",
            "video 1/1 (frame 1741/4509) /content/cars.mp4: 384x640 14 cars, 1 truck, 24.3ms\n",
            "video 1/1 (frame 1742/4509) /content/cars.mp4: 384x640 13 cars, 24.3ms\n",
            "video 1/1 (frame 1743/4509) /content/cars.mp4: 384x640 12 cars, 24.3ms\n",
            "video 1/1 (frame 1744/4509) /content/cars.mp4: 384x640 11 cars, 24.3ms\n",
            "video 1/1 (frame 1745/4509) /content/cars.mp4: 384x640 13 cars, 24.3ms\n",
            "video 1/1 (frame 1746/4509) /content/cars.mp4: 384x640 13 cars, 24.3ms\n",
            "video 1/1 (frame 1747/4509) /content/cars.mp4: 384x640 13 cars, 1 truck, 24.3ms\n",
            "video 1/1 (frame 1748/4509) /content/cars.mp4: 384x640 16 cars, 1 truck, 24.3ms\n",
            "video 1/1 (frame 1749/4509) /content/cars.mp4: 384x640 15 cars, 24.3ms\n",
            "video 1/1 (frame 1750/4509) /content/cars.mp4: 384x640 16 cars, 24.3ms\n",
            "video 1/1 (frame 1751/4509) /content/cars.mp4: 384x640 15 cars, 24.3ms\n",
            "video 1/1 (frame 1752/4509) /content/cars.mp4: 384x640 14 cars, 24.3ms\n",
            "video 1/1 (frame 1753/4509) /content/cars.mp4: 384x640 14 cars, 26.5ms\n",
            "video 1/1 (frame 1754/4509) /content/cars.mp4: 384x640 15 cars, 24.3ms\n",
            "video 1/1 (frame 1755/4509) /content/cars.mp4: 384x640 14 cars, 24.3ms\n",
            "video 1/1 (frame 1756/4509) /content/cars.mp4: 384x640 14 cars, 31.8ms\n",
            "video 1/1 (frame 1757/4509) /content/cars.mp4: 384x640 14 cars, 1 truck, 24.3ms\n",
            "video 1/1 (frame 1758/4509) /content/cars.mp4: 384x640 14 cars, 1 traffic light, 24.3ms\n",
            "video 1/1 (frame 1759/4509) /content/cars.mp4: 384x640 14 cars, 24.3ms\n",
            "video 1/1 (frame 1760/4509) /content/cars.mp4: 384x640 13 cars, 24.3ms\n",
            "video 1/1 (frame 1761/4509) /content/cars.mp4: 384x640 14 cars, 24.3ms\n",
            "video 1/1 (frame 1762/4509) /content/cars.mp4: 384x640 14 cars, 24.3ms\n",
            "video 1/1 (frame 1763/4509) /content/cars.mp4: 384x640 13 cars, 24.3ms\n",
            "video 1/1 (frame 1764/4509) /content/cars.mp4: 384x640 14 cars, 26.7ms\n",
            "video 1/1 (frame 1765/4509) /content/cars.mp4: 384x640 15 cars, 30.7ms\n",
            "video 1/1 (frame 1766/4509) /content/cars.mp4: 384x640 15 cars, 24.3ms\n",
            "video 1/1 (frame 1767/4509) /content/cars.mp4: 384x640 16 cars, 1 truck, 24.4ms\n",
            "video 1/1 (frame 1768/4509) /content/cars.mp4: 384x640 16 cars, 24.5ms\n",
            "video 1/1 (frame 1769/4509) /content/cars.mp4: 384x640 15 cars, 1 truck, 34.3ms\n",
            "video 1/1 (frame 1770/4509) /content/cars.mp4: 384x640 15 cars, 30.5ms\n",
            "video 1/1 (frame 1771/4509) /content/cars.mp4: 384x640 14 cars, 25.7ms\n",
            "video 1/1 (frame 1772/4509) /content/cars.mp4: 384x640 15 cars, 24.3ms\n",
            "video 1/1 (frame 1773/4509) /content/cars.mp4: 384x640 13 cars, 2 trucks, 40.5ms\n",
            "video 1/1 (frame 1774/4509) /content/cars.mp4: 384x640 12 cars, 24.3ms\n",
            "video 1/1 (frame 1775/4509) /content/cars.mp4: 384x640 14 cars, 30.9ms\n",
            "video 1/1 (frame 1776/4509) /content/cars.mp4: 384x640 15 cars, 24.3ms\n",
            "video 1/1 (frame 1777/4509) /content/cars.mp4: 384x640 14 cars, 24.3ms\n",
            "video 1/1 (frame 1778/4509) /content/cars.mp4: 384x640 15 cars, 24.4ms\n",
            "video 1/1 (frame 1779/4509) /content/cars.mp4: 384x640 15 cars, 24.3ms\n",
            "video 1/1 (frame 1780/4509) /content/cars.mp4: 384x640 15 cars, 24.3ms\n",
            "video 1/1 (frame 1781/4509) /content/cars.mp4: 384x640 14 cars, 24.3ms\n",
            "video 1/1 (frame 1782/4509) /content/cars.mp4: 384x640 13 cars, 24.3ms\n",
            "video 1/1 (frame 1783/4509) /content/cars.mp4: 384x640 12 cars, 2 trucks, 24.3ms\n",
            "video 1/1 (frame 1784/4509) /content/cars.mp4: 384x640 11 cars, 24.3ms\n",
            "video 1/1 (frame 1785/4509) /content/cars.mp4: 384x640 14 cars, 24.3ms\n",
            "video 1/1 (frame 1786/4509) /content/cars.mp4: 384x640 14 cars, 2 trucks, 24.3ms\n",
            "video 1/1 (frame 1787/4509) /content/cars.mp4: 384x640 12 cars, 2 trucks, 24.3ms\n",
            "video 1/1 (frame 1788/4509) /content/cars.mp4: 384x640 13 cars, 24.3ms\n",
            "video 1/1 (frame 1789/4509) /content/cars.mp4: 384x640 12 cars, 42.9ms\n",
            "video 1/1 (frame 1790/4509) /content/cars.mp4: 384x640 13 cars, 2 trucks, 24.3ms\n",
            "video 1/1 (frame 1791/4509) /content/cars.mp4: 384x640 13 cars, 2 trucks, 24.3ms\n",
            "video 1/1 (frame 1792/4509) /content/cars.mp4: 384x640 12 cars, 3 trucks, 24.3ms\n",
            "video 1/1 (frame 1793/4509) /content/cars.mp4: 384x640 13 cars, 2 trucks, 24.3ms\n",
            "video 1/1 (frame 1794/4509) /content/cars.mp4: 384x640 11 cars, 1 truck, 24.3ms\n",
            "video 1/1 (frame 1795/4509) /content/cars.mp4: 384x640 12 cars, 25.3ms\n",
            "video 1/1 (frame 1796/4509) /content/cars.mp4: 384x640 11 cars, 1 truck, 24.4ms\n",
            "video 1/1 (frame 1797/4509) /content/cars.mp4: 384x640 12 cars, 48.2ms\n",
            "video 1/1 (frame 1798/4509) /content/cars.mp4: 384x640 12 cars, 1 truck, 24.3ms\n",
            "video 1/1 (frame 1799/4509) /content/cars.mp4: 384x640 10 cars, 24.3ms\n",
            "video 1/1 (frame 1800/4509) /content/cars.mp4: 384x640 11 cars, 1 truck, 24.3ms\n",
            "video 1/1 (frame 1801/4509) /content/cars.mp4: 384x640 10 cars, 27.9ms\n",
            "video 1/1 (frame 1802/4509) /content/cars.mp4: 384x640 11 cars, 3 trucks, 24.3ms\n",
            "video 1/1 (frame 1803/4509) /content/cars.mp4: 384x640 11 cars, 27.3ms\n",
            "video 1/1 (frame 1804/4509) /content/cars.mp4: 384x640 11 cars, 24.3ms\n",
            "video 1/1 (frame 1805/4509) /content/cars.mp4: 384x640 11 cars, 24.3ms\n",
            "video 1/1 (frame 1806/4509) /content/cars.mp4: 384x640 11 cars, 24.3ms\n",
            "video 1/1 (frame 1807/4509) /content/cars.mp4: 384x640 11 cars, 24.3ms\n",
            "video 1/1 (frame 1808/4509) /content/cars.mp4: 384x640 11 cars, 24.3ms\n",
            "video 1/1 (frame 1809/4509) /content/cars.mp4: 384x640 11 cars, 1 truck, 24.3ms\n",
            "video 1/1 (frame 1810/4509) /content/cars.mp4: 384x640 11 cars, 1 truck, 24.3ms\n",
            "video 1/1 (frame 1811/4509) /content/cars.mp4: 384x640 11 cars, 1 truck, 24.3ms\n",
            "video 1/1 (frame 1812/4509) /content/cars.mp4: 384x640 12 cars, 24.3ms\n",
            "video 1/1 (frame 1813/4509) /content/cars.mp4: 384x640 12 cars, 1 truck, 24.3ms\n",
            "video 1/1 (frame 1814/4509) /content/cars.mp4: 384x640 14 cars, 1 truck, 24.5ms\n",
            "video 1/1 (frame 1815/4509) /content/cars.mp4: 384x640 12 cars, 24.3ms\n",
            "video 1/1 (frame 1816/4509) /content/cars.mp4: 384x640 12 cars, 24.4ms\n",
            "video 1/1 (frame 1817/4509) /content/cars.mp4: 384x640 13 cars, 24.3ms\n",
            "video 1/1 (frame 1818/4509) /content/cars.mp4: 384x640 13 cars, 24.3ms\n",
            "video 1/1 (frame 1819/4509) /content/cars.mp4: 384x640 13 cars, 24.3ms\n",
            "video 1/1 (frame 1820/4509) /content/cars.mp4: 384x640 12 cars, 24.3ms\n",
            "video 1/1 (frame 1821/4509) /content/cars.mp4: 384x640 11 cars, 1 truck, 24.3ms\n",
            "video 1/1 (frame 1822/4509) /content/cars.mp4: 384x640 10 cars, 2 trucks, 24.4ms\n",
            "video 1/1 (frame 1823/4509) /content/cars.mp4: 384x640 12 cars, 24.4ms\n",
            "video 1/1 (frame 1824/4509) /content/cars.mp4: 384x640 10 cars, 1 truck, 24.3ms\n",
            "video 1/1 (frame 1825/4509) /content/cars.mp4: 384x640 14 cars, 24.3ms\n",
            "video 1/1 (frame 1826/4509) /content/cars.mp4: 384x640 13 cars, 1 truck, 24.3ms\n",
            "video 1/1 (frame 1827/4509) /content/cars.mp4: 384x640 13 cars, 1 truck, 24.3ms\n",
            "video 1/1 (frame 1828/4509) /content/cars.mp4: 384x640 13 cars, 24.3ms\n",
            "video 1/1 (frame 1829/4509) /content/cars.mp4: 384x640 13 cars, 24.3ms\n",
            "video 1/1 (frame 1830/4509) /content/cars.mp4: 384x640 13 cars, 24.3ms\n",
            "video 1/1 (frame 1831/4509) /content/cars.mp4: 384x640 13 cars, 24.3ms\n",
            "video 1/1 (frame 1832/4509) /content/cars.mp4: 384x640 13 cars, 24.6ms\n",
            "video 1/1 (frame 1833/4509) /content/cars.mp4: 384x640 14 cars, 24.3ms\n",
            "video 1/1 (frame 1834/4509) /content/cars.mp4: 384x640 13 cars, 24.5ms\n",
            "video 1/1 (frame 1835/4509) /content/cars.mp4: 384x640 15 cars, 24.4ms\n",
            "video 1/1 (frame 1836/4509) /content/cars.mp4: 384x640 16 cars, 24.3ms\n",
            "video 1/1 (frame 1837/4509) /content/cars.mp4: 384x640 17 cars, 24.3ms\n",
            "video 1/1 (frame 1838/4509) /content/cars.mp4: 384x640 16 cars, 24.3ms\n",
            "video 1/1 (frame 1839/4509) /content/cars.mp4: 384x640 17 cars, 24.4ms\n",
            "video 1/1 (frame 1840/4509) /content/cars.mp4: 384x640 16 cars, 24.3ms\n",
            "video 1/1 (frame 1841/4509) /content/cars.mp4: 384x640 17 cars, 24.3ms\n",
            "video 1/1 (frame 1842/4509) /content/cars.mp4: 384x640 16 cars, 24.3ms\n",
            "video 1/1 (frame 1843/4509) /content/cars.mp4: 384x640 12 cars, 1 truck, 24.3ms\n",
            "video 1/1 (frame 1844/4509) /content/cars.mp4: 384x640 12 cars, 24.3ms\n",
            "video 1/1 (frame 1845/4509) /content/cars.mp4: 384x640 13 cars, 30.6ms\n",
            "video 1/1 (frame 1846/4509) /content/cars.mp4: 384x640 12 cars, 24.7ms\n",
            "video 1/1 (frame 1847/4509) /content/cars.mp4: 384x640 11 cars, 1 truck, 24.3ms\n",
            "video 1/1 (frame 1848/4509) /content/cars.mp4: 384x640 15 cars, 24.4ms\n",
            "video 1/1 (frame 1849/4509) /content/cars.mp4: 384x640 13 cars, 24.3ms\n",
            "video 1/1 (frame 1850/4509) /content/cars.mp4: 384x640 14 cars, 24.3ms\n",
            "video 1/1 (frame 1851/4509) /content/cars.mp4: 384x640 13 cars, 24.3ms\n",
            "video 1/1 (frame 1852/4509) /content/cars.mp4: 384x640 13 cars, 24.3ms\n",
            "video 1/1 (frame 1853/4509) /content/cars.mp4: 384x640 12 cars, 24.3ms\n",
            "video 1/1 (frame 1854/4509) /content/cars.mp4: 384x640 12 cars, 24.3ms\n",
            "video 1/1 (frame 1855/4509) /content/cars.mp4: 384x640 12 cars, 1 truck, 24.3ms\n",
            "video 1/1 (frame 1856/4509) /content/cars.mp4: 384x640 14 cars, 24.3ms\n",
            "video 1/1 (frame 1857/4509) /content/cars.mp4: 384x640 12 cars, 24.3ms\n",
            "video 1/1 (frame 1858/4509) /content/cars.mp4: 384x640 11 cars, 1 truck, 25.1ms\n",
            "video 1/1 (frame 1859/4509) /content/cars.mp4: 384x640 11 cars, 24.3ms\n",
            "video 1/1 (frame 1860/4509) /content/cars.mp4: 384x640 10 cars, 24.3ms\n",
            "video 1/1 (frame 1861/4509) /content/cars.mp4: 384x640 11 cars, 24.3ms\n",
            "video 1/1 (frame 1862/4509) /content/cars.mp4: 384x640 10 cars, 24.3ms\n",
            "video 1/1 (frame 1863/4509) /content/cars.mp4: 384x640 10 cars, 24.4ms\n",
            "video 1/1 (frame 1864/4509) /content/cars.mp4: 384x640 10 cars, 24.3ms\n",
            "video 1/1 (frame 1865/4509) /content/cars.mp4: 384x640 11 cars, 24.3ms\n",
            "video 1/1 (frame 1866/4509) /content/cars.mp4: 384x640 11 cars, 1 truck, 24.5ms\n",
            "video 1/1 (frame 1867/4509) /content/cars.mp4: 384x640 11 cars, 24.3ms\n",
            "video 1/1 (frame 1868/4509) /content/cars.mp4: 384x640 12 cars, 1 truck, 24.3ms\n",
            "video 1/1 (frame 1869/4509) /content/cars.mp4: 384x640 12 cars, 24.3ms\n",
            "video 1/1 (frame 1870/4509) /content/cars.mp4: 384x640 12 cars, 24.3ms\n",
            "video 1/1 (frame 1871/4509) /content/cars.mp4: 384x640 13 cars, 24.4ms\n",
            "video 1/1 (frame 1872/4509) /content/cars.mp4: 384x640 13 cars, 24.4ms\n",
            "video 1/1 (frame 1873/4509) /content/cars.mp4: 384x640 12 cars, 1 truck, 25.0ms\n",
            "video 1/1 (frame 1874/4509) /content/cars.mp4: 384x640 12 cars, 1 truck, 24.3ms\n",
            "video 1/1 (frame 1875/4509) /content/cars.mp4: 384x640 12 cars, 1 truck, 24.3ms\n",
            "video 1/1 (frame 1876/4509) /content/cars.mp4: 384x640 13 cars, 2 trucks, 24.4ms\n",
            "video 1/1 (frame 1877/4509) /content/cars.mp4: 384x640 12 cars, 24.8ms\n",
            "video 1/1 (frame 1878/4509) /content/cars.mp4: 384x640 12 cars, 24.3ms\n",
            "video 1/1 (frame 1879/4509) /content/cars.mp4: 384x640 12 cars, 1 truck, 24.3ms\n",
            "video 1/1 (frame 1880/4509) /content/cars.mp4: 384x640 13 cars, 24.3ms\n",
            "video 1/1 (frame 1881/4509) /content/cars.mp4: 384x640 11 cars, 24.3ms\n",
            "video 1/1 (frame 1882/4509) /content/cars.mp4: 384x640 12 cars, 1 truck, 24.3ms\n",
            "video 1/1 (frame 1883/4509) /content/cars.mp4: 384x640 13 cars, 26.3ms\n",
            "video 1/1 (frame 1884/4509) /content/cars.mp4: 384x640 12 cars, 24.3ms\n",
            "video 1/1 (frame 1885/4509) /content/cars.mp4: 384x640 12 cars, 24.3ms\n",
            "video 1/1 (frame 1886/4509) /content/cars.mp4: 384x640 14 cars, 24.3ms\n",
            "video 1/1 (frame 1887/4509) /content/cars.mp4: 384x640 12 cars, 24.3ms\n",
            "video 1/1 (frame 1888/4509) /content/cars.mp4: 384x640 12 cars, 24.3ms\n",
            "video 1/1 (frame 1889/4509) /content/cars.mp4: 384x640 12 cars, 1 truck, 24.4ms\n",
            "video 1/1 (frame 1890/4509) /content/cars.mp4: 384x640 12 cars, 1 truck, 24.3ms\n",
            "video 1/1 (frame 1891/4509) /content/cars.mp4: 384x640 10 cars, 1 truck, 24.4ms\n",
            "video 1/1 (frame 1892/4509) /content/cars.mp4: 384x640 11 cars, 1 truck, 24.4ms\n",
            "video 1/1 (frame 1893/4509) /content/cars.mp4: 384x640 11 cars, 2 trucks, 24.3ms\n",
            "video 1/1 (frame 1894/4509) /content/cars.mp4: 384x640 10 cars, 1 truck, 24.3ms\n",
            "video 1/1 (frame 1895/4509) /content/cars.mp4: 384x640 10 cars, 1 truck, 24.3ms\n",
            "video 1/1 (frame 1896/4509) /content/cars.mp4: 384x640 10 cars, 1 truck, 24.3ms\n",
            "video 1/1 (frame 1897/4509) /content/cars.mp4: 384x640 13 cars, 1 truck, 24.3ms\n",
            "video 1/1 (frame 1898/4509) /content/cars.mp4: 384x640 13 cars, 1 truck, 24.3ms\n",
            "video 1/1 (frame 1899/4509) /content/cars.mp4: 384x640 13 cars, 1 truck, 24.4ms\n",
            "video 1/1 (frame 1900/4509) /content/cars.mp4: 384x640 12 cars, 2 trucks, 24.3ms\n",
            "video 1/1 (frame 1901/4509) /content/cars.mp4: 384x640 13 cars, 1 truck, 24.3ms\n",
            "video 1/1 (frame 1902/4509) /content/cars.mp4: 384x640 12 cars, 2 trucks, 24.4ms\n",
            "video 1/1 (frame 1903/4509) /content/cars.mp4: 384x640 11 cars, 1 truck, 24.3ms\n",
            "video 1/1 (frame 1904/4509) /content/cars.mp4: 384x640 12 cars, 1 truck, 24.3ms\n",
            "video 1/1 (frame 1905/4509) /content/cars.mp4: 384x640 12 cars, 2 trucks, 24.4ms\n",
            "video 1/1 (frame 1906/4509) /content/cars.mp4: 384x640 12 cars, 1 truck, 24.4ms\n",
            "video 1/1 (frame 1907/4509) /content/cars.mp4: 384x640 12 cars, 2 trucks, 24.3ms\n",
            "video 1/1 (frame 1908/4509) /content/cars.mp4: 384x640 12 cars, 1 truck, 24.3ms\n",
            "video 1/1 (frame 1909/4509) /content/cars.mp4: 384x640 13 cars, 2 trucks, 24.4ms\n",
            "video 1/1 (frame 1910/4509) /content/cars.mp4: 384x640 11 cars, 2 trucks, 24.3ms\n",
            "video 1/1 (frame 1911/4509) /content/cars.mp4: 384x640 10 cars, 2 trucks, 24.3ms\n",
            "video 1/1 (frame 1912/4509) /content/cars.mp4: 384x640 12 cars, 1 truck, 24.3ms\n",
            "video 1/1 (frame 1913/4509) /content/cars.mp4: 384x640 11 cars, 1 truck, 24.4ms\n",
            "video 1/1 (frame 1914/4509) /content/cars.mp4: 384x640 12 cars, 1 truck, 24.3ms\n",
            "video 1/1 (frame 1915/4509) /content/cars.mp4: 384x640 12 cars, 1 truck, 24.3ms\n",
            "video 1/1 (frame 1916/4509) /content/cars.mp4: 384x640 13 cars, 1 truck, 24.3ms\n",
            "video 1/1 (frame 1917/4509) /content/cars.mp4: 384x640 11 cars, 1 truck, 24.3ms\n",
            "video 1/1 (frame 1918/4509) /content/cars.mp4: 384x640 10 cars, 2 trucks, 25.7ms\n",
            "video 1/1 (frame 1919/4509) /content/cars.mp4: 384x640 11 cars, 2 trucks, 29.3ms\n",
            "video 1/1 (frame 1920/4509) /content/cars.mp4: 384x640 12 cars, 1 truck, 24.3ms\n",
            "video 1/1 (frame 1921/4509) /content/cars.mp4: 384x640 11 cars, 1 truck, 24.3ms\n",
            "video 1/1 (frame 1922/4509) /content/cars.mp4: 384x640 13 cars, 1 truck, 24.3ms\n",
            "video 1/1 (frame 1923/4509) /content/cars.mp4: 384x640 13 cars, 1 truck, 24.3ms\n",
            "video 1/1 (frame 1924/4509) /content/cars.mp4: 384x640 13 cars, 27.0ms\n",
            "video 1/1 (frame 1925/4509) /content/cars.mp4: 384x640 13 cars, 25.0ms\n",
            "video 1/1 (frame 1926/4509) /content/cars.mp4: 384x640 12 cars, 31.4ms\n",
            "video 1/1 (frame 1927/4509) /content/cars.mp4: 384x640 10 cars, 2 trucks, 31.6ms\n",
            "video 1/1 (frame 1928/4509) /content/cars.mp4: 384x640 12 cars, 1 truck, 28.9ms\n",
            "video 1/1 (frame 1929/4509) /content/cars.mp4: 384x640 12 cars, 1 truck, 24.6ms\n",
            "video 1/1 (frame 1930/4509) /content/cars.mp4: 384x640 12 cars, 2 trucks, 24.3ms\n",
            "video 1/1 (frame 1931/4509) /content/cars.mp4: 384x640 12 cars, 24.3ms\n",
            "video 1/1 (frame 1932/4509) /content/cars.mp4: 384x640 12 cars, 33.1ms\n",
            "video 1/1 (frame 1933/4509) /content/cars.mp4: 384x640 13 cars, 24.3ms\n",
            "video 1/1 (frame 1934/4509) /content/cars.mp4: 384x640 12 cars, 24.4ms\n",
            "video 1/1 (frame 1935/4509) /content/cars.mp4: 384x640 12 cars, 1 truck, 24.4ms\n",
            "video 1/1 (frame 1936/4509) /content/cars.mp4: 384x640 11 cars, 1 truck, 24.3ms\n",
            "video 1/1 (frame 1937/4509) /content/cars.mp4: 384x640 12 cars, 24.3ms\n",
            "video 1/1 (frame 1938/4509) /content/cars.mp4: 384x640 11 cars, 1 truck, 24.3ms\n",
            "video 1/1 (frame 1939/4509) /content/cars.mp4: 384x640 12 cars, 1 truck, 24.3ms\n",
            "video 1/1 (frame 1940/4509) /content/cars.mp4: 384x640 11 cars, 24.3ms\n",
            "video 1/1 (frame 1941/4509) /content/cars.mp4: 384x640 12 cars, 1 traffic light, 24.3ms\n",
            "video 1/1 (frame 1942/4509) /content/cars.mp4: 384x640 12 cars, 1 motorcycle, 1 traffic light, 24.3ms\n",
            "video 1/1 (frame 1943/4509) /content/cars.mp4: 384x640 15 cars, 1 truck, 1 traffic light, 24.3ms\n",
            "video 1/1 (frame 1944/4509) /content/cars.mp4: 384x640 14 cars, 1 traffic light, 24.3ms\n",
            "video 1/1 (frame 1945/4509) /content/cars.mp4: 384x640 14 cars, 3 trucks, 1 traffic light, 24.4ms\n",
            "video 1/1 (frame 1946/4509) /content/cars.mp4: 384x640 13 cars, 2 trucks, 1 traffic light, 24.3ms\n",
            "video 1/1 (frame 1947/4509) /content/cars.mp4: 384x640 13 cars, 4 trucks, 1 traffic light, 24.3ms\n",
            "video 1/1 (frame 1948/4509) /content/cars.mp4: 384x640 14 cars, 1 truck, 24.3ms\n",
            "video 1/1 (frame 1949/4509) /content/cars.mp4: 384x640 16 cars, 1 truck, 24.3ms\n",
            "video 1/1 (frame 1950/4509) /content/cars.mp4: 384x640 14 cars, 1 truck, 24.3ms\n",
            "video 1/1 (frame 1951/4509) /content/cars.mp4: 384x640 15 cars, 2 trucks, 24.3ms\n",
            "video 1/1 (frame 1952/4509) /content/cars.mp4: 384x640 16 cars, 24.3ms\n",
            "video 1/1 (frame 1953/4509) /content/cars.mp4: 384x640 16 cars, 1 truck, 24.3ms\n",
            "video 1/1 (frame 1954/4509) /content/cars.mp4: 384x640 15 cars, 2 trucks, 24.3ms\n",
            "video 1/1 (frame 1955/4509) /content/cars.mp4: 384x640 15 cars, 3 trucks, 24.3ms\n",
            "video 1/1 (frame 1956/4509) /content/cars.mp4: 384x640 15 cars, 1 truck, 24.3ms\n",
            "video 1/1 (frame 1957/4509) /content/cars.mp4: 384x640 15 cars, 1 truck, 24.4ms\n",
            "video 1/1 (frame 1958/4509) /content/cars.mp4: 384x640 15 cars, 2 trucks, 24.3ms\n",
            "video 1/1 (frame 1959/4509) /content/cars.mp4: 384x640 15 cars, 2 trucks, 24.3ms\n",
            "video 1/1 (frame 1960/4509) /content/cars.mp4: 384x640 15 cars, 3 trucks, 24.3ms\n",
            "video 1/1 (frame 1961/4509) /content/cars.mp4: 384x640 14 cars, 3 trucks, 24.3ms\n",
            "video 1/1 (frame 1962/4509) /content/cars.mp4: 384x640 14 cars, 1 truck, 24.3ms\n",
            "video 1/1 (frame 1963/4509) /content/cars.mp4: 384x640 14 cars, 2 trucks, 24.4ms\n",
            "video 1/1 (frame 1964/4509) /content/cars.mp4: 384x640 15 cars, 2 trucks, 24.4ms\n",
            "video 1/1 (frame 1965/4509) /content/cars.mp4: 384x640 14 cars, 1 truck, 24.3ms\n",
            "video 1/1 (frame 1966/4509) /content/cars.mp4: 384x640 16 cars, 2 trucks, 24.3ms\n",
            "video 1/1 (frame 1967/4509) /content/cars.mp4: 384x640 15 cars, 2 trucks, 24.3ms\n",
            "video 1/1 (frame 1968/4509) /content/cars.mp4: 384x640 14 cars, 2 trucks, 24.4ms\n",
            "video 1/1 (frame 1969/4509) /content/cars.mp4: 384x640 16 cars, 3 trucks, 24.3ms\n",
            "video 1/1 (frame 1970/4509) /content/cars.mp4: 384x640 16 cars, 3 trucks, 24.3ms\n",
            "video 1/1 (frame 1971/4509) /content/cars.mp4: 384x640 16 cars, 3 trucks, 1 traffic light, 24.3ms\n",
            "video 1/1 (frame 1972/4509) /content/cars.mp4: 384x640 16 cars, 3 trucks, 1 traffic light, 24.3ms\n",
            "video 1/1 (frame 1973/4509) /content/cars.mp4: 384x640 17 cars, 3 trucks, 24.3ms\n",
            "video 1/1 (frame 1974/4509) /content/cars.mp4: 384x640 17 cars, 3 trucks, 24.3ms\n",
            "video 1/1 (frame 1975/4509) /content/cars.mp4: 384x640 16 cars, 3 trucks, 24.3ms\n",
            "video 1/1 (frame 1976/4509) /content/cars.mp4: 384x640 13 cars, 2 trucks, 24.3ms\n",
            "video 1/1 (frame 1977/4509) /content/cars.mp4: 384x640 14 cars, 2 trucks, 24.4ms\n",
            "video 1/1 (frame 1978/4509) /content/cars.mp4: 384x640 15 cars, 3 trucks, 24.3ms\n",
            "video 1/1 (frame 1979/4509) /content/cars.mp4: 384x640 14 cars, 3 trucks, 24.3ms\n",
            "video 1/1 (frame 1980/4509) /content/cars.mp4: 384x640 15 cars, 2 trucks, 24.3ms\n",
            "video 1/1 (frame 1981/4509) /content/cars.mp4: 384x640 15 cars, 2 trucks, 24.3ms\n",
            "video 1/1 (frame 1982/4509) /content/cars.mp4: 384x640 16 cars, 3 trucks, 24.3ms\n",
            "video 1/1 (frame 1983/4509) /content/cars.mp4: 384x640 14 cars, 3 trucks, 24.3ms\n",
            "video 1/1 (frame 1984/4509) /content/cars.mp4: 384x640 17 cars, 1 truck, 24.3ms\n",
            "video 1/1 (frame 1985/4509) /content/cars.mp4: 384x640 16 cars, 2 trucks, 24.4ms\n",
            "video 1/1 (frame 1986/4509) /content/cars.mp4: 384x640 14 cars, 2 trucks, 24.3ms\n",
            "video 1/1 (frame 1987/4509) /content/cars.mp4: 384x640 13 cars, 2 trucks, 24.3ms\n",
            "video 1/1 (frame 1988/4509) /content/cars.mp4: 384x640 12 cars, 3 trucks, 24.3ms\n",
            "video 1/1 (frame 1989/4509) /content/cars.mp4: 384x640 13 cars, 2 trucks, 24.4ms\n",
            "video 1/1 (frame 1990/4509) /content/cars.mp4: 384x640 14 cars, 2 trucks, 24.3ms\n",
            "video 1/1 (frame 1991/4509) /content/cars.mp4: 384x640 14 cars, 3 trucks, 24.4ms\n",
            "video 1/1 (frame 1992/4509) /content/cars.mp4: 384x640 14 cars, 2 trucks, 24.3ms\n",
            "video 1/1 (frame 1993/4509) /content/cars.mp4: 384x640 16 cars, 1 truck, 24.3ms\n",
            "video 1/1 (frame 1994/4509) /content/cars.mp4: 384x640 15 cars, 1 truck, 24.3ms\n",
            "video 1/1 (frame 1995/4509) /content/cars.mp4: 384x640 13 cars, 1 truck, 24.4ms\n",
            "video 1/1 (frame 1996/4509) /content/cars.mp4: 384x640 13 cars, 3 trucks, 25.3ms\n",
            "video 1/1 (frame 1997/4509) /content/cars.mp4: 384x640 18 cars, 1 truck, 24.3ms\n",
            "video 1/1 (frame 1998/4509) /content/cars.mp4: 384x640 18 cars, 3 trucks, 24.3ms\n",
            "video 1/1 (frame 1999/4509) /content/cars.mp4: 384x640 16 cars, 2 trucks, 24.3ms\n",
            "video 1/1 (frame 2000/4509) /content/cars.mp4: 384x640 17 cars, 3 trucks, 24.3ms\n",
            "video 1/1 (frame 2001/4509) /content/cars.mp4: 384x640 16 cars, 3 trucks, 24.3ms\n",
            "video 1/1 (frame 2002/4509) /content/cars.mp4: 384x640 16 cars, 3 trucks, 24.4ms\n",
            "video 1/1 (frame 2003/4509) /content/cars.mp4: 384x640 16 cars, 3 trucks, 24.3ms\n",
            "video 1/1 (frame 2004/4509) /content/cars.mp4: 384x640 14 cars, 4 trucks, 24.3ms\n",
            "video 1/1 (frame 2005/4509) /content/cars.mp4: 384x640 11 cars, 5 trucks, 24.3ms\n",
            "video 1/1 (frame 2006/4509) /content/cars.mp4: 384x640 15 cars, 4 trucks, 24.3ms\n",
            "video 1/1 (frame 2007/4509) /content/cars.mp4: 384x640 15 cars, 3 trucks, 24.3ms\n",
            "video 1/1 (frame 2008/4509) /content/cars.mp4: 384x640 14 cars, 4 trucks, 32.3ms\n",
            "video 1/1 (frame 2009/4509) /content/cars.mp4: 384x640 17 cars, 3 trucks, 1 suitcase, 24.3ms\n",
            "video 1/1 (frame 2010/4509) /content/cars.mp4: 384x640 15 cars, 4 trucks, 1 suitcase, 24.3ms\n",
            "video 1/1 (frame 2011/4509) /content/cars.mp4: 384x640 15 cars, 2 trucks, 24.3ms\n",
            "video 1/1 (frame 2012/4509) /content/cars.mp4: 384x640 12 cars, 1 truck, 27.5ms\n",
            "video 1/1 (frame 2013/4509) /content/cars.mp4: 384x640 13 cars, 1 truck, 24.3ms\n",
            "video 1/1 (frame 2014/4509) /content/cars.mp4: 384x640 14 cars, 1 truck, 24.4ms\n",
            "video 1/1 (frame 2015/4509) /content/cars.mp4: 384x640 10 cars, 1 truck, 24.3ms\n",
            "video 1/1 (frame 2016/4509) /content/cars.mp4: 384x640 12 cars, 1 truck, 24.3ms\n",
            "video 1/1 (frame 2017/4509) /content/cars.mp4: 384x640 12 cars, 1 truck, 24.4ms\n",
            "video 1/1 (frame 2018/4509) /content/cars.mp4: 384x640 12 cars, 1 truck, 24.3ms\n",
            "video 1/1 (frame 2019/4509) /content/cars.mp4: 384x640 9 cars, 2 trucks, 24.3ms\n",
            "video 1/1 (frame 2020/4509) /content/cars.mp4: 384x640 12 cars, 24.3ms\n",
            "video 1/1 (frame 2021/4509) /content/cars.mp4: 384x640 10 cars, 1 truck, 24.3ms\n",
            "video 1/1 (frame 2022/4509) /content/cars.mp4: 384x640 10 cars, 24.3ms\n",
            "video 1/1 (frame 2023/4509) /content/cars.mp4: 384x640 11 cars, 24.3ms\n",
            "video 1/1 (frame 2024/4509) /content/cars.mp4: 384x640 12 cars, 24.3ms\n",
            "video 1/1 (frame 2025/4509) /content/cars.mp4: 384x640 11 cars, 24.3ms\n",
            "video 1/1 (frame 2026/4509) /content/cars.mp4: 384x640 12 cars, 24.3ms\n",
            "video 1/1 (frame 2027/4509) /content/cars.mp4: 384x640 13 cars, 24.3ms\n",
            "video 1/1 (frame 2028/4509) /content/cars.mp4: 384x640 13 cars, 24.3ms\n",
            "video 1/1 (frame 2029/4509) /content/cars.mp4: 384x640 12 cars, 1 truck, 24.4ms\n",
            "video 1/1 (frame 2030/4509) /content/cars.mp4: 384x640 11 cars, 1 truck, 24.3ms\n",
            "video 1/1 (frame 2031/4509) /content/cars.mp4: 384x640 10 cars, 1 truck, 24.3ms\n",
            "video 1/1 (frame 2032/4509) /content/cars.mp4: 384x640 9 cars, 1 truck, 24.3ms\n",
            "video 1/1 (frame 2033/4509) /content/cars.mp4: 384x640 10 cars, 2 trucks, 25.2ms\n",
            "video 1/1 (frame 2034/4509) /content/cars.mp4: 384x640 9 cars, 1 truck, 24.3ms\n",
            "video 1/1 (frame 2035/4509) /content/cars.mp4: 384x640 10 cars, 1 truck, 24.3ms\n",
            "video 1/1 (frame 2036/4509) /content/cars.mp4: 384x640 9 cars, 1 truck, 24.3ms\n",
            "video 1/1 (frame 2037/4509) /content/cars.mp4: 384x640 10 cars, 1 truck, 24.3ms\n",
            "video 1/1 (frame 2038/4509) /content/cars.mp4: 384x640 10 cars, 1 truck, 24.3ms\n",
            "video 1/1 (frame 2039/4509) /content/cars.mp4: 384x640 10 cars, 2 trucks, 24.3ms\n",
            "video 1/1 (frame 2040/4509) /content/cars.mp4: 384x640 11 cars, 1 truck, 24.3ms\n",
            "video 1/1 (frame 2041/4509) /content/cars.mp4: 384x640 11 cars, 1 truck, 24.3ms\n",
            "video 1/1 (frame 2042/4509) /content/cars.mp4: 384x640 9 cars, 1 truck, 24.3ms\n",
            "video 1/1 (frame 2043/4509) /content/cars.mp4: 384x640 10 cars, 1 truck, 24.3ms\n",
            "video 1/1 (frame 2044/4509) /content/cars.mp4: 384x640 9 cars, 1 truck, 27.9ms\n",
            "video 1/1 (frame 2045/4509) /content/cars.mp4: 384x640 12 cars, 1 truck, 24.3ms\n",
            "video 1/1 (frame 2046/4509) /content/cars.mp4: 384x640 11 cars, 1 truck, 24.3ms\n",
            "video 1/1 (frame 2047/4509) /content/cars.mp4: 384x640 10 cars, 2 trucks, 24.3ms\n",
            "video 1/1 (frame 2048/4509) /content/cars.mp4: 384x640 10 cars, 2 trucks, 26.0ms\n",
            "video 1/1 (frame 2049/4509) /content/cars.mp4: 384x640 11 cars, 2 trucks, 25.6ms\n",
            "video 1/1 (frame 2050/4509) /content/cars.mp4: 384x640 10 cars, 2 trucks, 26.9ms\n",
            "video 1/1 (frame 2051/4509) /content/cars.mp4: 384x640 10 cars, 1 truck, 24.3ms\n",
            "video 1/1 (frame 2052/4509) /content/cars.mp4: 384x640 10 cars, 2 trucks, 25.2ms\n",
            "video 1/1 (frame 2053/4509) /content/cars.mp4: 384x640 10 cars, 2 trucks, 24.3ms\n",
            "video 1/1 (frame 2054/4509) /content/cars.mp4: 384x640 10 cars, 2 trucks, 26.5ms\n",
            "video 1/1 (frame 2055/4509) /content/cars.mp4: 384x640 9 cars, 3 trucks, 24.3ms\n",
            "video 1/1 (frame 2056/4509) /content/cars.mp4: 384x640 9 cars, 2 trucks, 26.3ms\n",
            "video 1/1 (frame 2057/4509) /content/cars.mp4: 384x640 10 cars, 2 trucks, 24.3ms\n",
            "video 1/1 (frame 2058/4509) /content/cars.mp4: 384x640 8 cars, 2 trucks, 24.3ms\n",
            "video 1/1 (frame 2059/4509) /content/cars.mp4: 384x640 7 cars, 1 truck, 24.3ms\n",
            "video 1/1 (frame 2060/4509) /content/cars.mp4: 384x640 9 cars, 32.4ms\n",
            "video 1/1 (frame 2061/4509) /content/cars.mp4: 384x640 8 cars, 2 trucks, 24.3ms\n",
            "video 1/1 (frame 2062/4509) /content/cars.mp4: 384x640 8 cars, 2 trucks, 31.3ms\n",
            "video 1/1 (frame 2063/4509) /content/cars.mp4: 384x640 7 cars, 2 trucks, 24.3ms\n",
            "video 1/1 (frame 2064/4509) /content/cars.mp4: 384x640 7 cars, 5 trucks, 24.3ms\n",
            "video 1/1 (frame 2065/4509) /content/cars.mp4: 384x640 6 cars, 2 trucks, 24.3ms\n",
            "video 1/1 (frame 2066/4509) /content/cars.mp4: 384x640 8 cars, 2 trucks, 24.3ms\n",
            "video 1/1 (frame 2067/4509) /content/cars.mp4: 384x640 7 cars, 2 trucks, 24.3ms\n",
            "video 1/1 (frame 2068/4509) /content/cars.mp4: 384x640 8 cars, 2 trucks, 24.3ms\n",
            "video 1/1 (frame 2069/4509) /content/cars.mp4: 384x640 8 cars, 1 truck, 24.3ms\n",
            "video 1/1 (frame 2070/4509) /content/cars.mp4: 384x640 8 cars, 2 trucks, 24.3ms\n",
            "video 1/1 (frame 2071/4509) /content/cars.mp4: 384x640 7 cars, 2 trucks, 24.4ms\n",
            "video 1/1 (frame 2072/4509) /content/cars.mp4: 384x640 8 cars, 2 trucks, 24.3ms\n",
            "video 1/1 (frame 2073/4509) /content/cars.mp4: 384x640 8 cars, 1 truck, 24.3ms\n",
            "video 1/1 (frame 2074/4509) /content/cars.mp4: 384x640 8 cars, 4 trucks, 24.3ms\n",
            "video 1/1 (frame 2075/4509) /content/cars.mp4: 384x640 9 cars, 1 truck, 24.3ms\n",
            "video 1/1 (frame 2076/4509) /content/cars.mp4: 384x640 9 cars, 2 trucks, 24.3ms\n",
            "video 1/1 (frame 2077/4509) /content/cars.mp4: 384x640 9 cars, 2 trucks, 25.3ms\n",
            "video 1/1 (frame 2078/4509) /content/cars.mp4: 384x640 9 cars, 2 trucks, 24.3ms\n",
            "video 1/1 (frame 2079/4509) /content/cars.mp4: 384x640 8 cars, 2 trucks, 24.3ms\n",
            "video 1/1 (frame 2080/4509) /content/cars.mp4: 384x640 9 cars, 1 truck, 24.3ms\n",
            "video 1/1 (frame 2081/4509) /content/cars.mp4: 384x640 10 cars, 2 trucks, 24.3ms\n",
            "video 1/1 (frame 2082/4509) /content/cars.mp4: 384x640 10 cars, 1 truck, 24.3ms\n",
            "video 1/1 (frame 2083/4509) /content/cars.mp4: 384x640 9 cars, 1 truck, 24.3ms\n",
            "video 1/1 (frame 2084/4509) /content/cars.mp4: 384x640 8 cars, 1 truck, 24.3ms\n",
            "video 1/1 (frame 2085/4509) /content/cars.mp4: 384x640 10 cars, 1 truck, 24.4ms\n",
            "video 1/1 (frame 2086/4509) /content/cars.mp4: 384x640 10 cars, 1 truck, 24.3ms\n",
            "video 1/1 (frame 2087/4509) /content/cars.mp4: 384x640 10 cars, 24.3ms\n",
            "video 1/1 (frame 2088/4509) /content/cars.mp4: 384x640 7 cars, 2 trucks, 24.3ms\n",
            "video 1/1 (frame 2089/4509) /content/cars.mp4: 384x640 6 cars, 2 trucks, 24.3ms\n",
            "video 1/1 (frame 2090/4509) /content/cars.mp4: 384x640 7 cars, 2 trucks, 24.3ms\n",
            "video 1/1 (frame 2091/4509) /content/cars.mp4: 384x640 9 cars, 2 trucks, 24.3ms\n",
            "video 1/1 (frame 2092/4509) /content/cars.mp4: 384x640 8 cars, 1 truck, 24.3ms\n",
            "video 1/1 (frame 2093/4509) /content/cars.mp4: 384x640 8 cars, 1 truck, 24.3ms\n",
            "video 1/1 (frame 2094/4509) /content/cars.mp4: 384x640 8 cars, 1 truck, 24.3ms\n",
            "video 1/1 (frame 2095/4509) /content/cars.mp4: 384x640 9 cars, 1 truck, 24.3ms\n",
            "video 1/1 (frame 2096/4509) /content/cars.mp4: 384x640 7 cars, 1 truck, 24.3ms\n",
            "video 1/1 (frame 2097/4509) /content/cars.mp4: 384x640 10 cars, 1 truck, 24.3ms\n",
            "video 1/1 (frame 2098/4509) /content/cars.mp4: 384x640 8 cars, 1 truck, 24.3ms\n",
            "video 1/1 (frame 2099/4509) /content/cars.mp4: 384x640 9 cars, 1 truck, 24.3ms\n",
            "video 1/1 (frame 2100/4509) /content/cars.mp4: 384x640 9 cars, 24.3ms\n",
            "video 1/1 (frame 2101/4509) /content/cars.mp4: 384x640 7 cars, 2 trucks, 24.3ms\n",
            "video 1/1 (frame 2102/4509) /content/cars.mp4: 384x640 8 cars, 1 truck, 24.3ms\n",
            "video 1/1 (frame 2103/4509) /content/cars.mp4: 384x640 7 cars, 2 trucks, 24.3ms\n",
            "video 1/1 (frame 2104/4509) /content/cars.mp4: 384x640 8 cars, 1 truck, 24.3ms\n",
            "video 1/1 (frame 2105/4509) /content/cars.mp4: 384x640 8 cars, 1 truck, 24.3ms\n",
            "video 1/1 (frame 2106/4509) /content/cars.mp4: 384x640 8 cars, 1 truck, 24.3ms\n",
            "video 1/1 (frame 2107/4509) /content/cars.mp4: 384x640 8 cars, 1 truck, 24.3ms\n",
            "video 1/1 (frame 2108/4509) /content/cars.mp4: 384x640 8 cars, 1 truck, 24.3ms\n",
            "video 1/1 (frame 2109/4509) /content/cars.mp4: 384x640 10 cars, 24.3ms\n",
            "video 1/1 (frame 2110/4509) /content/cars.mp4: 384x640 10 cars, 1 truck, 24.3ms\n",
            "video 1/1 (frame 2111/4509) /content/cars.mp4: 384x640 10 cars, 1 truck, 24.3ms\n",
            "video 1/1 (frame 2112/4509) /content/cars.mp4: 384x640 9 cars, 3 trucks, 24.3ms\n",
            "video 1/1 (frame 2113/4509) /content/cars.mp4: 384x640 11 cars, 2 trucks, 24.3ms\n",
            "video 1/1 (frame 2114/4509) /content/cars.mp4: 384x640 9 cars, 3 trucks, 24.3ms\n",
            "video 1/1 (frame 2115/4509) /content/cars.mp4: 384x640 11 cars, 1 truck, 24.4ms\n",
            "video 1/1 (frame 2116/4509) /content/cars.mp4: 384x640 11 cars, 2 trucks, 24.3ms\n",
            "video 1/1 (frame 2117/4509) /content/cars.mp4: 384x640 9 cars, 3 trucks, 24.3ms\n",
            "video 1/1 (frame 2118/4509) /content/cars.mp4: 384x640 10 cars, 2 trucks, 24.3ms\n",
            "video 1/1 (frame 2119/4509) /content/cars.mp4: 384x640 6 cars, 1 truck, 24.3ms\n",
            "video 1/1 (frame 2120/4509) /content/cars.mp4: 384x640 4 cars, 2 trucks, 24.3ms\n",
            "video 1/1 (frame 2121/4509) /content/cars.mp4: 384x640 6 cars, 2 trucks, 24.3ms\n",
            "video 1/1 (frame 2122/4509) /content/cars.mp4: 384x640 5 cars, 1 truck, 24.3ms\n",
            "video 1/1 (frame 2123/4509) /content/cars.mp4: 384x640 6 cars, 1 truck, 24.3ms\n",
            "video 1/1 (frame 2124/4509) /content/cars.mp4: 384x640 5 cars, 1 truck, 27.0ms\n",
            "video 1/1 (frame 2125/4509) /content/cars.mp4: 384x640 9 cars, 28.6ms\n",
            "video 1/1 (frame 2126/4509) /content/cars.mp4: 384x640 6 cars, 1 truck, 24.3ms\n",
            "video 1/1 (frame 2127/4509) /content/cars.mp4: 384x640 7 cars, 24.3ms\n",
            "video 1/1 (frame 2128/4509) /content/cars.mp4: 384x640 7 cars, 24.3ms\n",
            "video 1/1 (frame 2129/4509) /content/cars.mp4: 384x640 5 cars, 24.3ms\n",
            "video 1/1 (frame 2130/4509) /content/cars.mp4: 384x640 3 cars, 1 truck, 24.3ms\n",
            "video 1/1 (frame 2131/4509) /content/cars.mp4: 384x640 3 cars, 1 truck, 24.3ms\n",
            "video 1/1 (frame 2132/4509) /content/cars.mp4: 384x640 4 cars, 1 truck, 24.3ms\n",
            "video 1/1 (frame 2133/4509) /content/cars.mp4: 384x640 4 cars, 24.3ms\n",
            "video 1/1 (frame 2134/4509) /content/cars.mp4: 384x640 5 cars, 24.3ms\n",
            "video 1/1 (frame 2135/4509) /content/cars.mp4: 384x640 4 cars, 24.3ms\n",
            "video 1/1 (frame 2136/4509) /content/cars.mp4: 384x640 4 cars, 1 truck, 24.6ms\n",
            "video 1/1 (frame 2137/4509) /content/cars.mp4: 384x640 4 cars, 24.3ms\n",
            "video 1/1 (frame 2138/4509) /content/cars.mp4: 384x640 4 cars, 1 truck, 24.3ms\n",
            "video 1/1 (frame 2139/4509) /content/cars.mp4: 384x640 4 cars, 24.3ms\n",
            "video 1/1 (frame 2140/4509) /content/cars.mp4: 384x640 4 cars, 24.3ms\n",
            "video 1/1 (frame 2141/4509) /content/cars.mp4: 384x640 4 cars, 24.3ms\n",
            "video 1/1 (frame 2142/4509) /content/cars.mp4: 384x640 4 cars, 24.3ms\n",
            "video 1/1 (frame 2143/4509) /content/cars.mp4: 384x640 5 cars, 24.3ms\n",
            "video 1/1 (frame 2144/4509) /content/cars.mp4: 384x640 3 cars, 24.3ms\n",
            "video 1/1 (frame 2145/4509) /content/cars.mp4: 384x640 4 cars, 24.3ms\n",
            "video 1/1 (frame 2146/4509) /content/cars.mp4: 384x640 5 cars, 1 truck, 24.3ms\n",
            "video 1/1 (frame 2147/4509) /content/cars.mp4: 384x640 5 cars, 24.3ms\n",
            "video 1/1 (frame 2148/4509) /content/cars.mp4: 384x640 5 cars, 27.4ms\n",
            "video 1/1 (frame 2149/4509) /content/cars.mp4: 384x640 6 cars, 24.3ms\n",
            "video 1/1 (frame 2150/4509) /content/cars.mp4: 384x640 5 cars, 24.3ms\n",
            "video 1/1 (frame 2151/4509) /content/cars.mp4: 384x640 5 cars, 24.3ms\n",
            "video 1/1 (frame 2152/4509) /content/cars.mp4: 384x640 5 cars, 24.3ms\n",
            "video 1/1 (frame 2153/4509) /content/cars.mp4: 384x640 4 cars, 1 truck, 24.3ms\n",
            "video 1/1 (frame 2154/4509) /content/cars.mp4: 384x640 2 cars, 1 truck, 24.3ms\n",
            "video 1/1 (frame 2155/4509) /content/cars.mp4: 384x640 4 cars, 1 truck, 24.3ms\n",
            "video 1/1 (frame 2156/4509) /content/cars.mp4: 384x640 5 cars, 1 truck, 24.3ms\n",
            "video 1/1 (frame 2157/4509) /content/cars.mp4: 384x640 7 cars, 1 truck, 24.3ms\n",
            "video 1/1 (frame 2158/4509) /content/cars.mp4: 384x640 3 cars, 1 truck, 24.8ms\n",
            "video 1/1 (frame 2159/4509) /content/cars.mp4: 384x640 3 cars, 1 truck, 24.3ms\n",
            "video 1/1 (frame 2160/4509) /content/cars.mp4: 384x640 5 cars, 1 truck, 27.0ms\n",
            "video 1/1 (frame 2161/4509) /content/cars.mp4: 384x640 6 cars, 1 truck, 24.3ms\n",
            "video 1/1 (frame 2162/4509) /content/cars.mp4: 384x640 4 cars, 24.3ms\n",
            "video 1/1 (frame 2163/4509) /content/cars.mp4: 384x640 4 cars, 24.3ms\n",
            "video 1/1 (frame 2164/4509) /content/cars.mp4: 384x640 5 cars, 24.3ms\n",
            "video 1/1 (frame 2165/4509) /content/cars.mp4: 384x640 4 cars, 24.3ms\n",
            "video 1/1 (frame 2166/4509) /content/cars.mp4: 384x640 4 cars, 24.3ms\n",
            "video 1/1 (frame 2167/4509) /content/cars.mp4: 384x640 5 cars, 24.3ms\n",
            "video 1/1 (frame 2168/4509) /content/cars.mp4: 384x640 6 cars, 24.3ms\n",
            "video 1/1 (frame 2169/4509) /content/cars.mp4: 384x640 7 cars, 24.3ms\n",
            "video 1/1 (frame 2170/4509) /content/cars.mp4: 384x640 6 cars, 1 truck, 24.3ms\n",
            "video 1/1 (frame 2171/4509) /content/cars.mp4: 384x640 8 cars, 24.3ms\n",
            "video 1/1 (frame 2172/4509) /content/cars.mp4: 384x640 6 cars, 24.3ms\n",
            "video 1/1 (frame 2173/4509) /content/cars.mp4: 384x640 8 cars, 24.3ms\n",
            "video 1/1 (frame 2174/4509) /content/cars.mp4: 384x640 7 cars, 2 trucks, 24.3ms\n",
            "video 1/1 (frame 2175/4509) /content/cars.mp4: 384x640 8 cars, 1 truck, 24.3ms\n",
            "video 1/1 (frame 2176/4509) /content/cars.mp4: 384x640 8 cars, 1 truck, 24.3ms\n",
            "video 1/1 (frame 2177/4509) /content/cars.mp4: 384x640 6 cars, 1 truck, 24.3ms\n",
            "video 1/1 (frame 2178/4509) /content/cars.mp4: 384x640 7 cars, 1 truck, 24.3ms\n",
            "video 1/1 (frame 2179/4509) /content/cars.mp4: 384x640 5 cars, 1 truck, 24.3ms\n",
            "video 1/1 (frame 2180/4509) /content/cars.mp4: 384x640 6 cars, 1 truck, 24.3ms\n",
            "video 1/1 (frame 2181/4509) /content/cars.mp4: 384x640 9 cars, 1 truck, 24.3ms\n",
            "video 1/1 (frame 2182/4509) /content/cars.mp4: 384x640 9 cars, 1 truck, 26.3ms\n",
            "video 1/1 (frame 2183/4509) /content/cars.mp4: 384x640 10 cars, 1 truck, 25.4ms\n",
            "video 1/1 (frame 2184/4509) /content/cars.mp4: 384x640 8 cars, 1 truck, 24.3ms\n",
            "video 1/1 (frame 2185/4509) /content/cars.mp4: 384x640 9 cars, 1 truck, 25.7ms\n",
            "video 1/1 (frame 2186/4509) /content/cars.mp4: 384x640 9 cars, 1 truck, 34.3ms\n",
            "video 1/1 (frame 2187/4509) /content/cars.mp4: 384x640 8 cars, 1 truck, 24.3ms\n",
            "video 1/1 (frame 2188/4509) /content/cars.mp4: 384x640 9 cars, 2 trucks, 32.5ms\n",
            "video 1/1 (frame 2189/4509) /content/cars.mp4: 384x640 7 cars, 1 truck, 24.3ms\n",
            "video 1/1 (frame 2190/4509) /content/cars.mp4: 384x640 9 cars, 28.2ms\n",
            "video 1/1 (frame 2191/4509) /content/cars.mp4: 384x640 10 cars, 1 truck, 26.7ms\n",
            "video 1/1 (frame 2192/4509) /content/cars.mp4: 384x640 9 cars, 2 trucks, 24.3ms\n",
            "video 1/1 (frame 2193/4509) /content/cars.mp4: 384x640 9 cars, 2 trucks, 24.3ms\n",
            "video 1/1 (frame 2194/4509) /content/cars.mp4: 384x640 8 cars, 2 trucks, 25.9ms\n",
            "video 1/1 (frame 2195/4509) /content/cars.mp4: 384x640 6 cars, 1 truck, 24.3ms\n",
            "video 1/1 (frame 2196/4509) /content/cars.mp4: 384x640 7 cars, 1 truck, 24.3ms\n",
            "video 1/1 (frame 2197/4509) /content/cars.mp4: 384x640 8 cars, 1 truck, 24.7ms\n",
            "video 1/1 (frame 2198/4509) /content/cars.mp4: 384x640 8 cars, 1 truck, 24.3ms\n",
            "video 1/1 (frame 2199/4509) /content/cars.mp4: 384x640 8 cars, 1 truck, 25.5ms\n",
            "video 1/1 (frame 2200/4509) /content/cars.mp4: 384x640 6 cars, 1 truck, 28.7ms\n",
            "video 1/1 (frame 2201/4509) /content/cars.mp4: 384x640 7 cars, 1 truck, 24.3ms\n",
            "video 1/1 (frame 2202/4509) /content/cars.mp4: 384x640 9 cars, 1 truck, 24.3ms\n",
            "video 1/1 (frame 2203/4509) /content/cars.mp4: 384x640 9 cars, 1 truck, 32.0ms\n",
            "video 1/1 (frame 2204/4509) /content/cars.mp4: 384x640 6 cars, 2 trucks, 24.3ms\n",
            "video 1/1 (frame 2205/4509) /content/cars.mp4: 384x640 5 cars, 2 trucks, 24.3ms\n",
            "video 1/1 (frame 2206/4509) /content/cars.mp4: 384x640 9 cars, 1 truck, 24.3ms\n",
            "video 1/1 (frame 2207/4509) /content/cars.mp4: 384x640 10 cars, 1 truck, 24.3ms\n",
            "video 1/1 (frame 2208/4509) /content/cars.mp4: 384x640 9 cars, 1 truck, 24.3ms\n",
            "video 1/1 (frame 2209/4509) /content/cars.mp4: 384x640 9 cars, 1 truck, 24.3ms\n",
            "video 1/1 (frame 2210/4509) /content/cars.mp4: 384x640 7 cars, 1 truck, 30.5ms\n",
            "video 1/1 (frame 2211/4509) /content/cars.mp4: 384x640 6 cars, 1 truck, 24.3ms\n",
            "video 1/1 (frame 2212/4509) /content/cars.mp4: 384x640 5 cars, 1 truck, 25.4ms\n",
            "video 1/1 (frame 2213/4509) /content/cars.mp4: 384x640 8 cars, 1 truck, 24.3ms\n",
            "video 1/1 (frame 2214/4509) /content/cars.mp4: 384x640 7 cars, 1 truck, 24.3ms\n",
            "video 1/1 (frame 2215/4509) /content/cars.mp4: 384x640 7 cars, 1 truck, 24.3ms\n",
            "video 1/1 (frame 2216/4509) /content/cars.mp4: 384x640 7 cars, 1 truck, 24.3ms\n",
            "video 1/1 (frame 2217/4509) /content/cars.mp4: 384x640 7 cars, 1 truck, 24.3ms\n",
            "video 1/1 (frame 2218/4509) /content/cars.mp4: 384x640 7 cars, 1 truck, 24.3ms\n",
            "video 1/1 (frame 2219/4509) /content/cars.mp4: 384x640 7 cars, 1 truck, 24.3ms\n",
            "video 1/1 (frame 2220/4509) /content/cars.mp4: 384x640 7 cars, 2 trucks, 24.3ms\n",
            "video 1/1 (frame 2221/4509) /content/cars.mp4: 384x640 10 cars, 2 trucks, 24.3ms\n",
            "video 1/1 (frame 2222/4509) /content/cars.mp4: 384x640 8 cars, 1 truck, 24.3ms\n",
            "video 1/1 (frame 2223/4509) /content/cars.mp4: 384x640 6 cars, 2 trucks, 24.3ms\n",
            "video 1/1 (frame 2224/4509) /content/cars.mp4: 384x640 9 cars, 24.3ms\n",
            "video 1/1 (frame 2225/4509) /content/cars.mp4: 384x640 11 cars, 24.3ms\n",
            "video 1/1 (frame 2226/4509) /content/cars.mp4: 384x640 9 cars, 2 trucks, 24.3ms\n",
            "video 1/1 (frame 2227/4509) /content/cars.mp4: 384x640 8 cars, 24.3ms\n",
            "video 1/1 (frame 2228/4509) /content/cars.mp4: 384x640 8 cars, 24.3ms\n",
            "video 1/1 (frame 2229/4509) /content/cars.mp4: 384x640 9 cars, 24.8ms\n",
            "video 1/1 (frame 2230/4509) /content/cars.mp4: 384x640 8 cars, 24.3ms\n",
            "video 1/1 (frame 2231/4509) /content/cars.mp4: 384x640 8 cars, 24.3ms\n",
            "video 1/1 (frame 2232/4509) /content/cars.mp4: 384x640 10 cars, 24.3ms\n",
            "video 1/1 (frame 2233/4509) /content/cars.mp4: 384x640 10 cars, 24.3ms\n",
            "video 1/1 (frame 2234/4509) /content/cars.mp4: 384x640 10 cars, 24.3ms\n",
            "video 1/1 (frame 2235/4509) /content/cars.mp4: 384x640 10 cars, 24.3ms\n",
            "video 1/1 (frame 2236/4509) /content/cars.mp4: 384x640 10 cars, 24.3ms\n",
            "video 1/1 (frame 2237/4509) /content/cars.mp4: 384x640 8 cars, 24.3ms\n",
            "video 1/1 (frame 2238/4509) /content/cars.mp4: 384x640 8 cars, 24.3ms\n",
            "video 1/1 (frame 2239/4509) /content/cars.mp4: 384x640 10 cars, 24.3ms\n",
            "video 1/1 (frame 2240/4509) /content/cars.mp4: 384x640 9 cars, 24.3ms\n",
            "video 1/1 (frame 2241/4509) /content/cars.mp4: 384x640 10 cars, 24.3ms\n",
            "video 1/1 (frame 2242/4509) /content/cars.mp4: 384x640 9 cars, 24.3ms\n",
            "video 1/1 (frame 2243/4509) /content/cars.mp4: 384x640 9 cars, 24.3ms\n",
            "video 1/1 (frame 2244/4509) /content/cars.mp4: 384x640 10 cars, 24.3ms\n",
            "video 1/1 (frame 2245/4509) /content/cars.mp4: 384x640 10 cars, 24.3ms\n",
            "video 1/1 (frame 2246/4509) /content/cars.mp4: 384x640 10 cars, 24.3ms\n",
            "video 1/1 (frame 2247/4509) /content/cars.mp4: 384x640 9 cars, 24.3ms\n",
            "video 1/1 (frame 2248/4509) /content/cars.mp4: 384x640 9 cars, 24.3ms\n",
            "video 1/1 (frame 2249/4509) /content/cars.mp4: 384x640 9 cars, 24.3ms\n",
            "video 1/1 (frame 2250/4509) /content/cars.mp4: 384x640 8 cars, 1 truck, 24.3ms\n",
            "video 1/1 (frame 2251/4509) /content/cars.mp4: 384x640 9 cars, 24.3ms\n",
            "video 1/1 (frame 2252/4509) /content/cars.mp4: 384x640 9 cars, 24.3ms\n",
            "video 1/1 (frame 2253/4509) /content/cars.mp4: 384x640 10 cars, 24.3ms\n",
            "video 1/1 (frame 2254/4509) /content/cars.mp4: 384x640 9 cars, 24.3ms\n",
            "video 1/1 (frame 2255/4509) /content/cars.mp4: 384x640 9 cars, 24.3ms\n",
            "video 1/1 (frame 2256/4509) /content/cars.mp4: 384x640 10 cars, 24.3ms\n",
            "video 1/1 (frame 2257/4509) /content/cars.mp4: 384x640 9 cars, 24.3ms\n",
            "video 1/1 (frame 2258/4509) /content/cars.mp4: 384x640 9 cars, 24.3ms\n",
            "video 1/1 (frame 2259/4509) /content/cars.mp4: 384x640 9 cars, 28.8ms\n",
            "video 1/1 (frame 2260/4509) /content/cars.mp4: 384x640 8 cars, 24.3ms\n",
            "video 1/1 (frame 2261/4509) /content/cars.mp4: 384x640 8 cars, 24.3ms\n",
            "video 1/1 (frame 2262/4509) /content/cars.mp4: 384x640 8 cars, 24.3ms\n",
            "video 1/1 (frame 2263/4509) /content/cars.mp4: 384x640 8 cars, 24.3ms\n",
            "video 1/1 (frame 2264/4509) /content/cars.mp4: 384x640 8 cars, 24.3ms\n",
            "video 1/1 (frame 2265/4509) /content/cars.mp4: 384x640 8 cars, 24.3ms\n",
            "video 1/1 (frame 2266/4509) /content/cars.mp4: 384x640 9 cars, 24.3ms\n",
            "video 1/1 (frame 2267/4509) /content/cars.mp4: 384x640 8 cars, 24.3ms\n",
            "video 1/1 (frame 2268/4509) /content/cars.mp4: 384x640 8 cars, 24.3ms\n",
            "video 1/1 (frame 2269/4509) /content/cars.mp4: 384x640 8 cars, 24.3ms\n",
            "video 1/1 (frame 2270/4509) /content/cars.mp4: 384x640 6 cars, 24.3ms\n",
            "video 1/1 (frame 2271/4509) /content/cars.mp4: 384x640 7 cars, 24.3ms\n",
            "video 1/1 (frame 2272/4509) /content/cars.mp4: 384x640 7 cars, 24.3ms\n",
            "video 1/1 (frame 2273/4509) /content/cars.mp4: 384x640 6 cars, 24.3ms\n",
            "video 1/1 (frame 2274/4509) /content/cars.mp4: 384x640 7 cars, 24.3ms\n",
            "video 1/1 (frame 2275/4509) /content/cars.mp4: 384x640 8 cars, 24.3ms\n",
            "video 1/1 (frame 2276/4509) /content/cars.mp4: 384x640 8 cars, 24.3ms\n",
            "video 1/1 (frame 2277/4509) /content/cars.mp4: 384x640 7 cars, 24.3ms\n",
            "video 1/1 (frame 2278/4509) /content/cars.mp4: 384x640 8 cars, 24.3ms\n",
            "video 1/1 (frame 2279/4509) /content/cars.mp4: 384x640 9 cars, 24.3ms\n",
            "video 1/1 (frame 2280/4509) /content/cars.mp4: 384x640 8 cars, 24.3ms\n",
            "video 1/1 (frame 2281/4509) /content/cars.mp4: 384x640 9 cars, 25.9ms\n",
            "video 1/1 (frame 2282/4509) /content/cars.mp4: 384x640 7 cars, 24.3ms\n",
            "video 1/1 (frame 2283/4509) /content/cars.mp4: 384x640 7 cars, 24.3ms\n",
            "video 1/1 (frame 2284/4509) /content/cars.mp4: 384x640 10 cars, 24.3ms\n",
            "video 1/1 (frame 2285/4509) /content/cars.mp4: 384x640 9 cars, 24.3ms\n",
            "video 1/1 (frame 2286/4509) /content/cars.mp4: 384x640 10 cars, 24.3ms\n",
            "video 1/1 (frame 2287/4509) /content/cars.mp4: 384x640 10 cars, 24.3ms\n",
            "video 1/1 (frame 2288/4509) /content/cars.mp4: 384x640 10 cars, 24.3ms\n",
            "video 1/1 (frame 2289/4509) /content/cars.mp4: 384x640 9 cars, 24.3ms\n",
            "video 1/1 (frame 2290/4509) /content/cars.mp4: 384x640 11 cars, 24.3ms\n",
            "video 1/1 (frame 2291/4509) /content/cars.mp4: 384x640 10 cars, 24.3ms\n",
            "video 1/1 (frame 2292/4509) /content/cars.mp4: 384x640 10 cars, 24.3ms\n",
            "video 1/1 (frame 2293/4509) /content/cars.mp4: 384x640 9 cars, 24.3ms\n",
            "video 1/1 (frame 2294/4509) /content/cars.mp4: 384x640 9 cars, 24.3ms\n",
            "video 1/1 (frame 2295/4509) /content/cars.mp4: 384x640 8 cars, 24.3ms\n",
            "video 1/1 (frame 2296/4509) /content/cars.mp4: 384x640 10 cars, 24.3ms\n",
            "video 1/1 (frame 2297/4509) /content/cars.mp4: 384x640 8 cars, 24.3ms\n",
            "video 1/1 (frame 2298/4509) /content/cars.mp4: 384x640 10 cars, 24.3ms\n",
            "video 1/1 (frame 2299/4509) /content/cars.mp4: 384x640 10 cars, 24.3ms\n",
            "video 1/1 (frame 2300/4509) /content/cars.mp4: 384x640 10 cars, 24.3ms\n",
            "video 1/1 (frame 2301/4509) /content/cars.mp4: 384x640 10 cars, 24.3ms\n",
            "video 1/1 (frame 2302/4509) /content/cars.mp4: 384x640 9 cars, 24.3ms\n",
            "video 1/1 (frame 2303/4509) /content/cars.mp4: 384x640 10 cars, 24.3ms\n",
            "video 1/1 (frame 2304/4509) /content/cars.mp4: 384x640 10 cars, 24.3ms\n",
            "video 1/1 (frame 2305/4509) /content/cars.mp4: 384x640 8 cars, 1 truck, 25.4ms\n",
            "video 1/1 (frame 2306/4509) /content/cars.mp4: 384x640 9 cars, 1 truck, 24.3ms\n",
            "video 1/1 (frame 2307/4509) /content/cars.mp4: 384x640 8 cars, 1 truck, 24.3ms\n",
            "video 1/1 (frame 2308/4509) /content/cars.mp4: 384x640 8 cars, 1 truck, 24.3ms\n",
            "video 1/1 (frame 2309/4509) /content/cars.mp4: 384x640 8 cars, 1 truck, 24.3ms\n",
            "video 1/1 (frame 2310/4509) /content/cars.mp4: 384x640 8 cars, 1 truck, 24.3ms\n",
            "video 1/1 (frame 2311/4509) /content/cars.mp4: 384x640 8 cars, 24.3ms\n",
            "video 1/1 (frame 2312/4509) /content/cars.mp4: 384x640 8 cars, 24.3ms\n",
            "video 1/1 (frame 2313/4509) /content/cars.mp4: 384x640 8 cars, 24.3ms\n",
            "video 1/1 (frame 2314/4509) /content/cars.mp4: 384x640 8 cars, 24.3ms\n",
            "video 1/1 (frame 2315/4509) /content/cars.mp4: 384x640 7 cars, 24.3ms\n",
            "video 1/1 (frame 2316/4509) /content/cars.mp4: 384x640 8 cars, 24.3ms\n",
            "video 1/1 (frame 2317/4509) /content/cars.mp4: 384x640 9 cars, 24.4ms\n",
            "video 1/1 (frame 2318/4509) /content/cars.mp4: 384x640 7 cars, 24.3ms\n",
            "video 1/1 (frame 2319/4509) /content/cars.mp4: 384x640 5 cars, 24.3ms\n",
            "video 1/1 (frame 2320/4509) /content/cars.mp4: 384x640 5 cars, 24.3ms\n",
            "video 1/1 (frame 2321/4509) /content/cars.mp4: 384x640 7 cars, 25.1ms\n",
            "video 1/1 (frame 2322/4509) /content/cars.mp4: 384x640 8 cars, 29.6ms\n",
            "video 1/1 (frame 2323/4509) /content/cars.mp4: 384x640 8 cars, 24.3ms\n",
            "video 1/1 (frame 2324/4509) /content/cars.mp4: 384x640 6 cars, 24.3ms\n",
            "video 1/1 (frame 2325/4509) /content/cars.mp4: 384x640 6 cars, 24.3ms\n",
            "video 1/1 (frame 2326/4509) /content/cars.mp4: 384x640 8 cars, 37.0ms\n",
            "video 1/1 (frame 2327/4509) /content/cars.mp4: 384x640 7 cars, 24.3ms\n",
            "video 1/1 (frame 2328/4509) /content/cars.mp4: 384x640 8 cars, 29.3ms\n",
            "video 1/1 (frame 2329/4509) /content/cars.mp4: 384x640 8 cars, 28.6ms\n",
            "video 1/1 (frame 2330/4509) /content/cars.mp4: 384x640 8 cars, 36.5ms\n",
            "video 1/1 (frame 2331/4509) /content/cars.mp4: 384x640 6 cars, 24.3ms\n",
            "video 1/1 (frame 2332/4509) /content/cars.mp4: 384x640 9 cars, 24.3ms\n",
            "video 1/1 (frame 2333/4509) /content/cars.mp4: 384x640 7 cars, 28.6ms\n",
            "video 1/1 (frame 2334/4509) /content/cars.mp4: 384x640 8 cars, 25.4ms\n",
            "video 1/1 (frame 2335/4509) /content/cars.mp4: 384x640 8 cars, 25.0ms\n",
            "video 1/1 (frame 2336/4509) /content/cars.mp4: 384x640 7 cars, 24.3ms\n",
            "video 1/1 (frame 2337/4509) /content/cars.mp4: 384x640 6 cars, 24.4ms\n",
            "video 1/1 (frame 2338/4509) /content/cars.mp4: 384x640 8 cars, 32.8ms\n",
            "video 1/1 (frame 2339/4509) /content/cars.mp4: 384x640 8 cars, 24.3ms\n",
            "video 1/1 (frame 2340/4509) /content/cars.mp4: 384x640 7 cars, 24.3ms\n",
            "video 1/1 (frame 2341/4509) /content/cars.mp4: 384x640 6 cars, 24.3ms\n",
            "video 1/1 (frame 2342/4509) /content/cars.mp4: 384x640 7 cars, 24.3ms\n",
            "video 1/1 (frame 2343/4509) /content/cars.mp4: 384x640 6 cars, 24.8ms\n",
            "video 1/1 (frame 2344/4509) /content/cars.mp4: 384x640 6 cars, 24.3ms\n",
            "video 1/1 (frame 2345/4509) /content/cars.mp4: 384x640 6 cars, 24.3ms\n",
            "video 1/1 (frame 2346/4509) /content/cars.mp4: 384x640 6 cars, 24.3ms\n",
            "video 1/1 (frame 2347/4509) /content/cars.mp4: 384x640 8 cars, 24.3ms\n",
            "video 1/1 (frame 2348/4509) /content/cars.mp4: 384x640 7 cars, 24.3ms\n",
            "video 1/1 (frame 2349/4509) /content/cars.mp4: 384x640 7 cars, 24.3ms\n",
            "video 1/1 (frame 2350/4509) /content/cars.mp4: 384x640 7 cars, 24.3ms\n",
            "video 1/1 (frame 2351/4509) /content/cars.mp4: 384x640 6 cars, 24.3ms\n",
            "video 1/1 (frame 2352/4509) /content/cars.mp4: 384x640 6 cars, 24.3ms\n",
            "video 1/1 (frame 2353/4509) /content/cars.mp4: 384x640 7 cars, 24.3ms\n",
            "video 1/1 (frame 2354/4509) /content/cars.mp4: 384x640 6 cars, 24.3ms\n",
            "video 1/1 (frame 2355/4509) /content/cars.mp4: 384x640 6 cars, 24.3ms\n",
            "video 1/1 (frame 2356/4509) /content/cars.mp4: 384x640 6 cars, 24.3ms\n",
            "video 1/1 (frame 2357/4509) /content/cars.mp4: 384x640 5 cars, 24.3ms\n",
            "video 1/1 (frame 2358/4509) /content/cars.mp4: 384x640 6 cars, 24.3ms\n",
            "video 1/1 (frame 2359/4509) /content/cars.mp4: 384x640 6 cars, 24.3ms\n",
            "video 1/1 (frame 2360/4509) /content/cars.mp4: 384x640 6 cars, 24.3ms\n",
            "video 1/1 (frame 2361/4509) /content/cars.mp4: 384x640 6 cars, 24.3ms\n",
            "video 1/1 (frame 2362/4509) /content/cars.mp4: 384x640 7 cars, 24.3ms\n",
            "video 1/1 (frame 2363/4509) /content/cars.mp4: 384x640 6 cars, 24.3ms\n",
            "video 1/1 (frame 2364/4509) /content/cars.mp4: 384x640 7 cars, 24.3ms\n",
            "video 1/1 (frame 2365/4509) /content/cars.mp4: 384x640 7 cars, 27.9ms\n",
            "video 1/1 (frame 2366/4509) /content/cars.mp4: 384x640 7 cars, 24.3ms\n",
            "video 1/1 (frame 2367/4509) /content/cars.mp4: 384x640 7 cars, 1 truck, 24.3ms\n",
            "video 1/1 (frame 2368/4509) /content/cars.mp4: 384x640 6 cars, 24.3ms\n",
            "video 1/1 (frame 2369/4509) /content/cars.mp4: 384x640 7 cars, 1 truck, 24.3ms\n",
            "video 1/1 (frame 2370/4509) /content/cars.mp4: 384x640 6 cars, 24.3ms\n",
            "video 1/1 (frame 2371/4509) /content/cars.mp4: 384x640 6 cars, 24.3ms\n",
            "video 1/1 (frame 2372/4509) /content/cars.mp4: 384x640 8 cars, 24.3ms\n",
            "video 1/1 (frame 2373/4509) /content/cars.mp4: 384x640 6 cars, 24.3ms\n",
            "video 1/1 (frame 2374/4509) /content/cars.mp4: 384x640 6 cars, 24.3ms\n",
            "video 1/1 (frame 2375/4509) /content/cars.mp4: 384x640 5 cars, 1 truck, 24.3ms\n",
            "video 1/1 (frame 2376/4509) /content/cars.mp4: 384x640 6 cars, 24.3ms\n",
            "video 1/1 (frame 2377/4509) /content/cars.mp4: 384x640 7 cars, 24.3ms\n",
            "video 1/1 (frame 2378/4509) /content/cars.mp4: 384x640 7 cars, 24.3ms\n",
            "video 1/1 (frame 2379/4509) /content/cars.mp4: 384x640 7 cars, 1 motorcycle, 24.3ms\n",
            "video 1/1 (frame 2380/4509) /content/cars.mp4: 384x640 8 cars, 24.3ms\n",
            "video 1/1 (frame 2381/4509) /content/cars.mp4: 384x640 8 cars, 24.3ms\n",
            "video 1/1 (frame 2382/4509) /content/cars.mp4: 384x640 7 cars, 25.3ms\n",
            "video 1/1 (frame 2383/4509) /content/cars.mp4: 384x640 7 cars, 24.3ms\n",
            "video 1/1 (frame 2384/4509) /content/cars.mp4: 384x640 7 cars, 24.3ms\n",
            "video 1/1 (frame 2385/4509) /content/cars.mp4: 384x640 7 cars, 24.3ms\n",
            "video 1/1 (frame 2386/4509) /content/cars.mp4: 384x640 7 cars, 24.3ms\n",
            "video 1/1 (frame 2387/4509) /content/cars.mp4: 384x640 7 cars, 24.3ms\n",
            "video 1/1 (frame 2388/4509) /content/cars.mp4: 384x640 7 cars, 24.3ms\n",
            "video 1/1 (frame 2389/4509) /content/cars.mp4: 384x640 7 cars, 1 truck, 24.6ms\n",
            "video 1/1 (frame 2390/4509) /content/cars.mp4: 384x640 6 cars, 1 truck, 24.3ms\n",
            "video 1/1 (frame 2391/4509) /content/cars.mp4: 384x640 7 cars, 1 truck, 25.2ms\n",
            "video 1/1 (frame 2392/4509) /content/cars.mp4: 384x640 7 cars, 1 truck, 24.3ms\n",
            "video 1/1 (frame 2393/4509) /content/cars.mp4: 384x640 6 cars, 2 trucks, 24.3ms\n",
            "video 1/1 (frame 2394/4509) /content/cars.mp4: 384x640 5 cars, 1 truck, 24.3ms\n",
            "video 1/1 (frame 2395/4509) /content/cars.mp4: 384x640 5 cars, 1 truck, 24.3ms\n",
            "video 1/1 (frame 2396/4509) /content/cars.mp4: 384x640 5 cars, 24.3ms\n",
            "video 1/1 (frame 2397/4509) /content/cars.mp4: 384x640 7 cars, 24.3ms\n",
            "video 1/1 (frame 2398/4509) /content/cars.mp4: 384x640 6 cars, 24.3ms\n",
            "video 1/1 (frame 2399/4509) /content/cars.mp4: 384x640 5 cars, 24.3ms\n",
            "video 1/1 (frame 2400/4509) /content/cars.mp4: 384x640 5 cars, 24.3ms\n",
            "video 1/1 (frame 2401/4509) /content/cars.mp4: 384x640 5 cars, 24.3ms\n",
            "video 1/1 (frame 2402/4509) /content/cars.mp4: 384x640 5 cars, 24.3ms\n",
            "video 1/1 (frame 2403/4509) /content/cars.mp4: 384x640 5 cars, 24.3ms\n",
            "video 1/1 (frame 2404/4509) /content/cars.mp4: 384x640 6 cars, 24.3ms\n",
            "video 1/1 (frame 2405/4509) /content/cars.mp4: 384x640 6 cars, 24.3ms\n",
            "video 1/1 (frame 2406/4509) /content/cars.mp4: 384x640 5 cars, 24.3ms\n",
            "video 1/1 (frame 2407/4509) /content/cars.mp4: 384x640 5 cars, 24.3ms\n",
            "video 1/1 (frame 2408/4509) /content/cars.mp4: 384x640 6 cars, 1 motorcycle, 24.3ms\n",
            "video 1/1 (frame 2409/4509) /content/cars.mp4: 384x640 7 cars, 24.3ms\n",
            "video 1/1 (frame 2410/4509) /content/cars.mp4: 384x640 7 cars, 24.3ms\n",
            "video 1/1 (frame 2411/4509) /content/cars.mp4: 384x640 7 cars, 24.3ms\n",
            "video 1/1 (frame 2412/4509) /content/cars.mp4: 384x640 7 cars, 24.3ms\n",
            "video 1/1 (frame 2413/4509) /content/cars.mp4: 384x640 8 cars, 24.3ms\n",
            "video 1/1 (frame 2414/4509) /content/cars.mp4: 384x640 8 cars, 24.3ms\n",
            "video 1/1 (frame 2415/4509) /content/cars.mp4: 384x640 8 cars, 24.3ms\n",
            "video 1/1 (frame 2416/4509) /content/cars.mp4: 384x640 8 cars, 24.3ms\n",
            "video 1/1 (frame 2417/4509) /content/cars.mp4: 384x640 8 cars, 24.3ms\n",
            "video 1/1 (frame 2418/4509) /content/cars.mp4: 384x640 7 cars, 24.3ms\n",
            "video 1/1 (frame 2419/4509) /content/cars.mp4: 384x640 7 cars, 24.3ms\n",
            "video 1/1 (frame 2420/4509) /content/cars.mp4: 384x640 6 cars, 24.3ms\n",
            "video 1/1 (frame 2421/4509) /content/cars.mp4: 384x640 7 cars, 24.3ms\n",
            "video 1/1 (frame 2422/4509) /content/cars.mp4: 384x640 7 cars, 24.3ms\n",
            "video 1/1 (frame 2423/4509) /content/cars.mp4: 384x640 7 cars, 24.3ms\n",
            "video 1/1 (frame 2424/4509) /content/cars.mp4: 384x640 7 cars, 24.3ms\n",
            "video 1/1 (frame 2425/4509) /content/cars.mp4: 384x640 7 cars, 24.3ms\n",
            "video 1/1 (frame 2426/4509) /content/cars.mp4: 384x640 7 cars, 1 truck, 24.3ms\n",
            "video 1/1 (frame 2427/4509) /content/cars.mp4: 384x640 7 cars, 24.3ms\n",
            "video 1/1 (frame 2428/4509) /content/cars.mp4: 384x640 6 cars, 24.3ms\n",
            "video 1/1 (frame 2429/4509) /content/cars.mp4: 384x640 5 cars, 24.3ms\n",
            "video 1/1 (frame 2430/4509) /content/cars.mp4: 384x640 5 cars, 24.3ms\n",
            "video 1/1 (frame 2431/4509) /content/cars.mp4: 384x640 5 cars, 1 truck, 24.3ms\n",
            "video 1/1 (frame 2432/4509) /content/cars.mp4: 384x640 4 cars, 24.3ms\n",
            "video 1/1 (frame 2433/4509) /content/cars.mp4: 384x640 5 cars, 24.3ms\n",
            "video 1/1 (frame 2434/4509) /content/cars.mp4: 384x640 5 cars, 24.3ms\n",
            "video 1/1 (frame 2435/4509) /content/cars.mp4: 384x640 4 cars, 1 truck, 24.3ms\n",
            "video 1/1 (frame 2436/4509) /content/cars.mp4: 384x640 5 cars, 1 truck, 24.3ms\n",
            "video 1/1 (frame 2437/4509) /content/cars.mp4: 384x640 4 cars, 1 truck, 24.4ms\n",
            "video 1/1 (frame 2438/4509) /content/cars.mp4: 384x640 5 cars, 1 truck, 24.3ms\n",
            "video 1/1 (frame 2439/4509) /content/cars.mp4: 384x640 5 cars, 1 truck, 24.3ms\n",
            "video 1/1 (frame 2440/4509) /content/cars.mp4: 384x640 4 cars, 1 truck, 24.3ms\n",
            "video 1/1 (frame 2441/4509) /content/cars.mp4: 384x640 5 cars, 1 truck, 24.3ms\n",
            "video 1/1 (frame 2442/4509) /content/cars.mp4: 384x640 5 cars, 1 truck, 24.3ms\n",
            "video 1/1 (frame 2443/4509) /content/cars.mp4: 384x640 3 cars, 1 truck, 24.3ms\n",
            "video 1/1 (frame 2444/4509) /content/cars.mp4: 384x640 6 cars, 1 truck, 24.3ms\n",
            "video 1/1 (frame 2445/4509) /content/cars.mp4: 384x640 6 cars, 1 truck, 24.3ms\n",
            "video 1/1 (frame 2446/4509) /content/cars.mp4: 384x640 3 cars, 1 truck, 24.4ms\n",
            "video 1/1 (frame 2447/4509) /content/cars.mp4: 384x640 5 cars, 1 truck, 24.3ms\n",
            "video 1/1 (frame 2448/4509) /content/cars.mp4: 384x640 6 cars, 1 truck, 24.3ms\n",
            "video 1/1 (frame 2449/4509) /content/cars.mp4: 384x640 6 cars, 1 truck, 24.3ms\n",
            "video 1/1 (frame 2450/4509) /content/cars.mp4: 384x640 7 cars, 1 truck, 24.3ms\n",
            "video 1/1 (frame 2451/4509) /content/cars.mp4: 384x640 6 cars, 1 truck, 24.3ms\n",
            "video 1/1 (frame 2452/4509) /content/cars.mp4: 384x640 5 cars, 1 truck, 24.3ms\n",
            "video 1/1 (frame 2453/4509) /content/cars.mp4: 384x640 6 cars, 2 trucks, 24.3ms\n",
            "video 1/1 (frame 2454/4509) /content/cars.mp4: 384x640 6 cars, 1 truck, 24.3ms\n",
            "video 1/1 (frame 2455/4509) /content/cars.mp4: 384x640 5 cars, 1 truck, 24.3ms\n",
            "video 1/1 (frame 2456/4509) /content/cars.mp4: 384x640 6 cars, 1 truck, 24.3ms\n",
            "video 1/1 (frame 2457/4509) /content/cars.mp4: 384x640 7 cars, 2 trucks, 24.3ms\n",
            "video 1/1 (frame 2458/4509) /content/cars.mp4: 384x640 6 cars, 24.3ms\n",
            "video 1/1 (frame 2459/4509) /content/cars.mp4: 384x640 6 cars, 1 truck, 24.3ms\n",
            "video 1/1 (frame 2460/4509) /content/cars.mp4: 384x640 5 cars, 1 truck, 24.3ms\n",
            "video 1/1 (frame 2461/4509) /content/cars.mp4: 384x640 6 cars, 1 truck, 44.2ms\n",
            "video 1/1 (frame 2462/4509) /content/cars.mp4: 384x640 5 cars, 1 truck, 24.3ms\n",
            "video 1/1 (frame 2463/4509) /content/cars.mp4: 384x640 5 cars, 2 trucks, 27.6ms\n",
            "video 1/1 (frame 2464/4509) /content/cars.mp4: 384x640 7 cars, 1 truck, 24.3ms\n",
            "video 1/1 (frame 2465/4509) /content/cars.mp4: 384x640 7 cars, 1 truck, 34.3ms\n",
            "video 1/1 (frame 2466/4509) /content/cars.mp4: 384x640 6 cars, 1 truck, 24.3ms\n",
            "video 1/1 (frame 2467/4509) /content/cars.mp4: 384x640 7 cars, 1 truck, 24.3ms\n",
            "video 1/1 (frame 2468/4509) /content/cars.mp4: 384x640 7 cars, 1 truck, 24.3ms\n",
            "video 1/1 (frame 2469/4509) /content/cars.mp4: 384x640 6 cars, 1 truck, 34.0ms\n",
            "video 1/1 (frame 2470/4509) /content/cars.mp4: 384x640 7 cars, 1 truck, 24.4ms\n",
            "video 1/1 (frame 2471/4509) /content/cars.mp4: 384x640 5 cars, 3 trucks, 24.3ms\n",
            "video 1/1 (frame 2472/4509) /content/cars.mp4: 384x640 5 cars, 1 truck, 28.6ms\n",
            "video 1/1 (frame 2473/4509) /content/cars.mp4: 384x640 6 cars, 1 truck, 37.1ms\n",
            "video 1/1 (frame 2474/4509) /content/cars.mp4: 384x640 5 cars, 1 truck, 24.3ms\n",
            "video 1/1 (frame 2475/4509) /content/cars.mp4: 384x640 4 cars, 1 truck, 27.0ms\n",
            "video 1/1 (frame 2476/4509) /content/cars.mp4: 384x640 4 cars, 1 truck, 24.9ms\n",
            "video 1/1 (frame 2477/4509) /content/cars.mp4: 384x640 5 cars, 1 truck, 25.5ms\n",
            "video 1/1 (frame 2478/4509) /content/cars.mp4: 384x640 7 cars, 1 truck, 28.4ms\n",
            "video 1/1 (frame 2479/4509) /content/cars.mp4: 384x640 7 cars, 1 truck, 24.3ms\n",
            "video 1/1 (frame 2480/4509) /content/cars.mp4: 384x640 8 cars, 1 truck, 24.3ms\n",
            "video 1/1 (frame 2481/4509) /content/cars.mp4: 384x640 8 cars, 1 truck, 24.3ms\n",
            "video 1/1 (frame 2482/4509) /content/cars.mp4: 384x640 8 cars, 26.4ms\n",
            "video 1/1 (frame 2483/4509) /content/cars.mp4: 384x640 9 cars, 1 truck, 24.3ms\n",
            "video 1/1 (frame 2484/4509) /content/cars.mp4: 384x640 8 cars, 1 truck, 24.3ms\n",
            "video 1/1 (frame 2485/4509) /content/cars.mp4: 384x640 7 cars, 1 truck, 24.3ms\n",
            "video 1/1 (frame 2486/4509) /content/cars.mp4: 384x640 9 cars, 1 truck, 24.3ms\n",
            "video 1/1 (frame 2487/4509) /content/cars.mp4: 384x640 9 cars, 1 truck, 24.3ms\n",
            "video 1/1 (frame 2488/4509) /content/cars.mp4: 384x640 8 cars, 1 truck, 24.3ms\n",
            "video 1/1 (frame 2489/4509) /content/cars.mp4: 384x640 7 cars, 1 truck, 24.3ms\n",
            "video 1/1 (frame 2490/4509) /content/cars.mp4: 384x640 8 cars, 1 truck, 24.3ms\n",
            "video 1/1 (frame 2491/4509) /content/cars.mp4: 384x640 7 cars, 1 truck, 24.3ms\n",
            "video 1/1 (frame 2492/4509) /content/cars.mp4: 384x640 8 cars, 1 truck, 24.3ms\n",
            "video 1/1 (frame 2493/4509) /content/cars.mp4: 384x640 9 cars, 1 truck, 24.3ms\n",
            "video 1/1 (frame 2494/4509) /content/cars.mp4: 384x640 6 cars, 1 truck, 24.3ms\n",
            "video 1/1 (frame 2495/4509) /content/cars.mp4: 384x640 8 cars, 1 truck, 24.3ms\n",
            "video 1/1 (frame 2496/4509) /content/cars.mp4: 384x640 6 cars, 2 trucks, 24.3ms\n",
            "video 1/1 (frame 2497/4509) /content/cars.mp4: 384x640 6 cars, 1 truck, 24.3ms\n",
            "video 1/1 (frame 2498/4509) /content/cars.mp4: 384x640 6 cars, 1 truck, 24.3ms\n",
            "video 1/1 (frame 2499/4509) /content/cars.mp4: 384x640 7 cars, 1 truck, 24.3ms\n",
            "video 1/1 (frame 2500/4509) /content/cars.mp4: 384x640 8 cars, 1 truck, 24.3ms\n",
            "video 1/1 (frame 2501/4509) /content/cars.mp4: 384x640 8 cars, 1 truck, 24.3ms\n",
            "video 1/1 (frame 2502/4509) /content/cars.mp4: 384x640 7 cars, 1 truck, 24.4ms\n",
            "video 1/1 (frame 2503/4509) /content/cars.mp4: 384x640 7 cars, 1 truck, 24.3ms\n",
            "video 1/1 (frame 2504/4509) /content/cars.mp4: 384x640 7 cars, 2 trucks, 24.3ms\n",
            "video 1/1 (frame 2505/4509) /content/cars.mp4: 384x640 7 cars, 1 truck, 24.3ms\n",
            "video 1/1 (frame 2506/4509) /content/cars.mp4: 384x640 8 cars, 1 truck, 24.3ms\n",
            "video 1/1 (frame 2507/4509) /content/cars.mp4: 384x640 8 cars, 24.4ms\n",
            "video 1/1 (frame 2508/4509) /content/cars.mp4: 384x640 8 cars, 24.3ms\n",
            "video 1/1 (frame 2509/4509) /content/cars.mp4: 384x640 8 cars, 24.3ms\n",
            "video 1/1 (frame 2510/4509) /content/cars.mp4: 384x640 8 cars, 24.3ms\n",
            "video 1/1 (frame 2511/4509) /content/cars.mp4: 384x640 8 cars, 24.3ms\n",
            "video 1/1 (frame 2512/4509) /content/cars.mp4: 384x640 9 cars, 24.7ms\n",
            "video 1/1 (frame 2513/4509) /content/cars.mp4: 384x640 8 cars, 24.3ms\n",
            "video 1/1 (frame 2514/4509) /content/cars.mp4: 384x640 9 cars, 24.3ms\n",
            "video 1/1 (frame 2515/4509) /content/cars.mp4: 384x640 9 cars, 24.3ms\n",
            "video 1/1 (frame 2516/4509) /content/cars.mp4: 384x640 9 cars, 24.3ms\n",
            "video 1/1 (frame 2517/4509) /content/cars.mp4: 384x640 9 cars, 24.3ms\n",
            "video 1/1 (frame 2518/4509) /content/cars.mp4: 384x640 9 cars, 24.3ms\n",
            "video 1/1 (frame 2519/4509) /content/cars.mp4: 384x640 9 cars, 25.0ms\n",
            "video 1/1 (frame 2520/4509) /content/cars.mp4: 384x640 9 cars, 24.3ms\n",
            "video 1/1 (frame 2521/4509) /content/cars.mp4: 384x640 9 cars, 24.3ms\n",
            "video 1/1 (frame 2522/4509) /content/cars.mp4: 384x640 9 cars, 24.3ms\n",
            "video 1/1 (frame 2523/4509) /content/cars.mp4: 384x640 9 cars, 24.3ms\n",
            "video 1/1 (frame 2524/4509) /content/cars.mp4: 384x640 10 cars, 24.3ms\n",
            "video 1/1 (frame 2525/4509) /content/cars.mp4: 384x640 10 cars, 24.3ms\n",
            "video 1/1 (frame 2526/4509) /content/cars.mp4: 384x640 10 cars, 24.3ms\n",
            "video 1/1 (frame 2527/4509) /content/cars.mp4: 384x640 11 cars, 1 truck, 24.3ms\n",
            "video 1/1 (frame 2528/4509) /content/cars.mp4: 384x640 10 cars, 26.0ms\n",
            "video 1/1 (frame 2529/4509) /content/cars.mp4: 384x640 10 cars, 24.3ms\n",
            "video 1/1 (frame 2530/4509) /content/cars.mp4: 384x640 9 cars, 24.3ms\n",
            "video 1/1 (frame 2531/4509) /content/cars.mp4: 384x640 8 cars, 1 truck, 24.3ms\n",
            "video 1/1 (frame 2532/4509) /content/cars.mp4: 384x640 9 cars, 24.3ms\n",
            "video 1/1 (frame 2533/4509) /content/cars.mp4: 384x640 8 cars, 1 truck, 24.3ms\n",
            "video 1/1 (frame 2534/4509) /content/cars.mp4: 384x640 8 cars, 1 truck, 28.6ms\n",
            "video 1/1 (frame 2535/4509) /content/cars.mp4: 384x640 9 cars, 1 truck, 24.3ms\n",
            "video 1/1 (frame 2536/4509) /content/cars.mp4: 384x640 8 cars, 24.3ms\n",
            "video 1/1 (frame 2537/4509) /content/cars.mp4: 384x640 8 cars, 1 truck, 24.3ms\n",
            "video 1/1 (frame 2538/4509) /content/cars.mp4: 384x640 9 cars, 24.3ms\n",
            "video 1/1 (frame 2539/4509) /content/cars.mp4: 384x640 8 cars, 24.3ms\n",
            "video 1/1 (frame 2540/4509) /content/cars.mp4: 384x640 10 cars, 24.3ms\n",
            "video 1/1 (frame 2541/4509) /content/cars.mp4: 384x640 9 cars, 24.3ms\n",
            "video 1/1 (frame 2542/4509) /content/cars.mp4: 384x640 10 cars, 24.3ms\n",
            "video 1/1 (frame 2543/4509) /content/cars.mp4: 384x640 10 cars, 24.3ms\n",
            "video 1/1 (frame 2544/4509) /content/cars.mp4: 384x640 9 cars, 1 truck, 24.3ms\n",
            "video 1/1 (frame 2545/4509) /content/cars.mp4: 384x640 9 cars, 24.3ms\n",
            "video 1/1 (frame 2546/4509) /content/cars.mp4: 384x640 9 cars, 29.9ms\n",
            "video 1/1 (frame 2547/4509) /content/cars.mp4: 384x640 9 cars, 24.3ms\n",
            "video 1/1 (frame 2548/4509) /content/cars.mp4: 384x640 8 cars, 24.5ms\n",
            "video 1/1 (frame 2549/4509) /content/cars.mp4: 384x640 8 cars, 24.3ms\n",
            "video 1/1 (frame 2550/4509) /content/cars.mp4: 384x640 8 cars, 24.3ms\n",
            "video 1/1 (frame 2551/4509) /content/cars.mp4: 384x640 10 cars, 24.3ms\n",
            "video 1/1 (frame 2552/4509) /content/cars.mp4: 384x640 10 cars, 24.3ms\n",
            "video 1/1 (frame 2553/4509) /content/cars.mp4: 384x640 11 cars, 24.3ms\n",
            "video 1/1 (frame 2554/4509) /content/cars.mp4: 384x640 11 cars, 24.3ms\n",
            "video 1/1 (frame 2555/4509) /content/cars.mp4: 384x640 10 cars, 24.3ms\n",
            "video 1/1 (frame 2556/4509) /content/cars.mp4: 384x640 11 cars, 24.3ms\n",
            "video 1/1 (frame 2557/4509) /content/cars.mp4: 384x640 11 cars, 24.4ms\n",
            "video 1/1 (frame 2558/4509) /content/cars.mp4: 384x640 11 cars, 2 trucks, 27.4ms\n",
            "video 1/1 (frame 2559/4509) /content/cars.mp4: 384x640 11 cars, 24.4ms\n",
            "video 1/1 (frame 2560/4509) /content/cars.mp4: 384x640 10 cars, 24.3ms\n",
            "video 1/1 (frame 2561/4509) /content/cars.mp4: 384x640 10 cars, 1 truck, 24.3ms\n",
            "video 1/1 (frame 2562/4509) /content/cars.mp4: 384x640 10 cars, 24.3ms\n",
            "video 1/1 (frame 2563/4509) /content/cars.mp4: 384x640 10 cars, 24.4ms\n",
            "video 1/1 (frame 2564/4509) /content/cars.mp4: 384x640 10 cars, 24.3ms\n",
            "video 1/1 (frame 2565/4509) /content/cars.mp4: 384x640 11 cars, 24.3ms\n",
            "video 1/1 (frame 2566/4509) /content/cars.mp4: 384x640 11 cars, 1 truck, 24.3ms\n",
            "video 1/1 (frame 2567/4509) /content/cars.mp4: 384x640 10 cars, 24.3ms\n",
            "video 1/1 (frame 2568/4509) /content/cars.mp4: 384x640 10 cars, 24.3ms\n",
            "video 1/1 (frame 2569/4509) /content/cars.mp4: 384x640 8 cars, 24.3ms\n",
            "video 1/1 (frame 2570/4509) /content/cars.mp4: 384x640 9 cars, 24.3ms\n",
            "video 1/1 (frame 2571/4509) /content/cars.mp4: 384x640 8 cars, 24.3ms\n",
            "video 1/1 (frame 2572/4509) /content/cars.mp4: 384x640 8 cars, 24.3ms\n",
            "video 1/1 (frame 2573/4509) /content/cars.mp4: 384x640 11 cars, 1 motorcycle, 24.3ms\n",
            "video 1/1 (frame 2574/4509) /content/cars.mp4: 384x640 10 cars, 24.3ms\n",
            "video 1/1 (frame 2575/4509) /content/cars.mp4: 384x640 9 cars, 24.3ms\n",
            "video 1/1 (frame 2576/4509) /content/cars.mp4: 384x640 9 cars, 24.3ms\n",
            "video 1/1 (frame 2577/4509) /content/cars.mp4: 384x640 10 cars, 24.3ms\n",
            "video 1/1 (frame 2578/4509) /content/cars.mp4: 384x640 9 cars, 24.3ms\n",
            "video 1/1 (frame 2579/4509) /content/cars.mp4: 384x640 7 cars, 24.3ms\n",
            "video 1/1 (frame 2580/4509) /content/cars.mp4: 384x640 6 cars, 24.3ms\n",
            "video 1/1 (frame 2581/4509) /content/cars.mp4: 384x640 6 cars, 24.3ms\n",
            "video 1/1 (frame 2582/4509) /content/cars.mp4: 384x640 7 cars, 24.3ms\n",
            "video 1/1 (frame 2583/4509) /content/cars.mp4: 384x640 7 cars, 24.3ms\n",
            "video 1/1 (frame 2584/4509) /content/cars.mp4: 384x640 7 cars, 1 truck, 24.3ms\n",
            "video 1/1 (frame 2585/4509) /content/cars.mp4: 384x640 9 cars, 24.3ms\n",
            "video 1/1 (frame 2586/4509) /content/cars.mp4: 384x640 8 cars, 1 truck, 24.3ms\n",
            "video 1/1 (frame 2587/4509) /content/cars.mp4: 384x640 6 cars, 1 truck, 24.3ms\n",
            "video 1/1 (frame 2588/4509) /content/cars.mp4: 384x640 7 cars, 1 truck, 24.3ms\n",
            "video 1/1 (frame 2589/4509) /content/cars.mp4: 384x640 7 cars, 1 truck, 24.3ms\n",
            "video 1/1 (frame 2590/4509) /content/cars.mp4: 384x640 6 cars, 1 truck, 24.3ms\n",
            "video 1/1 (frame 2591/4509) /content/cars.mp4: 384x640 6 cars, 1 truck, 24.3ms\n",
            "video 1/1 (frame 2592/4509) /content/cars.mp4: 384x640 6 cars, 24.3ms\n",
            "video 1/1 (frame 2593/4509) /content/cars.mp4: 384x640 6 cars, 24.3ms\n",
            "video 1/1 (frame 2594/4509) /content/cars.mp4: 384x640 5 cars, 24.3ms\n",
            "video 1/1 (frame 2595/4509) /content/cars.mp4: 384x640 6 cars, 24.3ms\n",
            "video 1/1 (frame 2596/4509) /content/cars.mp4: 384x640 6 cars, 1 truck, 24.3ms\n",
            "video 1/1 (frame 2597/4509) /content/cars.mp4: 384x640 6 cars, 24.3ms\n",
            "video 1/1 (frame 2598/4509) /content/cars.mp4: 384x640 6 cars, 24.3ms\n",
            "video 1/1 (frame 2599/4509) /content/cars.mp4: 384x640 7 cars, 24.6ms\n",
            "video 1/1 (frame 2600/4509) /content/cars.mp4: 384x640 6 cars, 1 truck, 24.3ms\n",
            "video 1/1 (frame 2601/4509) /content/cars.mp4: 384x640 7 cars, 1 truck, 24.3ms\n",
            "video 1/1 (frame 2602/4509) /content/cars.mp4: 384x640 7 cars, 27.1ms\n",
            "video 1/1 (frame 2603/4509) /content/cars.mp4: 384x640 8 cars, 24.3ms\n",
            "video 1/1 (frame 2604/4509) /content/cars.mp4: 384x640 6 cars, 24.3ms\n",
            "video 1/1 (frame 2605/4509) /content/cars.mp4: 384x640 6 cars, 1 truck, 24.7ms\n",
            "video 1/1 (frame 2606/4509) /content/cars.mp4: 384x640 7 cars, 24.3ms\n",
            "video 1/1 (frame 2607/4509) /content/cars.mp4: 384x640 9 cars, 28.9ms\n",
            "video 1/1 (frame 2608/4509) /content/cars.mp4: 384x640 7 cars, 24.3ms\n",
            "video 1/1 (frame 2609/4509) /content/cars.mp4: 384x640 5 cars, 32.0ms\n",
            "video 1/1 (frame 2610/4509) /content/cars.mp4: 384x640 5 cars, 24.3ms\n",
            "video 1/1 (frame 2611/4509) /content/cars.mp4: 384x640 6 cars, 24.3ms\n",
            "video 1/1 (frame 2612/4509) /content/cars.mp4: 384x640 6 cars, 24.3ms\n",
            "video 1/1 (frame 2613/4509) /content/cars.mp4: 384x640 6 cars, 25.0ms\n",
            "video 1/1 (frame 2614/4509) /content/cars.mp4: 384x640 6 cars, 1 truck, 28.8ms\n",
            "video 1/1 (frame 2615/4509) /content/cars.mp4: 384x640 7 cars, 25.3ms\n",
            "video 1/1 (frame 2616/4509) /content/cars.mp4: 384x640 7 cars, 24.3ms\n",
            "video 1/1 (frame 2617/4509) /content/cars.mp4: 384x640 7 cars, 30.3ms\n",
            "video 1/1 (frame 2618/4509) /content/cars.mp4: 384x640 7 cars, 33.6ms\n",
            "video 1/1 (frame 2619/4509) /content/cars.mp4: 384x640 8 cars, 25.8ms\n",
            "video 1/1 (frame 2620/4509) /content/cars.mp4: 384x640 8 cars, 1 truck, 26.3ms\n",
            "video 1/1 (frame 2621/4509) /content/cars.mp4: 384x640 7 cars, 25.9ms\n",
            "video 1/1 (frame 2622/4509) /content/cars.mp4: 384x640 7 cars, 24.3ms\n",
            "video 1/1 (frame 2623/4509) /content/cars.mp4: 384x640 7 cars, 24.3ms\n",
            "video 1/1 (frame 2624/4509) /content/cars.mp4: 384x640 8 cars, 24.3ms\n",
            "video 1/1 (frame 2625/4509) /content/cars.mp4: 384x640 7 cars, 24.3ms\n",
            "video 1/1 (frame 2626/4509) /content/cars.mp4: 384x640 7 cars, 24.3ms\n",
            "video 1/1 (frame 2627/4509) /content/cars.mp4: 384x640 6 cars, 24.3ms\n",
            "video 1/1 (frame 2628/4509) /content/cars.mp4: 384x640 7 cars, 24.3ms\n",
            "video 1/1 (frame 2629/4509) /content/cars.mp4: 384x640 6 cars, 1 truck, 24.3ms\n",
            "video 1/1 (frame 2630/4509) /content/cars.mp4: 384x640 6 cars, 24.3ms\n",
            "video 1/1 (frame 2631/4509) /content/cars.mp4: 384x640 6 cars, 24.3ms\n",
            "video 1/1 (frame 2632/4509) /content/cars.mp4: 384x640 8 cars, 24.3ms\n",
            "video 1/1 (frame 2633/4509) /content/cars.mp4: 384x640 8 cars, 24.3ms\n",
            "video 1/1 (frame 2634/4509) /content/cars.mp4: 384x640 7 cars, 24.3ms\n",
            "video 1/1 (frame 2635/4509) /content/cars.mp4: 384x640 9 cars, 24.3ms\n",
            "video 1/1 (frame 2636/4509) /content/cars.mp4: 384x640 9 cars, 24.3ms\n",
            "video 1/1 (frame 2637/4509) /content/cars.mp4: 384x640 8 cars, 24.3ms\n",
            "video 1/1 (frame 2638/4509) /content/cars.mp4: 384x640 9 cars, 24.3ms\n",
            "video 1/1 (frame 2639/4509) /content/cars.mp4: 384x640 11 cars, 24.3ms\n",
            "video 1/1 (frame 2640/4509) /content/cars.mp4: 384x640 11 cars, 24.3ms\n",
            "video 1/1 (frame 2641/4509) /content/cars.mp4: 384x640 11 cars, 24.3ms\n",
            "video 1/1 (frame 2642/4509) /content/cars.mp4: 384x640 12 cars, 1 truck, 24.3ms\n",
            "video 1/1 (frame 2643/4509) /content/cars.mp4: 384x640 12 cars, 24.3ms\n",
            "video 1/1 (frame 2644/4509) /content/cars.mp4: 384x640 10 cars, 1 truck, 24.3ms\n",
            "video 1/1 (frame 2645/4509) /content/cars.mp4: 384x640 12 cars, 1 truck, 24.3ms\n",
            "video 1/1 (frame 2646/4509) /content/cars.mp4: 384x640 11 cars, 1 truck, 24.3ms\n",
            "video 1/1 (frame 2647/4509) /content/cars.mp4: 384x640 11 cars, 24.3ms\n",
            "video 1/1 (frame 2648/4509) /content/cars.mp4: 384x640 9 cars, 1 truck, 24.3ms\n",
            "video 1/1 (frame 2649/4509) /content/cars.mp4: 384x640 8 cars, 1 truck, 24.3ms\n",
            "video 1/1 (frame 2650/4509) /content/cars.mp4: 384x640 11 cars, 24.3ms\n",
            "video 1/1 (frame 2651/4509) /content/cars.mp4: 384x640 11 cars, 1 truck, 25.8ms\n",
            "video 1/1 (frame 2652/4509) /content/cars.mp4: 384x640 11 cars, 1 truck, 24.3ms\n",
            "video 1/1 (frame 2653/4509) /content/cars.mp4: 384x640 11 cars, 1 truck, 24.3ms\n",
            "video 1/1 (frame 2654/4509) /content/cars.mp4: 384x640 11 cars, 1 truck, 24.3ms\n",
            "video 1/1 (frame 2655/4509) /content/cars.mp4: 384x640 9 cars, 1 truck, 24.3ms\n",
            "video 1/1 (frame 2656/4509) /content/cars.mp4: 384x640 9 cars, 1 truck, 24.3ms\n",
            "video 1/1 (frame 2657/4509) /content/cars.mp4: 384x640 11 cars, 1 truck, 24.3ms\n",
            "video 1/1 (frame 2658/4509) /content/cars.mp4: 384x640 10 cars, 1 truck, 24.3ms\n",
            "video 1/1 (frame 2659/4509) /content/cars.mp4: 384x640 11 cars, 1 truck, 24.3ms\n",
            "video 1/1 (frame 2660/4509) /content/cars.mp4: 384x640 11 cars, 1 truck, 24.3ms\n",
            "video 1/1 (frame 2661/4509) /content/cars.mp4: 384x640 11 cars, 1 truck, 24.3ms\n",
            "video 1/1 (frame 2662/4509) /content/cars.mp4: 384x640 10 cars, 1 truck, 24.3ms\n",
            "video 1/1 (frame 2663/4509) /content/cars.mp4: 384x640 10 cars, 1 truck, 24.3ms\n",
            "video 1/1 (frame 2664/4509) /content/cars.mp4: 384x640 10 cars, 1 truck, 24.3ms\n",
            "video 1/1 (frame 2665/4509) /content/cars.mp4: 384x640 11 cars, 1 truck, 24.3ms\n",
            "video 1/1 (frame 2666/4509) /content/cars.mp4: 384x640 11 cars, 1 truck, 24.3ms\n",
            "video 1/1 (frame 2667/4509) /content/cars.mp4: 384x640 10 cars, 1 truck, 24.3ms\n",
            "video 1/1 (frame 2668/4509) /content/cars.mp4: 384x640 11 cars, 1 truck, 24.3ms\n",
            "video 1/1 (frame 2669/4509) /content/cars.mp4: 384x640 13 cars, 1 truck, 24.3ms\n",
            "video 1/1 (frame 2670/4509) /content/cars.mp4: 384x640 11 cars, 1 truck, 24.3ms\n",
            "video 1/1 (frame 2671/4509) /content/cars.mp4: 384x640 11 cars, 2 trucks, 24.3ms\n",
            "video 1/1 (frame 2672/4509) /content/cars.mp4: 384x640 12 cars, 1 truck, 24.3ms\n",
            "video 1/1 (frame 2673/4509) /content/cars.mp4: 384x640 12 cars, 1 truck, 24.3ms\n",
            "video 1/1 (frame 2674/4509) /content/cars.mp4: 384x640 10 cars, 1 truck, 24.4ms\n",
            "video 1/1 (frame 2675/4509) /content/cars.mp4: 384x640 10 cars, 1 truck, 24.3ms\n",
            "video 1/1 (frame 2676/4509) /content/cars.mp4: 384x640 10 cars, 1 truck, 24.3ms\n",
            "video 1/1 (frame 2677/4509) /content/cars.mp4: 384x640 11 cars, 1 truck, 24.6ms\n",
            "video 1/1 (frame 2678/4509) /content/cars.mp4: 384x640 11 cars, 24.3ms\n",
            "video 1/1 (frame 2679/4509) /content/cars.mp4: 384x640 10 cars, 24.3ms\n",
            "video 1/1 (frame 2680/4509) /content/cars.mp4: 384x640 11 cars, 24.3ms\n",
            "video 1/1 (frame 2681/4509) /content/cars.mp4: 384x640 11 cars, 1 truck, 24.3ms\n",
            "video 1/1 (frame 2682/4509) /content/cars.mp4: 384x640 11 cars, 24.3ms\n",
            "video 1/1 (frame 2683/4509) /content/cars.mp4: 384x640 10 cars, 24.3ms\n",
            "video 1/1 (frame 2684/4509) /content/cars.mp4: 384x640 13 cars, 26.5ms\n",
            "video 1/1 (frame 2685/4509) /content/cars.mp4: 384x640 12 cars, 24.4ms\n",
            "video 1/1 (frame 2686/4509) /content/cars.mp4: 384x640 11 cars, 24.3ms\n",
            "video 1/1 (frame 2687/4509) /content/cars.mp4: 384x640 11 cars, 24.3ms\n",
            "video 1/1 (frame 2688/4509) /content/cars.mp4: 384x640 10 cars, 1 truck, 24.3ms\n",
            "video 1/1 (frame 2689/4509) /content/cars.mp4: 384x640 12 cars, 1 truck, 24.3ms\n",
            "video 1/1 (frame 2690/4509) /content/cars.mp4: 384x640 11 cars, 25.3ms\n",
            "video 1/1 (frame 2691/4509) /content/cars.mp4: 384x640 11 cars, 24.3ms\n",
            "video 1/1 (frame 2692/4509) /content/cars.mp4: 384x640 11 cars, 24.3ms\n",
            "video 1/1 (frame 2693/4509) /content/cars.mp4: 384x640 11 cars, 1 truck, 24.3ms\n",
            "video 1/1 (frame 2694/4509) /content/cars.mp4: 384x640 11 cars, 1 truck, 24.3ms\n",
            "video 1/1 (frame 2695/4509) /content/cars.mp4: 384x640 13 cars, 24.3ms\n",
            "video 1/1 (frame 2696/4509) /content/cars.mp4: 384x640 12 cars, 24.3ms\n",
            "video 1/1 (frame 2697/4509) /content/cars.mp4: 384x640 14 cars, 24.3ms\n",
            "video 1/1 (frame 2698/4509) /content/cars.mp4: 384x640 14 cars, 1 truck, 24.3ms\n",
            "video 1/1 (frame 2699/4509) /content/cars.mp4: 384x640 12 cars, 1 truck, 24.3ms\n",
            "video 1/1 (frame 2700/4509) /content/cars.mp4: 384x640 12 cars, 2 trucks, 24.3ms\n",
            "video 1/1 (frame 2701/4509) /content/cars.mp4: 384x640 11 cars, 24.3ms\n",
            "video 1/1 (frame 2702/4509) /content/cars.mp4: 384x640 12 cars, 1 truck, 24.3ms\n",
            "video 1/1 (frame 2703/4509) /content/cars.mp4: 384x640 12 cars, 27.8ms\n",
            "video 1/1 (frame 2704/4509) /content/cars.mp4: 384x640 11 cars, 1 truck, 25.7ms\n",
            "video 1/1 (frame 2705/4509) /content/cars.mp4: 384x640 12 cars, 1 truck, 24.3ms\n",
            "video 1/1 (frame 2706/4509) /content/cars.mp4: 384x640 14 cars, 1 truck, 24.3ms\n",
            "video 1/1 (frame 2707/4509) /content/cars.mp4: 384x640 13 cars, 24.3ms\n",
            "video 1/1 (frame 2708/4509) /content/cars.mp4: 384x640 12 cars, 24.3ms\n",
            "video 1/1 (frame 2709/4509) /content/cars.mp4: 384x640 11 cars, 24.3ms\n",
            "video 1/1 (frame 2710/4509) /content/cars.mp4: 384x640 11 cars, 24.3ms\n",
            "video 1/1 (frame 2711/4509) /content/cars.mp4: 384x640 11 cars, 24.3ms\n",
            "video 1/1 (frame 2712/4509) /content/cars.mp4: 384x640 11 cars, 24.3ms\n",
            "video 1/1 (frame 2713/4509) /content/cars.mp4: 384x640 12 cars, 24.7ms\n",
            "video 1/1 (frame 2714/4509) /content/cars.mp4: 384x640 13 cars, 24.3ms\n",
            "video 1/1 (frame 2715/4509) /content/cars.mp4: 384x640 13 cars, 24.3ms\n",
            "video 1/1 (frame 2716/4509) /content/cars.mp4: 384x640 13 cars, 24.3ms\n",
            "video 1/1 (frame 2717/4509) /content/cars.mp4: 384x640 14 cars, 24.3ms\n",
            "video 1/1 (frame 2718/4509) /content/cars.mp4: 384x640 15 cars, 24.3ms\n",
            "video 1/1 (frame 2719/4509) /content/cars.mp4: 384x640 12 cars, 24.3ms\n",
            "video 1/1 (frame 2720/4509) /content/cars.mp4: 384x640 11 cars, 24.4ms\n",
            "video 1/1 (frame 2721/4509) /content/cars.mp4: 384x640 11 cars, 24.3ms\n",
            "video 1/1 (frame 2722/4509) /content/cars.mp4: 384x640 11 cars, 24.3ms\n",
            "video 1/1 (frame 2723/4509) /content/cars.mp4: 384x640 11 cars, 24.3ms\n",
            "video 1/1 (frame 2724/4509) /content/cars.mp4: 384x640 11 cars, 24.3ms\n",
            "video 1/1 (frame 2725/4509) /content/cars.mp4: 384x640 11 cars, 24.3ms\n",
            "video 1/1 (frame 2726/4509) /content/cars.mp4: 384x640 12 cars, 24.4ms\n",
            "video 1/1 (frame 2727/4509) /content/cars.mp4: 384x640 13 cars, 24.3ms\n",
            "video 1/1 (frame 2728/4509) /content/cars.mp4: 384x640 12 cars, 24.3ms\n",
            "video 1/1 (frame 2729/4509) /content/cars.mp4: 384x640 10 cars, 24.3ms\n",
            "video 1/1 (frame 2730/4509) /content/cars.mp4: 384x640 11 cars, 24.3ms\n",
            "video 1/1 (frame 2731/4509) /content/cars.mp4: 384x640 11 cars, 24.3ms\n",
            "video 1/1 (frame 2732/4509) /content/cars.mp4: 384x640 11 cars, 24.3ms\n",
            "video 1/1 (frame 2733/4509) /content/cars.mp4: 384x640 11 cars, 24.3ms\n",
            "video 1/1 (frame 2734/4509) /content/cars.mp4: 384x640 12 cars, 24.3ms\n",
            "video 1/1 (frame 2735/4509) /content/cars.mp4: 384x640 12 cars, 24.3ms\n",
            "video 1/1 (frame 2736/4509) /content/cars.mp4: 384x640 13 cars, 1 truck, 25.6ms\n",
            "video 1/1 (frame 2737/4509) /content/cars.mp4: 384x640 11 cars, 35.2ms\n",
            "video 1/1 (frame 2738/4509) /content/cars.mp4: 384x640 12 cars, 1 truck, 24.3ms\n",
            "video 1/1 (frame 2739/4509) /content/cars.mp4: 384x640 12 cars, 1 truck, 25.0ms\n",
            "video 1/1 (frame 2740/4509) /content/cars.mp4: 384x640 12 cars, 1 truck, 24.3ms\n",
            "video 1/1 (frame 2741/4509) /content/cars.mp4: 384x640 11 cars, 1 truck, 32.0ms\n",
            "video 1/1 (frame 2742/4509) /content/cars.mp4: 384x640 11 cars, 1 truck, 24.3ms\n",
            "video 1/1 (frame 2743/4509) /content/cars.mp4: 384x640 12 cars, 1 truck, 26.9ms\n",
            "video 1/1 (frame 2744/4509) /content/cars.mp4: 384x640 11 cars, 1 truck, 24.4ms\n",
            "video 1/1 (frame 2745/4509) /content/cars.mp4: 384x640 10 cars, 1 truck, 24.8ms\n",
            "video 1/1 (frame 2746/4509) /content/cars.mp4: 384x640 9 cars, 2 trucks, 24.5ms\n",
            "video 1/1 (frame 2747/4509) /content/cars.mp4: 384x640 9 cars, 1 truck, 24.4ms\n",
            "video 1/1 (frame 2748/4509) /content/cars.mp4: 384x640 10 cars, 2 trucks, 40.5ms\n",
            "video 1/1 (frame 2749/4509) /content/cars.mp4: 384x640 10 cars, 24.3ms\n",
            "video 1/1 (frame 2750/4509) /content/cars.mp4: 384x640 10 cars, 1 truck, 25.8ms\n",
            "video 1/1 (frame 2751/4509) /content/cars.mp4: 384x640 10 cars, 24.3ms\n",
            "video 1/1 (frame 2752/4509) /content/cars.mp4: 384x640 10 cars, 1 truck, 24.4ms\n",
            "video 1/1 (frame 2753/4509) /content/cars.mp4: 384x640 9 cars, 24.3ms\n",
            "video 1/1 (frame 2754/4509) /content/cars.mp4: 384x640 9 cars, 2 trucks, 41.3ms\n",
            "video 1/1 (frame 2755/4509) /content/cars.mp4: 384x640 8 cars, 2 trucks, 32.5ms\n",
            "video 1/1 (frame 2756/4509) /content/cars.mp4: 384x640 9 cars, 1 truck, 24.5ms\n",
            "video 1/1 (frame 2757/4509) /content/cars.mp4: 384x640 9 cars, 26.6ms\n",
            "video 1/1 (frame 2758/4509) /content/cars.mp4: 384x640 9 cars, 2 trucks, 24.3ms\n",
            "video 1/1 (frame 2759/4509) /content/cars.mp4: 384x640 9 cars, 2 trucks, 24.3ms\n",
            "video 1/1 (frame 2760/4509) /content/cars.mp4: 384x640 10 cars, 2 trucks, 24.3ms\n",
            "video 1/1 (frame 2761/4509) /content/cars.mp4: 384x640 8 cars, 2 trucks, 24.3ms\n",
            "video 1/1 (frame 2762/4509) /content/cars.mp4: 384x640 10 cars, 1 truck, 24.4ms\n",
            "video 1/1 (frame 2763/4509) /content/cars.mp4: 384x640 9 cars, 1 truck, 24.3ms\n",
            "video 1/1 (frame 2764/4509) /content/cars.mp4: 384x640 8 cars, 1 truck, 24.3ms\n",
            "video 1/1 (frame 2765/4509) /content/cars.mp4: 384x640 10 cars, 24.3ms\n",
            "video 1/1 (frame 2766/4509) /content/cars.mp4: 384x640 10 cars, 24.3ms\n",
            "video 1/1 (frame 2767/4509) /content/cars.mp4: 384x640 10 cars, 24.3ms\n",
            "video 1/1 (frame 2768/4509) /content/cars.mp4: 384x640 10 cars, 24.3ms\n",
            "video 1/1 (frame 2769/4509) /content/cars.mp4: 384x640 10 cars, 24.3ms\n",
            "video 1/1 (frame 2770/4509) /content/cars.mp4: 384x640 8 cars, 26.2ms\n",
            "video 1/1 (frame 2771/4509) /content/cars.mp4: 384x640 7 cars, 1 truck, 24.3ms\n",
            "video 1/1 (frame 2772/4509) /content/cars.mp4: 384x640 7 cars, 24.4ms\n",
            "video 1/1 (frame 2773/4509) /content/cars.mp4: 384x640 8 cars, 24.3ms\n",
            "video 1/1 (frame 2774/4509) /content/cars.mp4: 384x640 6 cars, 1 truck, 24.3ms\n",
            "video 1/1 (frame 2775/4509) /content/cars.mp4: 384x640 5 cars, 24.3ms\n",
            "video 1/1 (frame 2776/4509) /content/cars.mp4: 384x640 5 cars, 24.3ms\n",
            "video 1/1 (frame 2777/4509) /content/cars.mp4: 384x640 6 cars, 24.3ms\n",
            "video 1/1 (frame 2778/4509) /content/cars.mp4: 384x640 6 cars, 24.3ms\n",
            "video 1/1 (frame 2779/4509) /content/cars.mp4: 384x640 6 cars, 24.3ms\n",
            "video 1/1 (frame 2780/4509) /content/cars.mp4: 384x640 6 cars, 25.8ms\n",
            "video 1/1 (frame 2781/4509) /content/cars.mp4: 384x640 6 cars, 24.3ms\n",
            "video 1/1 (frame 2782/4509) /content/cars.mp4: 384x640 6 cars, 1 truck, 24.3ms\n",
            "video 1/1 (frame 2783/4509) /content/cars.mp4: 384x640 9 cars, 24.3ms\n",
            "video 1/1 (frame 2784/4509) /content/cars.mp4: 384x640 10 cars, 24.3ms\n",
            "video 1/1 (frame 2785/4509) /content/cars.mp4: 384x640 10 cars, 24.3ms\n",
            "video 1/1 (frame 2786/4509) /content/cars.mp4: 384x640 11 cars, 24.3ms\n",
            "video 1/1 (frame 2787/4509) /content/cars.mp4: 384x640 9 cars, 24.3ms\n",
            "video 1/1 (frame 2788/4509) /content/cars.mp4: 384x640 10 cars, 24.3ms\n",
            "video 1/1 (frame 2789/4509) /content/cars.mp4: 384x640 9 cars, 24.3ms\n",
            "video 1/1 (frame 2790/4509) /content/cars.mp4: 384x640 8 cars, 1 truck, 24.3ms\n",
            "video 1/1 (frame 2791/4509) /content/cars.mp4: 384x640 9 cars, 1 truck, 24.3ms\n",
            "video 1/1 (frame 2792/4509) /content/cars.mp4: 384x640 9 cars, 24.3ms\n",
            "video 1/1 (frame 2793/4509) /content/cars.mp4: 384x640 6 cars, 26.2ms\n",
            "video 1/1 (frame 2794/4509) /content/cars.mp4: 384x640 5 cars, 24.3ms\n",
            "video 1/1 (frame 2795/4509) /content/cars.mp4: 384x640 5 cars, 24.3ms\n",
            "video 1/1 (frame 2796/4509) /content/cars.mp4: 384x640 5 cars, 24.3ms\n",
            "video 1/1 (frame 2797/4509) /content/cars.mp4: 384x640 5 cars, 24.3ms\n",
            "video 1/1 (frame 2798/4509) /content/cars.mp4: 384x640 5 cars, 24.3ms\n",
            "video 1/1 (frame 2799/4509) /content/cars.mp4: 384x640 4 cars, 24.3ms\n",
            "video 1/1 (frame 2800/4509) /content/cars.mp4: 384x640 5 cars, 24.3ms\n",
            "video 1/1 (frame 2801/4509) /content/cars.mp4: 384x640 6 cars, 24.3ms\n",
            "video 1/1 (frame 2802/4509) /content/cars.mp4: 384x640 6 cars, 24.3ms\n",
            "video 1/1 (frame 2803/4509) /content/cars.mp4: 384x640 5 cars, 24.3ms\n",
            "video 1/1 (frame 2804/4509) /content/cars.mp4: 384x640 5 cars, 24.3ms\n",
            "video 1/1 (frame 2805/4509) /content/cars.mp4: 384x640 5 cars, 26.2ms\n",
            "video 1/1 (frame 2806/4509) /content/cars.mp4: 384x640 6 cars, 24.3ms\n",
            "video 1/1 (frame 2807/4509) /content/cars.mp4: 384x640 3 cars, 24.3ms\n",
            "video 1/1 (frame 2808/4509) /content/cars.mp4: 384x640 4 cars, 24.3ms\n",
            "video 1/1 (frame 2809/4509) /content/cars.mp4: 384x640 3 cars, 24.3ms\n",
            "video 1/1 (frame 2810/4509) /content/cars.mp4: 384x640 5 cars, 1 truck, 24.3ms\n",
            "video 1/1 (frame 2811/4509) /content/cars.mp4: 384x640 3 cars, 1 truck, 24.3ms\n",
            "video 1/1 (frame 2812/4509) /content/cars.mp4: 384x640 3 cars, 1 truck, 24.3ms\n",
            "video 1/1 (frame 2813/4509) /content/cars.mp4: 384x640 2 cars, 1 truck, 24.3ms\n",
            "video 1/1 (frame 2814/4509) /content/cars.mp4: 384x640 3 cars, 1 truck, 24.3ms\n",
            "video 1/1 (frame 2815/4509) /content/cars.mp4: 384x640 4 cars, 1 truck, 24.3ms\n",
            "video 1/1 (frame 2816/4509) /content/cars.mp4: 384x640 4 cars, 1 truck, 24.3ms\n",
            "video 1/1 (frame 2817/4509) /content/cars.mp4: 384x640 4 cars, 1 truck, 26.5ms\n",
            "video 1/1 (frame 2818/4509) /content/cars.mp4: 384x640 5 cars, 1 truck, 25.8ms\n",
            "video 1/1 (frame 2819/4509) /content/cars.mp4: 384x640 4 cars, 1 truck, 24.3ms\n",
            "video 1/1 (frame 2820/4509) /content/cars.mp4: 384x640 4 cars, 1 truck, 24.3ms\n",
            "video 1/1 (frame 2821/4509) /content/cars.mp4: 384x640 2 cars, 1 truck, 24.3ms\n",
            "video 1/1 (frame 2822/4509) /content/cars.mp4: 384x640 4 cars, 24.3ms\n",
            "video 1/1 (frame 2823/4509) /content/cars.mp4: 384x640 4 cars, 24.3ms\n",
            "video 1/1 (frame 2824/4509) /content/cars.mp4: 384x640 3 cars, 24.3ms\n",
            "video 1/1 (frame 2825/4509) /content/cars.mp4: 384x640 2 cars, 24.3ms\n",
            "video 1/1 (frame 2826/4509) /content/cars.mp4: 384x640 2 cars, 24.3ms\n",
            "video 1/1 (frame 2827/4509) /content/cars.mp4: 384x640 3 cars, 24.3ms\n",
            "video 1/1 (frame 2828/4509) /content/cars.mp4: 384x640 3 cars, 24.3ms\n",
            "video 1/1 (frame 2829/4509) /content/cars.mp4: 384x640 3 cars, 24.3ms\n",
            "video 1/1 (frame 2830/4509) /content/cars.mp4: 384x640 1 car, 1 truck, 24.4ms\n",
            "video 1/1 (frame 2831/4509) /content/cars.mp4: 384x640 1 car, 24.3ms\n",
            "video 1/1 (frame 2832/4509) /content/cars.mp4: 384x640 2 cars, 1 truck, 24.3ms\n",
            "video 1/1 (frame 2833/4509) /content/cars.mp4: 384x640 4 cars, 24.3ms\n",
            "video 1/1 (frame 2834/4509) /content/cars.mp4: 384x640 2 cars, 1 truck, 24.3ms\n",
            "video 1/1 (frame 2835/4509) /content/cars.mp4: 384x640 3 cars, 24.3ms\n",
            "video 1/1 (frame 2836/4509) /content/cars.mp4: 384x640 3 cars, 24.3ms\n",
            "video 1/1 (frame 2837/4509) /content/cars.mp4: 384x640 4 cars, 24.3ms\n",
            "video 1/1 (frame 2838/4509) /content/cars.mp4: 384x640 3 cars, 24.3ms\n",
            "video 1/1 (frame 2839/4509) /content/cars.mp4: 384x640 3 cars, 24.3ms\n",
            "video 1/1 (frame 2840/4509) /content/cars.mp4: 384x640 3 cars, 24.3ms\n",
            "video 1/1 (frame 2841/4509) /content/cars.mp4: 384x640 3 cars, 24.3ms\n",
            "video 1/1 (frame 2842/4509) /content/cars.mp4: 384x640 3 cars, 24.3ms\n",
            "video 1/1 (frame 2843/4509) /content/cars.mp4: 384x640 3 cars, 24.3ms\n",
            "video 1/1 (frame 2844/4509) /content/cars.mp4: 384x640 2 cars, 24.3ms\n",
            "video 1/1 (frame 2845/4509) /content/cars.mp4: 384x640 3 cars, 24.3ms\n",
            "video 1/1 (frame 2846/4509) /content/cars.mp4: 384x640 3 cars, 24.3ms\n",
            "video 1/1 (frame 2847/4509) /content/cars.mp4: 384x640 4 cars, 24.3ms\n",
            "video 1/1 (frame 2848/4509) /content/cars.mp4: 384x640 4 cars, 24.3ms\n",
            "video 1/1 (frame 2849/4509) /content/cars.mp4: 384x640 3 cars, 24.3ms\n",
            "video 1/1 (frame 2850/4509) /content/cars.mp4: 384x640 4 cars, 24.3ms\n",
            "video 1/1 (frame 2851/4509) /content/cars.mp4: 384x640 4 cars, 24.5ms\n",
            "video 1/1 (frame 2852/4509) /content/cars.mp4: 384x640 2 cars, 24.4ms\n",
            "video 1/1 (frame 2853/4509) /content/cars.mp4: 384x640 3 cars, 24.3ms\n",
            "video 1/1 (frame 2854/4509) /content/cars.mp4: 384x640 5 cars, 24.3ms\n",
            "video 1/1 (frame 2855/4509) /content/cars.mp4: 384x640 5 cars, 24.3ms\n",
            "video 1/1 (frame 2856/4509) /content/cars.mp4: 384x640 5 cars, 24.3ms\n",
            "video 1/1 (frame 2857/4509) /content/cars.mp4: 384x640 4 cars, 24.3ms\n",
            "video 1/1 (frame 2858/4509) /content/cars.mp4: 384x640 3 cars, 24.3ms\n",
            "video 1/1 (frame 2859/4509) /content/cars.mp4: 384x640 5 cars, 24.3ms\n",
            "video 1/1 (frame 2860/4509) /content/cars.mp4: 384x640 4 cars, 24.3ms\n",
            "video 1/1 (frame 2861/4509) /content/cars.mp4: 384x640 4 cars, 24.3ms\n",
            "video 1/1 (frame 2862/4509) /content/cars.mp4: 384x640 4 cars, 24.3ms\n",
            "video 1/1 (frame 2863/4509) /content/cars.mp4: 384x640 5 cars, 24.3ms\n",
            "video 1/1 (frame 2864/4509) /content/cars.mp4: 384x640 5 cars, 24.3ms\n",
            "video 1/1 (frame 2865/4509) /content/cars.mp4: 384x640 5 cars, 24.3ms\n",
            "video 1/1 (frame 2866/4509) /content/cars.mp4: 384x640 5 cars, 24.3ms\n",
            "video 1/1 (frame 2867/4509) /content/cars.mp4: 384x640 5 cars, 24.3ms\n",
            "video 1/1 (frame 2868/4509) /content/cars.mp4: 384x640 4 cars, 24.3ms\n",
            "video 1/1 (frame 2869/4509) /content/cars.mp4: 384x640 5 cars, 29.3ms\n",
            "video 1/1 (frame 2870/4509) /content/cars.mp4: 384x640 5 cars, 24.3ms\n",
            "video 1/1 (frame 2871/4509) /content/cars.mp4: 384x640 5 cars, 24.3ms\n",
            "video 1/1 (frame 2872/4509) /content/cars.mp4: 384x640 5 cars, 24.9ms\n",
            "video 1/1 (frame 2873/4509) /content/cars.mp4: 384x640 4 cars, 24.3ms\n",
            "video 1/1 (frame 2874/4509) /content/cars.mp4: 384x640 4 cars, 24.3ms\n",
            "video 1/1 (frame 2875/4509) /content/cars.mp4: 384x640 4 cars, 25.5ms\n",
            "video 1/1 (frame 2876/4509) /content/cars.mp4: 384x640 4 cars, 24.4ms\n",
            "video 1/1 (frame 2877/4509) /content/cars.mp4: 384x640 4 cars, 32.8ms\n",
            "video 1/1 (frame 2878/4509) /content/cars.mp4: 384x640 4 cars, 24.3ms\n",
            "video 1/1 (frame 2879/4509) /content/cars.mp4: 384x640 6 cars, 24.3ms\n",
            "video 1/1 (frame 2880/4509) /content/cars.mp4: 384x640 6 cars, 24.3ms\n",
            "video 1/1 (frame 2881/4509) /content/cars.mp4: 384x640 5 cars, 28.1ms\n",
            "video 1/1 (frame 2882/4509) /content/cars.mp4: 384x640 5 cars, 27.7ms\n",
            "video 1/1 (frame 2883/4509) /content/cars.mp4: 384x640 5 cars, 1 truck, 24.3ms\n",
            "video 1/1 (frame 2884/4509) /content/cars.mp4: 384x640 5 cars, 27.1ms\n",
            "video 1/1 (frame 2885/4509) /content/cars.mp4: 384x640 5 cars, 24.3ms\n",
            "video 1/1 (frame 2886/4509) /content/cars.mp4: 384x640 6 cars, 29.6ms\n",
            "video 1/1 (frame 2887/4509) /content/cars.mp4: 384x640 5 cars, 1 truck, 31.6ms\n",
            "video 1/1 (frame 2888/4509) /content/cars.mp4: 384x640 5 cars, 1 truck, 25.5ms\n",
            "video 1/1 (frame 2889/4509) /content/cars.mp4: 384x640 5 cars, 1 truck, 24.8ms\n",
            "video 1/1 (frame 2890/4509) /content/cars.mp4: 384x640 5 cars, 1 truck, 27.4ms\n",
            "video 1/1 (frame 2891/4509) /content/cars.mp4: 384x640 6 cars, 1 truck, 25.7ms\n",
            "video 1/1 (frame 2892/4509) /content/cars.mp4: 384x640 6 cars, 1 truck, 25.2ms\n",
            "video 1/1 (frame 2893/4509) /content/cars.mp4: 384x640 6 cars, 1 truck, 29.9ms\n",
            "video 1/1 (frame 2894/4509) /content/cars.mp4: 384x640 6 cars, 1 truck, 26.5ms\n",
            "video 1/1 (frame 2895/4509) /content/cars.mp4: 384x640 7 cars, 1 truck, 24.3ms\n",
            "video 1/1 (frame 2896/4509) /content/cars.mp4: 384x640 7 cars, 1 truck, 24.3ms\n",
            "video 1/1 (frame 2897/4509) /content/cars.mp4: 384x640 7 cars, 1 truck, 24.4ms\n",
            "video 1/1 (frame 2898/4509) /content/cars.mp4: 384x640 7 cars, 1 truck, 24.3ms\n",
            "video 1/1 (frame 2899/4509) /content/cars.mp4: 384x640 7 cars, 1 truck, 24.3ms\n",
            "video 1/1 (frame 2900/4509) /content/cars.mp4: 384x640 6 cars, 2 trucks, 24.3ms\n",
            "video 1/1 (frame 2901/4509) /content/cars.mp4: 384x640 7 cars, 1 truck, 24.3ms\n",
            "video 1/1 (frame 2902/4509) /content/cars.mp4: 384x640 7 cars, 1 truck, 24.3ms\n",
            "video 1/1 (frame 2903/4509) /content/cars.mp4: 384x640 7 cars, 1 truck, 24.3ms\n",
            "video 1/1 (frame 2904/4509) /content/cars.mp4: 384x640 7 cars, 2 trucks, 24.3ms\n",
            "video 1/1 (frame 2905/4509) /content/cars.mp4: 384x640 7 cars, 2 trucks, 24.3ms\n",
            "video 1/1 (frame 2906/4509) /content/cars.mp4: 384x640 8 cars, 2 trucks, 24.3ms\n",
            "video 1/1 (frame 2907/4509) /content/cars.mp4: 384x640 8 cars, 2 trucks, 24.3ms\n",
            "video 1/1 (frame 2908/4509) /content/cars.mp4: 384x640 7 cars, 2 trucks, 24.3ms\n",
            "video 1/1 (frame 2909/4509) /content/cars.mp4: 384x640 7 cars, 2 trucks, 24.3ms\n",
            "video 1/1 (frame 2910/4509) /content/cars.mp4: 384x640 8 cars, 2 trucks, 24.3ms\n",
            "video 1/1 (frame 2911/4509) /content/cars.mp4: 384x640 8 cars, 2 trucks, 24.3ms\n",
            "video 1/1 (frame 2912/4509) /content/cars.mp4: 384x640 8 cars, 2 trucks, 24.3ms\n",
            "video 1/1 (frame 2913/4509) /content/cars.mp4: 384x640 1 person, 8 cars, 2 trucks, 24.3ms\n",
            "video 1/1 (frame 2914/4509) /content/cars.mp4: 384x640 8 cars, 2 trucks, 24.3ms\n",
            "video 1/1 (frame 2915/4509) /content/cars.mp4: 384x640 8 cars, 1 truck, 24.3ms\n",
            "video 1/1 (frame 2916/4509) /content/cars.mp4: 384x640 9 cars, 2 trucks, 24.3ms\n",
            "video 1/1 (frame 2917/4509) /content/cars.mp4: 384x640 9 cars, 1 truck, 24.3ms\n",
            "video 1/1 (frame 2918/4509) /content/cars.mp4: 384x640 8 cars, 2 trucks, 24.3ms\n",
            "video 1/1 (frame 2919/4509) /content/cars.mp4: 384x640 8 cars, 1 truck, 24.3ms\n",
            "video 1/1 (frame 2920/4509) /content/cars.mp4: 384x640 9 cars, 1 truck, 24.3ms\n",
            "video 1/1 (frame 2921/4509) /content/cars.mp4: 384x640 8 cars, 1 truck, 24.3ms\n",
            "video 1/1 (frame 2922/4509) /content/cars.mp4: 384x640 8 cars, 2 trucks, 24.3ms\n",
            "video 1/1 (frame 2923/4509) /content/cars.mp4: 384x640 9 cars, 1 truck, 24.3ms\n",
            "video 1/1 (frame 2924/4509) /content/cars.mp4: 384x640 8 cars, 2 trucks, 24.3ms\n",
            "video 1/1 (frame 2925/4509) /content/cars.mp4: 384x640 8 cars, 2 trucks, 24.3ms\n",
            "video 1/1 (frame 2926/4509) /content/cars.mp4: 384x640 9 cars, 2 trucks, 24.3ms\n",
            "video 1/1 (frame 2927/4509) /content/cars.mp4: 384x640 9 cars, 2 trucks, 24.3ms\n",
            "video 1/1 (frame 2928/4509) /content/cars.mp4: 384x640 8 cars, 24.3ms\n",
            "video 1/1 (frame 2929/4509) /content/cars.mp4: 384x640 8 cars, 1 truck, 24.3ms\n",
            "video 1/1 (frame 2930/4509) /content/cars.mp4: 384x640 8 cars, 24.3ms\n",
            "video 1/1 (frame 2931/4509) /content/cars.mp4: 384x640 8 cars, 24.3ms\n",
            "video 1/1 (frame 2932/4509) /content/cars.mp4: 384x640 8 cars, 1 truck, 24.3ms\n",
            "video 1/1 (frame 2933/4509) /content/cars.mp4: 384x640 7 cars, 1 truck, 24.3ms\n",
            "video 1/1 (frame 2934/4509) /content/cars.mp4: 384x640 8 cars, 1 truck, 24.3ms\n",
            "video 1/1 (frame 2935/4509) /content/cars.mp4: 384x640 8 cars, 1 truck, 24.3ms\n",
            "video 1/1 (frame 2936/4509) /content/cars.mp4: 384x640 8 cars, 1 truck, 24.3ms\n",
            "video 1/1 (frame 2937/4509) /content/cars.mp4: 384x640 8 cars, 24.3ms\n",
            "video 1/1 (frame 2938/4509) /content/cars.mp4: 384x640 7 cars, 1 truck, 25.6ms\n",
            "video 1/1 (frame 2939/4509) /content/cars.mp4: 384x640 7 cars, 24.3ms\n",
            "video 1/1 (frame 2940/4509) /content/cars.mp4: 384x640 8 cars, 24.3ms\n",
            "video 1/1 (frame 2941/4509) /content/cars.mp4: 384x640 8 cars, 1 truck, 24.3ms\n",
            "video 1/1 (frame 2942/4509) /content/cars.mp4: 384x640 9 cars, 1 truck, 24.3ms\n",
            "video 1/1 (frame 2943/4509) /content/cars.mp4: 384x640 9 cars, 24.3ms\n",
            "video 1/1 (frame 2944/4509) /content/cars.mp4: 384x640 9 cars, 24.3ms\n",
            "video 1/1 (frame 2945/4509) /content/cars.mp4: 384x640 9 cars, 24.3ms\n",
            "video 1/1 (frame 2946/4509) /content/cars.mp4: 384x640 10 cars, 24.3ms\n",
            "video 1/1 (frame 2947/4509) /content/cars.mp4: 384x640 10 cars, 24.3ms\n",
            "video 1/1 (frame 2948/4509) /content/cars.mp4: 384x640 10 cars, 24.3ms\n",
            "video 1/1 (frame 2949/4509) /content/cars.mp4: 384x640 10 cars, 24.3ms\n",
            "video 1/1 (frame 2950/4509) /content/cars.mp4: 384x640 9 cars, 30.2ms\n",
            "video 1/1 (frame 2951/4509) /content/cars.mp4: 384x640 9 cars, 24.3ms\n",
            "video 1/1 (frame 2952/4509) /content/cars.mp4: 384x640 9 cars, 24.3ms\n",
            "video 1/1 (frame 2953/4509) /content/cars.mp4: 384x640 10 cars, 1 truck, 24.3ms\n",
            "video 1/1 (frame 2954/4509) /content/cars.mp4: 384x640 9 cars, 24.3ms\n",
            "video 1/1 (frame 2955/4509) /content/cars.mp4: 384x640 9 cars, 24.3ms\n",
            "video 1/1 (frame 2956/4509) /content/cars.mp4: 384x640 9 cars, 24.3ms\n",
            "video 1/1 (frame 2957/4509) /content/cars.mp4: 384x640 8 cars, 24.3ms\n",
            "video 1/1 (frame 2958/4509) /content/cars.mp4: 384x640 8 cars, 24.3ms\n",
            "video 1/1 (frame 2959/4509) /content/cars.mp4: 384x640 8 cars, 24.3ms\n",
            "video 1/1 (frame 2960/4509) /content/cars.mp4: 384x640 8 cars, 24.3ms\n",
            "video 1/1 (frame 2961/4509) /content/cars.mp4: 384x640 8 cars, 24.3ms\n",
            "video 1/1 (frame 2962/4509) /content/cars.mp4: 384x640 9 cars, 24.3ms\n",
            "video 1/1 (frame 2963/4509) /content/cars.mp4: 384x640 9 cars, 24.3ms\n",
            "video 1/1 (frame 2964/4509) /content/cars.mp4: 384x640 9 cars, 24.3ms\n",
            "video 1/1 (frame 2965/4509) /content/cars.mp4: 384x640 9 cars, 24.3ms\n",
            "video 1/1 (frame 2966/4509) /content/cars.mp4: 384x640 8 cars, 24.3ms\n",
            "video 1/1 (frame 2967/4509) /content/cars.mp4: 384x640 8 cars, 24.3ms\n",
            "video 1/1 (frame 2968/4509) /content/cars.mp4: 384x640 9 cars, 24.3ms\n",
            "video 1/1 (frame 2969/4509) /content/cars.mp4: 384x640 9 cars, 24.3ms\n",
            "video 1/1 (frame 2970/4509) /content/cars.mp4: 384x640 9 cars, 24.3ms\n",
            "video 1/1 (frame 2971/4509) /content/cars.mp4: 384x640 9 cars, 24.3ms\n",
            "video 1/1 (frame 2972/4509) /content/cars.mp4: 384x640 9 cars, 24.3ms\n",
            "video 1/1 (frame 2973/4509) /content/cars.mp4: 384x640 9 cars, 24.3ms\n",
            "video 1/1 (frame 2974/4509) /content/cars.mp4: 384x640 8 cars, 24.3ms\n",
            "video 1/1 (frame 2975/4509) /content/cars.mp4: 384x640 8 cars, 24.3ms\n",
            "video 1/1 (frame 2976/4509) /content/cars.mp4: 384x640 11 cars, 24.3ms\n",
            "video 1/1 (frame 2977/4509) /content/cars.mp4: 384x640 11 cars, 24.3ms\n",
            "video 1/1 (frame 2978/4509) /content/cars.mp4: 384x640 10 cars, 24.3ms\n",
            "video 1/1 (frame 2979/4509) /content/cars.mp4: 384x640 9 cars, 24.3ms\n",
            "video 1/1 (frame 2980/4509) /content/cars.mp4: 384x640 8 cars, 24.3ms\n",
            "video 1/1 (frame 2981/4509) /content/cars.mp4: 384x640 9 cars, 24.3ms\n",
            "video 1/1 (frame 2982/4509) /content/cars.mp4: 384x640 10 cars, 24.3ms\n",
            "video 1/1 (frame 2983/4509) /content/cars.mp4: 384x640 9 cars, 24.4ms\n",
            "video 1/1 (frame 2984/4509) /content/cars.mp4: 384x640 9 cars, 2 trucks, 24.3ms\n",
            "video 1/1 (frame 2985/4509) /content/cars.mp4: 384x640 10 cars, 1 truck, 24.3ms\n",
            "video 1/1 (frame 2986/4509) /content/cars.mp4: 384x640 8 cars, 1 truck, 24.3ms\n",
            "video 1/1 (frame 2987/4509) /content/cars.mp4: 384x640 9 cars, 1 truck, 24.3ms\n",
            "video 1/1 (frame 2988/4509) /content/cars.mp4: 384x640 8 cars, 2 trucks, 24.3ms\n",
            "video 1/1 (frame 2989/4509) /content/cars.mp4: 384x640 8 cars, 1 truck, 24.3ms\n",
            "video 1/1 (frame 2990/4509) /content/cars.mp4: 384x640 10 cars, 1 truck, 24.3ms\n",
            "video 1/1 (frame 2991/4509) /content/cars.mp4: 384x640 9 cars, 2 trucks, 26.1ms\n",
            "video 1/1 (frame 2992/4509) /content/cars.mp4: 384x640 10 cars, 24.5ms\n",
            "video 1/1 (frame 2993/4509) /content/cars.mp4: 384x640 9 cars, 24.3ms\n",
            "video 1/1 (frame 2994/4509) /content/cars.mp4: 384x640 8 cars, 3 trucks, 24.3ms\n",
            "video 1/1 (frame 2995/4509) /content/cars.mp4: 384x640 9 cars, 1 truck, 24.3ms\n",
            "video 1/1 (frame 2996/4509) /content/cars.mp4: 384x640 8 cars, 24.3ms\n",
            "video 1/1 (frame 2997/4509) /content/cars.mp4: 384x640 7 cars, 1 truck, 24.3ms\n",
            "video 1/1 (frame 2998/4509) /content/cars.mp4: 384x640 7 cars, 1 truck, 24.4ms\n",
            "video 1/1 (frame 2999/4509) /content/cars.mp4: 384x640 10 cars, 24.3ms\n",
            "video 1/1 (frame 3000/4509) /content/cars.mp4: 384x640 8 cars, 24.3ms\n",
            "video 1/1 (frame 3001/4509) /content/cars.mp4: 384x640 8 cars, 1 truck, 24.3ms\n",
            "video 1/1 (frame 3002/4509) /content/cars.mp4: 384x640 7 cars, 24.3ms\n",
            "video 1/1 (frame 3003/4509) /content/cars.mp4: 384x640 7 cars, 24.3ms\n",
            "video 1/1 (frame 3004/4509) /content/cars.mp4: 384x640 9 cars, 24.3ms\n",
            "video 1/1 (frame 3005/4509) /content/cars.mp4: 384x640 7 cars, 24.3ms\n",
            "video 1/1 (frame 3006/4509) /content/cars.mp4: 384x640 6 cars, 24.3ms\n",
            "video 1/1 (frame 3007/4509) /content/cars.mp4: 384x640 6 cars, 24.3ms\n",
            "video 1/1 (frame 3008/4509) /content/cars.mp4: 384x640 5 cars, 1 bus, 1 truck, 24.3ms\n",
            "video 1/1 (frame 3009/4509) /content/cars.mp4: 384x640 7 cars, 1 truck, 24.3ms\n",
            "video 1/1 (frame 3010/4509) /content/cars.mp4: 384x640 9 cars, 1 truck, 26.6ms\n",
            "video 1/1 (frame 3011/4509) /content/cars.mp4: 384x640 10 cars, 24.3ms\n",
            "video 1/1 (frame 3012/4509) /content/cars.mp4: 384x640 10 cars, 1 truck, 24.3ms\n",
            "video 1/1 (frame 3013/4509) /content/cars.mp4: 384x640 9 cars, 24.3ms\n",
            "video 1/1 (frame 3014/4509) /content/cars.mp4: 384x640 9 cars, 24.3ms\n",
            "video 1/1 (frame 3015/4509) /content/cars.mp4: 384x640 10 cars, 28.5ms\n",
            "video 1/1 (frame 3016/4509) /content/cars.mp4: 384x640 10 cars, 1 truck, 24.3ms\n",
            "video 1/1 (frame 3017/4509) /content/cars.mp4: 384x640 10 cars, 28.4ms\n",
            "video 1/1 (frame 3018/4509) /content/cars.mp4: 384x640 10 cars, 24.3ms\n",
            "video 1/1 (frame 3019/4509) /content/cars.mp4: 384x640 10 cars, 24.3ms\n",
            "video 1/1 (frame 3020/4509) /content/cars.mp4: 384x640 9 cars, 1 truck, 24.3ms\n",
            "video 1/1 (frame 3021/4509) /content/cars.mp4: 384x640 7 cars, 1 truck, 24.3ms\n",
            "video 1/1 (frame 3022/4509) /content/cars.mp4: 384x640 7 cars, 24.4ms\n",
            "video 1/1 (frame 3023/4509) /content/cars.mp4: 384x640 9 cars, 36.0ms\n",
            "video 1/1 (frame 3024/4509) /content/cars.mp4: 384x640 8 cars, 24.3ms\n",
            "video 1/1 (frame 3025/4509) /content/cars.mp4: 384x640 7 cars, 24.3ms\n",
            "video 1/1 (frame 3026/4509) /content/cars.mp4: 384x640 8 cars, 30.1ms\n",
            "video 1/1 (frame 3027/4509) /content/cars.mp4: 384x640 7 cars, 24.3ms\n",
            "video 1/1 (frame 3028/4509) /content/cars.mp4: 384x640 9 cars, 24.3ms\n",
            "video 1/1 (frame 3029/4509) /content/cars.mp4: 384x640 9 cars, 24.3ms\n",
            "video 1/1 (frame 3030/4509) /content/cars.mp4: 384x640 9 cars, 24.3ms\n",
            "video 1/1 (frame 3031/4509) /content/cars.mp4: 384x640 10 cars, 24.3ms\n",
            "video 1/1 (frame 3032/4509) /content/cars.mp4: 384x640 10 cars, 29.4ms\n",
            "video 1/1 (frame 3033/4509) /content/cars.mp4: 384x640 10 cars, 24.3ms\n",
            "video 1/1 (frame 3034/4509) /content/cars.mp4: 384x640 12 cars, 24.3ms\n",
            "video 1/1 (frame 3035/4509) /content/cars.mp4: 384x640 11 cars, 24.3ms\n",
            "video 1/1 (frame 3036/4509) /content/cars.mp4: 384x640 9 cars, 24.3ms\n",
            "video 1/1 (frame 3037/4509) /content/cars.mp4: 384x640 10 cars, 24.3ms\n",
            "video 1/1 (frame 3038/4509) /content/cars.mp4: 384x640 9 cars, 24.3ms\n",
            "video 1/1 (frame 3039/4509) /content/cars.mp4: 384x640 9 cars, 24.3ms\n",
            "video 1/1 (frame 3040/4509) /content/cars.mp4: 384x640 9 cars, 24.3ms\n",
            "video 1/1 (frame 3041/4509) /content/cars.mp4: 384x640 9 cars, 24.3ms\n",
            "video 1/1 (frame 3042/4509) /content/cars.mp4: 384x640 10 cars, 24.3ms\n",
            "video 1/1 (frame 3043/4509) /content/cars.mp4: 384x640 11 cars, 24.3ms\n",
            "video 1/1 (frame 3044/4509) /content/cars.mp4: 384x640 11 cars, 24.3ms\n",
            "video 1/1 (frame 3045/4509) /content/cars.mp4: 384x640 12 cars, 28.7ms\n",
            "video 1/1 (frame 3046/4509) /content/cars.mp4: 384x640 12 cars, 24.3ms\n",
            "video 1/1 (frame 3047/4509) /content/cars.mp4: 384x640 10 cars, 24.3ms\n",
            "video 1/1 (frame 3048/4509) /content/cars.mp4: 384x640 10 cars, 24.4ms\n",
            "video 1/1 (frame 3049/4509) /content/cars.mp4: 384x640 10 cars, 24.3ms\n",
            "video 1/1 (frame 3050/4509) /content/cars.mp4: 384x640 10 cars, 24.3ms\n",
            "video 1/1 (frame 3051/4509) /content/cars.mp4: 384x640 10 cars, 24.3ms\n",
            "video 1/1 (frame 3052/4509) /content/cars.mp4: 384x640 9 cars, 24.3ms\n",
            "video 1/1 (frame 3053/4509) /content/cars.mp4: 384x640 9 cars, 24.3ms\n",
            "video 1/1 (frame 3054/4509) /content/cars.mp4: 384x640 12 cars, 24.3ms\n",
            "video 1/1 (frame 3055/4509) /content/cars.mp4: 384x640 10 cars, 24.3ms\n",
            "video 1/1 (frame 3056/4509) /content/cars.mp4: 384x640 11 cars, 24.3ms\n",
            "video 1/1 (frame 3057/4509) /content/cars.mp4: 384x640 11 cars, 24.3ms\n",
            "video 1/1 (frame 3058/4509) /content/cars.mp4: 384x640 11 cars, 24.3ms\n",
            "video 1/1 (frame 3059/4509) /content/cars.mp4: 384x640 10 cars, 25.7ms\n",
            "video 1/1 (frame 3060/4509) /content/cars.mp4: 384x640 8 cars, 24.3ms\n",
            "video 1/1 (frame 3061/4509) /content/cars.mp4: 384x640 9 cars, 24.3ms\n",
            "video 1/1 (frame 3062/4509) /content/cars.mp4: 384x640 9 cars, 24.3ms\n",
            "video 1/1 (frame 3063/4509) /content/cars.mp4: 384x640 10 cars, 24.3ms\n",
            "video 1/1 (frame 3064/4509) /content/cars.mp4: 384x640 10 cars, 24.3ms\n",
            "video 1/1 (frame 3065/4509) /content/cars.mp4: 384x640 10 cars, 24.3ms\n",
            "video 1/1 (frame 3066/4509) /content/cars.mp4: 384x640 10 cars, 34.3ms\n",
            "video 1/1 (frame 3067/4509) /content/cars.mp4: 384x640 10 cars, 25.8ms\n",
            "video 1/1 (frame 3068/4509) /content/cars.mp4: 384x640 11 cars, 24.3ms\n",
            "video 1/1 (frame 3069/4509) /content/cars.mp4: 384x640 11 cars, 24.3ms\n",
            "video 1/1 (frame 3070/4509) /content/cars.mp4: 384x640 10 cars, 24.3ms\n",
            "video 1/1 (frame 3071/4509) /content/cars.mp4: 384x640 10 cars, 24.3ms\n",
            "video 1/1 (frame 3072/4509) /content/cars.mp4: 384x640 10 cars, 24.3ms\n",
            "video 1/1 (frame 3073/4509) /content/cars.mp4: 384x640 10 cars, 24.3ms\n",
            "video 1/1 (frame 3074/4509) /content/cars.mp4: 384x640 9 cars, 24.3ms\n",
            "video 1/1 (frame 3075/4509) /content/cars.mp4: 384x640 10 cars, 1 truck, 24.3ms\n",
            "video 1/1 (frame 3076/4509) /content/cars.mp4: 384x640 9 cars, 24.3ms\n",
            "video 1/1 (frame 3077/4509) /content/cars.mp4: 384x640 9 cars, 1 truck, 25.8ms\n",
            "video 1/1 (frame 3078/4509) /content/cars.mp4: 384x640 10 cars, 24.3ms\n",
            "video 1/1 (frame 3079/4509) /content/cars.mp4: 384x640 10 cars, 24.3ms\n",
            "video 1/1 (frame 3080/4509) /content/cars.mp4: 384x640 10 cars, 24.4ms\n",
            "video 1/1 (frame 3081/4509) /content/cars.mp4: 384x640 9 cars, 24.4ms\n",
            "video 1/1 (frame 3082/4509) /content/cars.mp4: 384x640 10 cars, 24.3ms\n",
            "video 1/1 (frame 3083/4509) /content/cars.mp4: 384x640 10 cars, 1 truck, 24.3ms\n",
            "video 1/1 (frame 3084/4509) /content/cars.mp4: 384x640 10 cars, 24.3ms\n",
            "video 1/1 (frame 3085/4509) /content/cars.mp4: 384x640 10 cars, 24.3ms\n",
            "video 1/1 (frame 3086/4509) /content/cars.mp4: 384x640 10 cars, 24.3ms\n",
            "video 1/1 (frame 3087/4509) /content/cars.mp4: 384x640 9 cars, 1 truck, 24.3ms\n",
            "video 1/1 (frame 3088/4509) /content/cars.mp4: 384x640 8 cars, 24.3ms\n",
            "video 1/1 (frame 3089/4509) /content/cars.mp4: 384x640 8 cars, 24.3ms\n",
            "video 1/1 (frame 3090/4509) /content/cars.mp4: 384x640 9 cars, 1 truck, 24.5ms\n",
            "video 1/1 (frame 3091/4509) /content/cars.mp4: 384x640 8 cars, 1 truck, 24.3ms\n",
            "video 1/1 (frame 3092/4509) /content/cars.mp4: 384x640 7 cars, 1 truck, 24.4ms\n",
            "video 1/1 (frame 3093/4509) /content/cars.mp4: 384x640 8 cars, 1 truck, 24.3ms\n",
            "video 1/1 (frame 3094/4509) /content/cars.mp4: 384x640 6 cars, 1 truck, 24.3ms\n",
            "video 1/1 (frame 3095/4509) /content/cars.mp4: 384x640 8 cars, 2 trucks, 24.3ms\n",
            "video 1/1 (frame 3096/4509) /content/cars.mp4: 384x640 9 cars, 1 truck, 24.4ms\n",
            "video 1/1 (frame 3097/4509) /content/cars.mp4: 384x640 10 cars, 24.3ms\n",
            "video 1/1 (frame 3098/4509) /content/cars.mp4: 384x640 8 cars, 1 truck, 24.3ms\n",
            "video 1/1 (frame 3099/4509) /content/cars.mp4: 384x640 9 cars, 24.3ms\n",
            "video 1/1 (frame 3100/4509) /content/cars.mp4: 384x640 9 cars, 1 truck, 24.3ms\n",
            "video 1/1 (frame 3101/4509) /content/cars.mp4: 384x640 9 cars, 24.3ms\n",
            "video 1/1 (frame 3102/4509) /content/cars.mp4: 384x640 9 cars, 25.5ms\n",
            "video 1/1 (frame 3103/4509) /content/cars.mp4: 384x640 10 cars, 1 truck, 24.3ms\n",
            "video 1/1 (frame 3104/4509) /content/cars.mp4: 384x640 10 cars, 1 truck, 24.3ms\n",
            "video 1/1 (frame 3105/4509) /content/cars.mp4: 384x640 11 cars, 24.3ms\n",
            "video 1/1 (frame 3106/4509) /content/cars.mp4: 384x640 9 cars, 1 truck, 24.3ms\n",
            "video 1/1 (frame 3107/4509) /content/cars.mp4: 384x640 7 cars, 24.3ms\n",
            "video 1/1 (frame 3108/4509) /content/cars.mp4: 384x640 9 cars, 1 truck, 24.3ms\n",
            "video 1/1 (frame 3109/4509) /content/cars.mp4: 384x640 9 cars, 24.3ms\n",
            "video 1/1 (frame 3110/4509) /content/cars.mp4: 384x640 10 cars, 24.3ms\n",
            "video 1/1 (frame 3111/4509) /content/cars.mp4: 384x640 12 cars, 24.3ms\n",
            "video 1/1 (frame 3112/4509) /content/cars.mp4: 384x640 11 cars, 24.3ms\n",
            "video 1/1 (frame 3113/4509) /content/cars.mp4: 384x640 12 cars, 24.6ms\n",
            "video 1/1 (frame 3114/4509) /content/cars.mp4: 384x640 12 cars, 24.3ms\n",
            "video 1/1 (frame 3115/4509) /content/cars.mp4: 384x640 13 cars, 24.3ms\n",
            "video 1/1 (frame 3116/4509) /content/cars.mp4: 384x640 12 cars, 24.3ms\n",
            "video 1/1 (frame 3117/4509) /content/cars.mp4: 384x640 8 cars, 1 truck, 24.3ms\n",
            "video 1/1 (frame 3118/4509) /content/cars.mp4: 384x640 8 cars, 1 truck, 24.3ms\n",
            "video 1/1 (frame 3119/4509) /content/cars.mp4: 384x640 10 cars, 24.3ms\n",
            "video 1/1 (frame 3120/4509) /content/cars.mp4: 384x640 8 cars, 24.3ms\n",
            "video 1/1 (frame 3121/4509) /content/cars.mp4: 384x640 7 cars, 24.3ms\n",
            "video 1/1 (frame 3122/4509) /content/cars.mp4: 384x640 7 cars, 24.3ms\n",
            "video 1/1 (frame 3123/4509) /content/cars.mp4: 384x640 7 cars, 24.3ms\n",
            "video 1/1 (frame 3124/4509) /content/cars.mp4: 384x640 8 cars, 24.3ms\n",
            "video 1/1 (frame 3125/4509) /content/cars.mp4: 384x640 7 cars, 24.3ms\n",
            "video 1/1 (frame 3126/4509) /content/cars.mp4: 384x640 7 cars, 1 truck, 24.3ms\n",
            "video 1/1 (frame 3127/4509) /content/cars.mp4: 384x640 8 cars, 24.3ms\n",
            "video 1/1 (frame 3128/4509) /content/cars.mp4: 384x640 7 cars, 24.3ms\n",
            "video 1/1 (frame 3129/4509) /content/cars.mp4: 384x640 5 cars, 3 trucks, 24.3ms\n",
            "video 1/1 (frame 3130/4509) /content/cars.mp4: 384x640 7 cars, 1 truck, 24.3ms\n",
            "video 1/1 (frame 3131/4509) /content/cars.mp4: 384x640 8 cars, 1 truck, 24.3ms\n",
            "video 1/1 (frame 3132/4509) /content/cars.mp4: 384x640 8 cars, 24.3ms\n",
            "video 1/1 (frame 3133/4509) /content/cars.mp4: 384x640 7 cars, 1 truck, 24.3ms\n",
            "video 1/1 (frame 3134/4509) /content/cars.mp4: 384x640 7 cars, 24.3ms\n",
            "video 1/1 (frame 3135/4509) /content/cars.mp4: 384x640 7 cars, 2 trucks, 24.3ms\n",
            "video 1/1 (frame 3136/4509) /content/cars.mp4: 384x640 8 cars, 24.3ms\n",
            "video 1/1 (frame 3137/4509) /content/cars.mp4: 384x640 7 cars, 1 truck, 24.3ms\n",
            "video 1/1 (frame 3138/4509) /content/cars.mp4: 384x640 9 cars, 1 truck, 24.3ms\n",
            "video 1/1 (frame 3139/4509) /content/cars.mp4: 384x640 6 cars, 2 trucks, 24.3ms\n",
            "video 1/1 (frame 3140/4509) /content/cars.mp4: 384x640 6 cars, 2 trucks, 24.3ms\n",
            "video 1/1 (frame 3141/4509) /content/cars.mp4: 384x640 7 cars, 2 trucks, 24.3ms\n",
            "video 1/1 (frame 3142/4509) /content/cars.mp4: 384x640 8 cars, 1 truck, 24.3ms\n",
            "video 1/1 (frame 3143/4509) /content/cars.mp4: 384x640 9 cars, 2 trucks, 24.4ms\n",
            "video 1/1 (frame 3144/4509) /content/cars.mp4: 384x640 7 cars, 2 trucks, 24.3ms\n",
            "video 1/1 (frame 3145/4509) /content/cars.mp4: 384x640 6 cars, 2 trucks, 24.3ms\n",
            "video 1/1 (frame 3146/4509) /content/cars.mp4: 384x640 7 cars, 2 trucks, 25.8ms\n",
            "video 1/1 (frame 3147/4509) /content/cars.mp4: 384x640 6 cars, 1 truck, 24.4ms\n",
            "video 1/1 (frame 3148/4509) /content/cars.mp4: 384x640 8 cars, 1 truck, 24.4ms\n",
            "video 1/1 (frame 3149/4509) /content/cars.mp4: 384x640 6 cars, 3 trucks, 25.1ms\n",
            "video 1/1 (frame 3150/4509) /content/cars.mp4: 384x640 7 cars, 3 trucks, 24.3ms\n",
            "video 1/1 (frame 3151/4509) /content/cars.mp4: 384x640 8 cars, 5 trucks, 29.9ms\n",
            "video 1/1 (frame 3152/4509) /content/cars.mp4: 384x640 5 cars, 5 trucks, 24.3ms\n",
            "video 1/1 (frame 3153/4509) /content/cars.mp4: 384x640 7 cars, 4 trucks, 26.2ms\n",
            "video 1/1 (frame 3154/4509) /content/cars.mp4: 384x640 7 cars, 4 trucks, 24.3ms\n",
            "video 1/1 (frame 3155/4509) /content/cars.mp4: 384x640 7 cars, 3 trucks, 24.3ms\n",
            "video 1/1 (frame 3156/4509) /content/cars.mp4: 384x640 6 cars, 4 trucks, 34.9ms\n",
            "video 1/1 (frame 3157/4509) /content/cars.mp4: 384x640 8 cars, 4 trucks, 24.3ms\n",
            "video 1/1 (frame 3158/4509) /content/cars.mp4: 384x640 7 cars, 3 trucks, 27.7ms\n",
            "video 1/1 (frame 3159/4509) /content/cars.mp4: 384x640 6 cars, 3 trucks, 24.3ms\n",
            "video 1/1 (frame 3160/4509) /content/cars.mp4: 384x640 5 cars, 3 trucks, 33.5ms\n",
            "video 1/1 (frame 3161/4509) /content/cars.mp4: 384x640 4 cars, 3 trucks, 30.2ms\n",
            "video 1/1 (frame 3162/4509) /content/cars.mp4: 384x640 5 cars, 3 trucks, 24.3ms\n",
            "video 1/1 (frame 3163/4509) /content/cars.mp4: 384x640 6 cars, 4 trucks, 27.7ms\n",
            "video 1/1 (frame 3164/4509) /content/cars.mp4: 384x640 5 cars, 4 trucks, 26.0ms\n",
            "video 1/1 (frame 3165/4509) /content/cars.mp4: 384x640 8 cars, 4 trucks, 24.3ms\n",
            "video 1/1 (frame 3166/4509) /content/cars.mp4: 384x640 6 cars, 3 trucks, 32.8ms\n",
            "video 1/1 (frame 3167/4509) /content/cars.mp4: 384x640 6 cars, 4 trucks, 47.8ms\n",
            "video 1/1 (frame 3168/4509) /content/cars.mp4: 384x640 6 cars, 3 trucks, 28.9ms\n",
            "video 1/1 (frame 3169/4509) /content/cars.mp4: 384x640 8 cars, 4 trucks, 24.3ms\n",
            "video 1/1 (frame 3170/4509) /content/cars.mp4: 384x640 8 cars, 3 trucks, 24.3ms\n",
            "video 1/1 (frame 3171/4509) /content/cars.mp4: 384x640 9 cars, 3 trucks, 24.3ms\n",
            "video 1/1 (frame 3172/4509) /content/cars.mp4: 384x640 9 cars, 3 trucks, 24.3ms\n",
            "video 1/1 (frame 3173/4509) /content/cars.mp4: 384x640 9 cars, 3 trucks, 24.3ms\n",
            "video 1/1 (frame 3174/4509) /content/cars.mp4: 384x640 10 cars, 2 trucks, 24.3ms\n",
            "video 1/1 (frame 3175/4509) /content/cars.mp4: 384x640 8 cars, 3 trucks, 24.3ms\n",
            "video 1/1 (frame 3176/4509) /content/cars.mp4: 384x640 10 cars, 2 trucks, 24.3ms\n",
            "video 1/1 (frame 3177/4509) /content/cars.mp4: 384x640 7 cars, 2 trucks, 24.3ms\n",
            "video 1/1 (frame 3178/4509) /content/cars.mp4: 384x640 8 cars, 2 trucks, 24.3ms\n",
            "video 1/1 (frame 3179/4509) /content/cars.mp4: 384x640 6 cars, 2 trucks, 24.3ms\n",
            "video 1/1 (frame 3180/4509) /content/cars.mp4: 384x640 5 cars, 3 trucks, 26.3ms\n",
            "video 1/1 (frame 3181/4509) /content/cars.mp4: 384x640 7 cars, 2 trucks, 24.3ms\n",
            "video 1/1 (frame 3182/4509) /content/cars.mp4: 384x640 7 cars, 2 trucks, 24.3ms\n",
            "video 1/1 (frame 3183/4509) /content/cars.mp4: 384x640 7 cars, 2 trucks, 24.9ms\n",
            "video 1/1 (frame 3184/4509) /content/cars.mp4: 384x640 5 cars, 4 trucks, 30.4ms\n",
            "video 1/1 (frame 3185/4509) /content/cars.mp4: 384x640 6 cars, 2 trucks, 24.3ms\n",
            "video 1/1 (frame 3186/4509) /content/cars.mp4: 384x640 6 cars, 2 trucks, 24.3ms\n",
            "video 1/1 (frame 3187/4509) /content/cars.mp4: 384x640 6 cars, 2 trucks, 24.3ms\n",
            "video 1/1 (frame 3188/4509) /content/cars.mp4: 384x640 6 cars, 2 trucks, 24.3ms\n",
            "video 1/1 (frame 3189/4509) /content/cars.mp4: 384x640 6 cars, 4 trucks, 24.3ms\n",
            "video 1/1 (frame 3190/4509) /content/cars.mp4: 384x640 6 cars, 2 trucks, 24.3ms\n",
            "video 1/1 (frame 3191/4509) /content/cars.mp4: 384x640 7 cars, 3 trucks, 24.3ms\n",
            "video 1/1 (frame 3192/4509) /content/cars.mp4: 384x640 8 cars, 1 truck, 24.3ms\n",
            "video 1/1 (frame 3193/4509) /content/cars.mp4: 384x640 9 cars, 1 truck, 24.3ms\n",
            "video 1/1 (frame 3194/4509) /content/cars.mp4: 384x640 8 cars, 2 trucks, 24.3ms\n",
            "video 1/1 (frame 3195/4509) /content/cars.mp4: 384x640 7 cars, 2 trucks, 24.3ms\n",
            "video 1/1 (frame 3196/4509) /content/cars.mp4: 384x640 8 cars, 1 truck, 24.3ms\n",
            "video 1/1 (frame 3197/4509) /content/cars.mp4: 384x640 9 cars, 2 trucks, 24.3ms\n",
            "video 1/1 (frame 3198/4509) /content/cars.mp4: 384x640 9 cars, 2 trucks, 24.3ms\n",
            "video 1/1 (frame 3199/4509) /content/cars.mp4: 384x640 9 cars, 1 truck, 24.3ms\n",
            "video 1/1 (frame 3200/4509) /content/cars.mp4: 384x640 10 cars, 24.6ms\n",
            "video 1/1 (frame 3201/4509) /content/cars.mp4: 384x640 11 cars, 24.3ms\n",
            "video 1/1 (frame 3202/4509) /content/cars.mp4: 384x640 11 cars, 1 truck, 24.3ms\n",
            "video 1/1 (frame 3203/4509) /content/cars.mp4: 384x640 11 cars, 25.8ms\n",
            "video 1/1 (frame 3204/4509) /content/cars.mp4: 384x640 11 cars, 24.3ms\n",
            "video 1/1 (frame 3205/4509) /content/cars.mp4: 384x640 11 cars, 24.3ms\n",
            "video 1/1 (frame 3206/4509) /content/cars.mp4: 384x640 10 cars, 24.3ms\n",
            "video 1/1 (frame 3207/4509) /content/cars.mp4: 384x640 10 cars, 24.3ms\n",
            "video 1/1 (frame 3208/4509) /content/cars.mp4: 384x640 9 cars, 25.8ms\n",
            "video 1/1 (frame 3209/4509) /content/cars.mp4: 384x640 9 cars, 24.3ms\n",
            "video 1/1 (frame 3210/4509) /content/cars.mp4: 384x640 9 cars, 24.3ms\n",
            "video 1/1 (frame 3211/4509) /content/cars.mp4: 384x640 12 cars, 24.3ms\n",
            "video 1/1 (frame 3212/4509) /content/cars.mp4: 384x640 11 cars, 24.3ms\n",
            "video 1/1 (frame 3213/4509) /content/cars.mp4: 384x640 9 cars, 24.3ms\n",
            "video 1/1 (frame 3214/4509) /content/cars.mp4: 384x640 12 cars, 24.3ms\n",
            "video 1/1 (frame 3215/4509) /content/cars.mp4: 384x640 11 cars, 24.3ms\n",
            "video 1/1 (frame 3216/4509) /content/cars.mp4: 384x640 8 cars, 1 truck, 24.4ms\n",
            "video 1/1 (frame 3217/4509) /content/cars.mp4: 384x640 8 cars, 24.3ms\n",
            "video 1/1 (frame 3218/4509) /content/cars.mp4: 384x640 8 cars, 24.3ms\n",
            "video 1/1 (frame 3219/4509) /content/cars.mp4: 384x640 8 cars, 24.3ms\n",
            "video 1/1 (frame 3220/4509) /content/cars.mp4: 384x640 8 cars, 24.3ms\n",
            "video 1/1 (frame 3221/4509) /content/cars.mp4: 384x640 8 cars, 24.3ms\n",
            "video 1/1 (frame 3222/4509) /content/cars.mp4: 384x640 8 cars, 24.3ms\n",
            "video 1/1 (frame 3223/4509) /content/cars.mp4: 384x640 8 cars, 24.3ms\n",
            "video 1/1 (frame 3224/4509) /content/cars.mp4: 384x640 8 cars, 24.3ms\n",
            "video 1/1 (frame 3225/4509) /content/cars.mp4: 384x640 9 cars, 24.3ms\n",
            "video 1/1 (frame 3226/4509) /content/cars.mp4: 384x640 8 cars, 24.3ms\n",
            "video 1/1 (frame 3227/4509) /content/cars.mp4: 384x640 10 cars, 24.3ms\n",
            "video 1/1 (frame 3228/4509) /content/cars.mp4: 384x640 7 cars, 24.3ms\n",
            "video 1/1 (frame 3229/4509) /content/cars.mp4: 384x640 10 cars, 24.3ms\n",
            "video 1/1 (frame 3230/4509) /content/cars.mp4: 384x640 9 cars, 24.3ms\n",
            "video 1/1 (frame 3231/4509) /content/cars.mp4: 384x640 9 cars, 24.3ms\n",
            "video 1/1 (frame 3232/4509) /content/cars.mp4: 384x640 8 cars, 1 truck, 24.3ms\n",
            "video 1/1 (frame 3233/4509) /content/cars.mp4: 384x640 9 cars, 24.3ms\n",
            "video 1/1 (frame 3234/4509) /content/cars.mp4: 384x640 9 cars, 24.3ms\n",
            "video 1/1 (frame 3235/4509) /content/cars.mp4: 384x640 8 cars, 24.3ms\n",
            "video 1/1 (frame 3236/4509) /content/cars.mp4: 384x640 8 cars, 24.3ms\n",
            "video 1/1 (frame 3237/4509) /content/cars.mp4: 384x640 7 cars, 1 truck, 26.2ms\n",
            "video 1/1 (frame 3238/4509) /content/cars.mp4: 384x640 10 cars, 24.3ms\n",
            "video 1/1 (frame 3239/4509) /content/cars.mp4: 384x640 9 cars, 24.3ms\n",
            "video 1/1 (frame 3240/4509) /content/cars.mp4: 384x640 9 cars, 24.3ms\n",
            "video 1/1 (frame 3241/4509) /content/cars.mp4: 384x640 10 cars, 24.3ms\n",
            "video 1/1 (frame 3242/4509) /content/cars.mp4: 384x640 9 cars, 24.3ms\n",
            "video 1/1 (frame 3243/4509) /content/cars.mp4: 384x640 8 cars, 24.3ms\n",
            "video 1/1 (frame 3244/4509) /content/cars.mp4: 384x640 9 cars, 24.3ms\n",
            "video 1/1 (frame 3245/4509) /content/cars.mp4: 384x640 8 cars, 24.3ms\n",
            "video 1/1 (frame 3246/4509) /content/cars.mp4: 384x640 11 cars, 24.3ms\n",
            "video 1/1 (frame 3247/4509) /content/cars.mp4: 384x640 11 cars, 24.3ms\n",
            "video 1/1 (frame 3248/4509) /content/cars.mp4: 384x640 11 cars, 24.3ms\n",
            "video 1/1 (frame 3249/4509) /content/cars.mp4: 384x640 8 cars, 27.3ms\n",
            "video 1/1 (frame 3250/4509) /content/cars.mp4: 384x640 7 cars, 24.4ms\n",
            "video 1/1 (frame 3251/4509) /content/cars.mp4: 384x640 7 cars, 24.4ms\n",
            "video 1/1 (frame 3252/4509) /content/cars.mp4: 384x640 9 cars, 24.3ms\n",
            "video 1/1 (frame 3253/4509) /content/cars.mp4: 384x640 8 cars, 24.3ms\n",
            "video 1/1 (frame 3254/4509) /content/cars.mp4: 384x640 8 cars, 24.3ms\n",
            "video 1/1 (frame 3255/4509) /content/cars.mp4: 384x640 8 cars, 24.3ms\n",
            "video 1/1 (frame 3256/4509) /content/cars.mp4: 384x640 8 cars, 24.3ms\n",
            "video 1/1 (frame 3257/4509) /content/cars.mp4: 384x640 8 cars, 24.3ms\n",
            "video 1/1 (frame 3258/4509) /content/cars.mp4: 384x640 8 cars, 24.3ms\n",
            "video 1/1 (frame 3259/4509) /content/cars.mp4: 384x640 8 cars, 24.3ms\n",
            "video 1/1 (frame 3260/4509) /content/cars.mp4: 384x640 8 cars, 24.3ms\n",
            "video 1/1 (frame 3261/4509) /content/cars.mp4: 384x640 8 cars, 24.3ms\n",
            "video 1/1 (frame 3262/4509) /content/cars.mp4: 384x640 8 cars, 24.3ms\n",
            "video 1/1 (frame 3263/4509) /content/cars.mp4: 384x640 9 cars, 24.3ms\n",
            "video 1/1 (frame 3264/4509) /content/cars.mp4: 384x640 9 cars, 24.3ms\n",
            "video 1/1 (frame 3265/4509) /content/cars.mp4: 384x640 8 cars, 24.3ms\n",
            "video 1/1 (frame 3266/4509) /content/cars.mp4: 384x640 9 cars, 24.3ms\n",
            "video 1/1 (frame 3267/4509) /content/cars.mp4: 384x640 9 cars, 24.3ms\n",
            "video 1/1 (frame 3268/4509) /content/cars.mp4: 384x640 10 cars, 24.3ms\n",
            "video 1/1 (frame 3269/4509) /content/cars.mp4: 384x640 11 cars, 24.3ms\n",
            "video 1/1 (frame 3270/4509) /content/cars.mp4: 384x640 10 cars, 24.3ms\n",
            "video 1/1 (frame 3271/4509) /content/cars.mp4: 384x640 11 cars, 24.3ms\n",
            "video 1/1 (frame 3272/4509) /content/cars.mp4: 384x640 11 cars, 1 truck, 24.6ms\n",
            "video 1/1 (frame 3273/4509) /content/cars.mp4: 384x640 11 cars, 24.3ms\n",
            "video 1/1 (frame 3274/4509) /content/cars.mp4: 384x640 10 cars, 24.3ms\n",
            "video 1/1 (frame 3275/4509) /content/cars.mp4: 384x640 10 cars, 24.3ms\n",
            "video 1/1 (frame 3276/4509) /content/cars.mp4: 384x640 8 cars, 24.3ms\n",
            "video 1/1 (frame 3277/4509) /content/cars.mp4: 384x640 8 cars, 24.3ms\n",
            "video 1/1 (frame 3278/4509) /content/cars.mp4: 384x640 9 cars, 24.3ms\n",
            "video 1/1 (frame 3279/4509) /content/cars.mp4: 384x640 9 cars, 24.3ms\n",
            "video 1/1 (frame 3280/4509) /content/cars.mp4: 384x640 10 cars, 24.3ms\n",
            "video 1/1 (frame 3281/4509) /content/cars.mp4: 384x640 10 cars, 24.3ms\n",
            "video 1/1 (frame 3282/4509) /content/cars.mp4: 384x640 10 cars, 24.3ms\n",
            "video 1/1 (frame 3283/4509) /content/cars.mp4: 384x640 10 cars, 1 truck, 25.6ms\n",
            "video 1/1 (frame 3284/4509) /content/cars.mp4: 384x640 10 cars, 24.9ms\n",
            "video 1/1 (frame 3285/4509) /content/cars.mp4: 384x640 10 cars, 24.3ms\n",
            "video 1/1 (frame 3286/4509) /content/cars.mp4: 384x640 11 cars, 1 truck, 25.2ms\n",
            "video 1/1 (frame 3287/4509) /content/cars.mp4: 384x640 9 cars, 1 truck, 24.3ms\n",
            "video 1/1 (frame 3288/4509) /content/cars.mp4: 384x640 9 cars, 1 truck, 24.3ms\n",
            "video 1/1 (frame 3289/4509) /content/cars.mp4: 384x640 12 cars, 1 truck, 25.2ms\n",
            "video 1/1 (frame 3290/4509) /content/cars.mp4: 384x640 10 cars, 1 truck, 30.9ms\n",
            "video 1/1 (frame 3291/4509) /content/cars.mp4: 384x640 10 cars, 1 truck, 24.3ms\n",
            "video 1/1 (frame 3292/4509) /content/cars.mp4: 384x640 12 cars, 1 truck, 24.3ms\n",
            "video 1/1 (frame 3293/4509) /content/cars.mp4: 384x640 11 cars, 1 truck, 24.3ms\n",
            "video 1/1 (frame 3294/4509) /content/cars.mp4: 384x640 11 cars, 1 truck, 28.6ms\n",
            "video 1/1 (frame 3295/4509) /content/cars.mp4: 384x640 11 cars, 1 truck, 24.3ms\n",
            "video 1/1 (frame 3296/4509) /content/cars.mp4: 384x640 11 cars, 1 truck, 29.3ms\n",
            "video 1/1 (frame 3297/4509) /content/cars.mp4: 384x640 11 cars, 1 truck, 24.3ms\n",
            "video 1/1 (frame 3298/4509) /content/cars.mp4: 384x640 10 cars, 1 truck, 24.3ms\n",
            "video 1/1 (frame 3299/4509) /content/cars.mp4: 384x640 9 cars, 1 truck, 26.8ms\n",
            "video 1/1 (frame 3300/4509) /content/cars.mp4: 384x640 11 cars, 26.4ms\n",
            "video 1/1 (frame 3301/4509) /content/cars.mp4: 384x640 11 cars, 24.3ms\n",
            "video 1/1 (frame 3302/4509) /content/cars.mp4: 384x640 11 cars, 31.5ms\n",
            "video 1/1 (frame 3303/4509) /content/cars.mp4: 384x640 11 cars, 24.4ms\n",
            "video 1/1 (frame 3304/4509) /content/cars.mp4: 384x640 10 cars, 25.7ms\n",
            "video 1/1 (frame 3305/4509) /content/cars.mp4: 384x640 10 cars, 24.3ms\n",
            "video 1/1 (frame 3306/4509) /content/cars.mp4: 384x640 10 cars, 24.6ms\n",
            "video 1/1 (frame 3307/4509) /content/cars.mp4: 384x640 9 cars, 24.3ms\n",
            "video 1/1 (frame 3308/4509) /content/cars.mp4: 384x640 10 cars, 25.1ms\n",
            "video 1/1 (frame 3309/4509) /content/cars.mp4: 384x640 9 cars, 24.3ms\n",
            "video 1/1 (frame 3310/4509) /content/cars.mp4: 384x640 9 cars, 24.3ms\n",
            "video 1/1 (frame 3311/4509) /content/cars.mp4: 384x640 9 cars, 24.3ms\n",
            "video 1/1 (frame 3312/4509) /content/cars.mp4: 384x640 8 cars, 24.3ms\n",
            "video 1/1 (frame 3313/4509) /content/cars.mp4: 384x640 9 cars, 24.3ms\n",
            "video 1/1 (frame 3314/4509) /content/cars.mp4: 384x640 9 cars, 24.3ms\n",
            "video 1/1 (frame 3315/4509) /content/cars.mp4: 384x640 8 cars, 24.3ms\n",
            "video 1/1 (frame 3316/4509) /content/cars.mp4: 384x640 8 cars, 1 truck, 24.3ms\n",
            "video 1/1 (frame 3317/4509) /content/cars.mp4: 384x640 10 cars, 1 truck, 24.3ms\n",
            "video 1/1 (frame 3318/4509) /content/cars.mp4: 384x640 9 cars, 24.3ms\n",
            "video 1/1 (frame 3319/4509) /content/cars.mp4: 384x640 9 cars, 1 truck, 24.3ms\n",
            "video 1/1 (frame 3320/4509) /content/cars.mp4: 384x640 10 cars, 24.3ms\n",
            "video 1/1 (frame 3321/4509) /content/cars.mp4: 384x640 10 cars, 24.3ms\n",
            "video 1/1 (frame 3322/4509) /content/cars.mp4: 384x640 9 cars, 24.3ms\n",
            "video 1/1 (frame 3323/4509) /content/cars.mp4: 384x640 10 cars, 24.3ms\n",
            "video 1/1 (frame 3324/4509) /content/cars.mp4: 384x640 10 cars, 24.3ms\n",
            "video 1/1 (frame 3325/4509) /content/cars.mp4: 384x640 10 cars, 24.8ms\n",
            "video 1/1 (frame 3326/4509) /content/cars.mp4: 384x640 9 cars, 24.3ms\n",
            "video 1/1 (frame 3327/4509) /content/cars.mp4: 384x640 10 cars, 24.4ms\n",
            "video 1/1 (frame 3328/4509) /content/cars.mp4: 384x640 10 cars, 1 truck, 24.4ms\n",
            "video 1/1 (frame 3329/4509) /content/cars.mp4: 384x640 9 cars, 24.3ms\n",
            "video 1/1 (frame 3330/4509) /content/cars.mp4: 384x640 10 cars, 24.3ms\n",
            "video 1/1 (frame 3331/4509) /content/cars.mp4: 384x640 10 cars, 24.4ms\n",
            "video 1/1 (frame 3332/4509) /content/cars.mp4: 384x640 9 cars, 24.3ms\n",
            "video 1/1 (frame 3333/4509) /content/cars.mp4: 384x640 9 cars, 24.3ms\n",
            "video 1/1 (frame 3334/4509) /content/cars.mp4: 384x640 7 cars, 24.3ms\n",
            "video 1/1 (frame 3335/4509) /content/cars.mp4: 384x640 7 cars, 24.3ms\n",
            "video 1/1 (frame 3336/4509) /content/cars.mp4: 384x640 7 cars, 24.3ms\n",
            "video 1/1 (frame 3337/4509) /content/cars.mp4: 384x640 8 cars, 24.3ms\n",
            "video 1/1 (frame 3338/4509) /content/cars.mp4: 384x640 7 cars, 24.3ms\n",
            "video 1/1 (frame 3339/4509) /content/cars.mp4: 384x640 6 cars, 24.3ms\n",
            "video 1/1 (frame 3340/4509) /content/cars.mp4: 384x640 6 cars, 24.3ms\n",
            "video 1/1 (frame 3341/4509) /content/cars.mp4: 384x640 6 cars, 24.3ms\n",
            "video 1/1 (frame 3342/4509) /content/cars.mp4: 384x640 8 cars, 24.3ms\n",
            "video 1/1 (frame 3343/4509) /content/cars.mp4: 384x640 8 cars, 24.3ms\n",
            "video 1/1 (frame 3344/4509) /content/cars.mp4: 384x640 8 cars, 24.3ms\n",
            "video 1/1 (frame 3345/4509) /content/cars.mp4: 384x640 8 cars, 24.3ms\n",
            "video 1/1 (frame 3346/4509) /content/cars.mp4: 384x640 7 cars, 24.3ms\n",
            "video 1/1 (frame 3347/4509) /content/cars.mp4: 384x640 7 cars, 1 truck, 24.4ms\n",
            "video 1/1 (frame 3348/4509) /content/cars.mp4: 384x640 6 cars, 1 truck, 24.3ms\n",
            "video 1/1 (frame 3349/4509) /content/cars.mp4: 384x640 5 cars, 1 truck, 24.3ms\n",
            "video 1/1 (frame 3350/4509) /content/cars.mp4: 384x640 7 cars, 1 truck, 25.5ms\n",
            "video 1/1 (frame 3351/4509) /content/cars.mp4: 384x640 6 cars, 1 truck, 24.3ms\n",
            "video 1/1 (frame 3352/4509) /content/cars.mp4: 384x640 6 cars, 1 truck, 24.3ms\n",
            "video 1/1 (frame 3353/4509) /content/cars.mp4: 384x640 6 cars, 1 truck, 24.3ms\n",
            "video 1/1 (frame 3354/4509) /content/cars.mp4: 384x640 7 cars, 1 truck, 24.4ms\n",
            "video 1/1 (frame 3355/4509) /content/cars.mp4: 384x640 7 cars, 1 truck, 24.3ms\n",
            "video 1/1 (frame 3356/4509) /content/cars.mp4: 384x640 7 cars, 1 truck, 24.3ms\n",
            "video 1/1 (frame 3357/4509) /content/cars.mp4: 384x640 7 cars, 1 truck, 24.3ms\n",
            "video 1/1 (frame 3358/4509) /content/cars.mp4: 384x640 7 cars, 24.3ms\n",
            "video 1/1 (frame 3359/4509) /content/cars.mp4: 384x640 8 cars, 24.3ms\n",
            "video 1/1 (frame 3360/4509) /content/cars.mp4: 384x640 5 cars, 1 truck, 24.3ms\n",
            "video 1/1 (frame 3361/4509) /content/cars.mp4: 384x640 6 cars, 24.3ms\n",
            "video 1/1 (frame 3362/4509) /content/cars.mp4: 384x640 5 cars, 24.3ms\n",
            "video 1/1 (frame 3363/4509) /content/cars.mp4: 384x640 7 cars, 24.3ms\n",
            "video 1/1 (frame 3364/4509) /content/cars.mp4: 384x640 8 cars, 24.4ms\n",
            "video 1/1 (frame 3365/4509) /content/cars.mp4: 384x640 7 cars, 24.3ms\n",
            "video 1/1 (frame 3366/4509) /content/cars.mp4: 384x640 6 cars, 24.4ms\n",
            "video 1/1 (frame 3367/4509) /content/cars.mp4: 384x640 7 cars, 24.3ms\n",
            "video 1/1 (frame 3368/4509) /content/cars.mp4: 384x640 8 cars, 24.3ms\n",
            "video 1/1 (frame 3369/4509) /content/cars.mp4: 384x640 9 cars, 24.3ms\n",
            "video 1/1 (frame 3370/4509) /content/cars.mp4: 384x640 9 cars, 24.3ms\n",
            "video 1/1 (frame 3371/4509) /content/cars.mp4: 384x640 9 cars, 24.3ms\n",
            "video 1/1 (frame 3372/4509) /content/cars.mp4: 384x640 9 cars, 24.3ms\n",
            "video 1/1 (frame 3373/4509) /content/cars.mp4: 384x640 9 cars, 24.3ms\n",
            "video 1/1 (frame 3374/4509) /content/cars.mp4: 384x640 8 cars, 24.3ms\n",
            "video 1/1 (frame 3375/4509) /content/cars.mp4: 384x640 7 cars, 24.3ms\n",
            "video 1/1 (frame 3376/4509) /content/cars.mp4: 384x640 7 cars, 24.3ms\n",
            "video 1/1 (frame 3377/4509) /content/cars.mp4: 384x640 5 cars, 24.3ms\n",
            "video 1/1 (frame 3378/4509) /content/cars.mp4: 384x640 5 cars, 24.4ms\n",
            "video 1/1 (frame 3379/4509) /content/cars.mp4: 384x640 7 cars, 24.3ms\n",
            "video 1/1 (frame 3380/4509) /content/cars.mp4: 384x640 6 cars, 1 truck, 24.3ms\n",
            "video 1/1 (frame 3381/4509) /content/cars.mp4: 384x640 5 cars, 1 truck, 24.3ms\n",
            "video 1/1 (frame 3382/4509) /content/cars.mp4: 384x640 5 cars, 24.3ms\n",
            "video 1/1 (frame 3383/4509) /content/cars.mp4: 384x640 6 cars, 24.3ms\n",
            "video 1/1 (frame 3384/4509) /content/cars.mp4: 384x640 5 cars, 24.3ms\n",
            "video 1/1 (frame 3385/4509) /content/cars.mp4: 384x640 5 cars, 24.3ms\n",
            "video 1/1 (frame 3386/4509) /content/cars.mp4: 384x640 5 cars, 24.4ms\n",
            "video 1/1 (frame 3387/4509) /content/cars.mp4: 384x640 5 cars, 24.3ms\n",
            "video 1/1 (frame 3388/4509) /content/cars.mp4: 384x640 4 cars, 24.4ms\n",
            "video 1/1 (frame 3389/4509) /content/cars.mp4: 384x640 5 cars, 24.3ms\n",
            "video 1/1 (frame 3390/4509) /content/cars.mp4: 384x640 5 cars, 24.4ms\n",
            "video 1/1 (frame 3391/4509) /content/cars.mp4: 384x640 4 cars, 1 truck, 24.3ms\n",
            "video 1/1 (frame 3392/4509) /content/cars.mp4: 384x640 6 cars, 27.1ms\n",
            "video 1/1 (frame 3393/4509) /content/cars.mp4: 384x640 7 cars, 1 truck, 24.3ms\n",
            "video 1/1 (frame 3394/4509) /content/cars.mp4: 384x640 5 cars, 1 truck, 24.3ms\n",
            "video 1/1 (frame 3395/4509) /content/cars.mp4: 384x640 6 cars, 24.3ms\n",
            "video 1/1 (frame 3396/4509) /content/cars.mp4: 384x640 7 cars, 1 truck, 24.3ms\n",
            "video 1/1 (frame 3397/4509) /content/cars.mp4: 384x640 4 cars, 1 truck, 25.4ms\n",
            "video 1/1 (frame 3398/4509) /content/cars.mp4: 384x640 4 cars, 1 motorcycle, 24.3ms\n",
            "video 1/1 (frame 3399/4509) /content/cars.mp4: 384x640 4 cars, 24.3ms\n",
            "video 1/1 (frame 3400/4509) /content/cars.mp4: 384x640 5 cars, 24.3ms\n",
            "video 1/1 (frame 3401/4509) /content/cars.mp4: 384x640 6 cars, 24.3ms\n",
            "video 1/1 (frame 3402/4509) /content/cars.mp4: 384x640 7 cars, 1 truck, 24.3ms\n",
            "video 1/1 (frame 3403/4509) /content/cars.mp4: 384x640 7 cars, 24.5ms\n",
            "video 1/1 (frame 3404/4509) /content/cars.mp4: 384x640 9 cars, 24.3ms\n",
            "video 1/1 (frame 3405/4509) /content/cars.mp4: 384x640 8 cars, 24.3ms\n",
            "video 1/1 (frame 3406/4509) /content/cars.mp4: 384x640 8 cars, 1 truck, 24.3ms\n",
            "video 1/1 (frame 3407/4509) /content/cars.mp4: 384x640 8 cars, 24.3ms\n",
            "video 1/1 (frame 3408/4509) /content/cars.mp4: 384x640 8 cars, 24.3ms\n",
            "video 1/1 (frame 3409/4509) /content/cars.mp4: 384x640 9 cars, 1 motorcycle, 24.3ms\n",
            "video 1/1 (frame 3410/4509) /content/cars.mp4: 384x640 8 cars, 24.3ms\n",
            "video 1/1 (frame 3411/4509) /content/cars.mp4: 384x640 9 cars, 24.3ms\n",
            "video 1/1 (frame 3412/4509) /content/cars.mp4: 384x640 9 cars, 1 motorcycle, 24.3ms\n",
            "video 1/1 (frame 3413/4509) /content/cars.mp4: 384x640 10 cars, 24.3ms\n",
            "video 1/1 (frame 3414/4509) /content/cars.mp4: 384x640 8 cars, 24.3ms\n",
            "video 1/1 (frame 3415/4509) /content/cars.mp4: 384x640 8 cars, 24.3ms\n",
            "video 1/1 (frame 3416/4509) /content/cars.mp4: 384x640 9 cars, 24.3ms\n",
            "video 1/1 (frame 3417/4509) /content/cars.mp4: 384x640 7 cars, 24.3ms\n",
            "video 1/1 (frame 3418/4509) /content/cars.mp4: 384x640 8 cars, 24.3ms\n",
            "video 1/1 (frame 3419/4509) /content/cars.mp4: 384x640 8 cars, 25.1ms\n",
            "video 1/1 (frame 3420/4509) /content/cars.mp4: 384x640 8 cars, 24.3ms\n",
            "video 1/1 (frame 3421/4509) /content/cars.mp4: 384x640 6 cars, 1 truck, 24.3ms\n",
            "video 1/1 (frame 3422/4509) /content/cars.mp4: 384x640 7 cars, 28.2ms\n",
            "video 1/1 (frame 3423/4509) /content/cars.mp4: 384x640 7 cars, 24.3ms\n",
            "video 1/1 (frame 3424/4509) /content/cars.mp4: 384x640 6 cars, 24.4ms\n",
            "video 1/1 (frame 3425/4509) /content/cars.mp4: 384x640 6 cars, 2 trucks, 30.9ms\n",
            "video 1/1 (frame 3426/4509) /content/cars.mp4: 384x640 6 cars, 24.3ms\n",
            "video 1/1 (frame 3427/4509) /content/cars.mp4: 384x640 6 cars, 24.3ms\n",
            "video 1/1 (frame 3428/4509) /content/cars.mp4: 384x640 6 cars, 28.8ms\n",
            "video 1/1 (frame 3429/4509) /content/cars.mp4: 384x640 6 cars, 24.3ms\n",
            "video 1/1 (frame 3430/4509) /content/cars.mp4: 384x640 6 cars, 1 truck, 24.3ms\n",
            "video 1/1 (frame 3431/4509) /content/cars.mp4: 384x640 5 cars, 1 motorcycle, 1 truck, 24.3ms\n",
            "video 1/1 (frame 3432/4509) /content/cars.mp4: 384x640 5 cars, 24.3ms\n",
            "video 1/1 (frame 3433/4509) /content/cars.mp4: 384x640 5 cars, 1 truck, 24.3ms\n",
            "video 1/1 (frame 3434/4509) /content/cars.mp4: 384x640 7 cars, 1 truck, 30.5ms\n",
            "video 1/1 (frame 3435/4509) /content/cars.mp4: 384x640 6 cars, 24.3ms\n",
            "video 1/1 (frame 3436/4509) /content/cars.mp4: 384x640 6 cars, 3 trucks, 37.2ms\n",
            "video 1/1 (frame 3437/4509) /content/cars.mp4: 384x640 8 cars, 2 trucks, 24.9ms\n",
            "video 1/1 (frame 3438/4509) /content/cars.mp4: 384x640 8 cars, 24.3ms\n",
            "video 1/1 (frame 3439/4509) /content/cars.mp4: 384x640 9 cars, 24.3ms\n",
            "video 1/1 (frame 3440/4509) /content/cars.mp4: 384x640 8 cars, 1 truck, 30.2ms\n",
            "video 1/1 (frame 3441/4509) /content/cars.mp4: 384x640 8 cars, 3 trucks, 24.3ms\n",
            "video 1/1 (frame 3442/4509) /content/cars.mp4: 384x640 8 cars, 1 truck, 27.3ms\n",
            "video 1/1 (frame 3443/4509) /content/cars.mp4: 384x640 9 cars, 25.4ms\n",
            "video 1/1 (frame 3444/4509) /content/cars.mp4: 384x640 9 cars, 24.3ms\n",
            "video 1/1 (frame 3445/4509) /content/cars.mp4: 384x640 9 cars, 24.3ms\n",
            "video 1/1 (frame 3446/4509) /content/cars.mp4: 384x640 9 cars, 24.3ms\n",
            "video 1/1 (frame 3447/4509) /content/cars.mp4: 384x640 9 cars, 24.3ms\n",
            "video 1/1 (frame 3448/4509) /content/cars.mp4: 384x640 9 cars, 24.3ms\n",
            "video 1/1 (frame 3449/4509) /content/cars.mp4: 384x640 8 cars, 24.3ms\n",
            "video 1/1 (frame 3450/4509) /content/cars.mp4: 384x640 8 cars, 1 truck, 24.3ms\n",
            "video 1/1 (frame 3451/4509) /content/cars.mp4: 384x640 8 cars, 1 truck, 24.3ms\n",
            "video 1/1 (frame 3452/4509) /content/cars.mp4: 384x640 8 cars, 24.3ms\n",
            "video 1/1 (frame 3453/4509) /content/cars.mp4: 384x640 9 cars, 24.3ms\n",
            "video 1/1 (frame 3454/4509) /content/cars.mp4: 384x640 9 cars, 24.3ms\n",
            "video 1/1 (frame 3455/4509) /content/cars.mp4: 384x640 9 cars, 24.3ms\n",
            "video 1/1 (frame 3456/4509) /content/cars.mp4: 384x640 9 cars, 25.6ms\n",
            "video 1/1 (frame 3457/4509) /content/cars.mp4: 384x640 9 cars, 1 truck, 24.3ms\n",
            "video 1/1 (frame 3458/4509) /content/cars.mp4: 384x640 9 cars, 1 truck, 24.3ms\n",
            "video 1/1 (frame 3459/4509) /content/cars.mp4: 384x640 8 cars, 1 truck, 24.3ms\n",
            "video 1/1 (frame 3460/4509) /content/cars.mp4: 384x640 8 cars, 24.3ms\n",
            "video 1/1 (frame 3461/4509) /content/cars.mp4: 384x640 10 cars, 1 truck, 24.3ms\n",
            "video 1/1 (frame 3462/4509) /content/cars.mp4: 384x640 11 cars, 24.3ms\n",
            "video 1/1 (frame 3463/4509) /content/cars.mp4: 384x640 9 cars, 24.3ms\n",
            "video 1/1 (frame 3464/4509) /content/cars.mp4: 384x640 9 cars, 24.3ms\n",
            "video 1/1 (frame 3465/4509) /content/cars.mp4: 384x640 10 cars, 24.3ms\n",
            "video 1/1 (frame 3466/4509) /content/cars.mp4: 384x640 10 cars, 1 truck, 24.3ms\n",
            "video 1/1 (frame 3467/4509) /content/cars.mp4: 384x640 10 cars, 24.3ms\n",
            "video 1/1 (frame 3468/4509) /content/cars.mp4: 384x640 10 cars, 1 truck, 24.3ms\n",
            "video 1/1 (frame 3469/4509) /content/cars.mp4: 384x640 10 cars, 1 truck, 24.3ms\n",
            "video 1/1 (frame 3470/4509) /content/cars.mp4: 384x640 10 cars, 24.3ms\n",
            "video 1/1 (frame 3471/4509) /content/cars.mp4: 384x640 10 cars, 1 truck, 24.3ms\n",
            "video 1/1 (frame 3472/4509) /content/cars.mp4: 384x640 11 cars, 1 truck, 24.3ms\n",
            "video 1/1 (frame 3473/4509) /content/cars.mp4: 384x640 11 cars, 1 truck, 24.3ms\n",
            "video 1/1 (frame 3474/4509) /content/cars.mp4: 384x640 11 cars, 24.3ms\n",
            "video 1/1 (frame 3475/4509) /content/cars.mp4: 384x640 10 cars, 1 truck, 24.3ms\n",
            "video 1/1 (frame 3476/4509) /content/cars.mp4: 384x640 12 cars, 24.3ms\n",
            "video 1/1 (frame 3477/4509) /content/cars.mp4: 384x640 10 cars, 1 truck, 24.3ms\n",
            "video 1/1 (frame 3478/4509) /content/cars.mp4: 384x640 9 cars, 1 truck, 24.3ms\n",
            "video 1/1 (frame 3479/4509) /content/cars.mp4: 384x640 10 cars, 1 truck, 24.3ms\n",
            "video 1/1 (frame 3480/4509) /content/cars.mp4: 384x640 10 cars, 1 truck, 24.4ms\n",
            "video 1/1 (frame 3481/4509) /content/cars.mp4: 384x640 11 cars, 24.3ms\n",
            "video 1/1 (frame 3482/4509) /content/cars.mp4: 384x640 10 cars, 25.0ms\n",
            "video 1/1 (frame 3483/4509) /content/cars.mp4: 384x640 10 cars, 24.3ms\n",
            "video 1/1 (frame 3484/4509) /content/cars.mp4: 384x640 10 cars, 24.3ms\n",
            "video 1/1 (frame 3485/4509) /content/cars.mp4: 384x640 10 cars, 24.3ms\n",
            "video 1/1 (frame 3486/4509) /content/cars.mp4: 384x640 10 cars, 24.3ms\n",
            "video 1/1 (frame 3487/4509) /content/cars.mp4: 384x640 10 cars, 24.3ms\n",
            "video 1/1 (frame 3488/4509) /content/cars.mp4: 384x640 11 cars, 24.3ms\n",
            "video 1/1 (frame 3489/4509) /content/cars.mp4: 384x640 11 cars, 24.3ms\n",
            "video 1/1 (frame 3490/4509) /content/cars.mp4: 384x640 10 cars, 24.3ms\n",
            "video 1/1 (frame 3491/4509) /content/cars.mp4: 384x640 12 cars, 24.3ms\n",
            "video 1/1 (frame 3492/4509) /content/cars.mp4: 384x640 10 cars, 24.3ms\n",
            "video 1/1 (frame 3493/4509) /content/cars.mp4: 384x640 12 cars, 24.3ms\n",
            "video 1/1 (frame 3494/4509) /content/cars.mp4: 384x640 11 cars, 24.3ms\n",
            "video 1/1 (frame 3495/4509) /content/cars.mp4: 384x640 11 cars, 24.3ms\n",
            "video 1/1 (frame 3496/4509) /content/cars.mp4: 384x640 11 cars, 24.3ms\n",
            "video 1/1 (frame 3497/4509) /content/cars.mp4: 384x640 10 cars, 24.3ms\n",
            "video 1/1 (frame 3498/4509) /content/cars.mp4: 384x640 10 cars, 24.3ms\n",
            "video 1/1 (frame 3499/4509) /content/cars.mp4: 384x640 10 cars, 1 truck, 24.3ms\n",
            "video 1/1 (frame 3500/4509) /content/cars.mp4: 384x640 11 cars, 2 trucks, 24.3ms\n",
            "video 1/1 (frame 3501/4509) /content/cars.mp4: 384x640 10 cars, 2 trucks, 24.3ms\n",
            "video 1/1 (frame 3502/4509) /content/cars.mp4: 384x640 9 cars, 1 truck, 24.3ms\n",
            "video 1/1 (frame 3503/4509) /content/cars.mp4: 384x640 10 cars, 1 truck, 24.3ms\n",
            "video 1/1 (frame 3504/4509) /content/cars.mp4: 384x640 9 cars, 2 trucks, 24.3ms\n",
            "video 1/1 (frame 3505/4509) /content/cars.mp4: 384x640 9 cars, 1 truck, 24.3ms\n",
            "video 1/1 (frame 3506/4509) /content/cars.mp4: 384x640 10 cars, 1 truck, 24.3ms\n",
            "video 1/1 (frame 3507/4509) /content/cars.mp4: 384x640 10 cars, 1 truck, 24.3ms\n",
            "video 1/1 (frame 3508/4509) /content/cars.mp4: 384x640 11 cars, 1 truck, 24.3ms\n",
            "video 1/1 (frame 3509/4509) /content/cars.mp4: 384x640 11 cars, 24.3ms\n",
            "video 1/1 (frame 3510/4509) /content/cars.mp4: 384x640 11 cars, 24.3ms\n",
            "video 1/1 (frame 3511/4509) /content/cars.mp4: 384x640 12 cars, 24.3ms\n",
            "video 1/1 (frame 3512/4509) /content/cars.mp4: 384x640 10 cars, 24.3ms\n",
            "video 1/1 (frame 3513/4509) /content/cars.mp4: 384x640 10 cars, 24.3ms\n",
            "video 1/1 (frame 3514/4509) /content/cars.mp4: 384x640 10 cars, 24.3ms\n",
            "video 1/1 (frame 3515/4509) /content/cars.mp4: 384x640 11 cars, 24.3ms\n",
            "video 1/1 (frame 3516/4509) /content/cars.mp4: 384x640 11 cars, 25.4ms\n",
            "video 1/1 (frame 3517/4509) /content/cars.mp4: 384x640 10 cars, 24.3ms\n",
            "video 1/1 (frame 3518/4509) /content/cars.mp4: 384x640 10 cars, 24.3ms\n",
            "video 1/1 (frame 3519/4509) /content/cars.mp4: 384x640 10 cars, 24.3ms\n",
            "video 1/1 (frame 3520/4509) /content/cars.mp4: 384x640 10 cars, 24.3ms\n",
            "video 1/1 (frame 3521/4509) /content/cars.mp4: 384x640 9 cars, 24.3ms\n",
            "video 1/1 (frame 3522/4509) /content/cars.mp4: 384x640 10 cars, 24.3ms\n",
            "video 1/1 (frame 3523/4509) /content/cars.mp4: 384x640 9 cars, 24.3ms\n",
            "video 1/1 (frame 3524/4509) /content/cars.mp4: 384x640 8 cars, 2 trucks, 24.3ms\n",
            "video 1/1 (frame 3525/4509) /content/cars.mp4: 384x640 10 cars, 1 truck, 24.3ms\n",
            "video 1/1 (frame 3526/4509) /content/cars.mp4: 384x640 13 cars, 24.3ms\n",
            "video 1/1 (frame 3527/4509) /content/cars.mp4: 384x640 11 cars, 24.3ms\n",
            "video 1/1 (frame 3528/4509) /content/cars.mp4: 384x640 11 cars, 1 truck, 24.3ms\n",
            "video 1/1 (frame 3529/4509) /content/cars.mp4: 384x640 11 cars, 1 truck, 24.3ms\n",
            "video 1/1 (frame 3530/4509) /content/cars.mp4: 384x640 13 cars, 24.3ms\n",
            "video 1/1 (frame 3531/4509) /content/cars.mp4: 384x640 12 cars, 24.3ms\n",
            "video 1/1 (frame 3532/4509) /content/cars.mp4: 384x640 12 cars, 24.3ms\n",
            "video 1/1 (frame 3533/4509) /content/cars.mp4: 384x640 10 cars, 24.3ms\n",
            "video 1/1 (frame 3534/4509) /content/cars.mp4: 384x640 12 cars, 24.3ms\n",
            "video 1/1 (frame 3535/4509) /content/cars.mp4: 384x640 11 cars, 1 motorcycle, 2 trucks, 24.3ms\n",
            "video 1/1 (frame 3536/4509) /content/cars.mp4: 384x640 12 cars, 1 truck, 24.3ms\n",
            "video 1/1 (frame 3537/4509) /content/cars.mp4: 384x640 12 cars, 2 trucks, 24.3ms\n",
            "video 1/1 (frame 3538/4509) /content/cars.mp4: 384x640 14 cars, 24.3ms\n",
            "video 1/1 (frame 3539/4509) /content/cars.mp4: 384x640 12 cars, 1 truck, 25.8ms\n",
            "video 1/1 (frame 3540/4509) /content/cars.mp4: 384x640 12 cars, 1 truck, 24.3ms\n",
            "video 1/1 (frame 3541/4509) /content/cars.mp4: 384x640 12 cars, 24.3ms\n",
            "video 1/1 (frame 3542/4509) /content/cars.mp4: 384x640 12 cars, 24.3ms\n",
            "video 1/1 (frame 3543/4509) /content/cars.mp4: 384x640 11 cars, 1 truck, 24.3ms\n",
            "video 1/1 (frame 3544/4509) /content/cars.mp4: 384x640 9 cars, 1 truck, 24.3ms\n",
            "video 1/1 (frame 3545/4509) /content/cars.mp4: 384x640 12 cars, 1 truck, 24.3ms\n",
            "video 1/1 (frame 3546/4509) /content/cars.mp4: 384x640 13 cars, 1 truck, 24.3ms\n",
            "video 1/1 (frame 3547/4509) /content/cars.mp4: 384x640 10 cars, 2 trucks, 24.3ms\n",
            "video 1/1 (frame 3548/4509) /content/cars.mp4: 384x640 10 cars, 24.3ms\n",
            "video 1/1 (frame 3549/4509) /content/cars.mp4: 384x640 10 cars, 1 truck, 24.3ms\n",
            "video 1/1 (frame 3550/4509) /content/cars.mp4: 384x640 9 cars, 24.3ms\n",
            "video 1/1 (frame 3551/4509) /content/cars.mp4: 384x640 11 cars, 24.3ms\n",
            "video 1/1 (frame 3552/4509) /content/cars.mp4: 384x640 11 cars, 1 truck, 24.3ms\n",
            "video 1/1 (frame 3553/4509) /content/cars.mp4: 384x640 11 cars, 24.3ms\n",
            "video 1/1 (frame 3554/4509) /content/cars.mp4: 384x640 12 cars, 24.3ms\n",
            "video 1/1 (frame 3555/4509) /content/cars.mp4: 384x640 13 cars, 24.3ms\n",
            "video 1/1 (frame 3556/4509) /content/cars.mp4: 384x640 11 cars, 1 truck, 24.3ms\n",
            "video 1/1 (frame 3557/4509) /content/cars.mp4: 384x640 10 cars, 2 trucks, 27.9ms\n",
            "video 1/1 (frame 3558/4509) /content/cars.mp4: 384x640 10 cars, 1 truck, 24.3ms\n",
            "video 1/1 (frame 3559/4509) /content/cars.mp4: 384x640 10 cars, 1 truck, 34.1ms\n",
            "video 1/1 (frame 3560/4509) /content/cars.mp4: 384x640 10 cars, 1 truck, 26.5ms\n",
            "video 1/1 (frame 3561/4509) /content/cars.mp4: 384x640 10 cars, 1 truck, 24.3ms\n",
            "video 1/1 (frame 3562/4509) /content/cars.mp4: 384x640 9 cars, 1 truck, 24.3ms\n",
            "video 1/1 (frame 3563/4509) /content/cars.mp4: 384x640 11 cars, 1 truck, 24.9ms\n",
            "video 1/1 (frame 3564/4509) /content/cars.mp4: 384x640 10 cars, 2 trucks, 24.3ms\n",
            "video 1/1 (frame 3565/4509) /content/cars.mp4: 384x640 10 cars, 2 trucks, 24.3ms\n",
            "video 1/1 (frame 3566/4509) /content/cars.mp4: 384x640 10 cars, 1 truck, 24.3ms\n",
            "video 1/1 (frame 3567/4509) /content/cars.mp4: 384x640 9 cars, 1 truck, 24.3ms\n",
            "video 1/1 (frame 3568/4509) /content/cars.mp4: 384x640 10 cars, 1 truck, 24.3ms\n",
            "video 1/1 (frame 3569/4509) /content/cars.mp4: 384x640 11 cars, 1 truck, 24.3ms\n",
            "video 1/1 (frame 3570/4509) /content/cars.mp4: 384x640 10 cars, 1 truck, 24.3ms\n",
            "video 1/1 (frame 3571/4509) /content/cars.mp4: 384x640 10 cars, 2 trucks, 32.0ms\n",
            "video 1/1 (frame 3572/4509) /content/cars.mp4: 384x640 9 cars, 24.3ms\n",
            "video 1/1 (frame 3573/4509) /content/cars.mp4: 384x640 11 cars, 1 truck, 24.3ms\n",
            "video 1/1 (frame 3574/4509) /content/cars.mp4: 384x640 8 cars, 1 truck, 25.8ms\n",
            "video 1/1 (frame 3575/4509) /content/cars.mp4: 384x640 9 cars, 1 truck, 24.3ms\n",
            "video 1/1 (frame 3576/4509) /content/cars.mp4: 384x640 10 cars, 2 trucks, 24.3ms\n",
            "video 1/1 (frame 3577/4509) /content/cars.mp4: 384x640 10 cars, 1 truck, 26.6ms\n",
            "video 1/1 (frame 3578/4509) /content/cars.mp4: 384x640 10 cars, 1 truck, 25.1ms\n",
            "video 1/1 (frame 3579/4509) /content/cars.mp4: 384x640 11 cars, 24.6ms\n",
            "video 1/1 (frame 3580/4509) /content/cars.mp4: 384x640 11 cars, 24.3ms\n",
            "video 1/1 (frame 3581/4509) /content/cars.mp4: 384x640 10 cars, 24.3ms\n",
            "video 1/1 (frame 3582/4509) /content/cars.mp4: 384x640 11 cars, 24.3ms\n",
            "video 1/1 (frame 3583/4509) /content/cars.mp4: 384x640 13 cars, 1 truck, 24.3ms\n",
            "video 1/1 (frame 3584/4509) /content/cars.mp4: 384x640 13 cars, 1 truck, 24.3ms\n",
            "video 1/1 (frame 3585/4509) /content/cars.mp4: 384x640 14 cars, 24.4ms\n",
            "video 1/1 (frame 3586/4509) /content/cars.mp4: 384x640 15 cars, 1 truck, 24.3ms\n",
            "video 1/1 (frame 3587/4509) /content/cars.mp4: 384x640 14 cars, 1 truck, 24.3ms\n",
            "video 1/1 (frame 3588/4509) /content/cars.mp4: 384x640 14 cars, 24.3ms\n",
            "video 1/1 (frame 3589/4509) /content/cars.mp4: 384x640 14 cars, 24.3ms\n",
            "video 1/1 (frame 3590/4509) /content/cars.mp4: 384x640 15 cars, 24.3ms\n",
            "video 1/1 (frame 3591/4509) /content/cars.mp4: 384x640 15 cars, 24.3ms\n",
            "video 1/1 (frame 3592/4509) /content/cars.mp4: 384x640 13 cars, 24.3ms\n",
            "video 1/1 (frame 3593/4509) /content/cars.mp4: 384x640 11 cars, 24.3ms\n",
            "video 1/1 (frame 3594/4509) /content/cars.mp4: 384x640 14 cars, 1 truck, 24.3ms\n",
            "video 1/1 (frame 3595/4509) /content/cars.mp4: 384x640 12 cars, 1 truck, 24.3ms\n",
            "video 1/1 (frame 3596/4509) /content/cars.mp4: 384x640 9 cars, 1 truck, 24.3ms\n",
            "video 1/1 (frame 3597/4509) /content/cars.mp4: 384x640 14 cars, 1 truck, 24.3ms\n",
            "video 1/1 (frame 3598/4509) /content/cars.mp4: 384x640 12 cars, 24.3ms\n",
            "video 1/1 (frame 3599/4509) /content/cars.mp4: 384x640 14 cars, 1 truck, 24.3ms\n",
            "video 1/1 (frame 3600/4509) /content/cars.mp4: 384x640 11 cars, 2 trucks, 24.3ms\n",
            "video 1/1 (frame 3601/4509) /content/cars.mp4: 384x640 9 cars, 1 truck, 24.3ms\n",
            "video 1/1 (frame 3602/4509) /content/cars.mp4: 384x640 10 cars, 2 trucks, 24.3ms\n",
            "video 1/1 (frame 3603/4509) /content/cars.mp4: 384x640 6 cars, 2 trucks, 24.3ms\n",
            "video 1/1 (frame 3604/4509) /content/cars.mp4: 384x640 11 cars, 1 truck, 24.3ms\n",
            "video 1/1 (frame 3605/4509) /content/cars.mp4: 384x640 9 cars, 1 truck, 26.5ms\n",
            "video 1/1 (frame 3606/4509) /content/cars.mp4: 384x640 10 cars, 2 trucks, 24.4ms\n",
            "video 1/1 (frame 3607/4509) /content/cars.mp4: 384x640 7 cars, 2 trucks, 24.3ms\n",
            "video 1/1 (frame 3608/4509) /content/cars.mp4: 384x640 8 cars, 2 trucks, 24.3ms\n",
            "video 1/1 (frame 3609/4509) /content/cars.mp4: 384x640 9 cars, 1 truck, 24.3ms\n",
            "video 1/1 (frame 3610/4509) /content/cars.mp4: 384x640 10 cars, 24.3ms\n",
            "video 1/1 (frame 3611/4509) /content/cars.mp4: 384x640 9 cars, 24.5ms\n",
            "video 1/1 (frame 3612/4509) /content/cars.mp4: 384x640 10 cars, 24.3ms\n",
            "video 1/1 (frame 3613/4509) /content/cars.mp4: 384x640 10 cars, 1 truck, 24.5ms\n",
            "video 1/1 (frame 3614/4509) /content/cars.mp4: 384x640 6 cars, 3 trucks, 24.3ms\n",
            "video 1/1 (frame 3615/4509) /content/cars.mp4: 384x640 7 cars, 2 trucks, 24.3ms\n",
            "video 1/1 (frame 3616/4509) /content/cars.mp4: 384x640 8 cars, 24.3ms\n",
            "video 1/1 (frame 3617/4509) /content/cars.mp4: 384x640 10 cars, 1 truck, 24.3ms\n",
            "video 1/1 (frame 3618/4509) /content/cars.mp4: 384x640 11 cars, 24.3ms\n",
            "video 1/1 (frame 3619/4509) /content/cars.mp4: 384x640 8 cars, 2 trucks, 24.3ms\n",
            "video 1/1 (frame 3620/4509) /content/cars.mp4: 384x640 10 cars, 24.3ms\n",
            "video 1/1 (frame 3621/4509) /content/cars.mp4: 384x640 8 cars, 2 trucks, 24.3ms\n",
            "video 1/1 (frame 3622/4509) /content/cars.mp4: 384x640 9 cars, 2 trucks, 24.3ms\n",
            "video 1/1 (frame 3623/4509) /content/cars.mp4: 384x640 9 cars, 2 trucks, 24.3ms\n",
            "video 1/1 (frame 3624/4509) /content/cars.mp4: 384x640 8 cars, 1 truck, 24.3ms\n",
            "video 1/1 (frame 3625/4509) /content/cars.mp4: 384x640 8 cars, 1 truck, 24.3ms\n",
            "video 1/1 (frame 3626/4509) /content/cars.mp4: 384x640 11 cars, 24.3ms\n",
            "video 1/1 (frame 3627/4509) /content/cars.mp4: 384x640 10 cars, 1 truck, 24.3ms\n",
            "video 1/1 (frame 3628/4509) /content/cars.mp4: 384x640 11 cars, 1 truck, 24.3ms\n",
            "video 1/1 (frame 3629/4509) /content/cars.mp4: 384x640 8 cars, 3 trucks, 24.3ms\n",
            "video 1/1 (frame 3630/4509) /content/cars.mp4: 384x640 11 cars, 1 truck, 24.3ms\n",
            "video 1/1 (frame 3631/4509) /content/cars.mp4: 384x640 7 cars, 3 trucks, 24.3ms\n",
            "video 1/1 (frame 3632/4509) /content/cars.mp4: 384x640 9 cars, 1 truck, 24.3ms\n",
            "video 1/1 (frame 3633/4509) /content/cars.mp4: 384x640 9 cars, 3 trucks, 24.3ms\n",
            "video 1/1 (frame 3634/4509) /content/cars.mp4: 384x640 8 cars, 2 trucks, 24.3ms\n",
            "video 1/1 (frame 3635/4509) /content/cars.mp4: 384x640 7 cars, 1 truck, 24.3ms\n",
            "video 1/1 (frame 3636/4509) /content/cars.mp4: 384x640 10 cars, 1 truck, 24.3ms\n",
            "video 1/1 (frame 3637/4509) /content/cars.mp4: 384x640 10 cars, 1 truck, 24.3ms\n",
            "video 1/1 (frame 3638/4509) /content/cars.mp4: 384x640 10 cars, 24.3ms\n",
            "video 1/1 (frame 3639/4509) /content/cars.mp4: 384x640 10 cars, 1 truck, 24.3ms\n",
            "video 1/1 (frame 3640/4509) /content/cars.mp4: 384x640 9 cars, 1 motorcycle, 1 truck, 24.3ms\n",
            "video 1/1 (frame 3641/4509) /content/cars.mp4: 384x640 10 cars, 2 trucks, 24.3ms\n",
            "video 1/1 (frame 3642/4509) /content/cars.mp4: 384x640 11 cars, 24.3ms\n",
            "video 1/1 (frame 3643/4509) /content/cars.mp4: 384x640 10 cars, 24.3ms\n",
            "video 1/1 (frame 3644/4509) /content/cars.mp4: 384x640 10 cars, 1 truck, 24.3ms\n",
            "video 1/1 (frame 3645/4509) /content/cars.mp4: 384x640 11 cars, 1 truck, 24.3ms\n",
            "video 1/1 (frame 3646/4509) /content/cars.mp4: 384x640 10 cars, 1 truck, 24.3ms\n",
            "video 1/1 (frame 3647/4509) /content/cars.mp4: 384x640 11 cars, 1 truck, 24.3ms\n",
            "video 1/1 (frame 3648/4509) /content/cars.mp4: 384x640 7 cars, 1 truck, 24.3ms\n",
            "video 1/1 (frame 3649/4509) /content/cars.mp4: 384x640 10 cars, 1 truck, 24.3ms\n",
            "video 1/1 (frame 3650/4509) /content/cars.mp4: 384x640 9 cars, 1 truck, 24.3ms\n",
            "video 1/1 (frame 3651/4509) /content/cars.mp4: 384x640 9 cars, 1 truck, 24.3ms\n",
            "video 1/1 (frame 3652/4509) /content/cars.mp4: 384x640 9 cars, 1 truck, 24.3ms\n",
            "video 1/1 (frame 3653/4509) /content/cars.mp4: 384x640 11 cars, 1 truck, 24.3ms\n",
            "video 1/1 (frame 3654/4509) /content/cars.mp4: 384x640 9 cars, 1 truck, 24.3ms\n",
            "video 1/1 (frame 3655/4509) /content/cars.mp4: 384x640 9 cars, 1 truck, 24.3ms\n",
            "video 1/1 (frame 3656/4509) /content/cars.mp4: 384x640 8 cars, 1 truck, 24.3ms\n",
            "video 1/1 (frame 3657/4509) /content/cars.mp4: 384x640 9 cars, 1 truck, 24.3ms\n",
            "video 1/1 (frame 3658/4509) /content/cars.mp4: 384x640 8 cars, 1 truck, 24.3ms\n",
            "video 1/1 (frame 3659/4509) /content/cars.mp4: 384x640 9 cars, 2 trucks, 25.8ms\n",
            "video 1/1 (frame 3660/4509) /content/cars.mp4: 384x640 8 cars, 1 truck, 24.3ms\n",
            "video 1/1 (frame 3661/4509) /content/cars.mp4: 384x640 12 cars, 1 truck, 24.3ms\n",
            "video 1/1 (frame 3662/4509) /content/cars.mp4: 384x640 10 cars, 1 truck, 24.3ms\n",
            "video 1/1 (frame 3663/4509) /content/cars.mp4: 384x640 9 cars, 3 trucks, 24.3ms\n",
            "video 1/1 (frame 3664/4509) /content/cars.mp4: 384x640 10 cars, 1 truck, 24.3ms\n",
            "video 1/1 (frame 3665/4509) /content/cars.mp4: 384x640 10 cars, 2 trucks, 24.3ms\n",
            "video 1/1 (frame 3666/4509) /content/cars.mp4: 384x640 9 cars, 1 truck, 24.3ms\n",
            "video 1/1 (frame 3667/4509) /content/cars.mp4: 384x640 8 cars, 1 truck, 24.3ms\n",
            "video 1/1 (frame 3668/4509) /content/cars.mp4: 384x640 10 cars, 1 truck, 24.3ms\n",
            "video 1/1 (frame 3669/4509) /content/cars.mp4: 384x640 10 cars, 1 truck, 24.3ms\n",
            "video 1/1 (frame 3670/4509) /content/cars.mp4: 384x640 9 cars, 1 truck, 24.3ms\n",
            "video 1/1 (frame 3671/4509) /content/cars.mp4: 384x640 11 cars, 24.3ms\n",
            "video 1/1 (frame 3672/4509) /content/cars.mp4: 384x640 10 cars, 1 truck, 24.3ms\n",
            "video 1/1 (frame 3673/4509) /content/cars.mp4: 384x640 10 cars, 1 truck, 24.3ms\n",
            "video 1/1 (frame 3674/4509) /content/cars.mp4: 384x640 9 cars, 1 truck, 24.3ms\n",
            "video 1/1 (frame 3675/4509) /content/cars.mp4: 384x640 9 cars, 24.3ms\n",
            "video 1/1 (frame 3676/4509) /content/cars.mp4: 384x640 9 cars, 24.3ms\n",
            "video 1/1 (frame 3677/4509) /content/cars.mp4: 384x640 9 cars, 24.3ms\n",
            "video 1/1 (frame 3678/4509) /content/cars.mp4: 384x640 11 cars, 24.3ms\n",
            "video 1/1 (frame 3679/4509) /content/cars.mp4: 384x640 10 cars, 24.3ms\n",
            "video 1/1 (frame 3680/4509) /content/cars.mp4: 384x640 10 cars, 1 truck, 24.3ms\n",
            "video 1/1 (frame 3681/4509) /content/cars.mp4: 384x640 9 cars, 24.3ms\n",
            "video 1/1 (frame 3682/4509) /content/cars.mp4: 384x640 10 cars, 24.3ms\n",
            "video 1/1 (frame 3683/4509) /content/cars.mp4: 384x640 10 cars, 24.3ms\n",
            "video 1/1 (frame 3684/4509) /content/cars.mp4: 384x640 10 cars, 24.3ms\n",
            "video 1/1 (frame 3685/4509) /content/cars.mp4: 384x640 9 cars, 24.3ms\n",
            "video 1/1 (frame 3686/4509) /content/cars.mp4: 384x640 10 cars, 24.3ms\n",
            "video 1/1 (frame 3687/4509) /content/cars.mp4: 384x640 10 cars, 1 traffic light, 24.4ms\n",
            "video 1/1 (frame 3688/4509) /content/cars.mp4: 384x640 10 cars, 24.3ms\n",
            "video 1/1 (frame 3689/4509) /content/cars.mp4: 384x640 10 cars, 24.3ms\n",
            "video 1/1 (frame 3690/4509) /content/cars.mp4: 384x640 10 cars, 24.3ms\n",
            "video 1/1 (frame 3691/4509) /content/cars.mp4: 384x640 10 cars, 24.3ms\n",
            "video 1/1 (frame 3692/4509) /content/cars.mp4: 384x640 9 cars, 24.3ms\n",
            "video 1/1 (frame 3693/4509) /content/cars.mp4: 384x640 10 cars, 24.3ms\n",
            "video 1/1 (frame 3694/4509) /content/cars.mp4: 384x640 10 cars, 1 truck, 29.8ms\n",
            "video 1/1 (frame 3695/4509) /content/cars.mp4: 384x640 10 cars, 24.3ms\n",
            "video 1/1 (frame 3696/4509) /content/cars.mp4: 384x640 8 cars, 1 truck, 24.3ms\n",
            "video 1/1 (frame 3697/4509) /content/cars.mp4: 384x640 7 cars, 1 truck, 24.3ms\n",
            "video 1/1 (frame 3698/4509) /content/cars.mp4: 384x640 9 cars, 33.4ms\n",
            "video 1/1 (frame 3699/4509) /content/cars.mp4: 384x640 9 cars, 27.5ms\n",
            "video 1/1 (frame 3700/4509) /content/cars.mp4: 384x640 9 cars, 25.3ms\n",
            "video 1/1 (frame 3701/4509) /content/cars.mp4: 384x640 9 cars, 24.8ms\n",
            "video 1/1 (frame 3702/4509) /content/cars.mp4: 384x640 9 cars, 28.5ms\n",
            "video 1/1 (frame 3703/4509) /content/cars.mp4: 384x640 8 cars, 1 truck, 24.3ms\n",
            "video 1/1 (frame 3704/4509) /content/cars.mp4: 384x640 9 cars, 24.3ms\n",
            "video 1/1 (frame 3705/4509) /content/cars.mp4: 384x640 7 cars, 1 truck, 24.4ms\n",
            "video 1/1 (frame 3706/4509) /content/cars.mp4: 384x640 9 cars, 24.3ms\n",
            "video 1/1 (frame 3707/4509) /content/cars.mp4: 384x640 8 cars, 24.3ms\n",
            "video 1/1 (frame 3708/4509) /content/cars.mp4: 384x640 9 cars, 24.4ms\n",
            "video 1/1 (frame 3709/4509) /content/cars.mp4: 384x640 8 cars, 1 truck, 25.5ms\n",
            "video 1/1 (frame 3710/4509) /content/cars.mp4: 384x640 10 cars, 1 truck, 27.1ms\n",
            "video 1/1 (frame 3711/4509) /content/cars.mp4: 384x640 8 cars, 2 trucks, 25.4ms\n",
            "video 1/1 (frame 3712/4509) /content/cars.mp4: 384x640 7 cars, 1 truck, 26.2ms\n",
            "video 1/1 (frame 3713/4509) /content/cars.mp4: 384x640 9 cars, 24.3ms\n",
            "video 1/1 (frame 3714/4509) /content/cars.mp4: 384x640 10 cars, 37.9ms\n",
            "video 1/1 (frame 3715/4509) /content/cars.mp4: 384x640 10 cars, 1 truck, 24.3ms\n",
            "video 1/1 (frame 3716/4509) /content/cars.mp4: 384x640 9 cars, 1 truck, 24.8ms\n",
            "video 1/1 (frame 3717/4509) /content/cars.mp4: 384x640 9 cars, 1 truck, 24.3ms\n",
            "video 1/1 (frame 3718/4509) /content/cars.mp4: 384x640 10 cars, 2 trucks, 27.1ms\n",
            "video 1/1 (frame 3719/4509) /content/cars.mp4: 384x640 10 cars, 1 truck, 24.3ms\n",
            "video 1/1 (frame 3720/4509) /content/cars.mp4: 384x640 10 cars, 1 truck, 24.3ms\n",
            "video 1/1 (frame 3721/4509) /content/cars.mp4: 384x640 9 cars, 1 truck, 24.3ms\n",
            "video 1/1 (frame 3722/4509) /content/cars.mp4: 384x640 8 cars, 24.3ms\n",
            "video 1/1 (frame 3723/4509) /content/cars.mp4: 384x640 8 cars, 24.3ms\n",
            "video 1/1 (frame 3724/4509) /content/cars.mp4: 384x640 8 cars, 24.9ms\n",
            "video 1/1 (frame 3725/4509) /content/cars.mp4: 384x640 8 cars, 24.3ms\n",
            "video 1/1 (frame 3726/4509) /content/cars.mp4: 384x640 8 cars, 24.3ms\n",
            "video 1/1 (frame 3727/4509) /content/cars.mp4: 384x640 8 cars, 24.3ms\n",
            "video 1/1 (frame 3728/4509) /content/cars.mp4: 384x640 8 cars, 24.3ms\n",
            "video 1/1 (frame 3729/4509) /content/cars.mp4: 384x640 8 cars, 24.3ms\n",
            "video 1/1 (frame 3730/4509) /content/cars.mp4: 384x640 7 cars, 24.3ms\n",
            "video 1/1 (frame 3731/4509) /content/cars.mp4: 384x640 7 cars, 24.3ms\n",
            "video 1/1 (frame 3732/4509) /content/cars.mp4: 384x640 8 cars, 25.5ms\n",
            "video 1/1 (frame 3733/4509) /content/cars.mp4: 384x640 8 cars, 24.3ms\n",
            "video 1/1 (frame 3734/4509) /content/cars.mp4: 384x640 8 cars, 24.3ms\n",
            "video 1/1 (frame 3735/4509) /content/cars.mp4: 384x640 7 cars, 24.3ms\n",
            "video 1/1 (frame 3736/4509) /content/cars.mp4: 384x640 7 cars, 24.3ms\n",
            "video 1/1 (frame 3737/4509) /content/cars.mp4: 384x640 7 cars, 24.3ms\n",
            "video 1/1 (frame 3738/4509) /content/cars.mp4: 384x640 7 cars, 24.3ms\n",
            "video 1/1 (frame 3739/4509) /content/cars.mp4: 384x640 7 cars, 24.3ms\n",
            "video 1/1 (frame 3740/4509) /content/cars.mp4: 384x640 9 cars, 24.3ms\n",
            "video 1/1 (frame 3741/4509) /content/cars.mp4: 384x640 9 cars, 24.3ms\n",
            "video 1/1 (frame 3742/4509) /content/cars.mp4: 384x640 9 cars, 24.3ms\n",
            "video 1/1 (frame 3743/4509) /content/cars.mp4: 384x640 9 cars, 24.3ms\n",
            "video 1/1 (frame 3744/4509) /content/cars.mp4: 384x640 9 cars, 24.3ms\n",
            "video 1/1 (frame 3745/4509) /content/cars.mp4: 384x640 9 cars, 24.3ms\n",
            "video 1/1 (frame 3746/4509) /content/cars.mp4: 384x640 9 cars, 1 traffic light, 24.3ms\n",
            "video 1/1 (frame 3747/4509) /content/cars.mp4: 384x640 9 cars, 24.3ms\n",
            "video 1/1 (frame 3748/4509) /content/cars.mp4: 384x640 9 cars, 1 traffic light, 24.3ms\n",
            "video 1/1 (frame 3749/4509) /content/cars.mp4: 384x640 9 cars, 24.3ms\n",
            "video 1/1 (frame 3750/4509) /content/cars.mp4: 384x640 9 cars, 24.3ms\n",
            "video 1/1 (frame 3751/4509) /content/cars.mp4: 384x640 9 cars, 24.3ms\n",
            "video 1/1 (frame 3752/4509) /content/cars.mp4: 384x640 9 cars, 24.3ms\n",
            "video 1/1 (frame 3753/4509) /content/cars.mp4: 384x640 9 cars, 1 truck, 24.3ms\n",
            "video 1/1 (frame 3754/4509) /content/cars.mp4: 384x640 9 cars, 1 truck, 24.3ms\n",
            "video 1/1 (frame 3755/4509) /content/cars.mp4: 384x640 9 cars, 24.3ms\n",
            "video 1/1 (frame 3756/4509) /content/cars.mp4: 384x640 9 cars, 24.3ms\n",
            "video 1/1 (frame 3757/4509) /content/cars.mp4: 384x640 9 cars, 24.3ms\n",
            "video 1/1 (frame 3758/4509) /content/cars.mp4: 384x640 10 cars, 24.3ms\n",
            "video 1/1 (frame 3759/4509) /content/cars.mp4: 384x640 8 cars, 24.3ms\n",
            "video 1/1 (frame 3760/4509) /content/cars.mp4: 384x640 11 cars, 24.3ms\n",
            "video 1/1 (frame 3761/4509) /content/cars.mp4: 384x640 9 cars, 24.3ms\n",
            "video 1/1 (frame 3762/4509) /content/cars.mp4: 384x640 8 cars, 24.3ms\n",
            "video 1/1 (frame 3763/4509) /content/cars.mp4: 384x640 8 cars, 24.3ms\n",
            "video 1/1 (frame 3764/4509) /content/cars.mp4: 384x640 8 cars, 24.3ms\n",
            "video 1/1 (frame 3765/4509) /content/cars.mp4: 384x640 8 cars, 24.3ms\n",
            "video 1/1 (frame 3766/4509) /content/cars.mp4: 384x640 11 cars, 24.3ms\n",
            "video 1/1 (frame 3767/4509) /content/cars.mp4: 384x640 12 cars, 24.3ms\n",
            "video 1/1 (frame 3768/4509) /content/cars.mp4: 384x640 10 cars, 24.3ms\n",
            "video 1/1 (frame 3769/4509) /content/cars.mp4: 384x640 12 cars, 24.3ms\n",
            "video 1/1 (frame 3770/4509) /content/cars.mp4: 384x640 12 cars, 24.3ms\n",
            "video 1/1 (frame 3771/4509) /content/cars.mp4: 384x640 10 cars, 24.3ms\n",
            "video 1/1 (frame 3772/4509) /content/cars.mp4: 384x640 11 cars, 24.3ms\n",
            "video 1/1 (frame 3773/4509) /content/cars.mp4: 384x640 11 cars, 24.3ms\n",
            "video 1/1 (frame 3774/4509) /content/cars.mp4: 384x640 10 cars, 24.3ms\n",
            "video 1/1 (frame 3775/4509) /content/cars.mp4: 384x640 9 cars, 24.3ms\n",
            "video 1/1 (frame 3776/4509) /content/cars.mp4: 384x640 9 cars, 24.3ms\n",
            "video 1/1 (frame 3777/4509) /content/cars.mp4: 384x640 10 cars, 24.3ms\n",
            "video 1/1 (frame 3778/4509) /content/cars.mp4: 384x640 8 cars, 1 motorcycle, 24.3ms\n",
            "video 1/1 (frame 3779/4509) /content/cars.mp4: 384x640 11 cars, 24.3ms\n",
            "video 1/1 (frame 3780/4509) /content/cars.mp4: 384x640 10 cars, 1 truck, 24.3ms\n",
            "video 1/1 (frame 3781/4509) /content/cars.mp4: 384x640 10 cars, 1 truck, 24.3ms\n",
            "video 1/1 (frame 3782/4509) /content/cars.mp4: 384x640 10 cars, 24.3ms\n",
            "video 1/1 (frame 3783/4509) /content/cars.mp4: 384x640 10 cars, 1 truck, 24.3ms\n",
            "video 1/1 (frame 3784/4509) /content/cars.mp4: 384x640 9 cars, 1 truck, 24.3ms\n",
            "video 1/1 (frame 3785/4509) /content/cars.mp4: 384x640 9 cars, 25.4ms\n",
            "video 1/1 (frame 3786/4509) /content/cars.mp4: 384x640 9 cars, 1 truck, 24.3ms\n",
            "video 1/1 (frame 3787/4509) /content/cars.mp4: 384x640 10 cars, 1 truck, 24.3ms\n",
            "video 1/1 (frame 3788/4509) /content/cars.mp4: 384x640 9 cars, 2 trucks, 24.3ms\n",
            "video 1/1 (frame 3789/4509) /content/cars.mp4: 384x640 10 cars, 2 trucks, 24.3ms\n",
            "video 1/1 (frame 3790/4509) /content/cars.mp4: 384x640 10 cars, 2 trucks, 24.3ms\n",
            "video 1/1 (frame 3791/4509) /content/cars.mp4: 384x640 10 cars, 1 truck, 24.3ms\n",
            "video 1/1 (frame 3792/4509) /content/cars.mp4: 384x640 10 cars, 1 truck, 24.3ms\n",
            "video 1/1 (frame 3793/4509) /content/cars.mp4: 384x640 10 cars, 1 truck, 24.3ms\n",
            "video 1/1 (frame 3794/4509) /content/cars.mp4: 384x640 10 cars, 1 truck, 24.3ms\n",
            "video 1/1 (frame 3795/4509) /content/cars.mp4: 384x640 10 cars, 1 truck, 24.4ms\n",
            "video 1/1 (frame 3796/4509) /content/cars.mp4: 384x640 10 cars, 24.3ms\n",
            "video 1/1 (frame 3797/4509) /content/cars.mp4: 384x640 10 cars, 1 truck, 24.3ms\n",
            "video 1/1 (frame 3798/4509) /content/cars.mp4: 384x640 11 cars, 1 truck, 24.3ms\n",
            "video 1/1 (frame 3799/4509) /content/cars.mp4: 384x640 10 cars, 24.3ms\n",
            "video 1/1 (frame 3800/4509) /content/cars.mp4: 384x640 8 cars, 1 truck, 24.3ms\n",
            "video 1/1 (frame 3801/4509) /content/cars.mp4: 384x640 8 cars, 1 truck, 24.6ms\n",
            "video 1/1 (frame 3802/4509) /content/cars.mp4: 384x640 8 cars, 1 truck, 24.3ms\n",
            "video 1/1 (frame 3803/4509) /content/cars.mp4: 384x640 1 bicycle, 7 cars, 24.3ms\n",
            "video 1/1 (frame 3804/4509) /content/cars.mp4: 384x640 8 cars, 24.3ms\n",
            "video 1/1 (frame 3805/4509) /content/cars.mp4: 384x640 8 cars, 24.3ms\n",
            "video 1/1 (frame 3806/4509) /content/cars.mp4: 384x640 8 cars, 1 truck, 24.3ms\n",
            "video 1/1 (frame 3807/4509) /content/cars.mp4: 384x640 10 cars, 24.3ms\n",
            "video 1/1 (frame 3808/4509) /content/cars.mp4: 384x640 9 cars, 1 truck, 24.3ms\n",
            "video 1/1 (frame 3809/4509) /content/cars.mp4: 384x640 10 cars, 1 truck, 24.3ms\n",
            "video 1/1 (frame 3810/4509) /content/cars.mp4: 384x640 11 cars, 1 truck, 24.3ms\n",
            "video 1/1 (frame 3811/4509) /content/cars.mp4: 384x640 10 cars, 24.3ms\n",
            "video 1/1 (frame 3812/4509) /content/cars.mp4: 384x640 8 cars, 24.3ms\n",
            "video 1/1 (frame 3813/4509) /content/cars.mp4: 384x640 7 cars, 24.3ms\n",
            "video 1/1 (frame 3814/4509) /content/cars.mp4: 384x640 8 cars, 24.3ms\n",
            "video 1/1 (frame 3815/4509) /content/cars.mp4: 384x640 7 cars, 24.3ms\n",
            "video 1/1 (frame 3816/4509) /content/cars.mp4: 384x640 7 cars, 24.3ms\n",
            "video 1/1 (frame 3817/4509) /content/cars.mp4: 384x640 7 cars, 24.3ms\n",
            "video 1/1 (frame 3818/4509) /content/cars.mp4: 384x640 10 cars, 24.3ms\n",
            "video 1/1 (frame 3819/4509) /content/cars.mp4: 384x640 7 cars, 24.3ms\n",
            "video 1/1 (frame 3820/4509) /content/cars.mp4: 384x640 7 cars, 24.3ms\n",
            "video 1/1 (frame 3821/4509) /content/cars.mp4: 384x640 9 cars, 24.3ms\n",
            "video 1/1 (frame 3822/4509) /content/cars.mp4: 384x640 10 cars, 24.3ms\n",
            "video 1/1 (frame 3823/4509) /content/cars.mp4: 384x640 10 cars, 24.3ms\n",
            "video 1/1 (frame 3824/4509) /content/cars.mp4: 384x640 8 cars, 24.3ms\n",
            "video 1/1 (frame 3825/4509) /content/cars.mp4: 384x640 7 cars, 24.3ms\n",
            "video 1/1 (frame 3826/4509) /content/cars.mp4: 384x640 7 cars, 24.3ms\n",
            "video 1/1 (frame 3827/4509) /content/cars.mp4: 384x640 7 cars, 24.3ms\n",
            "video 1/1 (frame 3828/4509) /content/cars.mp4: 384x640 7 cars, 1 truck, 24.3ms\n",
            "video 1/1 (frame 3829/4509) /content/cars.mp4: 384x640 6 cars, 1 truck, 24.3ms\n",
            "video 1/1 (frame 3830/4509) /content/cars.mp4: 384x640 6 cars, 1 truck, 24.5ms\n",
            "video 1/1 (frame 3831/4509) /content/cars.mp4: 384x640 8 cars, 1 truck, 24.3ms\n",
            "video 1/1 (frame 3832/4509) /content/cars.mp4: 384x640 6 cars, 1 truck, 25.6ms\n",
            "video 1/1 (frame 3833/4509) /content/cars.mp4: 384x640 6 cars, 1 truck, 26.8ms\n",
            "video 1/1 (frame 3834/4509) /content/cars.mp4: 384x640 6 cars, 1 truck, 25.6ms\n",
            "video 1/1 (frame 3835/4509) /content/cars.mp4: 384x640 6 cars, 1 truck, 24.3ms\n",
            "video 1/1 (frame 3836/4509) /content/cars.mp4: 384x640 6 cars, 1 truck, 24.6ms\n",
            "video 1/1 (frame 3837/4509) /content/cars.mp4: 384x640 8 cars, 1 truck, 35.9ms\n",
            "video 1/1 (frame 3838/4509) /content/cars.mp4: 384x640 5 cars, 1 truck, 24.3ms\n",
            "video 1/1 (frame 3839/4509) /content/cars.mp4: 384x640 5 cars, 2 trucks, 24.3ms\n",
            "video 1/1 (frame 3840/4509) /content/cars.mp4: 384x640 6 cars, 2 trucks, 24.3ms\n",
            "video 1/1 (frame 3841/4509) /content/cars.mp4: 384x640 8 cars, 1 truck, 30.3ms\n",
            "video 1/1 (frame 3842/4509) /content/cars.mp4: 384x640 5 cars, 1 truck, 24.3ms\n",
            "video 1/1 (frame 3843/4509) /content/cars.mp4: 384x640 6 cars, 1 truck, 31.7ms\n",
            "video 1/1 (frame 3844/4509) /content/cars.mp4: 384x640 6 cars, 2 trucks, 24.3ms\n",
            "video 1/1 (frame 3845/4509) /content/cars.mp4: 384x640 6 cars, 1 truck, 33.6ms\n",
            "video 1/1 (frame 3846/4509) /content/cars.mp4: 384x640 5 cars, 1 truck, 26.3ms\n",
            "video 1/1 (frame 3847/4509) /content/cars.mp4: 384x640 5 cars, 1 truck, 24.3ms\n",
            "video 1/1 (frame 3848/4509) /content/cars.mp4: 384x640 5 cars, 1 truck, 26.9ms\n",
            "video 1/1 (frame 3849/4509) /content/cars.mp4: 384x640 5 cars, 1 truck, 26.8ms\n",
            "video 1/1 (frame 3850/4509) /content/cars.mp4: 384x640 5 cars, 1 truck, 24.3ms\n",
            "video 1/1 (frame 3851/4509) /content/cars.mp4: 384x640 6 cars, 1 truck, 30.3ms\n",
            "video 1/1 (frame 3852/4509) /content/cars.mp4: 384x640 5 cars, 1 truck, 24.7ms\n",
            "video 1/1 (frame 3853/4509) /content/cars.mp4: 384x640 7 cars, 2 trucks, 24.3ms\n",
            "video 1/1 (frame 3854/4509) /content/cars.mp4: 384x640 5 cars, 1 truck, 24.3ms\n",
            "video 1/1 (frame 3855/4509) /content/cars.mp4: 384x640 5 cars, 1 truck, 24.3ms\n",
            "video 1/1 (frame 3856/4509) /content/cars.mp4: 384x640 6 cars, 1 truck, 24.3ms\n",
            "video 1/1 (frame 3857/4509) /content/cars.mp4: 384x640 7 cars, 1 truck, 24.3ms\n",
            "video 1/1 (frame 3858/4509) /content/cars.mp4: 384x640 6 cars, 1 truck, 24.3ms\n",
            "video 1/1 (frame 3859/4509) /content/cars.mp4: 384x640 6 cars, 1 truck, 24.3ms\n",
            "video 1/1 (frame 3860/4509) /content/cars.mp4: 384x640 6 cars, 1 truck, 24.3ms\n",
            "video 1/1 (frame 3861/4509) /content/cars.mp4: 384x640 5 cars, 1 truck, 24.3ms\n",
            "video 1/1 (frame 3862/4509) /content/cars.mp4: 384x640 7 cars, 1 truck, 24.3ms\n",
            "video 1/1 (frame 3863/4509) /content/cars.mp4: 384x640 6 cars, 1 truck, 24.3ms\n",
            "video 1/1 (frame 3864/4509) /content/cars.mp4: 384x640 6 cars, 1 truck, 24.3ms\n",
            "video 1/1 (frame 3865/4509) /content/cars.mp4: 384x640 6 cars, 1 truck, 24.3ms\n",
            "video 1/1 (frame 3866/4509) /content/cars.mp4: 384x640 5 cars, 1 truck, 24.3ms\n",
            "video 1/1 (frame 3867/4509) /content/cars.mp4: 384x640 6 cars, 1 truck, 24.3ms\n",
            "video 1/1 (frame 3868/4509) /content/cars.mp4: 384x640 6 cars, 1 truck, 24.3ms\n",
            "video 1/1 (frame 3869/4509) /content/cars.mp4: 384x640 7 cars, 1 truck, 24.3ms\n",
            "video 1/1 (frame 3870/4509) /content/cars.mp4: 384x640 7 cars, 1 truck, 24.3ms\n",
            "video 1/1 (frame 3871/4509) /content/cars.mp4: 384x640 7 cars, 1 truck, 24.3ms\n",
            "video 1/1 (frame 3872/4509) /content/cars.mp4: 384x640 7 cars, 1 truck, 24.3ms\n",
            "video 1/1 (frame 3873/4509) /content/cars.mp4: 384x640 7 cars, 1 truck, 24.3ms\n",
            "video 1/1 (frame 3874/4509) /content/cars.mp4: 384x640 7 cars, 1 truck, 24.3ms\n",
            "video 1/1 (frame 3875/4509) /content/cars.mp4: 384x640 7 cars, 1 truck, 24.3ms\n",
            "video 1/1 (frame 3876/4509) /content/cars.mp4: 384x640 9 cars, 1 truck, 24.3ms\n",
            "video 1/1 (frame 3877/4509) /content/cars.mp4: 384x640 8 cars, 1 truck, 24.3ms\n",
            "video 1/1 (frame 3878/4509) /content/cars.mp4: 384x640 8 cars, 1 truck, 24.4ms\n",
            "video 1/1 (frame 3879/4509) /content/cars.mp4: 384x640 8 cars, 1 truck, 24.3ms\n",
            "video 1/1 (frame 3880/4509) /content/cars.mp4: 384x640 9 cars, 1 truck, 24.3ms\n",
            "video 1/1 (frame 3881/4509) /content/cars.mp4: 384x640 8 cars, 1 truck, 24.3ms\n",
            "video 1/1 (frame 3882/4509) /content/cars.mp4: 384x640 9 cars, 1 truck, 24.3ms\n",
            "video 1/1 (frame 3883/4509) /content/cars.mp4: 384x640 8 cars, 1 truck, 25.0ms\n",
            "video 1/1 (frame 3884/4509) /content/cars.mp4: 384x640 9 cars, 1 truck, 24.3ms\n",
            "video 1/1 (frame 3885/4509) /content/cars.mp4: 384x640 9 cars, 1 truck, 24.3ms\n",
            "video 1/1 (frame 3886/4509) /content/cars.mp4: 384x640 9 cars, 1 truck, 24.3ms\n",
            "video 1/1 (frame 3887/4509) /content/cars.mp4: 384x640 9 cars, 1 truck, 24.3ms\n",
            "video 1/1 (frame 3888/4509) /content/cars.mp4: 384x640 9 cars, 1 truck, 24.3ms\n",
            "video 1/1 (frame 3889/4509) /content/cars.mp4: 384x640 9 cars, 1 truck, 24.3ms\n",
            "video 1/1 (frame 3890/4509) /content/cars.mp4: 384x640 8 cars, 1 truck, 24.3ms\n",
            "video 1/1 (frame 3891/4509) /content/cars.mp4: 384x640 7 cars, 1 truck, 24.3ms\n",
            "video 1/1 (frame 3892/4509) /content/cars.mp4: 384x640 7 cars, 1 truck, 24.3ms\n",
            "video 1/1 (frame 3893/4509) /content/cars.mp4: 384x640 7 cars, 2 trucks, 24.3ms\n",
            "video 1/1 (frame 3894/4509) /content/cars.mp4: 384x640 6 cars, 2 trucks, 24.3ms\n",
            "video 1/1 (frame 3895/4509) /content/cars.mp4: 384x640 6 cars, 1 truck, 24.3ms\n",
            "video 1/1 (frame 3896/4509) /content/cars.mp4: 384x640 6 cars, 1 truck, 24.3ms\n",
            "video 1/1 (frame 3897/4509) /content/cars.mp4: 384x640 6 cars, 1 truck, 24.3ms\n",
            "video 1/1 (frame 3898/4509) /content/cars.mp4: 384x640 6 cars, 1 truck, 24.3ms\n",
            "video 1/1 (frame 3899/4509) /content/cars.mp4: 384x640 6 cars, 1 truck, 24.3ms\n",
            "video 1/1 (frame 3900/4509) /content/cars.mp4: 384x640 7 cars, 1 truck, 24.3ms\n",
            "video 1/1 (frame 3901/4509) /content/cars.mp4: 384x640 7 cars, 1 truck, 24.3ms\n",
            "video 1/1 (frame 3902/4509) /content/cars.mp4: 384x640 6 cars, 2 trucks, 24.3ms\n",
            "video 1/1 (frame 3903/4509) /content/cars.mp4: 384x640 7 cars, 2 trucks, 24.3ms\n",
            "video 1/1 (frame 3904/4509) /content/cars.mp4: 384x640 7 cars, 2 trucks, 24.3ms\n",
            "video 1/1 (frame 3905/4509) /content/cars.mp4: 384x640 9 cars, 1 truck, 1 traffic light, 24.3ms\n",
            "video 1/1 (frame 3906/4509) /content/cars.mp4: 384x640 8 cars, 1 truck, 24.3ms\n",
            "video 1/1 (frame 3907/4509) /content/cars.mp4: 384x640 8 cars, 1 truck, 24.3ms\n",
            "video 1/1 (frame 3908/4509) /content/cars.mp4: 384x640 6 cars, 2 trucks, 24.3ms\n",
            "video 1/1 (frame 3909/4509) /content/cars.mp4: 384x640 8 cars, 1 truck, 24.3ms\n",
            "video 1/1 (frame 3910/4509) /content/cars.mp4: 384x640 8 cars, 2 trucks, 24.3ms\n",
            "video 1/1 (frame 3911/4509) /content/cars.mp4: 384x640 7 cars, 2 trucks, 24.3ms\n",
            "video 1/1 (frame 3912/4509) /content/cars.mp4: 384x640 7 cars, 2 trucks, 24.3ms\n",
            "video 1/1 (frame 3913/4509) /content/cars.mp4: 384x640 7 cars, 2 trucks, 24.3ms\n",
            "video 1/1 (frame 3914/4509) /content/cars.mp4: 384x640 8 cars, 1 truck, 24.3ms\n",
            "video 1/1 (frame 3915/4509) /content/cars.mp4: 384x640 7 cars, 1 truck, 24.3ms\n",
            "video 1/1 (frame 3916/4509) /content/cars.mp4: 384x640 6 cars, 1 truck, 24.3ms\n",
            "video 1/1 (frame 3917/4509) /content/cars.mp4: 384x640 8 cars, 1 truck, 24.3ms\n",
            "video 1/1 (frame 3918/4509) /content/cars.mp4: 384x640 10 cars, 1 truck, 24.3ms\n",
            "video 1/1 (frame 3919/4509) /content/cars.mp4: 384x640 10 cars, 1 truck, 24.3ms\n",
            "video 1/1 (frame 3920/4509) /content/cars.mp4: 384x640 11 cars, 2 trucks, 24.3ms\n",
            "video 1/1 (frame 3921/4509) /content/cars.mp4: 384x640 9 cars, 2 trucks, 24.3ms\n",
            "video 1/1 (frame 3922/4509) /content/cars.mp4: 384x640 9 cars, 2 trucks, 24.3ms\n",
            "video 1/1 (frame 3923/4509) /content/cars.mp4: 384x640 12 cars, 1 truck, 24.3ms\n",
            "video 1/1 (frame 3924/4509) /content/cars.mp4: 384x640 10 cars, 1 truck, 24.3ms\n",
            "video 1/1 (frame 3925/4509) /content/cars.mp4: 384x640 10 cars, 1 truck, 24.3ms\n",
            "video 1/1 (frame 3926/4509) /content/cars.mp4: 384x640 12 cars, 2 trucks, 24.3ms\n",
            "video 1/1 (frame 3927/4509) /content/cars.mp4: 384x640 11 cars, 2 trucks, 24.3ms\n",
            "video 1/1 (frame 3928/4509) /content/cars.mp4: 384x640 11 cars, 2 trucks, 25.9ms\n",
            "video 1/1 (frame 3929/4509) /content/cars.mp4: 384x640 13 cars, 1 truck, 24.3ms\n",
            "video 1/1 (frame 3930/4509) /content/cars.mp4: 384x640 12 cars, 2 trucks, 24.3ms\n",
            "video 1/1 (frame 3931/4509) /content/cars.mp4: 384x640 12 cars, 1 truck, 24.3ms\n",
            "video 1/1 (frame 3932/4509) /content/cars.mp4: 384x640 12 cars, 1 truck, 24.3ms\n",
            "video 1/1 (frame 3933/4509) /content/cars.mp4: 384x640 11 cars, 1 truck, 24.3ms\n",
            "video 1/1 (frame 3934/4509) /content/cars.mp4: 384x640 11 cars, 1 truck, 24.3ms\n",
            "video 1/1 (frame 3935/4509) /content/cars.mp4: 384x640 11 cars, 1 truck, 24.3ms\n",
            "video 1/1 (frame 3936/4509) /content/cars.mp4: 384x640 10 cars, 1 truck, 24.3ms\n",
            "video 1/1 (frame 3937/4509) /content/cars.mp4: 384x640 10 cars, 1 truck, 24.3ms\n",
            "video 1/1 (frame 3938/4509) /content/cars.mp4: 384x640 10 cars, 1 truck, 24.3ms\n",
            "video 1/1 (frame 3939/4509) /content/cars.mp4: 384x640 9 cars, 1 truck, 1 traffic light, 24.3ms\n",
            "video 1/1 (frame 3940/4509) /content/cars.mp4: 384x640 11 cars, 1 truck, 24.3ms\n",
            "video 1/1 (frame 3941/4509) /content/cars.mp4: 384x640 9 cars, 1 truck, 1 traffic light, 29.9ms\n",
            "video 1/1 (frame 3942/4509) /content/cars.mp4: 384x640 11 cars, 1 truck, 24.3ms\n",
            "video 1/1 (frame 3943/4509) /content/cars.mp4: 384x640 11 cars, 1 truck, 24.3ms\n",
            "video 1/1 (frame 3944/4509) /content/cars.mp4: 384x640 11 cars, 1 truck, 24.3ms\n",
            "video 1/1 (frame 3945/4509) /content/cars.mp4: 384x640 11 cars, 1 truck, 24.3ms\n",
            "video 1/1 (frame 3946/4509) /content/cars.mp4: 384x640 12 cars, 1 truck, 24.4ms\n",
            "video 1/1 (frame 3947/4509) /content/cars.mp4: 384x640 12 cars, 1 truck, 24.3ms\n",
            "video 1/1 (frame 3948/4509) /content/cars.mp4: 384x640 12 cars, 1 truck, 24.3ms\n",
            "video 1/1 (frame 3949/4509) /content/cars.mp4: 384x640 10 cars, 1 truck, 24.3ms\n",
            "video 1/1 (frame 3950/4509) /content/cars.mp4: 384x640 10 cars, 1 truck, 24.3ms\n",
            "video 1/1 (frame 3951/4509) /content/cars.mp4: 384x640 12 cars, 1 truck, 24.3ms\n",
            "video 1/1 (frame 3952/4509) /content/cars.mp4: 384x640 12 cars, 1 truck, 24.4ms\n",
            "video 1/1 (frame 3953/4509) /content/cars.mp4: 384x640 11 cars, 1 truck, 24.3ms\n",
            "video 1/1 (frame 3954/4509) /content/cars.mp4: 384x640 11 cars, 1 truck, 24.3ms\n",
            "video 1/1 (frame 3955/4509) /content/cars.mp4: 384x640 11 cars, 1 truck, 24.3ms\n",
            "video 1/1 (frame 3956/4509) /content/cars.mp4: 384x640 11 cars, 1 truck, 24.3ms\n",
            "video 1/1 (frame 3957/4509) /content/cars.mp4: 384x640 12 cars, 1 truck, 24.3ms\n",
            "video 1/1 (frame 3958/4509) /content/cars.mp4: 384x640 12 cars, 2 trucks, 24.3ms\n",
            "video 1/1 (frame 3959/4509) /content/cars.mp4: 384x640 11 cars, 1 truck, 24.3ms\n",
            "video 1/1 (frame 3960/4509) /content/cars.mp4: 384x640 11 cars, 2 trucks, 24.3ms\n",
            "video 1/1 (frame 3961/4509) /content/cars.mp4: 384x640 11 cars, 1 truck, 24.3ms\n",
            "video 1/1 (frame 3962/4509) /content/cars.mp4: 384x640 12 cars, 1 truck, 24.3ms\n",
            "video 1/1 (frame 3963/4509) /content/cars.mp4: 384x640 13 cars, 1 truck, 24.3ms\n",
            "video 1/1 (frame 3964/4509) /content/cars.mp4: 384x640 11 cars, 1 truck, 26.7ms\n",
            "video 1/1 (frame 3965/4509) /content/cars.mp4: 384x640 12 cars, 1 truck, 1 traffic light, 24.3ms\n",
            "video 1/1 (frame 3966/4509) /content/cars.mp4: 384x640 12 cars, 1 truck, 1 traffic light, 24.3ms\n",
            "video 1/1 (frame 3967/4509) /content/cars.mp4: 384x640 10 cars, 1 truck, 1 traffic light, 24.3ms\n",
            "video 1/1 (frame 3968/4509) /content/cars.mp4: 384x640 11 cars, 1 truck, 24.3ms\n",
            "video 1/1 (frame 3969/4509) /content/cars.mp4: 384x640 10 cars, 1 truck, 27.8ms\n",
            "video 1/1 (frame 3970/4509) /content/cars.mp4: 384x640 10 cars, 1 truck, 24.9ms\n",
            "video 1/1 (frame 3971/4509) /content/cars.mp4: 384x640 10 cars, 1 truck, 24.3ms\n",
            "video 1/1 (frame 3972/4509) /content/cars.mp4: 384x640 10 cars, 1 truck, 29.1ms\n",
            "video 1/1 (frame 3973/4509) /content/cars.mp4: 384x640 10 cars, 1 truck, 24.3ms\n",
            "video 1/1 (frame 3974/4509) /content/cars.mp4: 384x640 10 cars, 1 truck, 24.3ms\n",
            "video 1/1 (frame 3975/4509) /content/cars.mp4: 384x640 10 cars, 25.4ms\n",
            "video 1/1 (frame 3976/4509) /content/cars.mp4: 384x640 10 cars, 1 truck, 31.3ms\n",
            "video 1/1 (frame 3977/4509) /content/cars.mp4: 384x640 9 cars, 1 truck, 24.3ms\n",
            "video 1/1 (frame 3978/4509) /content/cars.mp4: 384x640 9 cars, 1 truck, 25.4ms\n",
            "video 1/1 (frame 3979/4509) /content/cars.mp4: 384x640 9 cars, 1 truck, 24.3ms\n",
            "video 1/1 (frame 3980/4509) /content/cars.mp4: 384x640 8 cars, 1 truck, 32.2ms\n",
            "video 1/1 (frame 3981/4509) /content/cars.mp4: 384x640 8 cars, 1 truck, 35.5ms\n",
            "video 1/1 (frame 3982/4509) /content/cars.mp4: 384x640 8 cars, 24.3ms\n",
            "video 1/1 (frame 3983/4509) /content/cars.mp4: 384x640 8 cars, 1 truck, 24.3ms\n",
            "video 1/1 (frame 3984/4509) /content/cars.mp4: 384x640 9 cars, 2 trucks, 24.8ms\n",
            "video 1/1 (frame 3985/4509) /content/cars.mp4: 384x640 9 cars, 1 truck, 25.8ms\n",
            "video 1/1 (frame 3986/4509) /content/cars.mp4: 384x640 8 cars, 2 trucks, 24.3ms\n",
            "video 1/1 (frame 3987/4509) /content/cars.mp4: 384x640 11 cars, 1 truck, 37.9ms\n",
            "video 1/1 (frame 3988/4509) /content/cars.mp4: 384x640 9 cars, 1 truck, 24.3ms\n",
            "video 1/1 (frame 3989/4509) /content/cars.mp4: 384x640 8 cars, 1 truck, 24.3ms\n",
            "video 1/1 (frame 3990/4509) /content/cars.mp4: 384x640 8 cars, 1 truck, 24.3ms\n",
            "video 1/1 (frame 3991/4509) /content/cars.mp4: 384x640 7 cars, 1 truck, 24.3ms\n",
            "video 1/1 (frame 3992/4509) /content/cars.mp4: 384x640 10 cars, 1 truck, 24.3ms\n",
            "video 1/1 (frame 3993/4509) /content/cars.mp4: 384x640 8 cars, 1 truck, 24.3ms\n",
            "video 1/1 (frame 3994/4509) /content/cars.mp4: 384x640 11 cars, 1 truck, 24.3ms\n",
            "video 1/1 (frame 3995/4509) /content/cars.mp4: 384x640 12 cars, 1 truck, 24.3ms\n",
            "video 1/1 (frame 3996/4509) /content/cars.mp4: 384x640 13 cars, 1 truck, 24.3ms\n",
            "video 1/1 (frame 3997/4509) /content/cars.mp4: 384x640 11 cars, 1 truck, 24.3ms\n",
            "video 1/1 (frame 3998/4509) /content/cars.mp4: 384x640 13 cars, 1 truck, 24.3ms\n",
            "video 1/1 (frame 3999/4509) /content/cars.mp4: 384x640 13 cars, 1 truck, 24.3ms\n",
            "video 1/1 (frame 4000/4509) /content/cars.mp4: 384x640 14 cars, 2 trucks, 24.3ms\n",
            "video 1/1 (frame 4001/4509) /content/cars.mp4: 384x640 14 cars, 1 truck, 24.3ms\n",
            "video 1/1 (frame 4002/4509) /content/cars.mp4: 384x640 13 cars, 2 trucks, 24.3ms\n",
            "video 1/1 (frame 4003/4509) /content/cars.mp4: 384x640 11 cars, 1 truck, 24.3ms\n",
            "video 1/1 (frame 4004/4509) /content/cars.mp4: 384x640 13 cars, 24.3ms\n",
            "video 1/1 (frame 4005/4509) /content/cars.mp4: 384x640 12 cars, 24.3ms\n",
            "video 1/1 (frame 4006/4509) /content/cars.mp4: 384x640 13 cars, 2 trucks, 24.3ms\n",
            "video 1/1 (frame 4007/4509) /content/cars.mp4: 384x640 13 cars, 24.3ms\n",
            "video 1/1 (frame 4008/4509) /content/cars.mp4: 384x640 10 cars, 3 trucks, 24.3ms\n",
            "video 1/1 (frame 4009/4509) /content/cars.mp4: 384x640 13 cars, 1 truck, 24.3ms\n",
            "video 1/1 (frame 4010/4509) /content/cars.mp4: 384x640 13 cars, 2 trucks, 24.3ms\n",
            "video 1/1 (frame 4011/4509) /content/cars.mp4: 384x640 13 cars, 1 truck, 24.3ms\n",
            "video 1/1 (frame 4012/4509) /content/cars.mp4: 384x640 11 cars, 2 trucks, 24.3ms\n",
            "video 1/1 (frame 4013/4509) /content/cars.mp4: 384x640 13 cars, 1 truck, 24.3ms\n",
            "video 1/1 (frame 4014/4509) /content/cars.mp4: 384x640 13 cars, 1 truck, 24.3ms\n",
            "video 1/1 (frame 4015/4509) /content/cars.mp4: 384x640 13 cars, 1 truck, 24.3ms\n",
            "video 1/1 (frame 4016/4509) /content/cars.mp4: 384x640 13 cars, 1 truck, 24.3ms\n",
            "video 1/1 (frame 4017/4509) /content/cars.mp4: 384x640 13 cars, 24.3ms\n",
            "video 1/1 (frame 4018/4509) /content/cars.mp4: 384x640 12 cars, 1 truck, 24.3ms\n",
            "video 1/1 (frame 4019/4509) /content/cars.mp4: 384x640 14 cars, 24.3ms\n",
            "video 1/1 (frame 4020/4509) /content/cars.mp4: 384x640 14 cars, 24.3ms\n",
            "video 1/1 (frame 4021/4509) /content/cars.mp4: 384x640 13 cars, 1 truck, 24.3ms\n",
            "video 1/1 (frame 4022/4509) /content/cars.mp4: 384x640 11 cars, 2 trucks, 24.3ms\n",
            "video 1/1 (frame 4023/4509) /content/cars.mp4: 384x640 12 cars, 24.3ms\n",
            "video 1/1 (frame 4024/4509) /content/cars.mp4: 384x640 13 cars, 1 truck, 24.3ms\n",
            "video 1/1 (frame 4025/4509) /content/cars.mp4: 384x640 13 cars, 24.3ms\n",
            "video 1/1 (frame 4026/4509) /content/cars.mp4: 384x640 14 cars, 1 truck, 24.3ms\n",
            "video 1/1 (frame 4027/4509) /content/cars.mp4: 384x640 13 cars, 1 truck, 24.3ms\n",
            "video 1/1 (frame 4028/4509) /content/cars.mp4: 384x640 14 cars, 24.3ms\n",
            "video 1/1 (frame 4029/4509) /content/cars.mp4: 384x640 13 cars, 1 truck, 24.3ms\n",
            "video 1/1 (frame 4030/4509) /content/cars.mp4: 384x640 14 cars, 24.3ms\n",
            "video 1/1 (frame 4031/4509) /content/cars.mp4: 384x640 14 cars, 24.3ms\n",
            "video 1/1 (frame 4032/4509) /content/cars.mp4: 384x640 13 cars, 24.3ms\n",
            "video 1/1 (frame 4033/4509) /content/cars.mp4: 384x640 13 cars, 24.3ms\n",
            "video 1/1 (frame 4034/4509) /content/cars.mp4: 384x640 14 cars, 2 trucks, 24.3ms\n",
            "video 1/1 (frame 4035/4509) /content/cars.mp4: 384x640 14 cars, 2 trucks, 24.3ms\n",
            "video 1/1 (frame 4036/4509) /content/cars.mp4: 384x640 15 cars, 2 trucks, 24.3ms\n",
            "video 1/1 (frame 4037/4509) /content/cars.mp4: 384x640 16 cars, 2 trucks, 24.3ms\n",
            "video 1/1 (frame 4038/4509) /content/cars.mp4: 384x640 14 cars, 1 truck, 24.3ms\n",
            "video 1/1 (frame 4039/4509) /content/cars.mp4: 384x640 14 cars, 1 truck, 24.3ms\n",
            "video 1/1 (frame 4040/4509) /content/cars.mp4: 384x640 13 cars, 3 trucks, 24.3ms\n",
            "video 1/1 (frame 4041/4509) /content/cars.mp4: 384x640 12 cars, 4 trucks, 25.0ms\n",
            "video 1/1 (frame 4042/4509) /content/cars.mp4: 384x640 13 cars, 3 trucks, 24.3ms\n",
            "video 1/1 (frame 4043/4509) /content/cars.mp4: 384x640 13 cars, 2 trucks, 24.3ms\n",
            "video 1/1 (frame 4044/4509) /content/cars.mp4: 384x640 14 cars, 1 truck, 24.3ms\n",
            "video 1/1 (frame 4045/4509) /content/cars.mp4: 384x640 12 cars, 4 trucks, 24.3ms\n",
            "video 1/1 (frame 4046/4509) /content/cars.mp4: 384x640 13 cars, 2 trucks, 24.3ms\n",
            "video 1/1 (frame 4047/4509) /content/cars.mp4: 384x640 10 cars, 4 trucks, 25.6ms\n",
            "video 1/1 (frame 4048/4509) /content/cars.mp4: 384x640 10 cars, 4 trucks, 24.4ms\n",
            "video 1/1 (frame 4049/4509) /content/cars.mp4: 384x640 11 cars, 3 trucks, 24.7ms\n",
            "video 1/1 (frame 4050/4509) /content/cars.mp4: 384x640 9 cars, 5 trucks, 24.3ms\n",
            "video 1/1 (frame 4051/4509) /content/cars.mp4: 384x640 12 cars, 3 trucks, 24.3ms\n",
            "video 1/1 (frame 4052/4509) /content/cars.mp4: 384x640 10 cars, 4 trucks, 24.4ms\n",
            "video 1/1 (frame 4053/4509) /content/cars.mp4: 384x640 9 cars, 4 trucks, 24.3ms\n",
            "video 1/1 (frame 4054/4509) /content/cars.mp4: 384x640 13 cars, 2 trucks, 24.3ms\n",
            "video 1/1 (frame 4055/4509) /content/cars.mp4: 384x640 11 cars, 1 truck, 24.3ms\n",
            "video 1/1 (frame 4056/4509) /content/cars.mp4: 384x640 11 cars, 2 trucks, 24.3ms\n",
            "video 1/1 (frame 4057/4509) /content/cars.mp4: 384x640 11 cars, 4 trucks, 24.3ms\n",
            "video 1/1 (frame 4058/4509) /content/cars.mp4: 384x640 11 cars, 2 trucks, 24.3ms\n",
            "video 1/1 (frame 4059/4509) /content/cars.mp4: 384x640 12 cars, 2 trucks, 24.3ms\n",
            "video 1/1 (frame 4060/4509) /content/cars.mp4: 384x640 12 cars, 2 trucks, 24.3ms\n",
            "video 1/1 (frame 4061/4509) /content/cars.mp4: 384x640 11 cars, 2 trucks, 24.3ms\n",
            "video 1/1 (frame 4062/4509) /content/cars.mp4: 384x640 10 cars, 3 trucks, 24.3ms\n",
            "video 1/1 (frame 4063/4509) /content/cars.mp4: 384x640 12 cars, 2 trucks, 24.3ms\n",
            "video 1/1 (frame 4064/4509) /content/cars.mp4: 384x640 12 cars, 2 trucks, 24.3ms\n",
            "video 1/1 (frame 4065/4509) /content/cars.mp4: 384x640 12 cars, 2 trucks, 24.3ms\n",
            "video 1/1 (frame 4066/4509) /content/cars.mp4: 384x640 11 cars, 3 trucks, 24.3ms\n",
            "video 1/1 (frame 4067/4509) /content/cars.mp4: 384x640 11 cars, 2 trucks, 24.3ms\n",
            "video 1/1 (frame 4068/4509) /content/cars.mp4: 384x640 13 cars, 2 trucks, 37.2ms\n",
            "video 1/1 (frame 4069/4509) /content/cars.mp4: 384x640 13 cars, 2 trucks, 24.3ms\n",
            "video 1/1 (frame 4070/4509) /content/cars.mp4: 384x640 13 cars, 2 trucks, 24.3ms\n",
            "video 1/1 (frame 4071/4509) /content/cars.mp4: 384x640 13 cars, 2 trucks, 24.3ms\n",
            "video 1/1 (frame 4072/4509) /content/cars.mp4: 384x640 15 cars, 2 trucks, 24.3ms\n",
            "video 1/1 (frame 4073/4509) /content/cars.mp4: 384x640 15 cars, 1 truck, 24.3ms\n",
            "video 1/1 (frame 4074/4509) /content/cars.mp4: 384x640 15 cars, 1 truck, 24.3ms\n",
            "video 1/1 (frame 4075/4509) /content/cars.mp4: 384x640 13 cars, 1 truck, 24.3ms\n",
            "video 1/1 (frame 4076/4509) /content/cars.mp4: 384x640 14 cars, 1 truck, 24.3ms\n",
            "video 1/1 (frame 4077/4509) /content/cars.mp4: 384x640 13 cars, 1 truck, 24.3ms\n",
            "video 1/1 (frame 4078/4509) /content/cars.mp4: 384x640 11 cars, 2 trucks, 27.8ms\n",
            "video 1/1 (frame 4079/4509) /content/cars.mp4: 384x640 12 cars, 1 truck, 24.3ms\n",
            "video 1/1 (frame 4080/4509) /content/cars.mp4: 384x640 10 cars, 2 trucks, 24.3ms\n",
            "video 1/1 (frame 4081/4509) /content/cars.mp4: 384x640 10 cars, 1 truck, 24.3ms\n",
            "video 1/1 (frame 4082/4509) /content/cars.mp4: 384x640 10 cars, 1 truck, 24.3ms\n",
            "video 1/1 (frame 4083/4509) /content/cars.mp4: 384x640 10 cars, 1 truck, 24.3ms\n",
            "video 1/1 (frame 4084/4509) /content/cars.mp4: 384x640 10 cars, 1 truck, 24.3ms\n",
            "video 1/1 (frame 4085/4509) /content/cars.mp4: 384x640 10 cars, 1 truck, 24.3ms\n",
            "video 1/1 (frame 4086/4509) /content/cars.mp4: 384x640 12 cars, 1 truck, 24.3ms\n",
            "video 1/1 (frame 4087/4509) /content/cars.mp4: 384x640 12 cars, 1 truck, 24.3ms\n",
            "video 1/1 (frame 4088/4509) /content/cars.mp4: 384x640 11 cars, 1 truck, 24.3ms\n",
            "video 1/1 (frame 4089/4509) /content/cars.mp4: 384x640 12 cars, 2 trucks, 24.3ms\n",
            "video 1/1 (frame 4090/4509) /content/cars.mp4: 384x640 12 cars, 2 trucks, 24.3ms\n",
            "video 1/1 (frame 4091/4509) /content/cars.mp4: 384x640 12 cars, 2 trucks, 24.3ms\n",
            "video 1/1 (frame 4092/4509) /content/cars.mp4: 384x640 13 cars, 2 trucks, 24.3ms\n",
            "video 1/1 (frame 4093/4509) /content/cars.mp4: 384x640 12 cars, 3 trucks, 24.3ms\n",
            "video 1/1 (frame 4094/4509) /content/cars.mp4: 384x640 10 cars, 3 trucks, 24.3ms\n",
            "video 1/1 (frame 4095/4509) /content/cars.mp4: 384x640 11 cars, 2 trucks, 24.3ms\n",
            "video 1/1 (frame 4096/4509) /content/cars.mp4: 384x640 11 cars, 2 trucks, 24.3ms\n",
            "video 1/1 (frame 4097/4509) /content/cars.mp4: 384x640 11 cars, 1 truck, 24.3ms\n",
            "video 1/1 (frame 4098/4509) /content/cars.mp4: 384x640 11 cars, 3 trucks, 27.6ms\n",
            "video 1/1 (frame 4099/4509) /content/cars.mp4: 384x640 12 cars, 1 truck, 44.7ms\n",
            "video 1/1 (frame 4100/4509) /content/cars.mp4: 384x640 12 cars, 1 truck, 24.3ms\n",
            "video 1/1 (frame 4101/4509) /content/cars.mp4: 384x640 11 cars, 1 truck, 26.8ms\n",
            "video 1/1 (frame 4102/4509) /content/cars.mp4: 384x640 11 cars, 1 truck, 24.3ms\n",
            "video 1/1 (frame 4103/4509) /content/cars.mp4: 384x640 10 cars, 3 trucks, 27.0ms\n",
            "video 1/1 (frame 4104/4509) /content/cars.mp4: 384x640 9 cars, 2 trucks, 24.4ms\n",
            "video 1/1 (frame 4105/4509) /content/cars.mp4: 384x640 10 cars, 2 trucks, 24.3ms\n",
            "video 1/1 (frame 4106/4509) /content/cars.mp4: 384x640 10 cars, 2 trucks, 29.1ms\n",
            "video 1/1 (frame 4107/4509) /content/cars.mp4: 384x640 9 cars, 2 trucks, 32.0ms\n",
            "video 1/1 (frame 4108/4509) /content/cars.mp4: 384x640 9 cars, 3 trucks, 33.2ms\n",
            "video 1/1 (frame 4109/4509) /content/cars.mp4: 384x640 8 cars, 3 trucks, 28.3ms\n",
            "video 1/1 (frame 4110/4509) /content/cars.mp4: 384x640 8 cars, 2 trucks, 24.3ms\n",
            "video 1/1 (frame 4111/4509) /content/cars.mp4: 384x640 7 cars, 5 trucks, 25.7ms\n",
            "video 1/1 (frame 4112/4509) /content/cars.mp4: 384x640 9 cars, 2 trucks, 29.1ms\n",
            "video 1/1 (frame 4113/4509) /content/cars.mp4: 384x640 8 cars, 4 trucks, 24.3ms\n",
            "video 1/1 (frame 4114/4509) /content/cars.mp4: 384x640 9 cars, 3 trucks, 24.3ms\n",
            "video 1/1 (frame 4115/4509) /content/cars.mp4: 384x640 11 cars, 3 trucks, 29.2ms\n",
            "video 1/1 (frame 4116/4509) /content/cars.mp4: 384x640 8 cars, 2 trucks, 24.3ms\n",
            "video 1/1 (frame 4117/4509) /content/cars.mp4: 384x640 8 cars, 2 trucks, 26.5ms\n",
            "video 1/1 (frame 4118/4509) /content/cars.mp4: 384x640 9 cars, 2 trucks, 24.3ms\n",
            "video 1/1 (frame 4119/4509) /content/cars.mp4: 384x640 11 cars, 1 truck, 24.3ms\n",
            "video 1/1 (frame 4120/4509) /content/cars.mp4: 384x640 11 cars, 2 trucks, 24.3ms\n",
            "video 1/1 (frame 4121/4509) /content/cars.mp4: 384x640 12 cars, 2 trucks, 24.3ms\n",
            "video 1/1 (frame 4122/4509) /content/cars.mp4: 384x640 8 cars, 3 trucks, 24.3ms\n",
            "video 1/1 (frame 4123/4509) /content/cars.mp4: 384x640 10 cars, 2 trucks, 24.3ms\n",
            "video 1/1 (frame 4124/4509) /content/cars.mp4: 384x640 13 cars, 2 trucks, 24.3ms\n",
            "video 1/1 (frame 4125/4509) /content/cars.mp4: 384x640 14 cars, 2 trucks, 24.3ms\n",
            "video 1/1 (frame 4126/4509) /content/cars.mp4: 384x640 9 cars, 2 trucks, 24.3ms\n",
            "video 1/1 (frame 4127/4509) /content/cars.mp4: 384x640 12 cars, 3 trucks, 24.3ms\n",
            "video 1/1 (frame 4128/4509) /content/cars.mp4: 384x640 9 cars, 2 trucks, 24.3ms\n",
            "video 1/1 (frame 4129/4509) /content/cars.mp4: 384x640 11 cars, 2 trucks, 24.3ms\n",
            "video 1/1 (frame 4130/4509) /content/cars.mp4: 384x640 12 cars, 2 trucks, 24.3ms\n",
            "video 1/1 (frame 4131/4509) /content/cars.mp4: 384x640 13 cars, 2 trucks, 24.3ms\n",
            "video 1/1 (frame 4132/4509) /content/cars.mp4: 384x640 12 cars, 2 trucks, 24.3ms\n",
            "video 1/1 (frame 4133/4509) /content/cars.mp4: 384x640 12 cars, 2 trucks, 24.3ms\n",
            "video 1/1 (frame 4134/4509) /content/cars.mp4: 384x640 12 cars, 3 trucks, 24.5ms\n",
            "video 1/1 (frame 4135/4509) /content/cars.mp4: 384x640 10 cars, 2 trucks, 24.3ms\n",
            "video 1/1 (frame 4136/4509) /content/cars.mp4: 384x640 11 cars, 2 trucks, 24.3ms\n",
            "video 1/1 (frame 4137/4509) /content/cars.mp4: 384x640 11 cars, 2 trucks, 24.3ms\n",
            "video 1/1 (frame 4138/4509) /content/cars.mp4: 384x640 10 cars, 2 trucks, 24.3ms\n",
            "video 1/1 (frame 4139/4509) /content/cars.mp4: 384x640 7 cars, 2 trucks, 24.3ms\n",
            "video 1/1 (frame 4140/4509) /content/cars.mp4: 384x640 9 cars, 3 trucks, 24.3ms\n",
            "video 1/1 (frame 4141/4509) /content/cars.mp4: 384x640 7 cars, 3 trucks, 24.3ms\n",
            "video 1/1 (frame 4142/4509) /content/cars.mp4: 384x640 8 cars, 2 trucks, 24.3ms\n",
            "video 1/1 (frame 4143/4509) /content/cars.mp4: 384x640 7 cars, 2 trucks, 27.6ms\n",
            "video 1/1 (frame 4144/4509) /content/cars.mp4: 384x640 9 cars, 2 trucks, 24.3ms\n",
            "video 1/1 (frame 4145/4509) /content/cars.mp4: 384x640 9 cars, 1 truck, 24.3ms\n",
            "video 1/1 (frame 4146/4509) /content/cars.mp4: 384x640 8 cars, 1 truck, 24.3ms\n",
            "video 1/1 (frame 4147/4509) /content/cars.mp4: 384x640 8 cars, 1 truck, 24.3ms\n",
            "video 1/1 (frame 4148/4509) /content/cars.mp4: 384x640 7 cars, 1 truck, 24.3ms\n",
            "video 1/1 (frame 4149/4509) /content/cars.mp4: 384x640 7 cars, 1 truck, 24.3ms\n",
            "video 1/1 (frame 4150/4509) /content/cars.mp4: 384x640 8 cars, 1 truck, 24.3ms\n",
            "video 1/1 (frame 4151/4509) /content/cars.mp4: 384x640 9 cars, 1 truck, 24.3ms\n",
            "video 1/1 (frame 4152/4509) /content/cars.mp4: 384x640 7 cars, 2 trucks, 24.3ms\n",
            "video 1/1 (frame 4153/4509) /content/cars.mp4: 384x640 7 cars, 1 truck, 24.3ms\n",
            "video 1/1 (frame 4154/4509) /content/cars.mp4: 384x640 7 cars, 1 truck, 24.3ms\n",
            "video 1/1 (frame 4155/4509) /content/cars.mp4: 384x640 8 cars, 1 truck, 24.3ms\n",
            "video 1/1 (frame 4156/4509) /content/cars.mp4: 384x640 7 cars, 1 truck, 24.3ms\n",
            "video 1/1 (frame 4157/4509) /content/cars.mp4: 384x640 6 cars, 1 truck, 24.3ms\n",
            "video 1/1 (frame 4158/4509) /content/cars.mp4: 384x640 7 cars, 1 truck, 24.3ms\n",
            "video 1/1 (frame 4159/4509) /content/cars.mp4: 384x640 8 cars, 1 truck, 24.3ms\n",
            "video 1/1 (frame 4160/4509) /content/cars.mp4: 384x640 10 cars, 1 truck, 24.3ms\n",
            "video 1/1 (frame 4161/4509) /content/cars.mp4: 384x640 9 cars, 1 truck, 24.3ms\n",
            "video 1/1 (frame 4162/4509) /content/cars.mp4: 384x640 10 cars, 1 truck, 24.3ms\n",
            "video 1/1 (frame 4163/4509) /content/cars.mp4: 384x640 10 cars, 1 truck, 24.3ms\n",
            "video 1/1 (frame 4164/4509) /content/cars.mp4: 384x640 10 cars, 1 truck, 24.3ms\n",
            "video 1/1 (frame 4165/4509) /content/cars.mp4: 384x640 10 cars, 1 truck, 24.3ms\n",
            "video 1/1 (frame 4166/4509) /content/cars.mp4: 384x640 10 cars, 1 truck, 24.3ms\n",
            "video 1/1 (frame 4167/4509) /content/cars.mp4: 384x640 10 cars, 1 truck, 24.3ms\n",
            "video 1/1 (frame 4168/4509) /content/cars.mp4: 384x640 10 cars, 1 truck, 24.3ms\n",
            "video 1/1 (frame 4169/4509) /content/cars.mp4: 384x640 11 cars, 1 truck, 24.3ms\n",
            "video 1/1 (frame 4170/4509) /content/cars.mp4: 384x640 11 cars, 1 truck, 24.3ms\n",
            "video 1/1 (frame 4171/4509) /content/cars.mp4: 384x640 11 cars, 1 truck, 24.3ms\n",
            "video 1/1 (frame 4172/4509) /content/cars.mp4: 384x640 10 cars, 1 truck, 24.3ms\n",
            "video 1/1 (frame 4173/4509) /content/cars.mp4: 384x640 10 cars, 1 truck, 24.3ms\n",
            "video 1/1 (frame 4174/4509) /content/cars.mp4: 384x640 9 cars, 1 truck, 24.3ms\n",
            "video 1/1 (frame 4175/4509) /content/cars.mp4: 384x640 9 cars, 1 truck, 24.3ms\n",
            "video 1/1 (frame 4176/4509) /content/cars.mp4: 384x640 9 cars, 1 truck, 24.3ms\n",
            "video 1/1 (frame 4177/4509) /content/cars.mp4: 384x640 8 cars, 1 truck, 24.3ms\n",
            "video 1/1 (frame 4178/4509) /content/cars.mp4: 384x640 7 cars, 1 truck, 24.3ms\n",
            "video 1/1 (frame 4179/4509) /content/cars.mp4: 384x640 9 cars, 1 truck, 24.3ms\n",
            "video 1/1 (frame 4180/4509) /content/cars.mp4: 384x640 9 cars, 1 truck, 24.3ms\n",
            "video 1/1 (frame 4181/4509) /content/cars.mp4: 384x640 7 cars, 1 truck, 24.3ms\n",
            "video 1/1 (frame 4182/4509) /content/cars.mp4: 384x640 7 cars, 1 truck, 24.3ms\n",
            "video 1/1 (frame 4183/4509) /content/cars.mp4: 384x640 7 cars, 2 trucks, 24.3ms\n",
            "video 1/1 (frame 4184/4509) /content/cars.mp4: 384x640 8 cars, 1 truck, 24.4ms\n",
            "video 1/1 (frame 4185/4509) /content/cars.mp4: 384x640 11 cars, 1 truck, 24.3ms\n",
            "video 1/1 (frame 4186/4509) /content/cars.mp4: 384x640 11 cars, 1 truck, 24.3ms\n",
            "video 1/1 (frame 4187/4509) /content/cars.mp4: 384x640 9 cars, 1 truck, 24.3ms\n",
            "video 1/1 (frame 4188/4509) /content/cars.mp4: 384x640 9 cars, 1 truck, 24.3ms\n",
            "video 1/1 (frame 4189/4509) /content/cars.mp4: 384x640 8 cars, 1 truck, 24.3ms\n",
            "video 1/1 (frame 4190/4509) /content/cars.mp4: 384x640 8 cars, 2 trucks, 24.3ms\n",
            "video 1/1 (frame 4191/4509) /content/cars.mp4: 384x640 7 cars, 2 trucks, 24.3ms\n",
            "video 1/1 (frame 4192/4509) /content/cars.mp4: 384x640 8 cars, 2 trucks, 24.3ms\n",
            "video 1/1 (frame 4193/4509) /content/cars.mp4: 384x640 10 cars, 1 truck, 24.3ms\n",
            "video 1/1 (frame 4194/4509) /content/cars.mp4: 384x640 9 cars, 1 truck, 24.3ms\n",
            "video 1/1 (frame 4195/4509) /content/cars.mp4: 384x640 8 cars, 1 truck, 24.3ms\n",
            "video 1/1 (frame 4196/4509) /content/cars.mp4: 384x640 10 cars, 1 truck, 24.3ms\n",
            "video 1/1 (frame 4197/4509) /content/cars.mp4: 384x640 14 cars, 1 truck, 24.3ms\n",
            "video 1/1 (frame 4198/4509) /content/cars.mp4: 384x640 15 cars, 1 truck, 24.3ms\n",
            "video 1/1 (frame 4199/4509) /content/cars.mp4: 384x640 14 cars, 1 truck, 24.3ms\n",
            "video 1/1 (frame 4200/4509) /content/cars.mp4: 384x640 14 cars, 1 truck, 24.3ms\n",
            "video 1/1 (frame 4201/4509) /content/cars.mp4: 384x640 12 cars, 2 trucks, 24.3ms\n",
            "video 1/1 (frame 4202/4509) /content/cars.mp4: 384x640 13 cars, 2 trucks, 24.3ms\n",
            "video 1/1 (frame 4203/4509) /content/cars.mp4: 384x640 12 cars, 2 trucks, 24.3ms\n",
            "video 1/1 (frame 4204/4509) /content/cars.mp4: 384x640 11 cars, 2 trucks, 24.3ms\n",
            "video 1/1 (frame 4205/4509) /content/cars.mp4: 384x640 10 cars, 2 trucks, 24.3ms\n",
            "video 1/1 (frame 4206/4509) /content/cars.mp4: 384x640 12 cars, 2 trucks, 24.3ms\n",
            "video 1/1 (frame 4207/4509) /content/cars.mp4: 384x640 13 cars, 2 trucks, 24.3ms\n",
            "video 1/1 (frame 4208/4509) /content/cars.mp4: 384x640 13 cars, 2 trucks, 24.3ms\n",
            "video 1/1 (frame 4209/4509) /content/cars.mp4: 384x640 12 cars, 2 trucks, 24.3ms\n",
            "video 1/1 (frame 4210/4509) /content/cars.mp4: 384x640 12 cars, 2 trucks, 32.0ms\n",
            "video 1/1 (frame 4211/4509) /content/cars.mp4: 384x640 12 cars, 2 trucks, 24.3ms\n",
            "video 1/1 (frame 4212/4509) /content/cars.mp4: 384x640 12 cars, 1 motorcycle, 2 trucks, 24.4ms\n",
            "video 1/1 (frame 4213/4509) /content/cars.mp4: 384x640 11 cars, 3 trucks, 24.3ms\n",
            "video 1/1 (frame 4214/4509) /content/cars.mp4: 384x640 10 cars, 3 trucks, 24.3ms\n",
            "video 1/1 (frame 4215/4509) /content/cars.mp4: 384x640 11 cars, 3 trucks, 24.3ms\n",
            "video 1/1 (frame 4216/4509) /content/cars.mp4: 384x640 11 cars, 3 trucks, 24.3ms\n",
            "video 1/1 (frame 4217/4509) /content/cars.mp4: 384x640 10 cars, 3 trucks, 25.6ms\n",
            "video 1/1 (frame 4218/4509) /content/cars.mp4: 384x640 12 cars, 3 trucks, 24.3ms\n",
            "video 1/1 (frame 4219/4509) /content/cars.mp4: 384x640 10 cars, 4 trucks, 24.3ms\n",
            "video 1/1 (frame 4220/4509) /content/cars.mp4: 384x640 9 cars, 3 trucks, 24.3ms\n",
            "video 1/1 (frame 4221/4509) /content/cars.mp4: 384x640 10 cars, 4 trucks, 24.3ms\n",
            "video 1/1 (frame 4222/4509) /content/cars.mp4: 384x640 10 cars, 2 trucks, 24.3ms\n",
            "video 1/1 (frame 4223/4509) /content/cars.mp4: 384x640 11 cars, 2 trucks, 24.3ms\n",
            "video 1/1 (frame 4224/4509) /content/cars.mp4: 384x640 12 cars, 3 trucks, 24.3ms\n",
            "video 1/1 (frame 4225/4509) /content/cars.mp4: 384x640 10 cars, 2 trucks, 24.3ms\n",
            "video 1/1 (frame 4226/4509) /content/cars.mp4: 384x640 12 cars, 2 trucks, 24.3ms\n",
            "video 1/1 (frame 4227/4509) /content/cars.mp4: 384x640 13 cars, 2 trucks, 24.3ms\n",
            "video 1/1 (frame 4228/4509) /content/cars.mp4: 384x640 13 cars, 2 trucks, 24.3ms\n",
            "video 1/1 (frame 4229/4509) /content/cars.mp4: 384x640 11 cars, 2 trucks, 24.3ms\n",
            "video 1/1 (frame 4230/4509) /content/cars.mp4: 384x640 10 cars, 1 truck, 24.3ms\n",
            "video 1/1 (frame 4231/4509) /content/cars.mp4: 384x640 11 cars, 2 trucks, 24.3ms\n",
            "video 1/1 (frame 4232/4509) /content/cars.mp4: 384x640 11 cars, 2 trucks, 29.9ms\n",
            "video 1/1 (frame 4233/4509) /content/cars.mp4: 384x640 14 cars, 2 trucks, 24.3ms\n",
            "video 1/1 (frame 4234/4509) /content/cars.mp4: 384x640 11 cars, 2 trucks, 24.3ms\n",
            "video 1/1 (frame 4235/4509) /content/cars.mp4: 384x640 8 cars, 2 trucks, 24.3ms\n",
            "video 1/1 (frame 4236/4509) /content/cars.mp4: 384x640 10 cars, 3 trucks, 30.4ms\n",
            "video 1/1 (frame 4237/4509) /content/cars.mp4: 384x640 12 cars, 2 trucks, 24.3ms\n",
            "video 1/1 (frame 4238/4509) /content/cars.mp4: 384x640 10 cars, 2 trucks, 24.3ms\n",
            "video 1/1 (frame 4239/4509) /content/cars.mp4: 384x640 11 cars, 24.3ms\n",
            "video 1/1 (frame 4240/4509) /content/cars.mp4: 384x640 12 cars, 1 truck, 24.3ms\n",
            "video 1/1 (frame 4241/4509) /content/cars.mp4: 384x640 13 cars, 1 truck, 25.9ms\n",
            "video 1/1 (frame 4242/4509) /content/cars.mp4: 384x640 13 cars, 24.3ms\n",
            "video 1/1 (frame 4243/4509) /content/cars.mp4: 384x640 14 cars, 1 truck, 24.3ms\n",
            "video 1/1 (frame 4244/4509) /content/cars.mp4: 384x640 14 cars, 25.2ms\n",
            "video 1/1 (frame 4245/4509) /content/cars.mp4: 384x640 14 cars, 2 trucks, 24.3ms\n",
            "video 1/1 (frame 4246/4509) /content/cars.mp4: 384x640 11 cars, 2 trucks, 24.3ms\n",
            "video 1/1 (frame 4247/4509) /content/cars.mp4: 384x640 12 cars, 2 trucks, 24.3ms\n",
            "video 1/1 (frame 4248/4509) /content/cars.mp4: 384x640 13 cars, 1 truck, 25.1ms\n",
            "video 1/1 (frame 4249/4509) /content/cars.mp4: 384x640 14 cars, 2 trucks, 26.3ms\n",
            "video 1/1 (frame 4250/4509) /content/cars.mp4: 384x640 12 cars, 2 trucks, 24.8ms\n",
            "video 1/1 (frame 4251/4509) /content/cars.mp4: 384x640 13 cars, 2 trucks, 26.4ms\n",
            "video 1/1 (frame 4252/4509) /content/cars.mp4: 384x640 11 cars, 1 truck, 26.6ms\n",
            "video 1/1 (frame 4253/4509) /content/cars.mp4: 384x640 12 cars, 2 trucks, 28.1ms\n",
            "video 1/1 (frame 4254/4509) /content/cars.mp4: 384x640 12 cars, 2 trucks, 24.3ms\n",
            "video 1/1 (frame 4255/4509) /content/cars.mp4: 384x640 11 cars, 2 trucks, 24.3ms\n",
            "video 1/1 (frame 4256/4509) /content/cars.mp4: 384x640 11 cars, 2 trucks, 24.3ms\n",
            "video 1/1 (frame 4257/4509) /content/cars.mp4: 384x640 11 cars, 2 trucks, 24.3ms\n",
            "video 1/1 (frame 4258/4509) /content/cars.mp4: 384x640 12 cars, 2 trucks, 24.3ms\n",
            "video 1/1 (frame 4259/4509) /content/cars.mp4: 384x640 13 cars, 2 trucks, 24.3ms\n",
            "video 1/1 (frame 4260/4509) /content/cars.mp4: 384x640 11 cars, 3 trucks, 24.3ms\n",
            "video 1/1 (frame 4261/4509) /content/cars.mp4: 384x640 11 cars, 2 trucks, 24.3ms\n",
            "video 1/1 (frame 4262/4509) /content/cars.mp4: 384x640 11 cars, 2 trucks, 24.3ms\n",
            "video 1/1 (frame 4263/4509) /content/cars.mp4: 384x640 11 cars, 2 trucks, 24.3ms\n",
            "video 1/1 (frame 4264/4509) /content/cars.mp4: 384x640 14 cars, 1 truck, 24.3ms\n",
            "video 1/1 (frame 4265/4509) /content/cars.mp4: 384x640 13 cars, 24.3ms\n",
            "video 1/1 (frame 4266/4509) /content/cars.mp4: 384x640 13 cars, 1 truck, 24.3ms\n",
            "video 1/1 (frame 4267/4509) /content/cars.mp4: 384x640 11 cars, 1 truck, 24.3ms\n",
            "video 1/1 (frame 4268/4509) /content/cars.mp4: 384x640 10 cars, 1 truck, 24.3ms\n",
            "video 1/1 (frame 4269/4509) /content/cars.mp4: 384x640 10 cars, 1 truck, 24.3ms\n",
            "video 1/1 (frame 4270/4509) /content/cars.mp4: 384x640 10 cars, 1 truck, 24.3ms\n",
            "video 1/1 (frame 4271/4509) /content/cars.mp4: 384x640 13 cars, 1 truck, 24.3ms\n",
            "video 1/1 (frame 4272/4509) /content/cars.mp4: 384x640 13 cars, 2 trucks, 24.3ms\n",
            "video 1/1 (frame 4273/4509) /content/cars.mp4: 384x640 13 cars, 24.3ms\n",
            "video 1/1 (frame 4274/4509) /content/cars.mp4: 384x640 11 cars, 2 trucks, 24.3ms\n",
            "video 1/1 (frame 4275/4509) /content/cars.mp4: 384x640 10 cars, 3 trucks, 24.3ms\n",
            "video 1/1 (frame 4276/4509) /content/cars.mp4: 384x640 13 cars, 2 trucks, 24.3ms\n",
            "video 1/1 (frame 4277/4509) /content/cars.mp4: 384x640 13 cars, 24.3ms\n",
            "video 1/1 (frame 4278/4509) /content/cars.mp4: 384x640 13 cars, 1 truck, 24.3ms\n",
            "video 1/1 (frame 4279/4509) /content/cars.mp4: 384x640 12 cars, 1 truck, 24.3ms\n",
            "video 1/1 (frame 4280/4509) /content/cars.mp4: 384x640 12 cars, 2 trucks, 24.3ms\n",
            "video 1/1 (frame 4281/4509) /content/cars.mp4: 384x640 12 cars, 1 truck, 24.3ms\n",
            "video 1/1 (frame 4282/4509) /content/cars.mp4: 384x640 12 cars, 24.3ms\n",
            "video 1/1 (frame 4283/4509) /content/cars.mp4: 384x640 13 cars, 1 truck, 24.3ms\n",
            "video 1/1 (frame 4284/4509) /content/cars.mp4: 384x640 13 cars, 2 trucks, 24.3ms\n",
            "video 1/1 (frame 4285/4509) /content/cars.mp4: 384x640 13 cars, 24.3ms\n",
            "video 1/1 (frame 4286/4509) /content/cars.mp4: 384x640 13 cars, 1 truck, 24.3ms\n",
            "video 1/1 (frame 4287/4509) /content/cars.mp4: 384x640 13 cars, 3 trucks, 24.3ms\n",
            "video 1/1 (frame 4288/4509) /content/cars.mp4: 384x640 14 cars, 2 trucks, 24.3ms\n",
            "video 1/1 (frame 4289/4509) /content/cars.mp4: 384x640 15 cars, 1 truck, 24.3ms\n",
            "video 1/1 (frame 4290/4509) /content/cars.mp4: 384x640 15 cars, 24.3ms\n",
            "video 1/1 (frame 4291/4509) /content/cars.mp4: 384x640 14 cars, 24.3ms\n",
            "video 1/1 (frame 4292/4509) /content/cars.mp4: 384x640 15 cars, 24.3ms\n",
            "video 1/1 (frame 4293/4509) /content/cars.mp4: 384x640 15 cars, 2 trucks, 24.3ms\n",
            "video 1/1 (frame 4294/4509) /content/cars.mp4: 384x640 15 cars, 1 truck, 24.3ms\n",
            "video 1/1 (frame 4295/4509) /content/cars.mp4: 384x640 15 cars, 24.3ms\n",
            "video 1/1 (frame 4296/4509) /content/cars.mp4: 384x640 14 cars, 24.3ms\n",
            "video 1/1 (frame 4297/4509) /content/cars.mp4: 384x640 13 cars, 3 trucks, 24.3ms\n",
            "video 1/1 (frame 4298/4509) /content/cars.mp4: 384x640 14 cars, 2 trucks, 24.3ms\n",
            "video 1/1 (frame 4299/4509) /content/cars.mp4: 384x640 13 cars, 2 trucks, 24.3ms\n",
            "video 1/1 (frame 4300/4509) /content/cars.mp4: 384x640 13 cars, 3 trucks, 24.3ms\n",
            "video 1/1 (frame 4301/4509) /content/cars.mp4: 384x640 12 cars, 1 truck, 26.7ms\n",
            "video 1/1 (frame 4302/4509) /content/cars.mp4: 384x640 13 cars, 2 trucks, 24.3ms\n",
            "video 1/1 (frame 4303/4509) /content/cars.mp4: 384x640 14 cars, 1 truck, 24.3ms\n",
            "video 1/1 (frame 4304/4509) /content/cars.mp4: 384x640 14 cars, 3 trucks, 24.3ms\n",
            "video 1/1 (frame 4305/4509) /content/cars.mp4: 384x640 12 cars, 1 truck, 24.3ms\n",
            "video 1/1 (frame 4306/4509) /content/cars.mp4: 384x640 11 cars, 1 truck, 24.3ms\n",
            "video 1/1 (frame 4307/4509) /content/cars.mp4: 384x640 12 cars, 1 truck, 24.3ms\n",
            "video 1/1 (frame 4308/4509) /content/cars.mp4: 384x640 13 cars, 1 truck, 24.3ms\n",
            "video 1/1 (frame 4309/4509) /content/cars.mp4: 384x640 15 cars, 24.3ms\n",
            "video 1/1 (frame 4310/4509) /content/cars.mp4: 384x640 15 cars, 1 truck, 24.3ms\n",
            "video 1/1 (frame 4311/4509) /content/cars.mp4: 384x640 15 cars, 24.3ms\n",
            "video 1/1 (frame 4312/4509) /content/cars.mp4: 384x640 15 cars, 24.3ms\n",
            "video 1/1 (frame 4313/4509) /content/cars.mp4: 384x640 15 cars, 1 truck, 24.3ms\n",
            "video 1/1 (frame 4314/4509) /content/cars.mp4: 384x640 16 cars, 24.3ms\n",
            "video 1/1 (frame 4315/4509) /content/cars.mp4: 384x640 16 cars, 24.3ms\n",
            "video 1/1 (frame 4316/4509) /content/cars.mp4: 384x640 17 cars, 1 truck, 24.3ms\n",
            "video 1/1 (frame 4317/4509) /content/cars.mp4: 384x640 17 cars, 24.3ms\n",
            "video 1/1 (frame 4318/4509) /content/cars.mp4: 384x640 16 cars, 1 truck, 24.3ms\n",
            "video 1/1 (frame 4319/4509) /content/cars.mp4: 384x640 16 cars, 3 trucks, 24.3ms\n",
            "video 1/1 (frame 4320/4509) /content/cars.mp4: 384x640 14 cars, 2 trucks, 24.3ms\n",
            "video 1/1 (frame 4321/4509) /content/cars.mp4: 384x640 14 cars, 2 trucks, 24.3ms\n",
            "video 1/1 (frame 4322/4509) /content/cars.mp4: 384x640 16 cars, 2 trucks, 24.3ms\n",
            "video 1/1 (frame 4323/4509) /content/cars.mp4: 384x640 15 cars, 2 trucks, 24.3ms\n",
            "video 1/1 (frame 4324/4509) /content/cars.mp4: 384x640 15 cars, 3 trucks, 24.3ms\n",
            "video 1/1 (frame 4325/4509) /content/cars.mp4: 384x640 15 cars, 2 trucks, 24.3ms\n",
            "video 1/1 (frame 4326/4509) /content/cars.mp4: 384x640 14 cars, 3 trucks, 24.4ms\n",
            "video 1/1 (frame 4327/4509) /content/cars.mp4: 384x640 15 cars, 3 trucks, 24.3ms\n",
            "video 1/1 (frame 4328/4509) /content/cars.mp4: 384x640 13 cars, 3 trucks, 24.3ms\n",
            "video 1/1 (frame 4329/4509) /content/cars.mp4: 384x640 13 cars, 3 trucks, 24.3ms\n",
            "video 1/1 (frame 4330/4509) /content/cars.mp4: 384x640 11 cars, 3 trucks, 24.3ms\n",
            "video 1/1 (frame 4331/4509) /content/cars.mp4: 384x640 13 cars, 2 trucks, 24.3ms\n",
            "video 1/1 (frame 4332/4509) /content/cars.mp4: 384x640 11 cars, 2 trucks, 24.3ms\n",
            "video 1/1 (frame 4333/4509) /content/cars.mp4: 384x640 11 cars, 2 trucks, 24.3ms\n",
            "video 1/1 (frame 4334/4509) /content/cars.mp4: 384x640 11 cars, 2 trucks, 24.3ms\n",
            "video 1/1 (frame 4335/4509) /content/cars.mp4: 384x640 12 cars, 2 trucks, 24.3ms\n",
            "video 1/1 (frame 4336/4509) /content/cars.mp4: 384x640 13 cars, 3 trucks, 24.3ms\n",
            "video 1/1 (frame 4337/4509) /content/cars.mp4: 384x640 13 cars, 2 trucks, 24.3ms\n",
            "video 1/1 (frame 4338/4509) /content/cars.mp4: 384x640 12 cars, 1 truck, 24.3ms\n",
            "video 1/1 (frame 4339/4509) /content/cars.mp4: 384x640 12 cars, 1 truck, 24.3ms\n",
            "video 1/1 (frame 4340/4509) /content/cars.mp4: 384x640 11 cars, 2 trucks, 24.3ms\n",
            "video 1/1 (frame 4341/4509) /content/cars.mp4: 384x640 12 cars, 2 trucks, 24.3ms\n",
            "video 1/1 (frame 4342/4509) /content/cars.mp4: 384x640 14 cars, 1 truck, 24.3ms\n",
            "video 1/1 (frame 4343/4509) /content/cars.mp4: 384x640 13 cars, 1 truck, 24.3ms\n",
            "video 1/1 (frame 4344/4509) /content/cars.mp4: 384x640 13 cars, 1 truck, 24.3ms\n",
            "video 1/1 (frame 4345/4509) /content/cars.mp4: 384x640 9 cars, 1 truck, 24.3ms\n",
            "video 1/1 (frame 4346/4509) /content/cars.mp4: 384x640 10 cars, 1 truck, 24.3ms\n",
            "video 1/1 (frame 4347/4509) /content/cars.mp4: 384x640 11 cars, 1 truck, 24.3ms\n",
            "video 1/1 (frame 4348/4509) /content/cars.mp4: 384x640 12 cars, 1 truck, 24.3ms\n",
            "video 1/1 (frame 4349/4509) /content/cars.mp4: 384x640 11 cars, 1 truck, 24.3ms\n",
            "video 1/1 (frame 4350/4509) /content/cars.mp4: 384x640 10 cars, 1 truck, 24.3ms\n",
            "video 1/1 (frame 4351/4509) /content/cars.mp4: 384x640 9 cars, 1 truck, 24.3ms\n",
            "video 1/1 (frame 4352/4509) /content/cars.mp4: 384x640 9 cars, 1 truck, 27.3ms\n",
            "video 1/1 (frame 4353/4509) /content/cars.mp4: 384x640 9 cars, 1 truck, 24.3ms\n",
            "video 1/1 (frame 4354/4509) /content/cars.mp4: 384x640 7 cars, 1 truck, 24.3ms\n",
            "video 1/1 (frame 4355/4509) /content/cars.mp4: 384x640 7 cars, 2 trucks, 24.3ms\n",
            "video 1/1 (frame 4356/4509) /content/cars.mp4: 384x640 9 cars, 2 trucks, 24.3ms\n",
            "video 1/1 (frame 4357/4509) /content/cars.mp4: 384x640 8 cars, 1 truck, 24.3ms\n",
            "video 1/1 (frame 4358/4509) /content/cars.mp4: 384x640 7 cars, 1 truck, 24.3ms\n",
            "video 1/1 (frame 4359/4509) /content/cars.mp4: 384x640 8 cars, 1 truck, 24.3ms\n",
            "video 1/1 (frame 4360/4509) /content/cars.mp4: 384x640 8 cars, 1 truck, 24.3ms\n",
            "video 1/1 (frame 4361/4509) /content/cars.mp4: 384x640 8 cars, 1 truck, 24.3ms\n",
            "video 1/1 (frame 4362/4509) /content/cars.mp4: 384x640 8 cars, 24.3ms\n",
            "video 1/1 (frame 4363/4509) /content/cars.mp4: 384x640 8 cars, 24.3ms\n",
            "video 1/1 (frame 4364/4509) /content/cars.mp4: 384x640 8 cars, 24.3ms\n",
            "video 1/1 (frame 4365/4509) /content/cars.mp4: 384x640 8 cars, 24.3ms\n",
            "video 1/1 (frame 4366/4509) /content/cars.mp4: 384x640 8 cars, 24.4ms\n",
            "video 1/1 (frame 4367/4509) /content/cars.mp4: 384x640 8 cars, 25.9ms\n",
            "video 1/1 (frame 4368/4509) /content/cars.mp4: 384x640 9 cars, 33.3ms\n",
            "video 1/1 (frame 4369/4509) /content/cars.mp4: 384x640 8 cars, 24.3ms\n",
            "video 1/1 (frame 4370/4509) /content/cars.mp4: 384x640 9 cars, 24.3ms\n",
            "video 1/1 (frame 4371/4509) /content/cars.mp4: 384x640 8 cars, 24.3ms\n",
            "video 1/1 (frame 4372/4509) /content/cars.mp4: 384x640 11 cars, 28.8ms\n",
            "video 1/1 (frame 4373/4509) /content/cars.mp4: 384x640 9 cars, 25.0ms\n",
            "video 1/1 (frame 4374/4509) /content/cars.mp4: 384x640 8 cars, 24.7ms\n",
            "video 1/1 (frame 4375/4509) /content/cars.mp4: 384x640 9 cars, 26.2ms\n",
            "video 1/1 (frame 4376/4509) /content/cars.mp4: 384x640 11 cars, 38.0ms\n",
            "video 1/1 (frame 4377/4509) /content/cars.mp4: 384x640 11 cars, 24.4ms\n",
            "video 1/1 (frame 4378/4509) /content/cars.mp4: 384x640 7 cars, 28.3ms\n",
            "video 1/1 (frame 4379/4509) /content/cars.mp4: 384x640 9 cars, 24.3ms\n",
            "video 1/1 (frame 4380/4509) /content/cars.mp4: 384x640 8 cars, 24.8ms\n",
            "video 1/1 (frame 4381/4509) /content/cars.mp4: 384x640 6 cars, 33.6ms\n",
            "video 1/1 (frame 4382/4509) /content/cars.mp4: 384x640 7 cars, 25.0ms\n",
            "video 1/1 (frame 4383/4509) /content/cars.mp4: 384x640 10 cars, 24.3ms\n",
            "video 1/1 (frame 4384/4509) /content/cars.mp4: 384x640 8 cars, 43.7ms\n",
            "video 1/1 (frame 4385/4509) /content/cars.mp4: 384x640 8 cars, 1 truck, 24.4ms\n",
            "video 1/1 (frame 4386/4509) /content/cars.mp4: 384x640 8 cars, 24.7ms\n",
            "video 1/1 (frame 4387/4509) /content/cars.mp4: 384x640 8 cars, 26.4ms\n",
            "video 1/1 (frame 4388/4509) /content/cars.mp4: 384x640 7 cars, 27.7ms\n",
            "video 1/1 (frame 4389/4509) /content/cars.mp4: 384x640 8 cars, 25.6ms\n",
            "video 1/1 (frame 4390/4509) /content/cars.mp4: 384x640 7 cars, 24.3ms\n",
            "video 1/1 (frame 4391/4509) /content/cars.mp4: 384x640 7 cars, 24.3ms\n",
            "video 1/1 (frame 4392/4509) /content/cars.mp4: 384x640 7 cars, 24.3ms\n",
            "video 1/1 (frame 4393/4509) /content/cars.mp4: 384x640 7 cars, 24.3ms\n",
            "video 1/1 (frame 4394/4509) /content/cars.mp4: 384x640 7 cars, 24.3ms\n",
            "video 1/1 (frame 4395/4509) /content/cars.mp4: 384x640 7 cars, 24.3ms\n",
            "video 1/1 (frame 4396/4509) /content/cars.mp4: 384x640 7 cars, 1 truck, 24.3ms\n",
            "video 1/1 (frame 4397/4509) /content/cars.mp4: 384x640 7 cars, 24.3ms\n",
            "video 1/1 (frame 4398/4509) /content/cars.mp4: 384x640 7 cars, 24.3ms\n",
            "video 1/1 (frame 4399/4509) /content/cars.mp4: 384x640 7 cars, 1 truck, 24.3ms\n",
            "video 1/1 (frame 4400/4509) /content/cars.mp4: 384x640 6 cars, 1 truck, 24.3ms\n",
            "video 1/1 (frame 4401/4509) /content/cars.mp4: 384x640 7 cars, 24.3ms\n",
            "video 1/1 (frame 4402/4509) /content/cars.mp4: 384x640 7 cars, 1 truck, 24.3ms\n",
            "video 1/1 (frame 4403/4509) /content/cars.mp4: 384x640 7 cars, 1 truck, 24.3ms\n",
            "video 1/1 (frame 4404/4509) /content/cars.mp4: 384x640 6 cars, 1 truck, 24.3ms\n",
            "video 1/1 (frame 4405/4509) /content/cars.mp4: 384x640 7 cars, 1 truck, 24.3ms\n",
            "video 1/1 (frame 4406/4509) /content/cars.mp4: 384x640 6 cars, 1 truck, 24.3ms\n",
            "video 1/1 (frame 4407/4509) /content/cars.mp4: 384x640 6 cars, 1 truck, 24.3ms\n",
            "video 1/1 (frame 4408/4509) /content/cars.mp4: 384x640 6 cars, 1 truck, 24.3ms\n",
            "video 1/1 (frame 4409/4509) /content/cars.mp4: 384x640 8 cars, 1 truck, 24.3ms\n",
            "video 1/1 (frame 4410/4509) /content/cars.mp4: 384x640 7 cars, 1 truck, 24.3ms\n",
            "video 1/1 (frame 4411/4509) /content/cars.mp4: 384x640 7 cars, 24.3ms\n",
            "video 1/1 (frame 4412/4509) /content/cars.mp4: 384x640 7 cars, 1 truck, 24.3ms\n",
            "video 1/1 (frame 4413/4509) /content/cars.mp4: 384x640 5 cars, 1 truck, 24.3ms\n",
            "video 1/1 (frame 4414/4509) /content/cars.mp4: 384x640 4 cars, 1 truck, 24.3ms\n",
            "video 1/1 (frame 4415/4509) /content/cars.mp4: 384x640 5 cars, 1 truck, 24.3ms\n",
            "video 1/1 (frame 4416/4509) /content/cars.mp4: 384x640 5 cars, 1 truck, 24.3ms\n",
            "video 1/1 (frame 4417/4509) /content/cars.mp4: 384x640 5 cars, 1 truck, 24.3ms\n",
            "video 1/1 (frame 4418/4509) /content/cars.mp4: 384x640 5 cars, 24.3ms\n",
            "video 1/1 (frame 4419/4509) /content/cars.mp4: 384x640 4 cars, 25.5ms\n",
            "video 1/1 (frame 4420/4509) /content/cars.mp4: 384x640 4 cars, 1 truck, 24.3ms\n",
            "video 1/1 (frame 4421/4509) /content/cars.mp4: 384x640 6 cars, 1 truck, 24.3ms\n",
            "video 1/1 (frame 4422/4509) /content/cars.mp4: 384x640 5 cars, 1 truck, 24.3ms\n",
            "video 1/1 (frame 4423/4509) /content/cars.mp4: 384x640 5 cars, 24.3ms\n",
            "video 1/1 (frame 4424/4509) /content/cars.mp4: 384x640 5 cars, 1 truck, 24.3ms\n",
            "video 1/1 (frame 4425/4509) /content/cars.mp4: 384x640 4 cars, 24.3ms\n",
            "video 1/1 (frame 4426/4509) /content/cars.mp4: 384x640 5 cars, 1 truck, 24.3ms\n",
            "video 1/1 (frame 4427/4509) /content/cars.mp4: 384x640 5 cars, 24.3ms\n",
            "video 1/1 (frame 4428/4509) /content/cars.mp4: 384x640 4 cars, 24.3ms\n",
            "video 1/1 (frame 4429/4509) /content/cars.mp4: 384x640 6 cars, 1 truck, 24.3ms\n",
            "video 1/1 (frame 4430/4509) /content/cars.mp4: 384x640 5 cars, 1 truck, 24.3ms\n",
            "video 1/1 (frame 4431/4509) /content/cars.mp4: 384x640 5 cars, 24.3ms\n",
            "video 1/1 (frame 4432/4509) /content/cars.mp4: 384x640 6 cars, 24.3ms\n",
            "video 1/1 (frame 4433/4509) /content/cars.mp4: 384x640 5 cars, 24.3ms\n",
            "video 1/1 (frame 4434/4509) /content/cars.mp4: 384x640 6 cars, 24.3ms\n",
            "video 1/1 (frame 4435/4509) /content/cars.mp4: 384x640 5 cars, 24.3ms\n",
            "video 1/1 (frame 4436/4509) /content/cars.mp4: 384x640 5 cars, 24.3ms\n",
            "video 1/1 (frame 4437/4509) /content/cars.mp4: 384x640 7 cars, 24.3ms\n",
            "video 1/1 (frame 4438/4509) /content/cars.mp4: 384x640 6 cars, 24.3ms\n",
            "video 1/1 (frame 4439/4509) /content/cars.mp4: 384x640 4 cars, 1 truck, 24.3ms\n",
            "video 1/1 (frame 4440/4509) /content/cars.mp4: 384x640 4 cars, 25.6ms\n",
            "video 1/1 (frame 4441/4509) /content/cars.mp4: 384x640 5 cars, 24.3ms\n",
            "video 1/1 (frame 4442/4509) /content/cars.mp4: 384x640 5 cars, 24.3ms\n",
            "video 1/1 (frame 4443/4509) /content/cars.mp4: 384x640 5 cars, 24.3ms\n",
            "video 1/1 (frame 4444/4509) /content/cars.mp4: 384x640 4 cars, 24.3ms\n",
            "video 1/1 (frame 4445/4509) /content/cars.mp4: 384x640 5 cars, 24.3ms\n",
            "video 1/1 (frame 4446/4509) /content/cars.mp4: 384x640 3 cars, 24.3ms\n",
            "video 1/1 (frame 4447/4509) /content/cars.mp4: 384x640 3 cars, 25.7ms\n",
            "video 1/1 (frame 4448/4509) /content/cars.mp4: 384x640 4 cars, 24.3ms\n",
            "video 1/1 (frame 4449/4509) /content/cars.mp4: 384x640 4 cars, 24.3ms\n",
            "video 1/1 (frame 4450/4509) /content/cars.mp4: 384x640 4 cars, 24.3ms\n",
            "video 1/1 (frame 4451/4509) /content/cars.mp4: 384x640 4 cars, 24.3ms\n",
            "video 1/1 (frame 4452/4509) /content/cars.mp4: 384x640 4 cars, 24.3ms\n",
            "video 1/1 (frame 4453/4509) /content/cars.mp4: 384x640 4 cars, 24.3ms\n",
            "video 1/1 (frame 4454/4509) /content/cars.mp4: 384x640 3 cars, 24.3ms\n",
            "video 1/1 (frame 4455/4509) /content/cars.mp4: 384x640 3 cars, 24.3ms\n",
            "video 1/1 (frame 4456/4509) /content/cars.mp4: 384x640 4 cars, 24.3ms\n",
            "video 1/1 (frame 4457/4509) /content/cars.mp4: 384x640 4 cars, 24.3ms\n",
            "video 1/1 (frame 4458/4509) /content/cars.mp4: 384x640 3 cars, 24.3ms\n",
            "video 1/1 (frame 4459/4509) /content/cars.mp4: 384x640 3 cars, 24.9ms\n",
            "video 1/1 (frame 4460/4509) /content/cars.mp4: 384x640 3 cars, 24.3ms\n",
            "video 1/1 (frame 4461/4509) /content/cars.mp4: 384x640 3 cars, 24.3ms\n",
            "video 1/1 (frame 4462/4509) /content/cars.mp4: 384x640 3 cars, 24.3ms\n",
            "video 1/1 (frame 4463/4509) /content/cars.mp4: 384x640 4 cars, 24.3ms\n",
            "video 1/1 (frame 4464/4509) /content/cars.mp4: 384x640 4 cars, 27.4ms\n",
            "video 1/1 (frame 4465/4509) /content/cars.mp4: 384x640 3 cars, 24.3ms\n",
            "video 1/1 (frame 4466/4509) /content/cars.mp4: 384x640 4 cars, 24.3ms\n",
            "video 1/1 (frame 4467/4509) /content/cars.mp4: 384x640 4 cars, 24.3ms\n",
            "video 1/1 (frame 4468/4509) /content/cars.mp4: 384x640 4 cars, 24.3ms\n",
            "video 1/1 (frame 4469/4509) /content/cars.mp4: 384x640 4 cars, 24.3ms\n",
            "video 1/1 (frame 4470/4509) /content/cars.mp4: 384x640 4 cars, 24.3ms\n",
            "video 1/1 (frame 4471/4509) /content/cars.mp4: 384x640 5 cars, 24.3ms\n",
            "video 1/1 (frame 4472/4509) /content/cars.mp4: 384x640 5 cars, 24.3ms\n",
            "video 1/1 (frame 4473/4509) /content/cars.mp4: 384x640 5 cars, 24.3ms\n",
            "video 1/1 (frame 4474/4509) /content/cars.mp4: 384x640 5 cars, 24.3ms\n",
            "video 1/1 (frame 4475/4509) /content/cars.mp4: 384x640 5 cars, 24.3ms\n",
            "video 1/1 (frame 4476/4509) /content/cars.mp4: 384x640 5 cars, 24.3ms\n",
            "video 1/1 (frame 4477/4509) /content/cars.mp4: 384x640 5 cars, 24.3ms\n",
            "video 1/1 (frame 4478/4509) /content/cars.mp4: 384x640 5 cars, 24.3ms\n",
            "video 1/1 (frame 4479/4509) /content/cars.mp4: 384x640 4 cars, 24.4ms\n",
            "video 1/1 (frame 4480/4509) /content/cars.mp4: 384x640 4 cars, 24.3ms\n",
            "video 1/1 (frame 4481/4509) /content/cars.mp4: 384x640 5 cars, 24.3ms\n",
            "video 1/1 (frame 4482/4509) /content/cars.mp4: 384x640 4 cars, 24.3ms\n",
            "video 1/1 (frame 4483/4509) /content/cars.mp4: 384x640 4 cars, 24.3ms\n",
            "video 1/1 (frame 4484/4509) /content/cars.mp4: 384x640 4 cars, 24.3ms\n",
            "video 1/1 (frame 4485/4509) /content/cars.mp4: 384x640 4 cars, 24.3ms\n",
            "video 1/1 (frame 4486/4509) /content/cars.mp4: 384x640 4 cars, 24.3ms\n",
            "video 1/1 (frame 4487/4509) /content/cars.mp4: 384x640 5 cars, 24.3ms\n",
            "video 1/1 (frame 4488/4509) /content/cars.mp4: 384x640 4 cars, 24.3ms\n",
            "video 1/1 (frame 4489/4509) /content/cars.mp4: 384x640 5 cars, 24.3ms\n",
            "video 1/1 (frame 4490/4509) /content/cars.mp4: 384x640 5 cars, 24.3ms\n",
            "video 1/1 (frame 4491/4509) /content/cars.mp4: 384x640 4 cars, 24.3ms\n",
            "video 1/1 (frame 4492/4509) /content/cars.mp4: 384x640 4 cars, 24.3ms\n",
            "video 1/1 (frame 4493/4509) /content/cars.mp4: 384x640 4 cars, 24.3ms\n",
            "video 1/1 (frame 4494/4509) /content/cars.mp4: 384x640 4 cars, 24.3ms\n",
            "video 1/1 (frame 4495/4509) /content/cars.mp4: 384x640 3 cars, 1 truck, 24.3ms\n",
            "video 1/1 (frame 4496/4509) /content/cars.mp4: 384x640 4 cars, 24.3ms\n",
            "video 1/1 (frame 4497/4509) /content/cars.mp4: 384x640 4 cars, 24.3ms\n",
            "video 1/1 (frame 4498/4509) /content/cars.mp4: 384x640 4 cars, 1 truck, 24.3ms\n",
            "video 1/1 (frame 4499/4509) /content/cars.mp4: 384x640 4 cars, 24.3ms\n",
            "video 1/1 (frame 4500/4509) /content/cars.mp4: 384x640 4 cars, 24.3ms\n",
            "video 1/1 (frame 4501/4509) /content/cars.mp4: 384x640 4 cars, 24.3ms\n",
            "video 1/1 (frame 4502/4509) /content/cars.mp4: 384x640 4 cars, 24.3ms\n",
            "video 1/1 (frame 4503/4509) /content/cars.mp4: 384x640 4 cars, 24.3ms\n",
            "video 1/1 (frame 4504/4509) /content/cars.mp4: 384x640 4 cars, 26.0ms\n",
            "video 1/1 (frame 4505/4509) /content/cars.mp4: 384x640 4 cars, 24.3ms\n",
            "video 1/1 (frame 4506/4509) /content/cars.mp4: 384x640 4 cars, 1 truck, 30.4ms\n",
            "video 1/1 (frame 4507/4509) /content/cars.mp4: 384x640 5 cars, 1 truck, 24.8ms\n",
            "video 1/1 (frame 4508/4509) /content/cars.mp4: 384x640 5 cars, 24.3ms\n",
            "video 1/1 (frame 4509/4509) /content/cars.mp4: 384x640 5 cars, 27.2ms\n",
            "Speed: 4.1ms preprocess, 24.8ms inference, 1.6ms postprocess per image at shape (1, 3, 384, 640)\n",
            "Results saved to \u001b[1mruns/detect/predict2\u001b[0m\n",
            "💡 Learn more at https://docs.ultralytics.com/modes/predict\n"
          ]
        }
      ]
    },
    {
      "cell_type": "code",
      "source": [
        "!ffmpeg -i {\"/content/runs/detect/predict2/cars.avi\"} -vcodec libx264 {\"final.mp4\"}"
      ],
      "metadata": {
        "id": "lKMgEy_Y32pl"
      },
      "execution_count": null,
      "outputs": []
    }
  ]
}